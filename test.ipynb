{
 "cells": [
  {
   "cell_type": "code",
   "execution_count": 2,
   "id": "592cbb4f",
   "metadata": {},
   "outputs": [],
   "source": [
    "import torch.nn as nn\n",
    "import torch\n",
    "import torch.nn.functional as F\n",
    "import torch.optim as optim\n",
    "import os \n",
    "import numpy as np"
   ]
  },
  {
   "cell_type": "code",
   "execution_count": 52,
   "id": "475f86ed",
   "metadata": {},
   "outputs": [
    {
     "name": "stdout",
     "output_type": "stream",
     "text": [
      "torch.Size([1, 1, 50])\n",
      "After conv1:  torch.Size([1, 1, 50])\n",
      "After relu1:  torch.Size([1, 1, 50])\n",
      "After pool1:  torch.Size([1, 1, 25])\n",
      "After conv2:  torch.Size([1, 1, 25])\n",
      "After relu2:  torch.Size([1, 1, 25])\n",
      "After pool2:  torch.Size([1, 1, 12])\n",
      "After linear:  torch.Size([1, 1, 5])\n",
      "tensor([[[-0.6439,  0.2825,  0.2586, -0.9399,  0.0994]]],\n",
      "       grad_fn=<ViewBackward0>)\n",
      "torch.Size([1, 1, 5])\n"
     ]
    }
   ],
   "source": [
    "#Convolutional encoder for one dimensional input data, the output is also one dimensional and should look like \n",
    "#the input data but with a smaller size. It is used to compress the data and extract features from it.\n",
    "\n",
    "\n",
    "class ConvEncoder(nn.Module):\n",
    "\n",
    "    def __init__(self, input_size, output_size, kernel_size, stride, padding):\n",
    "        super(ConvEncoder, self).__init__()\n",
    "        self.input_size = input_size\n",
    "        self.output_size = output_size\n",
    "        self.kernel_size = kernel_size\n",
    "        self.stride = stride\n",
    "        self.padding = padding\n",
    "        self.conv1 = nn.Conv1d(1, 1, kernel_size, stride, padding)\n",
    "        self.relu1 = nn.ReLU()\n",
    "        self.pool1 = nn.MaxPool1d(2)\n",
    "        self.conv2 = nn.Conv1d(1, 1, kernel_size, stride, padding)\n",
    "        self.relu2 = nn.ReLU()\n",
    "        self.pool2 = nn.MaxPool1d(2)\n",
    "        #Calculate size of linear layer input\n",
    "        size = (input_size - kernel_size + 2*padding)/stride + 1\n",
    "        size = size /2/2\n",
    "        size = int(size)\n",
    "        self.linear = nn.Linear(size, output_size)\n",
    "\n",
    "    def forward(self, x):\n",
    "        x = self.conv1(x)\n",
    "        print(\"After conv1: \", x.size())\n",
    "        x = self.relu1(x)\n",
    "        print(\"After relu1: \", x.size())\n",
    "        x = self.pool1(x)\n",
    "        print(\"After pool1: \", x.size())\n",
    "        x = self.conv2(x)\n",
    "        print(\"After conv2: \", x.size())\n",
    "        x = self.relu2(x)\n",
    "        print(\"After relu2: \", x.size())\n",
    "        x = self.pool2(x)\n",
    "        print(\"After pool2: \", x.size())\n",
    "        x = self.linear(x)\n",
    "        print(\"After linear: \", x.size())\n",
    "        return x\n",
    "#Test it\n",
    "random_input = torch.randn(1, 1, 50)\n",
    "print(random_input.size())\n",
    "encoder = ConvEncoder(random_input.shape[-1], 5, 3, 1, 1)\n",
    "output = encoder(random_input)\n",
    "print(output)\n",
    "print(output.size())\n",
    "\n"
   ]
  },
  {
   "cell_type": "code",
   "execution_count": 55,
   "id": "1d91c25e",
   "metadata": {},
   "outputs": [
    {
     "name": "stdout",
     "output_type": "stream",
     "text": [
      "torch.Size([1, 1, 5])\n",
      "After deconv1:  torch.Size([1, 1, 5])\n",
      "After relu1:  torch.Size([1, 1, 5])\n",
      "After upsample1:  torch.Size([1, 1, 10])\n",
      "After deconv2:  torch.Size([1, 1, 10])\n",
      "After relu2:  torch.Size([1, 1, 10])\n",
      "After upsample2:  torch.Size([1, 1, 20])\n",
      "tensor([[[0., 0., 0., 0., 0., 0., 0., 0., 0., 0., 0., 0., 0., 0., 0., 0., 0., 0., 0., 0.]]],\n",
      "       grad_fn=<UpsampleNearest1DBackward0>)\n"
     ]
    }
   ],
   "source": [
    "#Decoder\n",
    "\n",
    "class ConvDecoder(nn.Module):\n",
    "    \n",
    "        def __init__(self, input_size, output_size, kernel_size, stride, padding):\n",
    "            super(ConvDecoder, self).__init__()\n",
    "            self.input_size = input_size\n",
    "            self.output_size = output_size\n",
    "            self.kernel_size = kernel_size\n",
    "            self.stride = stride\n",
    "            self.padding = padding\n",
    "            self.deconv1 = nn.ConvTranspose1d(1, 1, kernel_size, stride, padding)\n",
    "            self.relu1 = nn.ReLU()\n",
    "            self.deconv2 = nn.ConvTranspose1d(1, 1, kernel_size, stride, padding)\n",
    "            self.relu2 = nn.ReLU()\n",
    "            self.upsample1 = nn.Upsample(scale_factor=2, mode='nearest')\n",
    "            self.upsample2 = nn.Upsample(scale_factor=2, mode='nearest')\n",
    "            size = \n",
    "            self.linear = nn.Linear(input_size, output_size)\n",
    "\n",
    "    \n",
    "        def forward(self, x):\n",
    "            x = self.deconv1(x)\n",
    "            print(\"After deconv1: \", x.size())\n",
    "            x = self.relu1(x)\n",
    "            print(\"After relu1: \", x.size())\n",
    "            x = self.upsample1(x)\n",
    "            print(\"After upsample1: \", x.size())\n",
    "            x = self.deconv2(x)\n",
    "            print(\"After deconv2: \", x.size())\n",
    "            x = self.relu2(x)\n",
    "            print(\"After relu2: \", x.size())\n",
    "            x = self.upsample2(x)\n",
    "            print(\"After upsample2: \", x.size())\n",
    "            return x\n",
    "        \n",
    "#Test it\n",
    "random_input = torch.randn(1,1,5)\n",
    "print(random_input.size())\n",
    "decoder = ConvDecoder(random_input.shape[-1], 50, 3, 1, 1)\n",
    "output = decoder(random_input)\n",
    "print(output)"
   ]
  }
 ],
 "metadata": {
  "kernelspec": {
   "display_name": "electro_phys",
   "language": "python",
   "name": "python3"
  },
  "language_info": {
   "codemirror_mode": {
    "name": "ipython",
    "version": 3
   },
   "file_extension": ".py",
   "mimetype": "text/x-python",
   "name": "python",
   "nbconvert_exporter": "python",
   "pygments_lexer": "ipython3",
   "version": "3.10.14"
  }
 },
 "nbformat": 4,
 "nbformat_minor": 5
}
