{
 "cells": [
  {
   "cell_type": "code",
   "execution_count": 1,
   "metadata": {},
   "outputs": [],
   "source": [
    "from pytorch_lightning.utilities import grad_norm\n",
    "import torch\n",
    "import torch.nn as nn \n",
    "import torch.nn.functional as F\n",
    "from torch.utils.data import Dataset, DataLoader\n",
    "import numpy as np\n",
    "from copy import deepcopy\n",
    "from sklearn.metrics import silhouette_score\n",
    "import pandas as pd \n",
    "import torch.optim as optim\n",
    "from braingeneers.analysis import SpikeData\n",
    "import os\n",
    "import json\n",
    "import pytorch_lightning as pl\n",
    "from backbones import ResNet18Enc, ResNet18Dec\n",
    "import wandb\n",
    "import pickle\n",
    "from tqdm import tqdm\n",
    "import scanpy as sc \n",
    "import matplotlib.pyplot as plt \n",
    "from torch.optim.lr_scheduler import ReduceLROnPlateau\n",
    "import anndata as an \n",
    "from pytorch_lightning.callbacks import ModelCheckpoint, LearningRateMonitor, EarlyStopping\n",
    "import umap\n",
    "from collections import Counter\n"
   ]
  },
  {
   "cell_type": "code",
   "execution_count": 15,
   "metadata": {},
   "outputs": [],
   "source": [
    "# #File loader for the non labeled data\n",
    "# waveform_files = [\"data/\" + f for f in os.listdir(\"./data\") if f.endswith('.npy')]\n",
    "# meta_files = [f.replace('.npy', '.json') for f in waveform_files]\n",
    "\n",
    "# waveforms = []\n",
    "# isi_dist = []\n",
    "\n",
    "# for wf, mf in zip(waveform_files, meta_files):\n",
    "#     with open(mf, 'r') as file:\n",
    "#         json_data = json.load(file)\n",
    "\n",
    "#     sd = SpikeData([json_data[key]['train'] for key in json_data.keys()])\n",
    "#     trains = sd.train\n",
    "\n",
    "#     all_isi = sd.interspike_intervals()\n",
    "    \n",
    "#     bad_indices = []\n",
    "#     for idx, isi in enumerate(all_isi):\n",
    "#         hist, _ = np.histogram(isi[isi < 0.1], bins=64, density=True)\n",
    "#         if not np.isnan(hist).all():\n",
    "#             isi_dist.append(hist)\n",
    "#         else:\n",
    "#             bad_indices.append(idx)\n",
    "    \n",
    "#     waveform_data = np.load(wf)\n",
    "#     if bad_indices:\n",
    "#         waveform_data = np.delete(waveform_data, np.array(bad_indices), axis=0)\n",
    "\n",
    "#     waveforms.append(waveform_data)\n",
    "# waveforms = np.concatenate(waveforms, axis=0)\n",
    "# isi_dist = np.stack(isi_dist)\n"
   ]
  },
  {
   "cell_type": "code",
   "execution_count": 2,
   "metadata": {},
   "outputs": [],
   "source": [
    "waveform_files = [\"unlabeled_data_templates/processed_data/\" + f for f in os.listdir(\"./unlabeled_data_templates/processed_data/\") if f.endswith('templates.npy')]\n",
    "meta_files = [f.replace('templates.npy', 'isi_distribution.npy') for f in waveform_files]\n",
    "waveforms = []\n",
    "isi_dist = []\n",
    "for wf, mf in zip(waveform_files, meta_files):\n",
    "    waveform = np.load(wf)\n",
    "    #print(waveform.shape)\n",
    "    if waveform.shape[1] == 0:\n",
    "        continue\n",
    "    else:\n",
    "        waveform = np.squeeze(waveform, axis=0)\n",
    "        isi_dis = np.load(mf)\n",
    "        #print(waveform.shape)\n",
    "        #print(isi_dis.shape)\n",
    "        waveforms.append(waveform)\n",
    "        isi_dist.append(isi_dis)\n",
    "\n",
    "waveforms = np.concatenate(waveforms, axis=0)\n",
    "waveforms = (waveforms - waveforms.mean()) / waveforms.std()\n",
    "#0 1 normalization\n",
    "#waveforms = (waveforms - waveforms.min()) / (waveforms.max() - waveforms.min())\n",
    "\n",
    "isi_dists = np.concatenate(isi_dist)\n",
    "isi_dists = isi_dists / isi_dists.sum(axis=1, keepdims=True)\n"
   ]
  },
  {
   "cell_type": "code",
   "execution_count": 3,
   "metadata": {},
   "outputs": [
    {
     "data": {
      "text/plain": [
       "(1427, 1427)"
      ]
     },
     "execution_count": 3,
     "metadata": {},
     "output_type": "execute_result"
    }
   ],
   "source": [
    "len(waveforms), len(isi_dists)"
   ]
  },
  {
   "cell_type": "code",
   "execution_count": 4,
   "metadata": {},
   "outputs": [],
   "source": [
    "#Dataloader dataset\n",
    "class EphysDataset(Dataset):\n",
    "    def __init__(self, waveforms, isi_dists, normalize=True):\n",
    "        self.waveforms = np.array(waveforms)\n",
    "        self.isi_dists = np.array(isi_dists)\n",
    "        \n",
    "        assert len(self.waveforms) == len(self.isi_dists)\n",
    "        self.normalize = normalize\n",
    "        \n",
    "    def __getitem__(self, idx):\n",
    "        waveform = torch.as_tensor(self.waveforms[idx, ...]).float()\n",
    "        \n",
    "        isi_dist = torch.as_tensor(self.isi_dists[idx, ...]).float()\n",
    "        isi_dist = torch.log(isi_dist + 1)\n",
    "\n",
    "        if self.normalize:\n",
    "            #waveform = (waveform - waveform.mean()) / waveform.std()\n",
    "            #0 1 normalization\n",
    "            waveform = (waveform - waveform.min()) / (waveform.max() - waveform.min())\n",
    "            isi_dist = (isi_dist - isi_dist.mean()) / isi_dist.std()\n",
    "\n",
    "        waveform = waveform.view(1, 1, -1)\n",
    "        waveform = F.interpolate(waveform, size=(64,), mode='linear').view(1, -1)\n",
    "        \n",
    "        isi_dist = isi_dist.view(1, 1, -1)\n",
    "        isi_dist = F.interpolate(isi_dist, size=(64,), mode='linear').view(1, -1)\n",
    "\n",
    "        return waveform, isi_dist\n",
    "    \n",
    "    def __len__(self):\n",
    "        return len(self.waveforms)"
   ]
  },
  {
   "cell_type": "code",
   "execution_count": 108,
   "metadata": {},
   "outputs": [],
   "source": []
  },
  {
   "cell_type": "code",
   "execution_count": 5,
   "metadata": {},
   "outputs": [],
   "source": [
    "wf_train_nolabel, isi_train_nolabel = waveforms[:500], isi_dists[:500]\n",
    "wf_val_nolabel, isi_val_nolabel = waveforms[500:], isi_dists[500:]\n",
    "\n",
    "dataset_train = EphysDataset(wf_train_nolabel, isi_train_nolabel, normalize=False)\n",
    "\n",
    "dataloader_train = DataLoader(dataset_train, batch_size=32, shuffle=True)\n",
    "\n",
    "dataset_val = EphysDataset(wf_val_nolabel, isi_val_nolabel, normalize=False)\n",
    "dataloader_val = DataLoader(dataset_val, batch_size=32, shuffle=False)"
   ]
  },
  {
   "cell_type": "code",
   "execution_count": 6,
   "metadata": {},
   "outputs": [
    {
     "data": {
      "text/plain": [
       "array([2, 0, 2, ..., 2, 2, 2])"
      ]
     },
     "execution_count": 6,
     "metadata": {},
     "output_type": "execute_result"
    }
   ],
   "source": [
    "import numpy as np\n",
    "#File loader for warren's loaded data\n",
    "waveform = np.load('./labeled_data_warren_templates/waveforms.npy')\n",
    "isi_dist = np.load('./labeled_data_warren_templates/isi_dist.npy')\n",
    "labels = np.load('./labeled_data_warren_templates/onehotlabels.npy')\n",
    "\n",
    "#Waveform normalization using mean and std deviation\n",
    "waveform = waveform[:,0:50]\n",
    "waveform = (waveform - waveform.mean()) / waveform.std()\n",
    "#waveform = (waveform - waveform.min()) / (waveform.max() - waveform.min())\n",
    "#Normalize isi_dist to 1 per recording\n",
    "isi_dist = isi_dist / isi_dist.sum(axis=1, keepdims=True)\n",
    "\n",
    "# Convert one-hot to integer class\n",
    "labels = np.argmax(labels, axis=1)\n",
    "labels"
   ]
  },
  {
   "cell_type": "code",
   "execution_count": 7,
   "metadata": {},
   "outputs": [
    {
     "data": {
      "text/plain": [
       "(array([0, 1, 2]), array([290, 245, 699]))"
      ]
     },
     "execution_count": 7,
     "metadata": {},
     "output_type": "execute_result"
    }
   ],
   "source": [
    "len(isi_dist[0])\n",
    "#Check the label distribution\n",
    "np.unique(labels, return_counts=True)"
   ]
  },
  {
   "cell_type": "code",
   "execution_count": 8,
   "metadata": {},
   "outputs": [
    {
     "data": {
      "image/png": "[encoded data removed]",
      "text/plain": [
       "<Figure size 1000x1000 with 2 Axes>"
      ]
     },
     "metadata": {},
     "output_type": "display_data"
    }
   ],
   "source": [
    "indices_wf = [i for i in range(0, waveforms.shape[1])]\n",
    "indices_isi = [i for i in range(0, isi_dists.shape[1])]\n",
    "plt.figure(figsize=(10, 10))\n",
    "panel1 = plt.axes([0.1, 0.1, 0.4, 0.4])\n",
    "panel2 = plt.axes([0.1, 0.5, 0.4, 0.4])\n",
    "\n",
    "for i in range(0, waveforms.shape[0]):\n",
    "    panel1.plot(indices_wf, waveforms[i])\n",
    "\n",
    "#panel1.scatter(indices_wf, waveform[0], c='r', s=1)\n",
    "for i in range(0, isi_dists.shape[0]):\n",
    "    #print(isi_dist[i])\n",
    "    panel2.plot(indices_isi, isi_dists[i])"
   ]
  },
  {
   "cell_type": "code",
   "execution_count": 9,
   "metadata": {},
   "outputs": [
    {
     "data": {
      "image/png": "[encoded data removed]",
      "text/plain": [
       "<Figure size 1000x1000 with 2 Axes>"
      ]
     },
     "metadata": {},
     "output_type": "display_data"
    }
   ],
   "source": [
    "#Plot the data\n",
    "indices_wf = [i for i in range(0, waveform.shape[1])]\n",
    "indices_isi = [i for i in range(0, isi_dist.shape[1])]\n",
    "plt.figure(figsize=(10, 10))\n",
    "panel1 = plt.axes([0.1, 0.1, 0.4, 0.4])\n",
    "panel2 = plt.axes([0.1, 0.5, 0.4, 0.4])\n",
    "\n",
    "for i in range(0, waveform.shape[0]):\n",
    "    panel1.plot(indices_wf, waveform[i])\n",
    "\n",
    "#panel1.scatter(indices_wf, waveform[0], c='r', s=1)\n",
    "for i in range(0, isi_dist.shape[0]):\n",
    "    #print(isi_dist[i])\n",
    "    panel2.plot(indices_isi, isi_dist[i])"
   ]
  },
  {
   "cell_type": "code",
   "execution_count": 10,
   "metadata": {},
   "outputs": [],
   "source": [
    "class EphysDatasetLabeled(Dataset):\n",
    "    def __init__(self, waveforms, isi_dists,labels, normalize=True):\n",
    "        self.waveforms = np.array(waveforms)\n",
    "        self.isi_dists = np.array(isi_dists)\n",
    "        self.labels = np.array(labels)\n",
    "        print(len(self.waveforms) , len(self.isi_dists), len(self.labels))\n",
    "        assert len(self.waveforms) == len(self.isi_dists)\n",
    "        assert len(self.waveforms) == len(self.labels)\n",
    "        self.normalize = normalize\n",
    "        \n",
    "    def __getitem__(self, idx):\n",
    "        waveform = torch.as_tensor(self.waveforms[idx, ...]).float()\n",
    "        \n",
    "        isi_dist = torch.as_tensor(self.isi_dists[idx, ...]).float()\n",
    "        isi_dist = torch.log(isi_dist + 1)\n",
    "\n",
    "        label = torch.as_tensor(self.labels[idx]).long()\n",
    "        if self.normalize:\n",
    "            #waveform = (waveform - waveform.mean()) / waveform.std()\n",
    "            #0 1 normalization\n",
    "            waveform = (waveform - waveform.min()) / (waveform.max() - waveform.min())\n",
    "            isi_dist = (isi_dist - isi_dist.mean()) / isi_dist.std()\n",
    "\n",
    "        waveform = waveform.view(1, 1, -1)\n",
    "        waveform = F.interpolate(waveform, size=(64,), mode='linear').view(1, -1)\n",
    "        \n",
    "        isi_dist = isi_dist.view(1, 1, -1)\n",
    "        isi_dist = F.interpolate(isi_dist, size=(64,), mode='linear').view(1, -1)\n",
    "\n",
    "        return waveform, isi_dist, label\n",
    "    \n",
    "    def __len__(self):\n",
    "        return len(self.waveforms)"
   ]
  },
  {
   "cell_type": "code",
   "execution_count": 11,
   "metadata": {},
   "outputs": [],
   "source": [
    "def compute_class_weights(targets):\n",
    "    class_counts = Counter(targets)\n",
    "    total_count = len(targets)\n",
    "    class_weights = {cls: total_count/count for cls, count in class_counts.items()}\n",
    "    return class_weights\n",
    "def create_weighted_sampler(dataset):\n",
    "    targets = [dataset[i][1] for i in range(len(dataset))]\n",
    "    class_weights = compute_class_weights(targets)\n",
    "    weights = [class_weights[target] for target in targets]\n",
    "    \n",
    "    sampler = torch.utils.data.WeightedRandomSampler(weights, len(weights))\n",
    "    return sampler\n"
   ]
  },
  {
   "cell_type": "code",
   "execution_count": 12,
   "metadata": {},
   "outputs": [
    {
     "name": "stdout",
     "output_type": "stream",
     "text": [
      "900 900 900\n",
      "334 334 334\n",
      "(array([0, 1, 2]), array([137, 196, 567])) (array([0, 1, 2]), array([153,  49, 132]))\n"
     ]
    }
   ],
   "source": [
    "#Load EphysDatasetLabel\n",
    "\n",
    "wf_train, isi_train,label_train = waveform[:900], isi_dist[:900], labels[:900]\n",
    "wf_val, isi_val,label_val = waveform[900:], isi_dist[900:], labels[900:]\n",
    "\n",
    "dataset_train = EphysDatasetLabeled(wf_train, isi_train, label_train, normalize=False)\n",
    "sampler = create_weighted_sampler(dataset_train) #Ańadido aqui\n",
    "dataloader_train = DataLoader(dataset_train, batch_size=32, sampler=sampler)\n",
    "\n",
    "dataset_val = EphysDatasetLabeled(wf_val, isi_val, label_val, normalize=False)\n",
    "sampler = create_weighted_sampler(dataset_val) #Ańadido aqui\n",
    "dataloader_val = DataLoader(dataset_val, batch_size=32, sampler=sampler)\n",
    "#dataloader_val = DataLoader(dataset_val, batch_size=32, shuffle=False)\n",
    "\n",
    "#Check distribution of label train and label val\n",
    "print(np.unique(label_train, return_counts=True), np.unique(label_val, return_counts=True))"
   ]
  },
  {
   "cell_type": "code",
   "execution_count": 13,
   "metadata": {},
   "outputs": [
    {
     "data": {
      "image/png": "[encoded data removed]",
      "text/plain": [
       "<Figure size 1000x1000 with 2 Axes>"
      ]
     },
     "metadata": {},
     "output_type": "display_data"
    }
   ],
   "source": [
    "dataloader_waveform = []\n",
    "dataloader_isi = []\n",
    "dataloader_labels = []\n",
    "for i, (wave, time,label) in enumerate(dataloader_val):\n",
    "    dataloader_waveform.append(wave)\n",
    "    dataloader_isi.append(time)\n",
    "    dataloader_labels.append(label)\n",
    "\n",
    "dataloader_waveform = torch.cat(dataloader_waveform, dim=0)\n",
    "dataloader_isi = torch.cat(dataloader_isi, dim=0)\n",
    "dataloader_labels = torch.cat(dataloader_labels, dim=0)\n",
    "\n",
    "#Plot the data\n",
    "indices_wf = [i for i in range(0, 64)]\n",
    "indices_isi = [i for i in range(0, 64)]\n",
    "plt.figure(figsize=(10, 10))\n",
    "panel1 = plt.axes([0.1, 0.1, 0.4, 0.4])\n",
    "panel2 = plt.axes([0.1, 0.5, 0.4, 0.4])\n",
    "\n",
    "labelColor = ['r', 'g', 'b', 'y', 'm', 'c', 'k', 'w']\n",
    "\n",
    "for i in range(0, dataloader_waveform.shape[0]):\n",
    "    panel1.plot(indices_wf, dataloader_waveform[i].squeeze().numpy(), labelColor[dataloader_labels[i].numpy()])\n",
    "\n",
    "#panel1.scatter(indices_wf, waveform[0], c='r', s=1)\n",
    "for i in range(0, dataloader_waveform.shape[0]):\n",
    "    #print(isi_dist[i])\n",
    "    panel2.plot(indices_isi, dataloader_isi[i].squeeze().numpy(), labelColor[dataloader_labels[i].numpy()])\n",
    "\n",
    "\n",
    "    "
   ]
  },
  {
   "cell_type": "code",
   "execution_count": 14,
   "metadata": {},
   "outputs": [],
   "source": [
    "#Loss function\n",
    "\n",
    "def cross_entropy(preds, targets, reduction='none'):\n",
    "    log_softmax = nn.LogSoftmax(dim=-1)\n",
    "    loss = (-targets * log_softmax(preds)).sum(1)\n",
    "    if reduction == \"none\":\n",
    "        return loss\n",
    "    elif reduction == \"mean\":\n",
    "        return loss.mean()\n",
    "\n",
    "class CLIPLoss(nn.Module):\n",
    "    def __init__(self, temperature=0.5):\n",
    "        super().__init__()\n",
    "        self.register_buffer(\"temperature\", torch.tensor(temperature))\n",
    "            \n",
    "    def forward(self, emb_i, emb_j):\n",
    "        logits = (emb_i @ emb_j.T) / self.temperature\n",
    "        emb_i_similarity = emb_i @ emb_i.T\n",
    "        emb_j_similarity = emb_j @ emb_j.T\n",
    "\n",
    "        targets = F.softmax(\n",
    "            (emb_i_similarity + emb_j_similarity) / 2 * self.temperature, dim=-1\n",
    "        )\n",
    "\n",
    "        emb_i_loss = cross_entropy(logits, targets, reduction='none')\n",
    "        emb_j_loss = cross_entropy(logits.T, targets.T, reduction='none')\n",
    "        loss =  (emb_i_loss + emb_j_loss) / 2.0 # shape: (batch_size)\n",
    "        return loss.mean()"
   ]
  },
  {
   "cell_type": "code",
   "execution_count": 15,
   "metadata": {},
   "outputs": [],
   "source": [
    "class UnimodalModel(nn.Module):\n",
    "    def __init__(self, z_dim, projector=True):\n",
    "        super().__init__()\n",
    "        \n",
    "        self.encoder = nn.Sequential(\n",
    "            ResNet18Enc(z_dim=z_dim),\n",
    "            nn.Linear(z_dim*2, z_dim),\n",
    "        )\n",
    "        \n",
    "        self.decoder = nn.Sequential(\n",
    "            nn.BatchNorm1d(z_dim),\n",
    "            nn.Linear(z_dim, z_dim*2),\n",
    "            nn.BatchNorm1d(z_dim*2),\n",
    "            ResNet18Dec(z_dim=z_dim)\n",
    "        )\n",
    "        \n",
    "    def forward(self, x):\n",
    "        x = x + torch.randn_like(x)*0.1\n",
    "        enc_x = self.encoder(x)\n",
    "        dec_x = self.decoder(enc_x)\n",
    "        \n",
    "        return enc_x, dec_x\n",
    "\n",
    "class UnimodalEmbeddingModel(pl.LightningModule):\n",
    "    def __init__(self, mode, base_model):\n",
    "        super().__init__()\n",
    "        assert mode in (\"wave\", \"time\")\n",
    "        self.mode = mode\n",
    "        self.model = base_model\n",
    "\n",
    "        self.mse_loss = nn.MSELoss()\n",
    "        self.val_loss = []\n",
    "        self.train_loss = []\n",
    "\n",
    "    def training_step(self, batch, batch_idx):\n",
    "        if self.mode == \"wave\":\n",
    "            data = batch[0]\n",
    "        else:\n",
    "            data = batch[1]\n",
    "        \n",
    "        enc, dec = self.model(data)\n",
    "        loss = self.mse_loss(dec, data)\n",
    "        \n",
    "        norms = grad_norm(self.model.encoder, norm_type=2)\n",
    "        self.log_dict(norms)\n",
    "        norms = grad_norm(self.model.decoder, norm_type=2)\n",
    "        self.log_dict(norms)\n",
    "\n",
    "        self.train_loss.append(loss.item())\n",
    "        self.log('train_loss', loss)\n",
    "        \n",
    "        return loss\n",
    "\n",
    "    def validation_step(self, batch, batch_idx):\n",
    "        if self.mode == \"wave\":\n",
    "            data = batch[0]\n",
    "        else:\n",
    "            data = batch[1]\n",
    "        \n",
    "        enc, dec = self.model(data)\n",
    "        loss = self.mse_loss(dec, data)\n",
    "        \n",
    "        self.val_loss.append(loss.item())\n",
    "        self.log('val_loss', loss)\n",
    "        \n",
    "        return loss\n",
    "    \n",
    "    def on_validation_epoch_end(self):\n",
    "        avg_loss = sum(self.val_loss) / len(self.val_loss)\n",
    "        print(f\"Average validation loss is {avg_loss:.2f}\")\n",
    "        self.val_loss = []\n",
    "        \n",
    "    def on_train_epoch_end(self):\n",
    "        avg_loss = sum(self.train_loss) / len(self.train_loss)\n",
    "        print(f\"Average training loss is {avg_loss:.2f}\")\n",
    "        self.train_loss = []\n",
    "\n",
    "    def configure_optimizers(self):\n",
    "        optimizer = optim.AdamW(self.parameters(), lr=0.01)\n",
    "        lr_scheduler = optim.lr_scheduler.ReduceLROnPlateau(optimizer, factor=0.8)\n",
    "\n",
    "        return {\n",
    "            \"lr_scheduler\": {\n",
    "                \"scheduler\": lr_scheduler,\n",
    "                \"monitor\": \"val_loss\",\n",
    "            },\n",
    "            \"optimizer\": optimizer,\n",
    "        }\n",
    "    \n",
    "    def forward(self, x):\n",
    "        return self.model(x)"
   ]
  },
  {
   "cell_type": "code",
   "execution_count": 16,
   "metadata": {},
   "outputs": [
    {
     "name": "stdout",
     "output_type": "stream",
     "text": [
      "1427 1427\n",
      "1234 1234 1234\n"
     ]
    }
   ],
   "source": [
    "print(len(waveforms), len(isi_dists))\n",
    "print(len(waveform), len(isi_dist), len(labels))\n",
    "#Concatenate waveforms and waveform\n",
    "#waveforms = np.concatenate([waveforms, waveform], axis=0)"
   ]
  },
  {
   "cell_type": "code",
   "execution_count": null,
   "metadata": {},
   "outputs": [],
   "source": []
  },
  {
   "cell_type": "code",
   "execution_count": 20,
   "metadata": {},
   "outputs": [],
   "source": [
    "def train_unimodal_model(mode):\n",
    "    wandb.init(reinit=True)\n",
    "    bs = 64\n",
    "    wf_train = np.concatenate([waveforms[:1000], waveform[:800]], axis=0)\n",
    "    isi_train = np.concatenate([isi_dists[:1000], isi_dist[:800]], axis=0)\n",
    "    wf_val = waveforms[1000:]\n",
    "    isi_val = isi_dists[1000:]\n",
    "\n",
    "    traindata = EphysDataset(wf_train, isi_train)\n",
    "    valdata = EphysDataset(wf_val, isi_val)\n",
    "\n",
    "    train_loader = DataLoader(traindata, batch_size=bs, drop_last=True)\n",
    "    val_loader = DataLoader(valdata, batch_size=bs, drop_last=True)\n",
    "\n",
    "    base_model = UnimodalModel(z_dim=5)\n",
    "\n",
    "    model = UnimodalEmbeddingModel(mode=mode, base_model=base_model)\n",
    "    ckpt_callback = pl.callbacks.ModelCheckpoint(dirpath=f\"./unimodal_model/{mode}_model_templates_noise\", monitor=\"val_loss\")\n",
    "\n",
    "    trainer = pl.Trainer(\n",
    "        logger=pl.loggers.WandbLogger(),\n",
    "        callbacks=[ckpt_callback],\n",
    "        log_every_n_steps=5,\n",
    "        max_epochs=100,\n",
    "    )\n",
    "\n",
    "    trainer.fit(model, train_loader, val_loader)\n",
    "    \n",
    "    return base_model"
   ]
  },
  {
   "cell_type": "code",
   "execution_count": 21,
   "metadata": {},
   "outputs": [],
   "source": [
    "class MixedModel(nn.Module):\n",
    "    def __init__(self, z_dim, projector=True):\n",
    "        super().__init__()\n",
    "        \n",
    "        self.wave_encoder = nn.Sequential(\n",
    "            ResNet18Enc(z_dim=z_dim),\n",
    "            nn.Linear(z_dim*2, z_dim),\n",
    "        )\n",
    "        \n",
    "        self.wave_decoder = nn.Sequential(\n",
    "            nn.BatchNorm1d(z_dim),\n",
    "            nn.Linear(z_dim, z_dim*2),\n",
    "            nn.BatchNorm1d(z_dim*2),\n",
    "            ResNet18Dec(z_dim=z_dim)\n",
    "        )\n",
    "\n",
    "        self.time_encoder = nn.Sequential(\n",
    "            ResNet18Enc(z_dim=z_dim),\n",
    "            nn.Linear(z_dim*2, z_dim),\n",
    "        )\n",
    "        \n",
    "        self.time_decoder = nn.Sequential(\n",
    "            nn.BatchNorm1d(z_dim),\n",
    "            nn.Linear(z_dim, z_dim*2),\n",
    "            nn.BatchNorm1d(z_dim*2),\n",
    "            ResNet18Dec(z_dim=z_dim)\n",
    "        )\n",
    "        \n",
    "    def forward(self, wave, time):\n",
    "        e_wave = self.wave_encoder(wave)\n",
    "        e_time = self.time_encoder(time)\n",
    "\n",
    "        # e_wave = self.wave_projector(e_wave)\n",
    "        # e_time = self.time_projector(e_time)\n",
    "\n",
    "        d_wave, d_time = self.wave_decoder(e_wave), self.time_decoder(e_time)\n",
    "\n",
    "        return e_wave, e_time, d_wave, d_time"
   ]
  },
  {
   "cell_type": "code",
   "execution_count": 27,
   "metadata": {},
   "outputs": [],
   "source": [
    "# model = MixedModel(\n",
    "#     z_dim=5,\n",
    "# )\n",
    "\n",
    "# w, t = torch.randn(8, 1, 64), torch.randn(8, 1, 64)\n",
    "\n",
    "# x,y,z,w = model(w, t)\n",
    "# x.shape, y.shape, z.shape, w.shape"
   ]
  },
  {
   "cell_type": "code",
   "execution_count": 22,
   "metadata": {},
   "outputs": [],
   "source": [
    "base_model = MixedModel(z_dim=5)\n",
    "\n",
    "# with open('./unimodal_model/wave_model.pkl', 'rb') as f:\n",
    "#     wave_model = pickle.load(f)\n",
    "\n",
    "# with open('./unimodal_model/isi_model.pkl', 'rb') as f:\n",
    "#     time_model = pickle.load(f)"
   ]
  },
  {
   "cell_type": "code",
   "execution_count": 23,
   "metadata": {},
   "outputs": [
    {
     "name": "stderr",
     "output_type": "stream",
     "text": [
      "Failed to detect the name of this notebook, you can set it manually with the WANDB_NOTEBOOK_NAME environment variable to enable code saving.\n",
      "\u001b[34m\u001b[1mwandb\u001b[0m: Currently logged in as: \u001b[33mjesusgf1\u001b[0m (\u001b[33mmostajo-group\u001b[0m). Use \u001b[1m`wandb login --relogin`\u001b[0m to force relogin\n"
     ]
    },
    {
     "data": {
      "text/html": [
       "wandb version 0.17.0 is available!  To upgrade, please run:\n",
       " $ pip install wandb --upgrade"
      ],
      "text/plain": [
       "<IPython.core.display.HTML object>"
      ]
     },
     "metadata": {},
     "output_type": "display_data"
    },
    {
     "data": {
      "text/html": [
       "Tracking run with wandb version 0.16.0"
      ],
      "text/plain": [
       "<IPython.core.display.HTML object>"
      ]
     },
     "metadata": {},
     "output_type": "display_data"
    },
    {
     "data": {
      "text/html": [
       "Run data is saved locally in <code>/Users/jesusgf/Desktop/ephys_autoencoder/1d-constrastive-autoencoder/wandb/run-20240519_202423-94c7cp57</code>"
      ],
      "text/plain": [
       "<IPython.core.display.HTML object>"
      ]
     },
     "metadata": {},
     "output_type": "display_data"
    },
    {
     "data": {
      "text/html": [
       "Syncing run <strong><a href='https://wandb.ai/mostajo-group/1d-constrastive-autoencoder/runs/94c7cp57' target=\"_blank\">chocolate-wood-10</a></strong> to <a href='https://wandb.ai/mostajo-group/1d-constrastive-autoencoder' target=\"_blank\">Weights & Biases</a> (<a href='https://wandb.me/run' target=\"_blank\">docs</a>)<br/>"
      ],
      "text/plain": [
       "<IPython.core.display.HTML object>"
      ]
     },
     "metadata": {},
     "output_type": "display_data"
    },
    {
     "data": {
      "text/html": [
       " View project at <a href='https://wandb.ai/mostajo-group/1d-constrastive-autoencoder' target=\"_blank\">https://wandb.ai/mostajo-group/1d-constrastive-autoencoder</a>"
      ],
      "text/plain": [
       "<IPython.core.display.HTML object>"
      ]
     },
     "metadata": {},
     "output_type": "display_data"
    },
    {
     "data": {
      "text/html": [
       " View run at <a href='https://wandb.ai/mostajo-group/1d-constrastive-autoencoder/runs/94c7cp57' target=\"_blank\">https://wandb.ai/mostajo-group/1d-constrastive-autoencoder/runs/94c7cp57</a>"
      ],
      "text/plain": [
       "<IPython.core.display.HTML object>"
      ]
     },
     "metadata": {},
     "output_type": "display_data"
    },
    {
     "name": "stderr",
     "output_type": "stream",
     "text": [
      "GPU available: True (mps), used: True\n",
      "TPU available: False, using: 0 TPU cores\n",
      "IPU available: False, using: 0 IPUs\n",
      "HPU available: False, using: 0 HPUs\n",
      "/Users/jesusgf/opt/miniconda3/envs/electro_phys/lib/python3.10/site-packages/pytorch_lightning/loggers/wandb.py:389: There is a wandb run already in progress and newly created instances of `WandbLogger` will reuse this run. If this is not desired, call `wandb.finish()` before instantiating `WandbLogger`.\n",
      "/Users/jesusgf/opt/miniconda3/envs/electro_phys/lib/python3.10/site-packages/pytorch_lightning/callbacks/model_checkpoint.py:639: Checkpoint directory ./unimodal_model/wave_model_templates_noise exists and is not empty.\n",
      "\n",
      "  | Name     | Type          | Params\n",
      "-------------------------------------------\n",
      "0 | model    | UnimodalModel | 8.0 M \n",
      "1 | mse_loss | MSELoss       | 0     \n",
      "-------------------------------------------\n",
      "8.0 M     Trainable params\n",
      "0         Non-trainable params\n",
      "8.0 M     Total params\n",
      "32.182    Total estimated model params size (MB)\n"
     ]
    },
    {
     "data": {
      "application/vnd.jupyter.widget-view+json": {
       "model_id": "69bc9a14d12046ff95c81f864dd91f97",
       "version_major": 2,
       "version_minor": 0
      },
      "text/plain": [
       "Sanity Checking: |          | 0/? [00:00<?, ?it/s]"
      ]
     },
     "metadata": {},
     "output_type": "display_data"
    },
    {
     "name": "stderr",
     "output_type": "stream",
     "text": [
      "/Users/jesusgf/opt/miniconda3/envs/electro_phys/lib/python3.10/site-packages/pytorch_lightning/trainer/connectors/data_connector.py:441: The 'val_dataloader' does not have many workers which may be a bottleneck. Consider increasing the value of the `num_workers` argument` to `num_workers=9` in the `DataLoader` to improve performance.\n"
     ]
    },
    {
     "name": "stdout",
     "output_type": "stream",
     "text": [
      "Average validation loss is 0.56\n"
     ]
    },
    {
     "name": "stderr",
     "output_type": "stream",
     "text": [
      "/Users/jesusgf/opt/miniconda3/envs/electro_phys/lib/python3.10/site-packages/pytorch_lightning/trainer/connectors/data_connector.py:441: The 'train_dataloader' does not have many workers which may be a bottleneck. Consider increasing the value of the `num_workers` argument` to `num_workers=9` in the `DataLoader` to improve performance.\n"
     ]
    },
    {
     "data": {
      "application/vnd.jupyter.widget-view+json": {
       "model_id": "d88d7041d3f6481fa731b1bc46e0fe15",
       "version_major": 2,
       "version_minor": 0
      },
      "text/plain": [
       "Training: |          | 0/? [00:00<?, ?it/s]"
      ]
     },
     "metadata": {},
     "output_type": "display_data"
    },
    {
     "data": {
      "application/vnd.jupyter.widget-view+json": {
       "model_id": "4d631e49711849f89c731364f631dd20",
       "version_major": 2,
       "version_minor": 0
      },
      "text/plain": [
       "Validation: |          | 0/? [00:00<?, ?it/s]"
      ]
     },
     "metadata": {},
     "output_type": "display_data"
    },
    {
     "name": "stdout",
     "output_type": "stream",
     "text": [
      "Average validation loss is 0.46\n",
      "Average training loss is 0.69\n"
     ]
    },
    {
     "data": {
      "application/vnd.jupyter.widget-view+json": {
       "model_id": "a8292acf16b44b65a74c4d3489fc6f93",
       "version_major": 2,
       "version_minor": 0
      },
      "text/plain": [
       "Validation: |          | 0/? [00:00<?, ?it/s]"
      ]
     },
     "metadata": {},
     "output_type": "display_data"
    },
    {
     "name": "stdout",
     "output_type": "stream",
     "text": [
      "Average validation loss is 0.05\n",
      "Average training loss is 0.07\n"
     ]
    },
    {
     "data": {
      "application/vnd.jupyter.widget-view+json": {
       "model_id": "67f7078abfb54f6d843d4912362edbd2",
       "version_major": 2,
       "version_minor": 0
      },
      "text/plain": [
       "Validation: |          | 0/? [00:00<?, ?it/s]"
      ]
     },
     "metadata": {},
     "output_type": "display_data"
    },
    {
     "name": "stdout",
     "output_type": "stream",
     "text": [
      "Average validation loss is 0.07\n",
      "Average training loss is 0.04\n"
     ]
    },
    {
     "data": {
      "application/vnd.jupyter.widget-view+json": {
       "model_id": "775588c1fc0c4bab8a7bbcc6fe7a51ec",
       "version_major": 2,
       "version_minor": 0
      },
      "text/plain": [
       "Validation: |          | 0/? [00:00<?, ?it/s]"
      ]
     },
     "metadata": {},
     "output_type": "display_data"
    },
    {
     "name": "stdout",
     "output_type": "stream",
     "text": [
      "Average validation loss is 0.03\n",
      "Average training loss is 0.04\n"
     ]
    },
    {
     "data": {
      "application/vnd.jupyter.widget-view+json": {
       "model_id": "3a01e098076a4a339e278ae871b2a66b",
       "version_major": 2,
       "version_minor": 0
      },
      "text/plain": [
       "Validation: |          | 0/? [00:00<?, ?it/s]"
      ]
     },
     "metadata": {},
     "output_type": "display_data"
    },
    {
     "name": "stdout",
     "output_type": "stream",
     "text": [
      "Average validation loss is 0.06\n",
      "Average training loss is 0.03\n"
     ]
    },
    {
     "data": {
      "application/vnd.jupyter.widget-view+json": {
       "model_id": "f75983b4e94f4d9aa212de132928a184",
       "version_major": 2,
       "version_minor": 0
      },
      "text/plain": [
       "Validation: |          | 0/? [00:00<?, ?it/s]"
      ]
     },
     "metadata": {},
     "output_type": "display_data"
    },
    {
     "name": "stdout",
     "output_type": "stream",
     "text": [
      "Average validation loss is 0.08\n",
      "Average training loss is 0.04\n"
     ]
    },
    {
     "data": {
      "application/vnd.jupyter.widget-view+json": {
       "model_id": "04cba684ac9b4142b9aa589e949822f5",
       "version_major": 2,
       "version_minor": 0
      },
      "text/plain": [
       "Validation: |          | 0/? [00:00<?, ?it/s]"
      ]
     },
     "metadata": {},
     "output_type": "display_data"
    },
    {
     "name": "stdout",
     "output_type": "stream",
     "text": [
      "Average validation loss is 0.05\n",
      "Average training loss is 0.03\n"
     ]
    },
    {
     "data": {
      "application/vnd.jupyter.widget-view+json": {
       "model_id": "6c6f8a6dc51c447685b63adebec24766",
       "version_major": 2,
       "version_minor": 0
      },
      "text/plain": [
       "Validation: |          | 0/? [00:00<?, ?it/s]"
      ]
     },
     "metadata": {},
     "output_type": "display_data"
    },
    {
     "name": "stdout",
     "output_type": "stream",
     "text": [
      "Average validation loss is 0.08\n",
      "Average training loss is 0.03\n"
     ]
    },
    {
     "data": {
      "application/vnd.jupyter.widget-view+json": {
       "model_id": "dff8d87aac2d4805922b798d059399a4",
       "version_major": 2,
       "version_minor": 0
      },
      "text/plain": [
       "Validation: |          | 0/? [00:00<?, ?it/s]"
      ]
     },
     "metadata": {},
     "output_type": "display_data"
    },
    {
     "name": "stdout",
     "output_type": "stream",
     "text": [
      "Average validation loss is 0.09\n",
      "Average training loss is 0.03\n"
     ]
    },
    {
     "data": {
      "application/vnd.jupyter.widget-view+json": {
       "model_id": "644a6ec93c4d4db7a52d379019afae49",
       "version_major": 2,
       "version_minor": 0
      },
      "text/plain": [
       "Validation: |          | 0/? [00:00<?, ?it/s]"
      ]
     },
     "metadata": {},
     "output_type": "display_data"
    },
    {
     "name": "stdout",
     "output_type": "stream",
     "text": [
      "Average validation loss is 0.06\n",
      "Average training loss is 0.03\n"
     ]
    },
    {
     "data": {
      "application/vnd.jupyter.widget-view+json": {
       "model_id": "ca365149972649b6a9afcc0ec88bcbef",
       "version_major": 2,
       "version_minor": 0
      },
      "text/plain": [
       "Validation: |          | 0/? [00:00<?, ?it/s]"
      ]
     },
     "metadata": {},
     "output_type": "display_data"
    },
    {
     "name": "stdout",
     "output_type": "stream",
     "text": [
      "Average validation loss is 0.06\n",
      "Average training loss is 0.03\n"
     ]
    },
    {
     "data": {
      "application/vnd.jupyter.widget-view+json": {
       "model_id": "0e7581c166c34e97814db2c45f969f4c",
       "version_major": 2,
       "version_minor": 0
      },
      "text/plain": [
       "Validation: |          | 0/? [00:00<?, ?it/s]"
      ]
     },
     "metadata": {},
     "output_type": "display_data"
    },
    {
     "name": "stdout",
     "output_type": "stream",
     "text": [
      "Average validation loss is 0.04\n",
      "Average training loss is 0.03\n"
     ]
    },
    {
     "data": {
      "application/vnd.jupyter.widget-view+json": {
       "model_id": "87b21b18fec14f21aaacab5419c4d7d9",
       "version_major": 2,
       "version_minor": 0
      },
      "text/plain": [
       "Validation: |          | 0/? [00:00<?, ?it/s]"
      ]
     },
     "metadata": {},
     "output_type": "display_data"
    },
    {
     "name": "stdout",
     "output_type": "stream",
     "text": [
      "Average validation loss is 0.02\n",
      "Average training loss is 0.03\n"
     ]
    },
    {
     "data": {
      "application/vnd.jupyter.widget-view+json": {
       "model_id": "c9654039694343efa1dd79a6c8d20562",
       "version_major": 2,
       "version_minor": 0
      },
      "text/plain": [
       "Validation: |          | 0/? [00:00<?, ?it/s]"
      ]
     },
     "metadata": {},
     "output_type": "display_data"
    },
    {
     "name": "stdout",
     "output_type": "stream",
     "text": [
      "Average validation loss is 0.02\n",
      "Average training loss is 0.03\n"
     ]
    },
    {
     "data": {
      "application/vnd.jupyter.widget-view+json": {
       "model_id": "37601b2cc29647e3affb5013bef7c423",
       "version_major": 2,
       "version_minor": 0
      },
      "text/plain": [
       "Validation: |          | 0/? [00:00<?, ?it/s]"
      ]
     },
     "metadata": {},
     "output_type": "display_data"
    },
    {
     "name": "stdout",
     "output_type": "stream",
     "text": [
      "Average validation loss is 0.02\n",
      "Average training loss is 0.02\n"
     ]
    },
    {
     "data": {
      "application/vnd.jupyter.widget-view+json": {
       "model_id": "c7bdc4d4db50456da95c8255e9c4401c",
       "version_major": 2,
       "version_minor": 0
      },
      "text/plain": [
       "Validation: |          | 0/? [00:00<?, ?it/s]"
      ]
     },
     "metadata": {},
     "output_type": "display_data"
    },
    {
     "name": "stdout",
     "output_type": "stream",
     "text": [
      "Average validation loss is 0.02\n",
      "Average training loss is 0.03\n"
     ]
    },
    {
     "data": {
      "application/vnd.jupyter.widget-view+json": {
       "model_id": "e216c0e8dfbf47059112f6d85fe7f0c4",
       "version_major": 2,
       "version_minor": 0
      },
      "text/plain": [
       "Validation: |          | 0/? [00:00<?, ?it/s]"
      ]
     },
     "metadata": {},
     "output_type": "display_data"
    },
    {
     "name": "stdout",
     "output_type": "stream",
     "text": [
      "Average validation loss is 0.02\n",
      "Average training loss is 0.02\n"
     ]
    },
    {
     "data": {
      "application/vnd.jupyter.widget-view+json": {
       "model_id": "5b52a101977d4847b3109462e4904d8c",
       "version_major": 2,
       "version_minor": 0
      },
      "text/plain": [
       "Validation: |          | 0/? [00:00<?, ?it/s]"
      ]
     },
     "metadata": {},
     "output_type": "display_data"
    },
    {
     "name": "stdout",
     "output_type": "stream",
     "text": [
      "Average validation loss is 0.02\n",
      "Average training loss is 0.02\n"
     ]
    },
    {
     "data": {
      "application/vnd.jupyter.widget-view+json": {
       "model_id": "f9f64a92515b481e9a955522b614d695",
       "version_major": 2,
       "version_minor": 0
      },
      "text/plain": [
       "Validation: |          | 0/? [00:00<?, ?it/s]"
      ]
     },
     "metadata": {},
     "output_type": "display_data"
    },
    {
     "name": "stdout",
     "output_type": "stream",
     "text": [
      "Average validation loss is 0.02\n",
      "Average training loss is 0.02\n"
     ]
    },
    {
     "data": {
      "application/vnd.jupyter.widget-view+json": {
       "model_id": "d45ebb5a581d474295908fdb8a84e2cd",
       "version_major": 2,
       "version_minor": 0
      },
      "text/plain": [
       "Validation: |          | 0/? [00:00<?, ?it/s]"
      ]
     },
     "metadata": {},
     "output_type": "display_data"
    },
    {
     "name": "stdout",
     "output_type": "stream",
     "text": [
      "Average validation loss is 0.02\n",
      "Average training loss is 0.02\n"
     ]
    },
    {
     "data": {
      "application/vnd.jupyter.widget-view+json": {
       "model_id": "23bce1baf85142ffa8afb89b4b8ac8e8",
       "version_major": 2,
       "version_minor": 0
      },
      "text/plain": [
       "Validation: |          | 0/? [00:00<?, ?it/s]"
      ]
     },
     "metadata": {},
     "output_type": "display_data"
    },
    {
     "name": "stdout",
     "output_type": "stream",
     "text": [
      "Average validation loss is 0.02\n",
      "Average training loss is 0.02\n"
     ]
    },
    {
     "data": {
      "application/vnd.jupyter.widget-view+json": {
       "model_id": "56b5e6ad7059433fad1ecfd89b07fe3c",
       "version_major": 2,
       "version_minor": 0
      },
      "text/plain": [
       "Validation: |          | 0/? [00:00<?, ?it/s]"
      ]
     },
     "metadata": {},
     "output_type": "display_data"
    },
    {
     "name": "stdout",
     "output_type": "stream",
     "text": [
      "Average validation loss is 0.02\n",
      "Average training loss is 0.02\n"
     ]
    },
    {
     "data": {
      "application/vnd.jupyter.widget-view+json": {
       "model_id": "de62e7e084ab42ff97c4968217c4517f",
       "version_major": 2,
       "version_minor": 0
      },
      "text/plain": [
       "Validation: |          | 0/? [00:00<?, ?it/s]"
      ]
     },
     "metadata": {},
     "output_type": "display_data"
    },
    {
     "name": "stdout",
     "output_type": "stream",
     "text": [
      "Average validation loss is 0.02\n",
      "Average training loss is 0.02\n"
     ]
    },
    {
     "data": {
      "application/vnd.jupyter.widget-view+json": {
       "model_id": "42e5439e7e4847248786255d8fa63710",
       "version_major": 2,
       "version_minor": 0
      },
      "text/plain": [
       "Validation: |          | 0/? [00:00<?, ?it/s]"
      ]
     },
     "metadata": {},
     "output_type": "display_data"
    },
    {
     "name": "stdout",
     "output_type": "stream",
     "text": [
      "Average validation loss is 0.02\n",
      "Average training loss is 0.02\n"
     ]
    },
    {
     "data": {
      "application/vnd.jupyter.widget-view+json": {
       "model_id": "b3440bdb3b96432fa36727cbf364961d",
       "version_major": 2,
       "version_minor": 0
      },
      "text/plain": [
       "Validation: |          | 0/? [00:00<?, ?it/s]"
      ]
     },
     "metadata": {},
     "output_type": "display_data"
    },
    {
     "name": "stdout",
     "output_type": "stream",
     "text": [
      "Average validation loss is 0.03\n",
      "Average training loss is 0.02\n"
     ]
    },
    {
     "data": {
      "application/vnd.jupyter.widget-view+json": {
       "model_id": "8d9c379b8aef423bba7eb5352a072c1e",
       "version_major": 2,
       "version_minor": 0
      },
      "text/plain": [
       "Validation: |          | 0/? [00:00<?, ?it/s]"
      ]
     },
     "metadata": {},
     "output_type": "display_data"
    },
    {
     "name": "stdout",
     "output_type": "stream",
     "text": [
      "Average validation loss is 0.02\n",
      "Average training loss is 0.02\n"
     ]
    },
    {
     "data": {
      "application/vnd.jupyter.widget-view+json": {
       "model_id": "3b3853bd36904f54acd67d461ed5173a",
       "version_major": 2,
       "version_minor": 0
      },
      "text/plain": [
       "Validation: |          | 0/? [00:00<?, ?it/s]"
      ]
     },
     "metadata": {},
     "output_type": "display_data"
    },
    {
     "name": "stdout",
     "output_type": "stream",
     "text": [
      "Average validation loss is 0.02\n",
      "Average training loss is 0.02\n"
     ]
    },
    {
     "data": {
      "application/vnd.jupyter.widget-view+json": {
       "model_id": "cb48a8652dd544e1b5578939eb2a77ae",
       "version_major": 2,
       "version_minor": 0
      },
      "text/plain": [
       "Validation: |          | 0/? [00:00<?, ?it/s]"
      ]
     },
     "metadata": {},
     "output_type": "display_data"
    },
    {
     "name": "stdout",
     "output_type": "stream",
     "text": [
      "Average validation loss is 0.02\n",
      "Average training loss is 0.02\n"
     ]
    },
    {
     "data": {
      "application/vnd.jupyter.widget-view+json": {
       "model_id": "349ef9203aca46f7b354dffc30ba2107",
       "version_major": 2,
       "version_minor": 0
      },
      "text/plain": [
       "Validation: |          | 0/? [00:00<?, ?it/s]"
      ]
     },
     "metadata": {},
     "output_type": "display_data"
    },
    {
     "name": "stdout",
     "output_type": "stream",
     "text": [
      "Average validation loss is 0.02\n",
      "Average training loss is 0.02\n"
     ]
    },
    {
     "data": {
      "application/vnd.jupyter.widget-view+json": {
       "model_id": "f70bd52a88df46f3820d5b866e2aab5a",
       "version_major": 2,
       "version_minor": 0
      },
      "text/plain": [
       "Validation: |          | 0/? [00:00<?, ?it/s]"
      ]
     },
     "metadata": {},
     "output_type": "display_data"
    },
    {
     "name": "stdout",
     "output_type": "stream",
     "text": [
      "Average validation loss is 0.03\n",
      "Average training loss is 0.02\n"
     ]
    },
    {
     "data": {
      "application/vnd.jupyter.widget-view+json": {
       "model_id": "4e5ddd9936fe47918a2b6143a1dda768",
       "version_major": 2,
       "version_minor": 0
      },
      "text/plain": [
       "Validation: |          | 0/? [00:00<?, ?it/s]"
      ]
     },
     "metadata": {},
     "output_type": "display_data"
    },
    {
     "name": "stdout",
     "output_type": "stream",
     "text": [
      "Average validation loss is 0.02\n",
      "Average training loss is 0.02\n"
     ]
    },
    {
     "data": {
      "application/vnd.jupyter.widget-view+json": {
       "model_id": "5c159fb0c3e441efbd4751fda32814b9",
       "version_major": 2,
       "version_minor": 0
      },
      "text/plain": [
       "Validation: |          | 0/? [00:00<?, ?it/s]"
      ]
     },
     "metadata": {},
     "output_type": "display_data"
    },
    {
     "name": "stdout",
     "output_type": "stream",
     "text": [
      "Average validation loss is 0.03\n",
      "Average training loss is 0.02\n"
     ]
    },
    {
     "data": {
      "application/vnd.jupyter.widget-view+json": {
       "model_id": "61c0b93d857d40fa817f97e7b21b112f",
       "version_major": 2,
       "version_minor": 0
      },
      "text/plain": [
       "Validation: |          | 0/? [00:00<?, ?it/s]"
      ]
     },
     "metadata": {},
     "output_type": "display_data"
    },
    {
     "name": "stdout",
     "output_type": "stream",
     "text": [
      "Average validation loss is 0.03\n",
      "Average training loss is 0.02\n"
     ]
    },
    {
     "data": {
      "application/vnd.jupyter.widget-view+json": {
       "model_id": "43e152c9130c493ebb57a9742de36ec0",
       "version_major": 2,
       "version_minor": 0
      },
      "text/plain": [
       "Validation: |          | 0/? [00:00<?, ?it/s]"
      ]
     },
     "metadata": {},
     "output_type": "display_data"
    },
    {
     "name": "stdout",
     "output_type": "stream",
     "text": [
      "Average validation loss is 0.02\n",
      "Average training loss is 0.02\n"
     ]
    },
    {
     "data": {
      "application/vnd.jupyter.widget-view+json": {
       "model_id": "80dcbbbabdb44d8aa79747f8b19ddc92",
       "version_major": 2,
       "version_minor": 0
      },
      "text/plain": [
       "Validation: |          | 0/? [00:00<?, ?it/s]"
      ]
     },
     "metadata": {},
     "output_type": "display_data"
    },
    {
     "name": "stdout",
     "output_type": "stream",
     "text": [
      "Average validation loss is 0.03\n",
      "Average training loss is 0.02\n"
     ]
    },
    {
     "data": {
      "application/vnd.jupyter.widget-view+json": {
       "model_id": "fb633947cdf3421e85d02d19289f0775",
       "version_major": 2,
       "version_minor": 0
      },
      "text/plain": [
       "Validation: |          | 0/? [00:00<?, ?it/s]"
      ]
     },
     "metadata": {},
     "output_type": "display_data"
    },
    {
     "name": "stdout",
     "output_type": "stream",
     "text": [
      "Average validation loss is 0.02\n",
      "Average training loss is 0.02\n"
     ]
    },
    {
     "data": {
      "application/vnd.jupyter.widget-view+json": {
       "model_id": "8650da74758d426794dd8125eff9d68f",
       "version_major": 2,
       "version_minor": 0
      },
      "text/plain": [
       "Validation: |          | 0/? [00:00<?, ?it/s]"
      ]
     },
     "metadata": {},
     "output_type": "display_data"
    },
    {
     "name": "stdout",
     "output_type": "stream",
     "text": [
      "Average validation loss is 0.02\n",
      "Average training loss is 0.02\n"
     ]
    },
    {
     "data": {
      "application/vnd.jupyter.widget-view+json": {
       "model_id": "932f608c9cda43f68ef0b4bdb89fd3d0",
       "version_major": 2,
       "version_minor": 0
      },
      "text/plain": [
       "Validation: |          | 0/? [00:00<?, ?it/s]"
      ]
     },
     "metadata": {},
     "output_type": "display_data"
    },
    {
     "name": "stdout",
     "output_type": "stream",
     "text": [
      "Average validation loss is 0.02\n",
      "Average training loss is 0.02\n"
     ]
    },
    {
     "data": {
      "application/vnd.jupyter.widget-view+json": {
       "model_id": "951bfc413d304818a41788a79d447a39",
       "version_major": 2,
       "version_minor": 0
      },
      "text/plain": [
       "Validation: |          | 0/? [00:00<?, ?it/s]"
      ]
     },
     "metadata": {},
     "output_type": "display_data"
    },
    {
     "name": "stdout",
     "output_type": "stream",
     "text": [
      "Average validation loss is 0.02\n",
      "Average training loss is 0.02\n"
     ]
    },
    {
     "data": {
      "application/vnd.jupyter.widget-view+json": {
       "model_id": "53b760fc03004332a87f391ad7c3ca33",
       "version_major": 2,
       "version_minor": 0
      },
      "text/plain": [
       "Validation: |          | 0/? [00:00<?, ?it/s]"
      ]
     },
     "metadata": {},
     "output_type": "display_data"
    },
    {
     "name": "stdout",
     "output_type": "stream",
     "text": [
      "Average validation loss is 0.02\n",
      "Average training loss is 0.02\n"
     ]
    },
    {
     "data": {
      "application/vnd.jupyter.widget-view+json": {
       "model_id": "0211cb86bd344583b9ec59845a01bb3d",
       "version_major": 2,
       "version_minor": 0
      },
      "text/plain": [
       "Validation: |          | 0/? [00:00<?, ?it/s]"
      ]
     },
     "metadata": {},
     "output_type": "display_data"
    },
    {
     "name": "stdout",
     "output_type": "stream",
     "text": [
      "Average validation loss is 0.02\n",
      "Average training loss is 0.02\n"
     ]
    },
    {
     "data": {
      "application/vnd.jupyter.widget-view+json": {
       "model_id": "20d3ff1a3f7e4d3480f13e4c9e198957",
       "version_major": 2,
       "version_minor": 0
      },
      "text/plain": [
       "Validation: |          | 0/? [00:00<?, ?it/s]"
      ]
     },
     "metadata": {},
     "output_type": "display_data"
    },
    {
     "name": "stdout",
     "output_type": "stream",
     "text": [
      "Average validation loss is 0.02\n",
      "Average training loss is 0.02\n"
     ]
    },
    {
     "data": {
      "application/vnd.jupyter.widget-view+json": {
       "model_id": "1e4d2a8756eb419c84951743cc0e375b",
       "version_major": 2,
       "version_minor": 0
      },
      "text/plain": [
       "Validation: |          | 0/? [00:00<?, ?it/s]"
      ]
     },
     "metadata": {},
     "output_type": "display_data"
    },
    {
     "name": "stdout",
     "output_type": "stream",
     "text": [
      "Average validation loss is 0.01\n",
      "Average training loss is 0.01\n"
     ]
    },
    {
     "data": {
      "application/vnd.jupyter.widget-view+json": {
       "model_id": "d69ff5bc43b541f18767980f9b56f5c9",
       "version_major": 2,
       "version_minor": 0
      },
      "text/plain": [
       "Validation: |          | 0/? [00:00<?, ?it/s]"
      ]
     },
     "metadata": {},
     "output_type": "display_data"
    },
    {
     "name": "stdout",
     "output_type": "stream",
     "text": [
      "Average validation loss is 0.01\n",
      "Average training loss is 0.01\n"
     ]
    },
    {
     "data": {
      "application/vnd.jupyter.widget-view+json": {
       "model_id": "bc7fa4872ac2458484bbf62f98673e22",
       "version_major": 2,
       "version_minor": 0
      },
      "text/plain": [
       "Validation: |          | 0/? [00:00<?, ?it/s]"
      ]
     },
     "metadata": {},
     "output_type": "display_data"
    },
    {
     "name": "stdout",
     "output_type": "stream",
     "text": [
      "Average validation loss is 0.02\n",
      "Average training loss is 0.01\n"
     ]
    },
    {
     "data": {
      "application/vnd.jupyter.widget-view+json": {
       "model_id": "e939a8ff2cac45e9a06e32badd876a25",
       "version_major": 2,
       "version_minor": 0
      },
      "text/plain": [
       "Validation: |          | 0/? [00:00<?, ?it/s]"
      ]
     },
     "metadata": {},
     "output_type": "display_data"
    },
    {
     "name": "stdout",
     "output_type": "stream",
     "text": [
      "Average validation loss is 0.02\n",
      "Average training loss is 0.01\n"
     ]
    },
    {
     "data": {
      "application/vnd.jupyter.widget-view+json": {
       "model_id": "d82f49d30f944ffb998c3627a4fe0967",
       "version_major": 2,
       "version_minor": 0
      },
      "text/plain": [
       "Validation: |          | 0/? [00:00<?, ?it/s]"
      ]
     },
     "metadata": {},
     "output_type": "display_data"
    },
    {
     "name": "stdout",
     "output_type": "stream",
     "text": [
      "Average validation loss is 0.02\n",
      "Average training loss is 0.01\n"
     ]
    },
    {
     "data": {
      "application/vnd.jupyter.widget-view+json": {
       "model_id": "c200a8265f2047b3a4829caf7876c548",
       "version_major": 2,
       "version_minor": 0
      },
      "text/plain": [
       "Validation: |          | 0/? [00:00<?, ?it/s]"
      ]
     },
     "metadata": {},
     "output_type": "display_data"
    },
    {
     "name": "stdout",
     "output_type": "stream",
     "text": [
      "Average validation loss is 0.02\n",
      "Average training loss is 0.01\n"
     ]
    },
    {
     "data": {
      "application/vnd.jupyter.widget-view+json": {
       "model_id": "2f7b8ace3de14049842cb97895cfda45",
       "version_major": 2,
       "version_minor": 0
      },
      "text/plain": [
       "Validation: |          | 0/? [00:00<?, ?it/s]"
      ]
     },
     "metadata": {},
     "output_type": "display_data"
    },
    {
     "name": "stdout",
     "output_type": "stream",
     "text": [
      "Average validation loss is 0.02\n",
      "Average training loss is 0.02\n"
     ]
    },
    {
     "data": {
      "application/vnd.jupyter.widget-view+json": {
       "model_id": "012c6366aab14a41a64420f62ef6eb69",
       "version_major": 2,
       "version_minor": 0
      },
      "text/plain": [
       "Validation: |          | 0/? [00:00<?, ?it/s]"
      ]
     },
     "metadata": {},
     "output_type": "display_data"
    },
    {
     "name": "stdout",
     "output_type": "stream",
     "text": [
      "Average validation loss is 0.02\n",
      "Average training loss is 0.02\n"
     ]
    },
    {
     "data": {
      "application/vnd.jupyter.widget-view+json": {
       "model_id": "cd22fd5aed7843c19d7b63670b5783c8",
       "version_major": 2,
       "version_minor": 0
      },
      "text/plain": [
       "Validation: |          | 0/? [00:00<?, ?it/s]"
      ]
     },
     "metadata": {},
     "output_type": "display_data"
    },
    {
     "name": "stdout",
     "output_type": "stream",
     "text": [
      "Average validation loss is 0.02\n",
      "Average training loss is 0.02\n"
     ]
    },
    {
     "data": {
      "application/vnd.jupyter.widget-view+json": {
       "model_id": "2173561508ad4355a89b353b9fd01b89",
       "version_major": 2,
       "version_minor": 0
      },
      "text/plain": [
       "Validation: |          | 0/? [00:00<?, ?it/s]"
      ]
     },
     "metadata": {},
     "output_type": "display_data"
    },
    {
     "name": "stdout",
     "output_type": "stream",
     "text": [
      "Average validation loss is 0.02\n",
      "Average training loss is 0.01\n"
     ]
    },
    {
     "data": {
      "application/vnd.jupyter.widget-view+json": {
       "model_id": "1df80b2c92864493b716feebcc9c7e57",
       "version_major": 2,
       "version_minor": 0
      },
      "text/plain": [
       "Validation: |          | 0/? [00:00<?, ?it/s]"
      ]
     },
     "metadata": {},
     "output_type": "display_data"
    },
    {
     "name": "stdout",
     "output_type": "stream",
     "text": [
      "Average validation loss is 0.02\n",
      "Average training loss is 0.01\n"
     ]
    },
    {
     "data": {
      "application/vnd.jupyter.widget-view+json": {
       "model_id": "0c91b3276b144f5bbcc53e0caf028259",
       "version_major": 2,
       "version_minor": 0
      },
      "text/plain": [
       "Validation: |          | 0/? [00:00<?, ?it/s]"
      ]
     },
     "metadata": {},
     "output_type": "display_data"
    },
    {
     "name": "stdout",
     "output_type": "stream",
     "text": [
      "Average validation loss is 0.02\n",
      "Average training loss is 0.01\n"
     ]
    },
    {
     "data": {
      "application/vnd.jupyter.widget-view+json": {
       "model_id": "35e900db1083420a871d9868e1570279",
       "version_major": 2,
       "version_minor": 0
      },
      "text/plain": [
       "Validation: |          | 0/? [00:00<?, ?it/s]"
      ]
     },
     "metadata": {},
     "output_type": "display_data"
    },
    {
     "name": "stdout",
     "output_type": "stream",
     "text": [
      "Average validation loss is 0.02\n",
      "Average training loss is 0.01\n"
     ]
    },
    {
     "data": {
      "application/vnd.jupyter.widget-view+json": {
       "model_id": "05d04b91efcc4382b30e355a2a508193",
       "version_major": 2,
       "version_minor": 0
      },
      "text/plain": [
       "Validation: |          | 0/? [00:00<?, ?it/s]"
      ]
     },
     "metadata": {},
     "output_type": "display_data"
    },
    {
     "name": "stdout",
     "output_type": "stream",
     "text": [
      "Average validation loss is 0.02\n",
      "Average training loss is 0.01\n"
     ]
    },
    {
     "data": {
      "application/vnd.jupyter.widget-view+json": {
       "model_id": "e0d233733a454e5b86dbfef524a08e8f",
       "version_major": 2,
       "version_minor": 0
      },
      "text/plain": [
       "Validation: |          | 0/? [00:00<?, ?it/s]"
      ]
     },
     "metadata": {},
     "output_type": "display_data"
    },
    {
     "name": "stdout",
     "output_type": "stream",
     "text": [
      "Average validation loss is 0.02\n",
      "Average training loss is 0.01\n"
     ]
    },
    {
     "data": {
      "application/vnd.jupyter.widget-view+json": {
       "model_id": "b97471e3cf0146dbb581a91330dd9cc9",
       "version_major": 2,
       "version_minor": 0
      },
      "text/plain": [
       "Validation: |          | 0/? [00:00<?, ?it/s]"
      ]
     },
     "metadata": {},
     "output_type": "display_data"
    },
    {
     "name": "stdout",
     "output_type": "stream",
     "text": [
      "Average validation loss is 0.01\n",
      "Average training loss is 0.01\n"
     ]
    },
    {
     "data": {
      "application/vnd.jupyter.widget-view+json": {
       "model_id": "907d2d2fc33b41349fce4cce5266455c",
       "version_major": 2,
       "version_minor": 0
      },
      "text/plain": [
       "Validation: |          | 0/? [00:00<?, ?it/s]"
      ]
     },
     "metadata": {},
     "output_type": "display_data"
    },
    {
     "name": "stdout",
     "output_type": "stream",
     "text": [
      "Average validation loss is 0.02\n",
      "Average training loss is 0.01\n"
     ]
    },
    {
     "data": {
      "application/vnd.jupyter.widget-view+json": {
       "model_id": "3ca70fd9c36543e98f729a44e1c06ad8",
       "version_major": 2,
       "version_minor": 0
      },
      "text/plain": [
       "Validation: |          | 0/? [00:00<?, ?it/s]"
      ]
     },
     "metadata": {},
     "output_type": "display_data"
    },
    {
     "name": "stdout",
     "output_type": "stream",
     "text": [
      "Average validation loss is 0.01\n",
      "Average training loss is 0.01\n"
     ]
    },
    {
     "data": {
      "application/vnd.jupyter.widget-view+json": {
       "model_id": "4130359010104347bf41ef11418fff95",
       "version_major": 2,
       "version_minor": 0
      },
      "text/plain": [
       "Validation: |          | 0/? [00:00<?, ?it/s]"
      ]
     },
     "metadata": {},
     "output_type": "display_data"
    },
    {
     "name": "stdout",
     "output_type": "stream",
     "text": [
      "Average validation loss is 0.01\n",
      "Average training loss is 0.01\n"
     ]
    },
    {
     "data": {
      "application/vnd.jupyter.widget-view+json": {
       "model_id": "8fb62651b70442df8676def30149ebc0",
       "version_major": 2,
       "version_minor": 0
      },
      "text/plain": [
       "Validation: |          | 0/? [00:00<?, ?it/s]"
      ]
     },
     "metadata": {},
     "output_type": "display_data"
    },
    {
     "name": "stdout",
     "output_type": "stream",
     "text": [
      "Average validation loss is 0.01\n",
      "Average training loss is 0.01\n"
     ]
    },
    {
     "data": {
      "application/vnd.jupyter.widget-view+json": {
       "model_id": "6e2f613437304f0eb99b578d58661bed",
       "version_major": 2,
       "version_minor": 0
      },
      "text/plain": [
       "Validation: |          | 0/? [00:00<?, ?it/s]"
      ]
     },
     "metadata": {},
     "output_type": "display_data"
    },
    {
     "name": "stdout",
     "output_type": "stream",
     "text": [
      "Average validation loss is 0.01\n",
      "Average training loss is 0.01\n"
     ]
    },
    {
     "data": {
      "application/vnd.jupyter.widget-view+json": {
       "model_id": "9f476da2e5bc47408cd11fad98ff20c1",
       "version_major": 2,
       "version_minor": 0
      },
      "text/plain": [
       "Validation: |          | 0/? [00:00<?, ?it/s]"
      ]
     },
     "metadata": {},
     "output_type": "display_data"
    },
    {
     "name": "stdout",
     "output_type": "stream",
     "text": [
      "Average validation loss is 0.01\n",
      "Average training loss is 0.01\n"
     ]
    },
    {
     "data": {
      "application/vnd.jupyter.widget-view+json": {
       "model_id": "b7e820869f6d401b8879397edfbfbdfb",
       "version_major": 2,
       "version_minor": 0
      },
      "text/plain": [
       "Validation: |          | 0/? [00:00<?, ?it/s]"
      ]
     },
     "metadata": {},
     "output_type": "display_data"
    },
    {
     "name": "stdout",
     "output_type": "stream",
     "text": [
      "Average validation loss is 0.01\n",
      "Average training loss is 0.01\n"
     ]
    },
    {
     "data": {
      "application/vnd.jupyter.widget-view+json": {
       "model_id": "98d28532e2f849e5b3a30ad75f802c61",
       "version_major": 2,
       "version_minor": 0
      },
      "text/plain": [
       "Validation: |          | 0/? [00:00<?, ?it/s]"
      ]
     },
     "metadata": {},
     "output_type": "display_data"
    },
    {
     "name": "stdout",
     "output_type": "stream",
     "text": [
      "Average validation loss is 0.01\n",
      "Average training loss is 0.01\n"
     ]
    },
    {
     "data": {
      "application/vnd.jupyter.widget-view+json": {
       "model_id": "05ad71a2b90c4bd1b7c65f3eadb32578",
       "version_major": 2,
       "version_minor": 0
      },
      "text/plain": [
       "Validation: |          | 0/? [00:00<?, ?it/s]"
      ]
     },
     "metadata": {},
     "output_type": "display_data"
    },
    {
     "name": "stdout",
     "output_type": "stream",
     "text": [
      "Average validation loss is 0.01\n",
      "Average training loss is 0.01\n"
     ]
    },
    {
     "data": {
      "application/vnd.jupyter.widget-view+json": {
       "model_id": "91e141d5c21b4a2ea258436910b2fad0",
       "version_major": 2,
       "version_minor": 0
      },
      "text/plain": [
       "Validation: |          | 0/? [00:00<?, ?it/s]"
      ]
     },
     "metadata": {},
     "output_type": "display_data"
    },
    {
     "name": "stdout",
     "output_type": "stream",
     "text": [
      "Average validation loss is 0.01\n",
      "Average training loss is 0.01\n"
     ]
    },
    {
     "data": {
      "application/vnd.jupyter.widget-view+json": {
       "model_id": "38b121718350478fae12798a8c2e90a0",
       "version_major": 2,
       "version_minor": 0
      },
      "text/plain": [
       "Validation: |          | 0/? [00:00<?, ?it/s]"
      ]
     },
     "metadata": {},
     "output_type": "display_data"
    },
    {
     "name": "stdout",
     "output_type": "stream",
     "text": [
      "Average validation loss is 0.01\n",
      "Average training loss is 0.01\n"
     ]
    },
    {
     "data": {
      "application/vnd.jupyter.widget-view+json": {
       "model_id": "3aa40a9c8bd64014a4d7abb93fbd33e5",
       "version_major": 2,
       "version_minor": 0
      },
      "text/plain": [
       "Validation: |          | 0/? [00:00<?, ?it/s]"
      ]
     },
     "metadata": {},
     "output_type": "display_data"
    },
    {
     "name": "stdout",
     "output_type": "stream",
     "text": [
      "Average validation loss is 0.01\n",
      "Average training loss is 0.01\n"
     ]
    },
    {
     "data": {
      "application/vnd.jupyter.widget-view+json": {
       "model_id": "f70370c9afa74ce6aaf582b7ad8654a9",
       "version_major": 2,
       "version_minor": 0
      },
      "text/plain": [
       "Validation: |          | 0/? [00:00<?, ?it/s]"
      ]
     },
     "metadata": {},
     "output_type": "display_data"
    },
    {
     "name": "stdout",
     "output_type": "stream",
     "text": [
      "Average validation loss is 0.01\n",
      "Average training loss is 0.01\n"
     ]
    },
    {
     "data": {
      "application/vnd.jupyter.widget-view+json": {
       "model_id": "0119c4c2c00c4ab6996731bb35f6a24f",
       "version_major": 2,
       "version_minor": 0
      },
      "text/plain": [
       "Validation: |          | 0/? [00:00<?, ?it/s]"
      ]
     },
     "metadata": {},
     "output_type": "display_data"
    },
    {
     "name": "stdout",
     "output_type": "stream",
     "text": [
      "Average validation loss is 0.02\n",
      "Average training loss is 0.01\n"
     ]
    },
    {
     "data": {
      "application/vnd.jupyter.widget-view+json": {
       "model_id": "bcf9e1d3c7ec4c61a9c1ea61306a3bf0",
       "version_major": 2,
       "version_minor": 0
      },
      "text/plain": [
       "Validation: |          | 0/? [00:00<?, ?it/s]"
      ]
     },
     "metadata": {},
     "output_type": "display_data"
    },
    {
     "name": "stdout",
     "output_type": "stream",
     "text": [
      "Average validation loss is 0.01\n",
      "Average training loss is 0.01\n"
     ]
    },
    {
     "data": {
      "application/vnd.jupyter.widget-view+json": {
       "model_id": "521cc2a4cf3443ddb0b84785d4641756",
       "version_major": 2,
       "version_minor": 0
      },
      "text/plain": [
       "Validation: |          | 0/? [00:00<?, ?it/s]"
      ]
     },
     "metadata": {},
     "output_type": "display_data"
    },
    {
     "name": "stdout",
     "output_type": "stream",
     "text": [
      "Average validation loss is 0.01\n",
      "Average training loss is 0.01\n"
     ]
    },
    {
     "data": {
      "application/vnd.jupyter.widget-view+json": {
       "model_id": "0a5a68c2dba64d9d81b8d2e3c412763e",
       "version_major": 2,
       "version_minor": 0
      },
      "text/plain": [
       "Validation: |          | 0/? [00:00<?, ?it/s]"
      ]
     },
     "metadata": {},
     "output_type": "display_data"
    },
    {
     "name": "stdout",
     "output_type": "stream",
     "text": [
      "Average validation loss is 0.01\n",
      "Average training loss is 0.01\n"
     ]
    },
    {
     "data": {
      "application/vnd.jupyter.widget-view+json": {
       "model_id": "94037c9e25c64925b6eb192630816a50",
       "version_major": 2,
       "version_minor": 0
      },
      "text/plain": [
       "Validation: |          | 0/? [00:00<?, ?it/s]"
      ]
     },
     "metadata": {},
     "output_type": "display_data"
    },
    {
     "name": "stdout",
     "output_type": "stream",
     "text": [
      "Average validation loss is 0.01\n",
      "Average training loss is 0.01\n"
     ]
    },
    {
     "data": {
      "application/vnd.jupyter.widget-view+json": {
       "model_id": "db04c896b4c946049a0008f96fee1004",
       "version_major": 2,
       "version_minor": 0
      },
      "text/plain": [
       "Validation: |          | 0/? [00:00<?, ?it/s]"
      ]
     },
     "metadata": {},
     "output_type": "display_data"
    },
    {
     "name": "stdout",
     "output_type": "stream",
     "text": [
      "Average validation loss is 0.01\n",
      "Average training loss is 0.01\n"
     ]
    },
    {
     "data": {
      "application/vnd.jupyter.widget-view+json": {
       "model_id": "4b20a6212b0e406088ce3e49a86da6e0",
       "version_major": 2,
       "version_minor": 0
      },
      "text/plain": [
       "Validation: |          | 0/? [00:00<?, ?it/s]"
      ]
     },
     "metadata": {},
     "output_type": "display_data"
    },
    {
     "name": "stdout",
     "output_type": "stream",
     "text": [
      "Average validation loss is 0.01\n",
      "Average training loss is 0.01\n"
     ]
    },
    {
     "data": {
      "application/vnd.jupyter.widget-view+json": {
       "model_id": "7d9ea988492e44558fb7ce7533908c8f",
       "version_major": 2,
       "version_minor": 0
      },
      "text/plain": [
       "Validation: |          | 0/? [00:00<?, ?it/s]"
      ]
     },
     "metadata": {},
     "output_type": "display_data"
    },
    {
     "name": "stdout",
     "output_type": "stream",
     "text": [
      "Average validation loss is 0.01\n",
      "Average training loss is 0.01\n"
     ]
    },
    {
     "data": {
      "application/vnd.jupyter.widget-view+json": {
       "model_id": "8713aad3f6094d3c911ba272d79db33c",
       "version_major": 2,
       "version_minor": 0
      },
      "text/plain": [
       "Validation: |          | 0/? [00:00<?, ?it/s]"
      ]
     },
     "metadata": {},
     "output_type": "display_data"
    },
    {
     "name": "stdout",
     "output_type": "stream",
     "text": [
      "Average validation loss is 0.01\n",
      "Average training loss is 0.01\n"
     ]
    },
    {
     "data": {
      "application/vnd.jupyter.widget-view+json": {
       "model_id": "20f96f3f1be74114941ddb952ecb3fb4",
       "version_major": 2,
       "version_minor": 0
      },
      "text/plain": [
       "Validation: |          | 0/? [00:00<?, ?it/s]"
      ]
     },
     "metadata": {},
     "output_type": "display_data"
    },
    {
     "name": "stdout",
     "output_type": "stream",
     "text": [
      "Average validation loss is 0.01\n",
      "Average training loss is 0.01\n"
     ]
    },
    {
     "data": {
      "application/vnd.jupyter.widget-view+json": {
       "model_id": "07bb3cc2c6004ef0856d3249a209474e",
       "version_major": 2,
       "version_minor": 0
      },
      "text/plain": [
       "Validation: |          | 0/? [00:00<?, ?it/s]"
      ]
     },
     "metadata": {},
     "output_type": "display_data"
    },
    {
     "name": "stdout",
     "output_type": "stream",
     "text": [
      "Average validation loss is 0.01\n",
      "Average training loss is 0.01\n"
     ]
    },
    {
     "data": {
      "application/vnd.jupyter.widget-view+json": {
       "model_id": "7ec06b4171b94207b1c31702a030793f",
       "version_major": 2,
       "version_minor": 0
      },
      "text/plain": [
       "Validation: |          | 0/? [00:00<?, ?it/s]"
      ]
     },
     "metadata": {},
     "output_type": "display_data"
    },
    {
     "name": "stdout",
     "output_type": "stream",
     "text": [
      "Average validation loss is 0.01\n",
      "Average training loss is 0.01\n"
     ]
    },
    {
     "data": {
      "application/vnd.jupyter.widget-view+json": {
       "model_id": "50df6a43d8cf4c2a8034bc2fb1f60666",
       "version_major": 2,
       "version_minor": 0
      },
      "text/plain": [
       "Validation: |          | 0/? [00:00<?, ?it/s]"
      ]
     },
     "metadata": {},
     "output_type": "display_data"
    },
    {
     "name": "stdout",
     "output_type": "stream",
     "text": [
      "Average validation loss is 0.01\n",
      "Average training loss is 0.01\n"
     ]
    },
    {
     "data": {
      "application/vnd.jupyter.widget-view+json": {
       "model_id": "7c7a7dcdcfd84b32a871835b04d92cba",
       "version_major": 2,
       "version_minor": 0
      },
      "text/plain": [
       "Validation: |          | 0/? [00:00<?, ?it/s]"
      ]
     },
     "metadata": {},
     "output_type": "display_data"
    },
    {
     "name": "stdout",
     "output_type": "stream",
     "text": [
      "Average validation loss is 0.01\n",
      "Average training loss is 0.01\n"
     ]
    },
    {
     "data": {
      "application/vnd.jupyter.widget-view+json": {
       "model_id": "2ac315bbf6db4973bb5f586059b7eb54",
       "version_major": 2,
       "version_minor": 0
      },
      "text/plain": [
       "Validation: |          | 0/? [00:00<?, ?it/s]"
      ]
     },
     "metadata": {},
     "output_type": "display_data"
    },
    {
     "name": "stdout",
     "output_type": "stream",
     "text": [
      "Average validation loss is 0.01\n",
      "Average training loss is 0.01\n"
     ]
    },
    {
     "data": {
      "application/vnd.jupyter.widget-view+json": {
       "model_id": "b6c35b3e6a7b40c19356439e46372274",
       "version_major": 2,
       "version_minor": 0
      },
      "text/plain": [
       "Validation: |          | 0/? [00:00<?, ?it/s]"
      ]
     },
     "metadata": {},
     "output_type": "display_data"
    },
    {
     "name": "stdout",
     "output_type": "stream",
     "text": [
      "Average validation loss is 0.01\n",
      "Average training loss is 0.01\n"
     ]
    },
    {
     "data": {
      "application/vnd.jupyter.widget-view+json": {
       "model_id": "53954674e50d44e9b8e14ea446a0cce8",
       "version_major": 2,
       "version_minor": 0
      },
      "text/plain": [
       "Validation: |          | 0/? [00:00<?, ?it/s]"
      ]
     },
     "metadata": {},
     "output_type": "display_data"
    },
    {
     "name": "stdout",
     "output_type": "stream",
     "text": [
      "Average validation loss is 0.01\n",
      "Average training loss is 0.01\n"
     ]
    },
    {
     "data": {
      "application/vnd.jupyter.widget-view+json": {
       "model_id": "a69e08c4e778486584bec1e3d8abb4f2",
       "version_major": 2,
       "version_minor": 0
      },
      "text/plain": [
       "Validation: |          | 0/? [00:00<?, ?it/s]"
      ]
     },
     "metadata": {},
     "output_type": "display_data"
    },
    {
     "name": "stdout",
     "output_type": "stream",
     "text": [
      "Average validation loss is 0.01\n",
      "Average training loss is 0.01\n"
     ]
    },
    {
     "data": {
      "application/vnd.jupyter.widget-view+json": {
       "model_id": "98023de5704548d7b6beb6f8e961db5a",
       "version_major": 2,
       "version_minor": 0
      },
      "text/plain": [
       "Validation: |          | 0/? [00:00<?, ?it/s]"
      ]
     },
     "metadata": {},
     "output_type": "display_data"
    },
    {
     "name": "stdout",
     "output_type": "stream",
     "text": [
      "Average validation loss is 0.01\n",
      "Average training loss is 0.01\n"
     ]
    },
    {
     "data": {
      "application/vnd.jupyter.widget-view+json": {
       "model_id": "b7e58cc20f954b5cad6a1a5cd99f306d",
       "version_major": 2,
       "version_minor": 0
      },
      "text/plain": [
       "Validation: |          | 0/? [00:00<?, ?it/s]"
      ]
     },
     "metadata": {},
     "output_type": "display_data"
    },
    {
     "name": "stdout",
     "output_type": "stream",
     "text": [
      "Average validation loss is 0.01\n",
      "Average training loss is 0.01\n"
     ]
    },
    {
     "data": {
      "application/vnd.jupyter.widget-view+json": {
       "model_id": "5ba72a7591434fcaa280852273334025",
       "version_major": 2,
       "version_minor": 0
      },
      "text/plain": [
       "Validation: |          | 0/? [00:00<?, ?it/s]"
      ]
     },
     "metadata": {},
     "output_type": "display_data"
    },
    {
     "name": "stdout",
     "output_type": "stream",
     "text": [
      "Average validation loss is 0.02\n",
      "Average training loss is 0.01\n"
     ]
    },
    {
     "data": {
      "application/vnd.jupyter.widget-view+json": {
       "model_id": "a0784081ac64444e9c1e31d51c49d0fe",
       "version_major": 2,
       "version_minor": 0
      },
      "text/plain": [
       "Validation: |          | 0/? [00:00<?, ?it/s]"
      ]
     },
     "metadata": {},
     "output_type": "display_data"
    },
    {
     "name": "stdout",
     "output_type": "stream",
     "text": [
      "Average validation loss is 0.01\n",
      "Average training loss is 0.01\n"
     ]
    },
    {
     "data": {
      "application/vnd.jupyter.widget-view+json": {
       "model_id": "811e1f4f437c4cbd8f19e01e996d855d",
       "version_major": 2,
       "version_minor": 0
      },
      "text/plain": [
       "Validation: |          | 0/? [00:00<?, ?it/s]"
      ]
     },
     "metadata": {},
     "output_type": "display_data"
    },
    {
     "name": "stdout",
     "output_type": "stream",
     "text": [
      "Average validation loss is 0.01\n",
      "Average training loss is 0.01\n"
     ]
    },
    {
     "data": {
      "application/vnd.jupyter.widget-view+json": {
       "model_id": "56e77d6ad1a14bafb52b38c70aa127e5",
       "version_major": 2,
       "version_minor": 0
      },
      "text/plain": [
       "Validation: |          | 0/? [00:00<?, ?it/s]"
      ]
     },
     "metadata": {},
     "output_type": "display_data"
    },
    {
     "name": "stdout",
     "output_type": "stream",
     "text": [
      "Average validation loss is 0.01\n",
      "Average training loss is 0.01\n"
     ]
    },
    {
     "data": {
      "application/vnd.jupyter.widget-view+json": {
       "model_id": "47ea1ae80fb740a29abc8185284dc572",
       "version_major": 2,
       "version_minor": 0
      },
      "text/plain": [
       "Validation: |          | 0/? [00:00<?, ?it/s]"
      ]
     },
     "metadata": {},
     "output_type": "display_data"
    },
    {
     "name": "stdout",
     "output_type": "stream",
     "text": [
      "Average validation loss is 0.01\n",
      "Average training loss is 0.01\n"
     ]
    },
    {
     "data": {
      "application/vnd.jupyter.widget-view+json": {
       "model_id": "55473fbaf80f4bcb900ee38756259a2b",
       "version_major": 2,
       "version_minor": 0
      },
      "text/plain": [
       "Validation: |          | 0/? [00:00<?, ?it/s]"
      ]
     },
     "metadata": {},
     "output_type": "display_data"
    },
    {
     "name": "stdout",
     "output_type": "stream",
     "text": [
      "Average validation loss is 0.01\n",
      "Average training loss is 0.01\n"
     ]
    },
    {
     "data": {
      "application/vnd.jupyter.widget-view+json": {
       "model_id": "93f4e9a875504208966740f4a81c30c1",
       "version_major": 2,
       "version_minor": 0
      },
      "text/plain": [
       "Validation: |          | 0/? [00:00<?, ?it/s]"
      ]
     },
     "metadata": {},
     "output_type": "display_data"
    },
    {
     "name": "stdout",
     "output_type": "stream",
     "text": [
      "Average validation loss is 0.01\n",
      "Average training loss is 0.01\n"
     ]
    },
    {
     "data": {
      "application/vnd.jupyter.widget-view+json": {
       "model_id": "81e873d439164fd6b1c3ff0bf55abab8",
       "version_major": 2,
       "version_minor": 0
      },
      "text/plain": [
       "Validation: |          | 0/? [00:00<?, ?it/s]"
      ]
     },
     "metadata": {},
     "output_type": "display_data"
    },
    {
     "name": "stdout",
     "output_type": "stream",
     "text": [
      "Average validation loss is 0.01\n",
      "Average training loss is 0.01\n"
     ]
    },
    {
     "data": {
      "application/vnd.jupyter.widget-view+json": {
       "model_id": "869319c9c9024002a23218169e4c6c58",
       "version_major": 2,
       "version_minor": 0
      },
      "text/plain": [
       "Validation: |          | 0/? [00:00<?, ?it/s]"
      ]
     },
     "metadata": {},
     "output_type": "display_data"
    },
    {
     "name": "stderr",
     "output_type": "stream",
     "text": [
      "`Trainer.fit` stopped: `max_epochs=100` reached.\n"
     ]
    },
    {
     "name": "stdout",
     "output_type": "stream",
     "text": [
      "Average validation loss is 0.01\n",
      "Average training loss is 0.01\n"
     ]
    },
    {
     "data": {
      "text/html": [
       "Finishing last run (ID:94c7cp57) before initializing another..."
      ],
      "text/plain": [
       "<IPython.core.display.HTML object>"
      ]
     },
     "metadata": {},
     "output_type": "display_data"
    },
    {
     "name": "stderr",
     "output_type": "stream",
     "text": [
      "wandb: WARNING Source type is set to 'repo' but some required information is missing from the environment. A job will not be created from this run. See https://docs.wandb.ai/guides/launch/create-job\n"
     ]
    },
    {
     "data": {
      "application/vnd.jupyter.widget-view+json": {
       "model_id": "b8e582416f5f46e6b87130da82171b44",
       "version_major": 2,
       "version_minor": 0
      },
      "text/plain": [
       "VBox(children=(Label(value='0.001 MB of 0.004 MB uploaded\\r'), FloatProgress(value=0.2665136444784494, max=1.0…"
      ]
     },
     "metadata": {},
     "output_type": "display_data"
    },
    {
     "data": {
      "text/html": [
       "<style>\n",
       "    table.wandb td:nth-child(1) { padding: 0 10px; text-align: left ; width: auto;} td:nth-child(2) {text-align: left ; width: 100%}\n",
       "    .wandb-row { display: flex; flex-direction: row; flex-wrap: wrap; justify-content: flex-start; width: 100% }\n",
       "    .wandb-col { display: flex; flex-direction: column; flex-basis: 100%; flex: 1; padding: 10px; }\n",
       "    </style>\n",
       "<div class=\"wandb-row\"><div class=\"wandb-col\"><h3>Run history:</h3><br/><table class=\"wandb\"><tr><td>epoch</td><td>▁▁▁▁▂▂▂▂▂▃▃▃▃▃▃▄▄▄▄▄▅▅▅▅▅▅▆▆▆▆▆▇▇▇▇▇▇███</td></tr><tr><td>grad_2.0_norm/0.bias</td><td>█▂▃▂▂▂▃▂▂▁▁▁▂▂▂▁▂▂▁▁▂▂▂▂▁▁▁▂▃▁▁▁▁▁▂▁▁▂▁▁</td></tr><tr><td>grad_2.0_norm/0.bn1.bias</td><td>█▂▄▂▂▄▇▂▄▅█▁▃▂▅▁▇▂▁▁▃▂▆▄▄▄▂▂▄▄▂▁▁▂▂▁▁▆▁▂</td></tr><tr><td>grad_2.0_norm/0.bn1.weight</td><td>█▁▃▂▂▄▅▂▃▄▆▂▁▃▃▁▇▁▁▁▂▂▅█▇▂▁▄▄▂▁▁▁▂▃▁▂▆▂▁</td></tr><tr><td>grad_2.0_norm/0.conv1.weight</td><td>█▂▃▂▂▇▃▂▃▃▅▂▁▂▂▂▄▁▁▁▂▁▂▄▃▂▁▃▂▂▁▂▁▁▂▁▁▃▁▁</td></tr><tr><td>grad_2.0_norm/0.layer1.0.bn1.bias</td><td>▇▃▆▃▂▄▇▂▄▅▇▂▃▂▅▂█▂▁▂▃▂▄▄▄▄▂▃▄▄▂▂▁▂▂▁▂▄▂▁</td></tr><tr><td>grad_2.0_norm/0.layer1.0.bn1.weight</td><td>█▂▃▂▂▆▅▂▃▃▅▁▂▃▃▁▆▁▁▁▂▂▄▇▅▄▁▃▃▂▂▂▁▁▂▁▂▅▂▁</td></tr><tr><td>grad_2.0_norm/0.layer1.0.bn2.bias</td><td>▇▂▄▃▂▄▇▂▄▅█▁▂▂▄▂█▂▁▁▃▂▄▄▄▃▂▃▄▃▂▁▁▂▂▁▁▅▂▁</td></tr><tr><td>grad_2.0_norm/0.layer1.0.bn2.weight</td><td>█▂▄▂▂▅▄▂▃▃▆▁▁▂▃▂▅▁▁▁▂▂▃▅▄▂▁▃▃▂▂▂▁▁▃▁▁▄▂▁</td></tr><tr><td>grad_2.0_norm/0.layer1.0.conv1.weight</td><td>█▁▃▂▂▅▄▂▂▃▆▂▁▃▃▂▄▁▁▁▂▂▃▄▄▄▁▃▂▂▂▂▁▁▂▁▁▄▁▁</td></tr><tr><td>grad_2.0_norm/0.layer1.0.conv2.weight</td><td>█▂▃▂▂▄▄▂▃▃▅▁▁▃▃▁▅▁▁▁▂▂▃▄▃▂▁▃▃▂▂▁▁▁▂▁▁▃▁▁</td></tr><tr><td>grad_2.0_norm/0.layer1.1.bn1.bias</td><td>▆▂▄▄▂▄▄▂▃▄█▁▂▂▃▂▆▁▁▁▂▂▄▄▄▃▁▃▃▂▂▁▁▁▂▁▁▄▁▁</td></tr><tr><td>grad_2.0_norm/0.layer1.1.bn1.weight</td><td>▆▂▄▃▃▅▅▂▃▄█▂▂▂▃▂▅▁▁▁▃▂▃▄▃▃▁▃▃▃▁▁▁▁▂▁▁▅▁▁</td></tr><tr><td>grad_2.0_norm/0.layer1.1.bn2.bias</td><td>█▂▅▃▂▄▇▂▄▄▆▁▂▃▄▂█▂▁▁▃▂▄▃▄▃▁▃▄▃▂▁▁▂▃▁▁▅▁▁</td></tr><tr><td>grad_2.0_norm/0.layer1.1.bn2.weight</td><td>█▂▃▂▂▃▄▂▂▄▇▁▁▂▃▁▄▁▁▁▂▁▃▂▃▂▁▂▂▂▁▁▁▁▂▁▁▄▁▁</td></tr><tr><td>grad_2.0_norm/0.layer1.1.conv1.weight</td><td>█▂▃▂▂▅▃▂▃▃▇▂▁▃▃▁▅▁▁▁▂▂▃▄▃▂▁▃▃▂▁▁▁▁▂▁▁▃▁▁</td></tr><tr><td>grad_2.0_norm/0.layer1.1.conv2.weight</td><td>█▂▃▃▂▄▄▂▃▄▆▂▁▂▃▁▅▁▁▁▂▂▃▃▃▂▁▂▂▂▁▁▁▁▂▁▁▃▁▁</td></tr><tr><td>grad_2.0_norm/0.layer2.0.bn1.bias</td><td>█▂▃▃▂▃▅▂▂▄▅▁▁▂▂▁▆▁▁▁▂▁▃▂▃▂▁▂▂▂▁▁▁▁▂▁▁▃▁▁</td></tr><tr><td>grad_2.0_norm/0.layer2.0.bn1.weight</td><td>█▁▃▂▂▂▃▂▂▄█▁▁▂▂▁▄▁▁▁▂▁▂▂▂▂▁▂▂▂▁▁▁▁▂▁▁▃▁▁</td></tr><tr><td>grad_2.0_norm/0.layer2.0.bn2.bias</td><td>▇▃▆▃▂▄▇▂▄▄▅▁▂▃▄▂█▂▁▁▄▂▄▃▃▂▁▃▄▃▁▁▁▁▃▁▁▅▁▁</td></tr><tr><td>grad_2.0_norm/0.layer2.0.bn2.weight</td><td>█▂▄▂▂▃▄▂▂▄▇▁▂▃▃▂▅▁▁▁▂▁▃▂▃▂▂▂▃▂▂▁▁▁▂▁▁▄▁▁</td></tr><tr><td>grad_2.0_norm/0.layer2.0.conv1.weight</td><td>█▂▂▂▂▃▃▂▂▃▅▁▁▂▂▁▃▁▁▁▁▁▂▂▂▂▁▂▂▁▁▁▁▁▁▁▁▂▁▁</td></tr><tr><td>grad_2.0_norm/0.layer2.0.conv2.weight</td><td>█▂▃▂▂▂▃▂▂▃▅▁▁▂▂▁▄▁▁▁▂▁▂▂▂▂▁▂▂▁▁▁▁▁▂▁▁▂▁▁</td></tr><tr><td>grad_2.0_norm/0.layer2.0.shortcut.0.weight</td><td>█▂▄▃▂▃▄▂▃▃▅▁▂▂▃▁▄▁▁▁▂▁▃▂▂▂▁▂▂▂▁▁▁▁▂▁▁▃▁▁</td></tr><tr><td>grad_2.0_norm/0.layer2.0.shortcut.1.bias</td><td>▇▃▆▃▂▄▇▂▄▄▅▁▂▃▄▂█▂▁▁▄▂▄▃▃▂▁▃▄▃▁▁▁▁▃▁▁▅▁▁</td></tr><tr><td>grad_2.0_norm/0.layer2.0.shortcut.1.weight</td><td>█▂▅▃▂▄▆▂▄▄▇▁▂▃▄▂▆▂▁▁▃▂▄▃▃▂▂▃▃▂▂▁▁▁▃▁▁▆▂▁</td></tr><tr><td>grad_2.0_norm/0.layer2.1.bn1.bias</td><td>█▂▅▃▂▄▄▂▃▃▄▁▂▂▃▁▆▂▁▁▃▁▃▂▂▂▁▂▃▂▁▁▁▁▂▁▁▃▁▁</td></tr><tr><td>grad_2.0_norm/0.layer2.1.bn1.weight</td><td>▇▂▃▂▂▃▄▂▂▄█▁▁▂▃▂▄▁▁▁▂▁▂▂▂▂▁▂▂▂▁▁▁▁▂▁▁▃▁▁</td></tr><tr><td>grad_2.0_norm/0.layer2.1.bn2.bias</td><td>█▃▆▃▂▃▇▂▄▃▄▁▂▃▄▂▇▂▁▁▃▂▃▃▃▂▂▃▅▃▁▁▂▂▃▁▂▄▂▁</td></tr><tr><td>grad_2.0_norm/0.layer2.1.bn2.weight</td><td>█▂▄▂▂▃▅▂▂▄▆▁▁▂▃▂▆▂▁▁▃▂▃▃▃▃▂▃▃▂▂▁▁▁▂▂▁▅▁▁</td></tr><tr><td>grad_2.0_norm/0.layer2.1.conv1.weight</td><td>█▂▃▂▂▃▃▂▂▃▆▁▁▂▂▂▄▁▁▁▂▁▂▂▂▂▁▂▂▁▁▁▁▁▂▁▁▂▁▁</td></tr><tr><td>grad_2.0_norm/0.layer2.1.conv2.weight</td><td>█▂▃▂▂▃▃▂▂▃▆▁▁▂▂▁▄▁▁▁▂▁▂▂▂▂▁▂▂▂▁▁▁▁▂▁▁▃▁▁</td></tr><tr><td>grad_2.0_norm/0.layer3.0.bn1.bias</td><td>█▃▅▃▂▃▆▂▃▂▃▁▂▂▄▂▇▂▁▁▃▂▄▂▃▂▂▃▄▃▁▁▂▂▄▁▂▄▁▁</td></tr><tr><td>grad_2.0_norm/0.layer3.0.bn1.weight</td><td>█▂▄▂▂▃▅▂▃▃▅▁▂▂▃▂▆▂▁▁▃▂▃▃▂▂▂▃▄▂▂▁▁▁▃▂▁▅▁▁</td></tr><tr><td>grad_2.0_norm/0.layer3.0.bn2.bias</td><td>▇▄▇▃▃▃█▂▆▂▃▁▃▂▅▂█▂▁▂▄▂▅▃▃▂▂▃▅▃▂▁▂▂▃▁▂▅▂▁</td></tr><tr><td>grad_2.0_norm/0.layer3.0.bn2.weight</td><td>█▂▃▂▂▃▅▂▃▂▃▁▂▂▃▂▅▂▁▁▂▂▃▂▂▂▂▃▃▂▂▁▁▁▃▂▂▄▁▁</td></tr><tr><td>grad_2.0_norm/0.layer3.0.conv1.weight</td><td>█▂▃▂▂▂▃▂▂▃▄▁▁▂▂▁▄▁▁▁▂▁▂▂▂▂▁▂▂▂▁▁▁▁▂▁▁▂▁▁</td></tr><tr><td>grad_2.0_norm/0.layer3.0.conv2.weight</td><td>█▂▄▂▂▃▄▁▃▂▄▁▂▂▃▂▅▂▁▁▃▂▃▃▂▂▂▃▃▂▁▁▁▁▂▁▁▃▁▁</td></tr><tr><td>grad_2.0_norm/0.layer3.0.shortcut.0.weight</td><td>█▃▅▃▂▂▅▂▃▂▄▁▂▂▃▂▅▂▁▁▃▂▃▂▂▂▂▃▃▂▁▁▁▁▂▁▁▃▁▁</td></tr><tr><td>grad_2.0_norm/0.layer3.0.shortcut.1.bias</td><td>▇▄▇▃▃▃█▂▆▂▃▁▃▂▅▂█▂▁▂▄▂▅▃▃▂▂▃▅▃▂▁▂▂▃▁▂▅▂▁</td></tr><tr><td>grad_2.0_norm/0.layer3.0.shortcut.1.weight</td><td>▇▂▄▂▂▂▆▂▄▂▄▁▂▂▃▂█▂▁▁▃▂▅▃▃▂▂▃▄▃▂▁▁▂▃▂▂▅▂▁</td></tr><tr><td>grad_2.0_norm/0.layer3.1.bn1.bias</td><td>█▂▄▂▂▃▄▁▂▃▃▁▂▂▃▂▆▂▁▁▃▂▃▂▂▂▂▃▄▃▁▁▂▂▃▁▂▃▁▁</td></tr><tr><td>grad_2.0_norm/0.layer3.1.bn1.weight</td><td>█▂▂▂▂▃▃▁▂▂▃▁▁▂▂▂▄▂▁▁▃▂▃▂▂▂▂▃▃▃▁▁▁▁▂▁▁▄▁▁</td></tr><tr><td>grad_2.0_norm/0.layer3.1.bn2.bias</td><td>█▃▆▃▂▃▇▂▄▂▃▁▂▃▄▂▇▂▁▂▄▂▄▃▃▁▂▄▅▄▂▁▂▂▄▁▂▄▂▁</td></tr><tr><td>grad_2.0_norm/0.layer3.1.bn2.weight</td><td>█▂▄▂▂▃▅▂▃▂▄▁▂▂▃▁▅▂▁▂▃▂▄▃▃▂▂▄▄▃▂▂▂▁▃▂▂▆▂▁</td></tr><tr><td>grad_2.0_norm/0.layer3.1.conv1.weight</td><td>█▂▂▂▁▃▃▁▂▂▃▁▁▂▂▁▄▁▁▁▂▁▃▂▂▂▂▂▂▂▁▁▁▁▂▁▁▃▁▁</td></tr><tr><td>grad_2.0_norm/0.layer3.1.conv2.weight</td><td>█▂▃▂▂▃▃▁▂▂▂▁▁▂▂▁▃▁▁▁▂▂▃▂▂▁▂▂▂▂▁▁▁▁▂▁▁▃▁▁</td></tr><tr><td>grad_2.0_norm/0.layer4.0.bn1.bias</td><td>█▃▅▃▂▃▅▂▃▂▃▁▂▃▃▂▅▂▁▂▄▂▄▃▃▂▂▄▅▃▂▂▂▂▄▂▂▄▂▁</td></tr><tr><td>grad_2.0_norm/0.layer4.0.bn1.weight</td><td>█▂▃▂▂▃▅▂▃▂▃▁▂▃▃▂▇▃▁▂▄▃▅▄▃▂▂▅▆▄▃▂▂▂▅▂▂▇▃▂</td></tr><tr><td>grad_2.0_norm/0.layer4.0.bn2.bias</td><td>█▃▅▃▃▂▆▁▃▂▂▁▂▂▂▂▄▁▁▂▂▂▃▂▂▁▂▂▄▂▁▁▁▂▂▂▁▃▂▁</td></tr><tr><td>grad_2.0_norm/0.layer4.0.bn2.weight</td><td>█▃▃▂▂▂▅▂▃▂▃▂▂▃▃▁▄▂▁▂▄▃▄▂▂▂▂▄▄▃▂▁▂▂▄▂▂▇▂▁</td></tr><tr><td>grad_2.0_norm/0.layer4.0.conv1.weight</td><td>█▂▄▂▁▃▄▁▃▂▃▁▂▂▃▂▇▂▁▂▃▂▄▃▃▂▂▄▄▂▂▁▁▁▃▂▁▃▂▁</td></tr><tr><td>grad_2.0_norm/0.layer4.0.conv2.weight</td><td>█▃▅▃▂▃▅▁▃▂▃▂▂▃▃▂▅▂▁▂▃▂▄▂▂▂▂▃▄▃▂▁▁▁▂▂▁▄▂▁</td></tr><tr><td>grad_2.0_norm/0.layer4.0.shortcut.0.weight</td><td>█▄▆▃▂▂▅▁▃▂▂▁▂▂▂▁▅▂▁▁▃▂▃▂▂▁▂▂▄▂▁▁▁▁▂▂▁▃▁▁</td></tr><tr><td>grad_2.0_norm/0.layer4.0.shortcut.1.bias</td><td>█▃▅▃▃▂▆▁▃▂▂▁▂▂▂▂▄▁▁▂▂▂▃▂▂▁▂▂▄▂▁▁▁▂▂▂▁▃▂▁</td></tr><tr><td>grad_2.0_norm/0.layer4.0.shortcut.1.weight</td><td>█▃▅▃▃▂▇▁▄▂▃▁▂▂▃▁▆▂▁▁▃▃▄▂▂▂▂▃▅▂▂▁▁▁▄▂▂▆▂▁</td></tr><tr><td>grad_2.0_norm/0.layer4.1.bn1.bias</td><td>█▂▂▂▁▂▂▁▂▂▂▁▂▂▂▁▃▁▁▁▃▂▂▁▁▂▂▂▃▂▁▁▁▁▂▁▂▂▁▁</td></tr><tr><td>grad_2.0_norm/0.layer4.1.bn1.weight</td><td>█▂▂▂▂▂▂▁▂▂▂▁▁▂▂▁▃▂▁▁▃▂▃▁▁▂▂▂▃▂▂▁▁▁▂▁▂▄▂▁</td></tr><tr><td>grad_2.0_norm/0.layer4.1.bn2.bias</td><td>█▃▄▃▂▂▄▁▂▁▂▁▂▂▂▁▃▁▁▂▂▂▂▁▂▁▂▂▃▂▁▁▁▁▂▁▁▃▂▁</td></tr><tr><td>grad_2.0_norm/0.layer4.1.bn2.weight</td><td>█▂▃▂▂▂▄▁▂▂▂▁▂▂▂▁▃▁▁▂▂▂▃▂▂▂▂▂▂▃▂▁▁▂▂▂▁▅▂▂</td></tr><tr><td>grad_2.0_norm/0.layer4.1.conv1.weight</td><td>█▂▃▂▁▂▃▁▂▂▃▁▂▂▃▂▄▂▁▂▃▂▃▂▂▂▂▃▄▂▁▁▁▁▂▂▁▃▂▁</td></tr><tr><td>grad_2.0_norm/0.layer4.1.conv2.weight</td><td>█▂▃▂▂▂▃▁▂▁▂▁▁▂▂▁▃▁▁▁▂▂▂▂▁▁▁▂▂▂▁▁▁▁▂▁▁▂▁▁</td></tr><tr><td>grad_2.0_norm/0.linear.bias</td><td>█▂▆▄▂▄▃▂▅▁▃▂▂▄▃▂▄▂▁▂▂▂▄▁▂▂▂▂▃▂▂▂▂▃▃▂▁▄▁▁</td></tr><tr><td>grad_2.0_norm/0.linear.weight</td><td>█▃▃▂▂▂▄▁▂▂▂▁▂▂▂▁▃▁▁▁▂▂▃▂▁▁▂▂▃▂▁▁▁▁▂▁▁▄▂▁</td></tr><tr><td>grad_2.0_norm/0.weight</td><td>█▂▂▁▂▁▃▁▂▁▂▁▁▁▁▁▂▁▁▁▂▁▂▁▁▁▁▁▂▁▁▁▁▁▂▁▁▃▁▁</td></tr><tr><td>grad_2.0_norm/1.bias</td><td>▅▅█▂▂▃▆▂▄▁▃▂▂▃▃▂▄▂▁▂▃▂▃▂▂▂▂▃▅▂▂▂▂▃▄▁▁▂▂▁</td></tr><tr><td>grad_2.0_norm/1.weight</td><td>█▂▃▁▂▁▃▁▂▁▂▁▁▁▁▁▂▁▁▁▂▁▁▁▁▁▁▂▂▁▁▁▁▁▂▁▁▃▁▁</td></tr><tr><td>grad_2.0_norm/2.bias</td><td>█▂▄▂▂▁▃▁▅▂▃▁▂▂▂▁▃▂▁▁▂▂▂▂▂▁▃▂▂▂▁▁▁▂▂▁▁▂▁▁</td></tr><tr><td>grad_2.0_norm/2.weight</td><td>█▂▆▂▅▃▆▃▄▄▃▃▃▄▃▁▆▂▂▂▃▂▄▂▂▃▃▃▅▂▂▁▂▃▄▂▂▇▂▂</td></tr><tr><td>grad_2.0_norm/3.conv1.conv.bias</td><td>█▁▃▃▃▂▅▂▅▂▁▂▁▃▁▂▂▂▁▁▂▂▁▁▂▁▁▂▂▁▁▁▁▁▁▁▁▂▁▁</td></tr><tr><td>grad_2.0_norm/3.conv1.conv.weight</td><td>█▄▅▄▂▂▂▂▂▁▂▂▂▂▁▁▂▁▁▁▁▁▁▁▁▁▁▁▁▁▁▁▁▁▁▁▁▁▁▁</td></tr><tr><td>grad_2.0_norm/3.layer1.0.bn1.bias</td><td>█▂▂▂▂▂▄▂▄▁▂▂▁▂▁▁▁▁▁▁▂▁▁▁▁▁▁▁▁▁▁▁▁▁▁▁▁▁▁▁</td></tr><tr><td>grad_2.0_norm/3.layer1.0.bn1.weight</td><td>█▄▅▄▂▂▃▂▃▁▂▂▁▂▁▁▁▁▁▁▁▁▁▁▁▁▁▁▁▁▁▁▁▁▁▁▁▁▁▁</td></tr><tr><td>grad_2.0_norm/3.layer1.0.bn2.bias</td><td>█▂▃▂▂▂▄▂▄▁▂▂▁▂▂▁▂▁▁▁▂▁▁▁▁▁▁▁▂▁▁▁▁▁▂▁▁▁▁▁</td></tr><tr><td>grad_2.0_norm/3.layer1.0.bn2.weight</td><td>█▂▂▁▂▁▃▁▂▁▂▁▁▁▂▁▂▁▁▁▂▁▁▁▁▁▁▁▁▁▁▁▁▁▁▁▁▁▁▁</td></tr><tr><td>grad_2.0_norm/3.layer1.0.conv1.weight</td><td>█▂▂▂▁▁▂▁▂▁▂▁▁▂▁▁▂▁▁▁▁▁▁▁▁▁▁▁▁▁▁▁▁▁▁▁▁▁▁▁</td></tr><tr><td>grad_2.0_norm/3.layer1.0.conv2.weight</td><td>█▂▂▂▂▁▂▁▂▁▂▁▁▂▂▁▂▁▁▁▂▁▁▁▁▁▁▁▁▁▁▁▁▁▁▁▁▁▁▁</td></tr><tr><td>grad_2.0_norm/3.layer1.1.bn1.bias</td><td>█▂▃▂▃▂▄▂▄▁▂▂▁▂▁▁▁▁▁▁▁▁▁▁▁▁▁▁▁▁▁▁▁▁▁▁▁▁▁▁</td></tr><tr><td>grad_2.0_norm/3.layer1.1.bn1.weight</td><td>█▅▆▄▂▂▃▂▃▁▂▂▂▂▁▁▁▁▁▁▁▁▁▁▁▁▁▁▁▁▁▁▁▁▁▁▁▁▁▁</td></tr><tr><td>grad_2.0_norm/3.layer1.1.bn2.bias</td><td>█▂▄▂▂▂▅▂▆▁▆▃▂▅▃▂▂▁▁▂▂▁▁▂▂▁▂▂▂▁▁▁▁▁▂▁▁▁▁▁</td></tr><tr><td>grad_2.0_norm/3.layer1.1.bn2.weight</td><td>█▂▂▁▁▂▂▁▂▁▄▂▂▃▂▁▁▁▁▁▂▁▁▂▁▁▁▁▁▁▁▁▁▁▁▁▁▁▁▁</td></tr><tr><td>grad_2.0_norm/3.layer1.1.conv1.weight</td><td>█▂▂▂▁▂▃▂▃▁▃▂▁▂▂▁▂▁▁▁▂▁▁▂▁▁▁▁▁▁▁▁▁▁▂▁▁▁▁▁</td></tr><tr><td>grad_2.0_norm/3.layer1.1.conv2.weight</td><td>█▂▁▂▁▁▂▁▂▁▃▂▁▂▂▁▁▁▁▁▂▁▁▁▁▁▁▁▁▁▁▁▁▁▁▁▁▁▁▁</td></tr><tr><td>grad_2.0_norm/3.layer2.0.bn1.bias</td><td>█▂▄▂▃▂▅▂▇▂▅▂▂▄▃▂▄▁▁▁▃▂▂▂▁▁▂▃▂▁▂▂▁▁▂▁▁▂▁▁</td></tr><tr><td>grad_2.0_norm/3.layer2.0.bn1.weight</td><td>█▂▃▃▂▃▅▂▅▂▆▂▃▂▄▂▄▁▁▁▃▂▂▃▂▂▃▂▂▂▁▂▁▁▃▂▂▃▂▂</td></tr><tr><td>grad_2.0_norm/3.layer2.0.bn2.bias</td><td>█▂▄▂▃▂▄▂▅▂▄▂▂▃▂▂▃▁▁▁▃▂▂▃▂▁▂▂▂▁▁▁▁▁▃▁▁▂▁▁</td></tr><tr><td>grad_2.0_norm/3.layer2.0.bn2.weight</td><td>█▂▅▃▃▂▂▂▃▂▄▁▂▃▃▂▃▁▁▁▄▃▂▃▂▁▂▂▁▂▁▁▁▂▃▂▁▃▁▁</td></tr><tr><td>grad_2.0_norm/3.layer2.0.conv1.weight</td><td>█▃▅▄▃▃▃▂▅▂▄▂▂▃▂▂▃▁▁▁▃▂▂▂▂▂▂▂▂▁▁▁▁▁▃▁▁▂▁▁</td></tr><tr><td>grad_2.0_norm/3.layer2.0.conv2.weight</td><td>█▂▅▃▃▂▂▂▃▂▄▁▂▃▂▁▂▁▁▁▂▁▂▂▁▂▂▂▂▁▁▁▁▁▃▁▁▂▁▁</td></tr><tr><td>grad_2.0_norm/3.layer2.1.bn1.bias</td><td>█▂▂▂▂▂▄▂▄▁▁▂▁▂▁▁▁▁▁▁▂▁▁▁▁▁▁▁▁▁▁▁▁▁▁▁▁▁▁▁</td></tr><tr><td>grad_2.0_norm/3.layer2.1.bn1.weight</td><td>█▄▅▄▂▂▃▂▃▁▂▂▁▂▁▁▁▁▁▁▁▁▁▁▁▁▁▁▁▁▁▁▁▁▁▁▁▁▁▁</td></tr><tr><td>grad_2.0_norm/3.layer2.1.bn2.bias</td><td>█▂▃▂▃▂▄▂▄▂▃▂▂▃▂▁▃▁▁▁▃▂▁▂▁▁▂▂▂▁▁▁▁▁▂▁▁▁▁▁</td></tr><tr><td>grad_2.0_norm/3.layer2.1.bn2.weight</td><td>█▂▃▃▃▂▃▁▃▁▃▁▂▂▂▁▂▁▁▁▃▂▁▂▁▁▂▁▁▁▁▁▁▁▂▁▁▂▁▁</td></tr><tr><td>grad_2.0_norm/3.layer2.1.conv1.conv.bias</td><td>█▂▂▁▂▁▂▁▂▁▁▁▁▂▁▁▁▁▁▁▁▁▁▁▁▁▁▁▁▁▁▁▁▁▁▁▁▁▁▁</td></tr><tr><td>grad_2.0_norm/3.layer2.1.conv1.conv.weight</td><td>█▂▃▃▂▂▂▂▃▁▂▁▁▂▂▁▂▁▁▁▂▁▁▁▁▁▁▁▁▁▁▁▁▁▁▁▁▁▁▁</td></tr><tr><td>grad_2.0_norm/3.layer2.1.conv2.weight</td><td>█▃▄▃▃▂▃▂▃▂▃▁▂▂▂▁▂▁▁▁▂▁▁▁▁▁▂▁▁▁▁▁▁▁▂▁▁▁▁▁</td></tr><tr><td>grad_2.0_norm/3.layer2.1.shortcut.0.conv.bias</td><td>█▂▂▂▂▁▂▁▃▁▁▁▁▂▁▁▁▁▁▁▁▁▁▁▁▁▁▁▁▁▁▁▁▁▁▁▁▁▁▁</td></tr><tr><td>grad_2.0_norm/3.layer2.1.shortcut.0.conv.weight</td><td>█▃▄▃▂▃▃▂▃▁▃▂▂▂▂▂▃▁▁▁▂▁▁▂▁▁▂▂▂▁▁▁▁▁▂▁▁▂▁▁</td></tr><tr><td>grad_2.0_norm/3.layer2.1.shortcut.1.bias</td><td>█▂▂▂▂▂▄▂▄▁▁▂▁▂▁▁▁▁▁▁▂▁▁▁▁▁▁▁▁▁▁▁▁▁▁▁▁▁▁▁</td></tr><tr><td>grad_2.0_norm/3.layer2.1.shortcut.1.weight</td><td>█▄▅▄▂▂▃▂▃▁▂▂▁▂▂▁▁▁▁▁▂▁▁▁▁▁▁▁▁▁▁▁▁▁▁▁▁▁▁▁</td></tr><tr><td>grad_2.0_norm/3.layer3.0.bn1.bias</td><td>█▂▅▂▃▁▃▂▅▁▅▁▂▃▃▂▄▁▁▁▃▂▃▂▂▁▃▃▃▂▂▁▂▁▃▁▂▂▂▁</td></tr><tr><td>grad_2.0_norm/3.layer3.0.bn1.weight</td><td>█▃▅▂▂▂▄▃▄▃▆▁▂▃▄▂▄▁▁▁▄▃▂▃▂▂▄▃▃▂▂▂▂▁▃▂▃▃▁▂</td></tr><tr><td>grad_2.0_norm/3.layer3.0.bn2.bias</td><td>▇▂▆▂▃▂▄▂█▂▅▁▂▄▃▁▄▁▁▁▄▃▃▃▂▁▄▄▄▃▂▁▂▂▃▂▂▃▃▁</td></tr><tr><td>grad_2.0_norm/3.layer3.0.bn2.weight</td><td>█▂▆▂▃▃▄▃▆▃▆▁▂▄▃▂▃▂▁▁▅▃▃▃▃▂▄▅▄▅▂▂▃▂▄▂▂▄▃▂</td></tr><tr><td>grad_2.0_norm/3.layer3.0.conv1.weight</td><td>█▃▅▂▃▂▄▂▅▂▅▁▂▃▃▁▃▁▁▁▃▂▃▃▂▂▃▃▃▂▁▁▁▁▃▂▂▃▁▁</td></tr><tr><td>grad_2.0_norm/3.layer3.0.conv2.weight</td><td>█▂▆▂▃▂▄▂▄▂▅▁▂▃▂▁▄▂▁▁▄▂▃▃▂▂▃▄▃▂▁▁▁▂▂▁▂▃▂▁</td></tr><tr><td>grad_2.0_norm/3.layer3.1.bn1.bias</td><td>█▃▃▂▃▁▄▂▆▂▅▂▂▃▃▂▄▁▁▁▂▂▂▂▁▁▂▂▂▁▁▂▁▁▂▁▁▂▁▁</td></tr><tr><td>grad_2.0_norm/3.layer3.1.bn1.weight</td><td>█▃▅▃▂▂▄▂▄▂▄▂▃▃▃▂▄▁▁▁▂▁▂▃▂▂▃▂▂▁▁▂▁▁▄▁▂▃▁▁</td></tr><tr><td>grad_2.0_norm/3.layer3.1.bn2.bias</td><td>█▂▃▁▃▂▃▂▄▂▅▁▂▂▃▂▃▁▁▁▂▂▂▂▁▁▂▂▂▁▁▁▁▁▂▁▁▂▁▁</td></tr><tr><td>grad_2.0_norm/3.layer3.1.bn2.weight</td><td>█▃▄▂▃▂▃▂▄▂▅▁▂▂▃▂▂▁▁▁▃▂▂▂▁▂▂▂▂▂▁▁▁▁▂▁▁▂▁▁</td></tr><tr><td>grad_2.0_norm/3.layer3.1.conv1.conv.bias</td><td>█▄█▂▂▂▅▂▅▁▃▂▂▄▂▁▃▂▁▁▃▂▂▂▁▁▃▂▃▂▁▁▂▁▃▁▁▂▂▁</td></tr><tr><td>grad_2.0_norm/3.layer3.1.conv1.conv.weight</td><td>█▄▄▂▂▂▃▂▄▂▃▁▂▂▂▂▂▁▁▁▂▁▁▂▁▁▂▂▂▁▁▁▁▁▂▁▁▂▁▁</td></tr><tr><td>grad_2.0_norm/3.layer3.1.conv2.weight</td><td>█▅▅▃▃▂▄▂▆▂▆▁▂▃▃▂▃▁▁▁▃▂▂▂▁▂▃▃▂▁▁▁▁▁▂▁▂▂▁▁</td></tr><tr><td>grad_2.0_norm/3.layer3.1.shortcut.0.conv.bias</td><td>█▃▇▃▂▂▄▂▆▁▃▂▂▄▂▂▄▁▁▁▃▂▄▂▂▂▃▃▄▂▂▁▁▂▅▂▂▃▁▁</td></tr><tr><td>grad_2.0_norm/3.layer3.1.shortcut.0.conv.weight</td><td>█▃▄▂▃▂▂▂▃▂▃▁▂▂▂▂▃▁▁▁▂▂▂▂▂▁▂▂▂▁▁▁▁▁▂▁▁▂▁▁</td></tr><tr><td>grad_2.0_norm/3.layer3.1.shortcut.1.bias</td><td>█▃▃▂▃▁▄▂▆▂▅▂▂▃▃▂▄▁▁▁▂▂▂▂▁▁▂▂▂▁▁▂▁▁▂▁▁▂▁▁</td></tr><tr><td>grad_2.0_norm/3.layer3.1.shortcut.1.weight</td><td>█▃▄▂▃▂▅▂▅▂▆▁▃▃▄▂▅▁▁▁▃▁▂▃▂▂▄▂▂▂▁▂▁▁▄▂▁▃▁▂</td></tr><tr><td>grad_2.0_norm/3.layer4.0.bn1.bias</td><td>█▃▆▃▂▁▆▂▇▁▃▂▂▄▃▂▆▂▁▁▄▂▅▂▂▁▂▃▅▂▁▁▁▂▃▁▁▄▂▁</td></tr><tr><td>grad_2.0_norm/3.layer4.0.bn1.weight</td><td>▇▃▇▂▃▂▆▂█▂▄▂▂▄▃▁▆▂▁▂▅▃▄▃▂▂▃▅▄▃▂▁▁▂▄▁▁▅▂▁</td></tr><tr><td>grad_2.0_norm/3.layer4.0.bn2.bias</td><td>█▃▄▃▂▁▅▁▆▁▂▁▂▃▂▂▄▂▁▁▃▂▃▂▂▁▂▃▃▂▂▁▁▁▂▁▁▄▂▁</td></tr><tr><td>grad_2.0_norm/3.layer4.0.bn2.weight</td><td>█▃▆▂▃▂▇▂▇▂▃▂▂▄▃▂▆▂▁▁▃▂▃▂▂▂▂▂▃▂▂▁▁▂▃▁▁▅▂▂</td></tr><tr><td>grad_2.0_norm/3.layer4.0.conv1.weight</td><td>█▄▇▃▃▂▆▂█▂▄▂▂▄▃▁▅▂▁▁▄▂▃▂▂▂▂▃▄▂▁▁▁▂▃▁▁▄▂▁</td></tr><tr><td>grad_2.0_norm/3.layer4.0.conv2.weight</td><td>█▄█▃▃▂▄▂▄▂▂▁▂▂▂▁▃▂▁▁▂▁▂▁▁▁▂▃▃▂▁▁▁▂▂▁▁▃▂▁</td></tr><tr><td>grad_2.0_norm/3.layer4.1.bn1.bias</td><td>█▃▅▂▃▂▃▂▅▁▅▁▂▄▄▂▄▁▁▁▄▃▄▃▂▁▃▄▄▂▂▁▂▂▃▂▂▃▂▁</td></tr><tr><td>grad_2.0_norm/3.layer4.1.bn1.weight</td><td>█▃▅▂▃▂▄▂▅▂▆▁▃▄▄▂▄▂▁▁▅▂▃▃▂▂▃▄▃▃▁▁▂▂▄▂▂▄▂▁</td></tr><tr><td>grad_2.0_norm/3.layer4.1.bn2.bias</td><td>█▃▆▂▃▁▅▂▇▁▄▂▂▄▄▁▅▂▁▁▄▃▅▃▂▁▃▅▅▂▁▁▂▂▃▁▁▄▂▁</td></tr><tr><td>grad_2.0_norm/3.layer4.1.bn2.weight</td><td>█▃▆▂▃▂▅▂█▃▆▁▂▅▄▂▆▃▁▂▅▃▄▄▂▂▄▆▆▃▂▂▂▂▄▁▂▅▂▂</td></tr><tr><td>grad_2.0_norm/3.layer4.1.conv1.conv.bias</td><td>█▆█▄▄▂▆▂█▂▇▂▂▆▄▃▇▃▁▁▄▃▅▃▄▂▄▇▆▃▂▁▃▄▅▃▂▄▂▁</td></tr><tr><td>grad_2.0_norm/3.layer4.1.conv1.conv.weight</td><td>█▃▆▂▃▂▄▂▇▂▅▂▂▄▄▁▅▂▁▁▄▂▃▃▂▂▄▄▄▂▁▁▁▂▃▁▁▃▁▁</td></tr><tr><td>grad_2.0_norm/3.layer4.1.conv2.weight</td><td>█▃▇▃▃▂▆▂▇▂▄▂▂▄▄▁▅▃▁▂▄▃▄▃▂▂▃▄▄▂▁▁▁▂▃▁▁▃▂▁</td></tr><tr><td>grad_2.0_norm/3.layer4.1.shortcut.0.conv.bias</td><td>▇▃█▃▂▂▅▂▇▁▄▂▂▅▂▁▅▂▁▁▂▂▅▃▂▁▄▄▄▃▁▁▂▃▄▂▁▃▂▁</td></tr><tr><td>grad_2.0_norm/3.layer4.1.shortcut.0.conv.weight</td><td>█▄▇▂▃▂▄▂▇▁▄▂▂▃▃▁▄▂▁▁▃▂▃▃▂▂▂▃▃▂▁▁▁▁▂▁▁▃▁▁</td></tr><tr><td>grad_2.0_norm/3.layer4.1.shortcut.1.bias</td><td>█▃▅▂▃▂▃▂▅▁▅▁▂▄▄▂▄▁▁▁▄▃▄▃▂▁▃▄▄▂▂▁▂▂▃▂▂▃▂▁</td></tr><tr><td>grad_2.0_norm/3.layer4.1.shortcut.1.weight</td><td>█▃▅▂▃▂▄▂▆▂▆▁▂▃▅▂▄▁▁▁▅▃▄▃▂▂▃▄▃▂▁▁▂▁▃▁▁▃▂▁</td></tr><tr><td>grad_2.0_norm/3.linear.bias</td><td>█▃▆▃▂▁▆▂▇▂▃▂▂▃▃▂▅▂▁▁▄▂▅▂▂▁▃▃▄▃▁▁▁▂▃▁▁▄▂▁</td></tr><tr><td>grad_2.0_norm/3.linear.weight</td><td>█▃▇▂▄▂▆▃▆▃▄▂▂▄▃▁▆▂▂▂▄▂▃▂▂▂▃▃▅▂▂▁▁▂▄▁▂▇▂▂</td></tr><tr><td>grad_2.0_norm/3.linear_out.bias</td><td>█▄▅▄▄▃▆▄▇▂▃▄▃▅▂▂▃▃▃▃▄▂▄▂▂▁▃▃▃▂▂▂▂▁▁▁▁▃▂▁</td></tr><tr><td>grad_2.0_norm/3.linear_out.weight</td><td>▇▄▄▃▃▃█▄▇▃▄▃▂▄▃▂▃▃▂▂▃▂▃▂▂▂▃▂▂▂▁▁▁▁▁▁▁▁▁▁</td></tr><tr><td>grad_2.0_norm_total</td><td>█▄▅▄▂▂▂▂▂▁▂▂▂▂▁▁▂▁▁▁▁▁▁▁▁▁▁▁▁▁▁▁▁▁▁▁▁▁▁▁</td></tr><tr><td>train_loss</td><td>█▂▂▃▂▃▂▃▂▂▂▃▂▂▂▂▂▂▁▂▂▂▁▂▁▁▂▂▁▁▁▂▁▁▁▁▁▁▁▁</td></tr><tr><td>trainer/global_step</td><td>▁▁▁▂▂▂▂▂▂▃▃▃▃▃▄▄▄▄▄▄▅▅▅▅▅▅▆▆▆▆▆▇▇▇▇▇▇███</td></tr><tr><td>val_loss</td><td>█▂▂▂▂▁▁▁▁▁▁▁▁▁▁▁▁▁▁▁▁▁▁▁▁▁▁▁▁▁▁▁▁▁▁▁▁▁▁▁</td></tr></table><br/></div><div class=\"wandb-col\"><h3>Run summary:</h3><br/><table class=\"wandb\"><tr><td>epoch</td><td>99</td></tr><tr><td>grad_2.0_norm/0.bias</td><td>0.0</td></tr><tr><td>grad_2.0_norm/0.bn1.bias</td><td>0.0002</td></tr><tr><td>grad_2.0_norm/0.bn1.weight</td><td>0.00016</td></tr><tr><td>grad_2.0_norm/0.conv1.weight</td><td>0.00053</td></tr><tr><td>grad_2.0_norm/0.layer1.0.bn1.bias</td><td>0.00012</td></tr><tr><td>grad_2.0_norm/0.layer1.0.bn1.weight</td><td>0.00012</td></tr><tr><td>grad_2.0_norm/0.layer1.0.bn2.bias</td><td>0.00014</td></tr><tr><td>grad_2.0_norm/0.layer1.0.bn2.weight</td><td>0.00012</td></tr><tr><td>grad_2.0_norm/0.layer1.0.conv1.weight</td><td>0.00057</td></tr><tr><td>grad_2.0_norm/0.layer1.0.conv2.weight</td><td>0.00115</td></tr><tr><td>grad_2.0_norm/0.layer1.1.bn1.bias</td><td>0.00011</td></tr><tr><td>grad_2.0_norm/0.layer1.1.bn1.weight</td><td>0.00013</td></tr><tr><td>grad_2.0_norm/0.layer1.1.bn2.bias</td><td>8e-05</td></tr><tr><td>grad_2.0_norm/0.layer1.1.bn2.weight</td><td>0.00015</td></tr><tr><td>grad_2.0_norm/0.layer1.1.conv1.weight</td><td>0.00102</td></tr><tr><td>grad_2.0_norm/0.layer1.1.conv2.weight</td><td>0.00114</td></tr><tr><td>grad_2.0_norm/0.layer2.0.bn1.bias</td><td>0.00011</td></tr><tr><td>grad_2.0_norm/0.layer2.0.bn1.weight</td><td>0.00012</td></tr><tr><td>grad_2.0_norm/0.layer2.0.bn2.bias</td><td>0.00012</td></tr><tr><td>grad_2.0_norm/0.layer2.0.bn2.weight</td><td>0.00013</td></tr><tr><td>grad_2.0_norm/0.layer2.0.conv1.weight</td><td>0.00085</td></tr><tr><td>grad_2.0_norm/0.layer2.0.conv2.weight</td><td>0.00128</td></tr><tr><td>grad_2.0_norm/0.layer2.0.shortcut.0.weight</td><td>0.00131</td></tr><tr><td>grad_2.0_norm/0.layer2.0.shortcut.1.bias</td><td>0.00012</td></tr><tr><td>grad_2.0_norm/0.layer2.0.shortcut.1.weight</td><td>0.00018</td></tr><tr><td>grad_2.0_norm/0.layer2.1.bn1.bias</td><td>8e-05</td></tr><tr><td>grad_2.0_norm/0.layer2.1.bn1.weight</td><td>9e-05</td></tr><tr><td>grad_2.0_norm/0.layer2.1.bn2.bias</td><td>9e-05</td></tr><tr><td>grad_2.0_norm/0.layer2.1.bn2.weight</td><td>0.00012</td></tr><tr><td>grad_2.0_norm/0.layer2.1.conv1.weight</td><td>0.00108</td></tr><tr><td>grad_2.0_norm/0.layer2.1.conv2.weight</td><td>0.00112</td></tr><tr><td>grad_2.0_norm/0.layer3.0.bn1.bias</td><td>9e-05</td></tr><tr><td>grad_2.0_norm/0.layer3.0.bn1.weight</td><td>0.00011</td></tr><tr><td>grad_2.0_norm/0.layer3.0.bn2.bias</td><td>0.00013</td></tr><tr><td>grad_2.0_norm/0.layer3.0.bn2.weight</td><td>0.00014</td></tr><tr><td>grad_2.0_norm/0.layer3.0.conv1.weight</td><td>0.00122</td></tr><tr><td>grad_2.0_norm/0.layer3.0.conv2.weight</td><td>0.00114</td></tr><tr><td>grad_2.0_norm/0.layer3.0.shortcut.0.weight</td><td>0.0014</td></tr><tr><td>grad_2.0_norm/0.layer3.0.shortcut.1.bias</td><td>0.00013</td></tr><tr><td>grad_2.0_norm/0.layer3.0.shortcut.1.weight</td><td>0.00019</td></tr><tr><td>grad_2.0_norm/0.layer3.1.bn1.bias</td><td>9e-05</td></tr><tr><td>grad_2.0_norm/0.layer3.1.bn1.weight</td><td>0.0001</td></tr><tr><td>grad_2.0_norm/0.layer3.1.bn2.bias</td><td>0.00011</td></tr><tr><td>grad_2.0_norm/0.layer3.1.bn2.weight</td><td>9e-05</td></tr><tr><td>grad_2.0_norm/0.layer3.1.conv1.weight</td><td>0.00092</td></tr><tr><td>grad_2.0_norm/0.layer3.1.conv2.weight</td><td>0.00079</td></tr><tr><td>grad_2.0_norm/0.layer4.0.bn1.bias</td><td>0.00013</td></tr><tr><td>grad_2.0_norm/0.layer4.0.bn1.weight</td><td>0.0001</td></tr><tr><td>grad_2.0_norm/0.layer4.0.bn2.bias</td><td>0.00013</td></tr><tr><td>grad_2.0_norm/0.layer4.0.bn2.weight</td><td>0.00012</td></tr><tr><td>grad_2.0_norm/0.layer4.0.conv1.weight</td><td>0.00095</td></tr><tr><td>grad_2.0_norm/0.layer4.0.conv2.weight</td><td>0.00066</td></tr><tr><td>grad_2.0_norm/0.layer4.0.shortcut.0.weight</td><td>0.00104</td></tr><tr><td>grad_2.0_norm/0.layer4.0.shortcut.1.bias</td><td>0.00013</td></tr><tr><td>grad_2.0_norm/0.layer4.0.shortcut.1.weight</td><td>0.00014</td></tr><tr><td>grad_2.0_norm/0.layer4.1.bn1.bias</td><td>9e-05</td></tr><tr><td>grad_2.0_norm/0.layer4.1.bn1.weight</td><td>7e-05</td></tr><tr><td>grad_2.0_norm/0.layer4.1.bn2.bias</td><td>0.00012</td></tr><tr><td>grad_2.0_norm/0.layer4.1.bn2.weight</td><td>0.0002</td></tr><tr><td>grad_2.0_norm/0.layer4.1.conv1.weight</td><td>0.00043</td></tr><tr><td>grad_2.0_norm/0.layer4.1.conv2.weight</td><td>0.00043</td></tr><tr><td>grad_2.0_norm/0.linear.bias</td><td>0.0</td></tr><tr><td>grad_2.0_norm/0.linear.weight</td><td>0.00317</td></tr><tr><td>grad_2.0_norm/0.weight</td><td>0.00095</td></tr><tr><td>grad_2.0_norm/1.bias</td><td>0.0</td></tr><tr><td>grad_2.0_norm/1.weight</td><td>0.00423</td></tr><tr><td>grad_2.0_norm/2.bias</td><td>0.00039</td></tr><tr><td>grad_2.0_norm/2.weight</td><td>0.00078</td></tr><tr><td>grad_2.0_norm/3.conv1.conv.bias</td><td>0.00243</td></tr><tr><td>grad_2.0_norm/3.conv1.conv.weight</td><td>0.02139</td></tr><tr><td>grad_2.0_norm/3.layer1.0.bn1.bias</td><td>0.00157</td></tr><tr><td>grad_2.0_norm/3.layer1.0.bn1.weight</td><td>0.00041</td></tr><tr><td>grad_2.0_norm/3.layer1.0.bn2.bias</td><td>0.00039</td></tr><tr><td>grad_2.0_norm/3.layer1.0.bn2.weight</td><td>0.00021</td></tr><tr><td>grad_2.0_norm/3.layer1.0.conv1.weight</td><td>0.00105</td></tr><tr><td>grad_2.0_norm/3.layer1.0.conv2.weight</td><td>0.00094</td></tr><tr><td>grad_2.0_norm/3.layer1.1.bn1.bias</td><td>0.00149</td></tr><tr><td>grad_2.0_norm/3.layer1.1.bn1.weight</td><td>0.00034</td></tr><tr><td>grad_2.0_norm/3.layer1.1.bn2.bias</td><td>0.00019</td></tr><tr><td>grad_2.0_norm/3.layer1.1.bn2.weight</td><td>9e-05</td></tr><tr><td>grad_2.0_norm/3.layer1.1.conv1.weight</td><td>0.00066</td></tr><tr><td>grad_2.0_norm/3.layer1.1.conv2.weight</td><td>0.00043</td></tr><tr><td>grad_2.0_norm/3.layer2.0.bn1.bias</td><td>0.00028</td></tr><tr><td>grad_2.0_norm/3.layer2.0.bn1.weight</td><td>0.00017</td></tr><tr><td>grad_2.0_norm/3.layer2.0.bn2.bias</td><td>0.00021</td></tr><tr><td>grad_2.0_norm/3.layer2.0.bn2.weight</td><td>0.00014</td></tr><tr><td>grad_2.0_norm/3.layer2.0.conv1.weight</td><td>0.00057</td></tr><tr><td>grad_2.0_norm/3.layer2.0.conv2.weight</td><td>0.0006</td></tr><tr><td>grad_2.0_norm/3.layer2.1.bn1.bias</td><td>0.00106</td></tr><tr><td>grad_2.0_norm/3.layer2.1.bn1.weight</td><td>0.00035</td></tr><tr><td>grad_2.0_norm/3.layer2.1.bn2.bias</td><td>0.00016</td></tr><tr><td>grad_2.0_norm/3.layer2.1.bn2.weight</td><td>8e-05</td></tr><tr><td>grad_2.0_norm/3.layer2.1.conv1.conv.bias</td><td>0.0</td></tr><tr><td>grad_2.0_norm/3.layer2.1.conv1.conv.weight</td><td>0.0006</td></tr><tr><td>grad_2.0_norm/3.layer2.1.conv2.weight</td><td>0.00038</td></tr><tr><td>grad_2.0_norm/3.layer2.1.shortcut.0.conv.bias</td><td>0.0</td></tr><tr><td>grad_2.0_norm/3.layer2.1.shortcut.0.conv.weight</td><td>0.00138</td></tr><tr><td>grad_2.0_norm/3.layer2.1.shortcut.1.bias</td><td>0.00106</td></tr><tr><td>grad_2.0_norm/3.layer2.1.shortcut.1.weight</td><td>0.00075</td></tr><tr><td>grad_2.0_norm/3.layer3.0.bn1.bias</td><td>0.0002</td></tr><tr><td>grad_2.0_norm/3.layer3.0.bn1.weight</td><td>0.00014</td></tr><tr><td>grad_2.0_norm/3.layer3.0.bn2.bias</td><td>0.00012</td></tr><tr><td>grad_2.0_norm/3.layer3.0.bn2.weight</td><td>9e-05</td></tr><tr><td>grad_2.0_norm/3.layer3.0.conv1.weight</td><td>0.00056</td></tr><tr><td>grad_2.0_norm/3.layer3.0.conv2.weight</td><td>0.00055</td></tr><tr><td>grad_2.0_norm/3.layer3.1.bn1.bias</td><td>0.00029</td></tr><tr><td>grad_2.0_norm/3.layer3.1.bn1.weight</td><td>0.00015</td></tr><tr><td>grad_2.0_norm/3.layer3.1.bn2.bias</td><td>0.00012</td></tr><tr><td>grad_2.0_norm/3.layer3.1.bn2.weight</td><td>8e-05</td></tr><tr><td>grad_2.0_norm/3.layer3.1.conv1.conv.bias</td><td>0.0</td></tr><tr><td>grad_2.0_norm/3.layer3.1.conv1.conv.weight</td><td>0.00038</td></tr><tr><td>grad_2.0_norm/3.layer3.1.conv2.weight</td><td>0.00037</td></tr><tr><td>grad_2.0_norm/3.layer3.1.shortcut.0.conv.bias</td><td>0.0</td></tr><tr><td>grad_2.0_norm/3.layer3.1.shortcut.0.conv.weight</td><td>0.00087</td></tr><tr><td>grad_2.0_norm/3.layer3.1.shortcut.1.bias</td><td>0.00029</td></tr><tr><td>grad_2.0_norm/3.layer3.1.shortcut.1.weight</td><td>0.00027</td></tr><tr><td>grad_2.0_norm/3.layer4.0.bn1.bias</td><td>0.0002</td></tr><tr><td>grad_2.0_norm/3.layer4.0.bn1.weight</td><td>0.00019</td></tr><tr><td>grad_2.0_norm/3.layer4.0.bn2.bias</td><td>0.00016</td></tr><tr><td>grad_2.0_norm/3.layer4.0.bn2.weight</td><td>0.00015</td></tr><tr><td>grad_2.0_norm/3.layer4.0.conv1.weight</td><td>0.00068</td></tr><tr><td>grad_2.0_norm/3.layer4.0.conv2.weight</td><td>0.00041</td></tr><tr><td>grad_2.0_norm/3.layer4.1.bn1.bias</td><td>0.00024</td></tr><tr><td>grad_2.0_norm/3.layer4.1.bn1.weight</td><td>0.00019</td></tr><tr><td>grad_2.0_norm/3.layer4.1.bn2.bias</td><td>0.00014</td></tr><tr><td>grad_2.0_norm/3.layer4.1.bn2.weight</td><td>0.00014</td></tr><tr><td>grad_2.0_norm/3.layer4.1.conv1.conv.bias</td><td>0.0</td></tr><tr><td>grad_2.0_norm/3.layer4.1.conv1.conv.weight</td><td>0.00068</td></tr><tr><td>grad_2.0_norm/3.layer4.1.conv2.weight</td><td>0.00052</td></tr><tr><td>grad_2.0_norm/3.layer4.1.shortcut.0.conv.bias</td><td>0.0</td></tr><tr><td>grad_2.0_norm/3.layer4.1.shortcut.0.conv.weight</td><td>0.00062</td></tr><tr><td>grad_2.0_norm/3.layer4.1.shortcut.1.bias</td><td>0.00024</td></tr><tr><td>grad_2.0_norm/3.layer4.1.shortcut.1.weight</td><td>0.00022</td></tr><tr><td>grad_2.0_norm/3.linear.bias</td><td>0.00021</td></tr><tr><td>grad_2.0_norm/3.linear.weight</td><td>0.00074</td></tr><tr><td>grad_2.0_norm/3.linear_out.bias</td><td>0.00398</td></tr><tr><td>grad_2.0_norm/3.linear_out.weight</td><td>0.00579</td></tr><tr><td>grad_2.0_norm_total</td><td>0.02348</td></tr><tr><td>train_loss</td><td>0.00395</td></tr><tr><td>trainer/global_step</td><td>2799</td></tr><tr><td>val_loss</td><td>0.00867</td></tr></table><br/></div></div>"
      ],
      "text/plain": [
       "<IPython.core.display.HTML object>"
      ]
     },
     "metadata": {},
     "output_type": "display_data"
    },
    {
     "data": {
      "text/html": [
       " View run <strong style=\"color:#cdcd00\">chocolate-wood-10</strong> at: <a href='https://wandb.ai/mostajo-group/1d-constrastive-autoencoder/runs/94c7cp57' target=\"_blank\">https://wandb.ai/mostajo-group/1d-constrastive-autoencoder/runs/94c7cp57</a><br/>Synced 6 W&B file(s), 0 media file(s), 0 artifact file(s) and 0 other file(s)"
      ],
      "text/plain": [
       "<IPython.core.display.HTML object>"
      ]
     },
     "metadata": {},
     "output_type": "display_data"
    },
    {
     "data": {
      "text/html": [
       "Find logs at: <code>./wandb/run-20240519_202423-94c7cp57/logs</code>"
      ],
      "text/plain": [
       "<IPython.core.display.HTML object>"
      ]
     },
     "metadata": {},
     "output_type": "display_data"
    },
    {
     "data": {
      "text/html": [
       "Successfully finished last run (ID:94c7cp57). Initializing new run:<br/>"
      ],
      "text/plain": [
       "<IPython.core.display.HTML object>"
      ]
     },
     "metadata": {},
     "output_type": "display_data"
    },
    {
     "data": {
      "application/vnd.jupyter.widget-view+json": {
       "model_id": "8f59c2f8001f414fa39f9452011f10cd",
       "version_major": 2,
       "version_minor": 0
      },
      "text/plain": [
       "VBox(children=(Label(value='Waiting for wandb.init()...\\r'), FloatProgress(value=0.011112977311091123, max=1.0…"
      ]
     },
     "metadata": {},
     "output_type": "display_data"
    },
    {
     "data": {
      "text/html": [
       "wandb version 0.17.0 is available!  To upgrade, please run:\n",
       " $ pip install wandb --upgrade"
      ],
      "text/plain": [
       "<IPython.core.display.HTML object>"
      ]
     },
     "metadata": {},
     "output_type": "display_data"
    },
    {
     "data": {
      "text/html": [
       "Tracking run with wandb version 0.16.0"
      ],
      "text/plain": [
       "<IPython.core.display.HTML object>"
      ]
     },
     "metadata": {},
     "output_type": "display_data"
    },
    {
     "data": {
      "text/html": [
       "Run data is saved locally in <code>/Users/jesusgf/Desktop/ephys_autoencoder/1d-constrastive-autoencoder/wandb/run-20240519_203311-4rrdoykd</code>"
      ],
      "text/plain": [
       "<IPython.core.display.HTML object>"
      ]
     },
     "metadata": {},
     "output_type": "display_data"
    },
    {
     "data": {
      "text/html": [
       "Syncing run <strong><a href='https://wandb.ai/mostajo-group/1d-constrastive-autoencoder/runs/4rrdoykd' target=\"_blank\">robust-tree-11</a></strong> to <a href='https://wandb.ai/mostajo-group/1d-constrastive-autoencoder' target=\"_blank\">Weights & Biases</a> (<a href='https://wandb.me/run' target=\"_blank\">docs</a>)<br/>"
      ],
      "text/plain": [
       "<IPython.core.display.HTML object>"
      ]
     },
     "metadata": {},
     "output_type": "display_data"
    },
    {
     "data": {
      "text/html": [
       " View project at <a href='https://wandb.ai/mostajo-group/1d-constrastive-autoencoder' target=\"_blank\">https://wandb.ai/mostajo-group/1d-constrastive-autoencoder</a>"
      ],
      "text/plain": [
       "<IPython.core.display.HTML object>"
      ]
     },
     "metadata": {},
     "output_type": "display_data"
    },
    {
     "data": {
      "text/html": [
       " View run at <a href='https://wandb.ai/mostajo-group/1d-constrastive-autoencoder/runs/4rrdoykd' target=\"_blank\">https://wandb.ai/mostajo-group/1d-constrastive-autoencoder/runs/4rrdoykd</a>"
      ],
      "text/plain": [
       "<IPython.core.display.HTML object>"
      ]
     },
     "metadata": {},
     "output_type": "display_data"
    },
    {
     "name": "stderr",
     "output_type": "stream",
     "text": [
      "GPU available: True (mps), used: True\n",
      "TPU available: False, using: 0 TPU cores\n",
      "IPU available: False, using: 0 IPUs\n",
      "HPU available: False, using: 0 HPUs\n",
      "/Users/jesusgf/opt/miniconda3/envs/electro_phys/lib/python3.10/site-packages/pytorch_lightning/loggers/wandb.py:389: There is a wandb run already in progress and newly created instances of `WandbLogger` will reuse this run. If this is not desired, call `wandb.finish()` before instantiating `WandbLogger`.\n",
      "/Users/jesusgf/opt/miniconda3/envs/electro_phys/lib/python3.10/site-packages/pytorch_lightning/callbacks/model_checkpoint.py:639: Checkpoint directory ./unimodal_model/time_model_templates_noise exists and is not empty.\n",
      "\n",
      "  | Name     | Type          | Params\n",
      "-------------------------------------------\n",
      "0 | model    | UnimodalModel | 8.0 M \n",
      "1 | mse_loss | MSELoss       | 0     \n",
      "-------------------------------------------\n",
      "8.0 M     Trainable params\n",
      "0         Non-trainable params\n",
      "8.0 M     Total params\n",
      "32.182    Total estimated model params size (MB)\n"
     ]
    },
    {
     "data": {
      "application/vnd.jupyter.widget-view+json": {
       "model_id": "3de2b8cb66af4dcaaa2e6eec4eeb0a8d",
       "version_major": 2,
       "version_minor": 0
      },
      "text/plain": [
       "Sanity Checking: |          | 0/? [00:00<?, ?it/s]"
      ]
     },
     "metadata": {},
     "output_type": "display_data"
    },
    {
     "name": "stderr",
     "output_type": "stream",
     "text": [
      "/Users/jesusgf/opt/miniconda3/envs/electro_phys/lib/python3.10/site-packages/pytorch_lightning/trainer/connectors/data_connector.py:441: The 'val_dataloader' does not have many workers which may be a bottleneck. Consider increasing the value of the `num_workers` argument` to `num_workers=9` in the `DataLoader` to improve performance.\n",
      "/Users/jesusgf/opt/miniconda3/envs/electro_phys/lib/python3.10/site-packages/pytorch_lightning/trainer/connectors/data_connector.py:441: The 'train_dataloader' does not have many workers which may be a bottleneck. Consider increasing the value of the `num_workers` argument` to `num_workers=9` in the `DataLoader` to improve performance.\n"
     ]
    },
    {
     "name": "stdout",
     "output_type": "stream",
     "text": [
      "Average validation loss is 1.00\n"
     ]
    },
    {
     "data": {
      "application/vnd.jupyter.widget-view+json": {
       "model_id": "f3392598b1834eb5b738bced5f86927b",
       "version_major": 2,
       "version_minor": 0
      },
      "text/plain": [
       "Training: |          | 0/? [00:00<?, ?it/s]"
      ]
     },
     "metadata": {},
     "output_type": "display_data"
    },
    {
     "data": {
      "application/vnd.jupyter.widget-view+json": {
       "model_id": "7c5e37911aa44bac92ce9a6abed6d497",
       "version_major": 2,
       "version_minor": 0
      },
      "text/plain": [
       "Validation: |          | 0/? [00:00<?, ?it/s]"
      ]
     },
     "metadata": {},
     "output_type": "display_data"
    },
    {
     "name": "stdout",
     "output_type": "stream",
     "text": [
      "Average validation loss is 9423.24\n",
      "Average training loss is 1.33\n"
     ]
    },
    {
     "data": {
      "application/vnd.jupyter.widget-view+json": {
       "model_id": "257634ad7f73425e8dde106d495be4b4",
       "version_major": 2,
       "version_minor": 0
      },
      "text/plain": [
       "Validation: |          | 0/? [00:00<?, ?it/s]"
      ]
     },
     "metadata": {},
     "output_type": "display_data"
    },
    {
     "name": "stdout",
     "output_type": "stream",
     "text": [
      "Average validation loss is 3.42\n",
      "Average training loss is 0.71\n"
     ]
    },
    {
     "data": {
      "application/vnd.jupyter.widget-view+json": {
       "model_id": "cc5d1889fe934fb697bd9caed5efe6d3",
       "version_major": 2,
       "version_minor": 0
      },
      "text/plain": [
       "Validation: |          | 0/? [00:00<?, ?it/s]"
      ]
     },
     "metadata": {},
     "output_type": "display_data"
    },
    {
     "name": "stdout",
     "output_type": "stream",
     "text": [
      "Average validation loss is 0.67\n",
      "Average training loss is 0.64\n"
     ]
    },
    {
     "data": {
      "application/vnd.jupyter.widget-view+json": {
       "model_id": "de01623e43924085b239f7bea958b554",
       "version_major": 2,
       "version_minor": 0
      },
      "text/plain": [
       "Validation: |          | 0/? [00:00<?, ?it/s]"
      ]
     },
     "metadata": {},
     "output_type": "display_data"
    },
    {
     "name": "stdout",
     "output_type": "stream",
     "text": [
      "Average validation loss is 56.61\n",
      "Average training loss is 0.51\n"
     ]
    },
    {
     "data": {
      "application/vnd.jupyter.widget-view+json": {
       "model_id": "71c0666f088d4cbd8c66a1b44ef83f74",
       "version_major": 2,
       "version_minor": 0
      },
      "text/plain": [
       "Validation: |          | 0/? [00:00<?, ?it/s]"
      ]
     },
     "metadata": {},
     "output_type": "display_data"
    },
    {
     "name": "stdout",
     "output_type": "stream",
     "text": [
      "Average validation loss is 0.65\n",
      "Average training loss is 0.33\n"
     ]
    },
    {
     "data": {
      "application/vnd.jupyter.widget-view+json": {
       "model_id": "770f2e97a08c4c809dace28e35d2a2b4",
       "version_major": 2,
       "version_minor": 0
      },
      "text/plain": [
       "Validation: |          | 0/? [00:00<?, ?it/s]"
      ]
     },
     "metadata": {},
     "output_type": "display_data"
    },
    {
     "name": "stdout",
     "output_type": "stream",
     "text": [
      "Average validation loss is 1.14\n",
      "Average training loss is 0.27\n"
     ]
    },
    {
     "data": {
      "application/vnd.jupyter.widget-view+json": {
       "model_id": "1129c34b2fe0466991dc5a56f39ae807",
       "version_major": 2,
       "version_minor": 0
      },
      "text/plain": [
       "Validation: |          | 0/? [00:00<?, ?it/s]"
      ]
     },
     "metadata": {},
     "output_type": "display_data"
    },
    {
     "name": "stdout",
     "output_type": "stream",
     "text": [
      "Average validation loss is 4.84\n",
      "Average training loss is 0.28\n"
     ]
    },
    {
     "data": {
      "application/vnd.jupyter.widget-view+json": {
       "model_id": "cb83bffeb2df4981b066531955b06ed9",
       "version_major": 2,
       "version_minor": 0
      },
      "text/plain": [
       "Validation: |          | 0/? [00:00<?, ?it/s]"
      ]
     },
     "metadata": {},
     "output_type": "display_data"
    },
    {
     "name": "stdout",
     "output_type": "stream",
     "text": [
      "Average validation loss is 0.79\n",
      "Average training loss is 0.27\n"
     ]
    },
    {
     "data": {
      "application/vnd.jupyter.widget-view+json": {
       "model_id": "cc12105b30664a3ab74d62a19c254e79",
       "version_major": 2,
       "version_minor": 0
      },
      "text/plain": [
       "Validation: |          | 0/? [00:00<?, ?it/s]"
      ]
     },
     "metadata": {},
     "output_type": "display_data"
    },
    {
     "name": "stdout",
     "output_type": "stream",
     "text": [
      "Average validation loss is 0.67\n",
      "Average training loss is 0.28\n"
     ]
    },
    {
     "data": {
      "application/vnd.jupyter.widget-view+json": {
       "model_id": "1ab8ed5a23864192a4dcc004cd85ea68",
       "version_major": 2,
       "version_minor": 0
      },
      "text/plain": [
       "Validation: |          | 0/? [00:00<?, ?it/s]"
      ]
     },
     "metadata": {},
     "output_type": "display_data"
    },
    {
     "name": "stdout",
     "output_type": "stream",
     "text": [
      "Average validation loss is 1.02\n",
      "Average training loss is 0.40\n"
     ]
    },
    {
     "data": {
      "application/vnd.jupyter.widget-view+json": {
       "model_id": "6351fc3b1bac4bdbbcd382223ef38016",
       "version_major": 2,
       "version_minor": 0
      },
      "text/plain": [
       "Validation: |          | 0/? [00:00<?, ?it/s]"
      ]
     },
     "metadata": {},
     "output_type": "display_data"
    },
    {
     "name": "stdout",
     "output_type": "stream",
     "text": [
      "Average validation loss is 0.93\n",
      "Average training loss is 0.22\n"
     ]
    },
    {
     "data": {
      "application/vnd.jupyter.widget-view+json": {
       "model_id": "77914c4a3fa44fbbbcdf9762276ccc94",
       "version_major": 2,
       "version_minor": 0
      },
      "text/plain": [
       "Validation: |          | 0/? [00:00<?, ?it/s]"
      ]
     },
     "metadata": {},
     "output_type": "display_data"
    },
    {
     "name": "stdout",
     "output_type": "stream",
     "text": [
      "Average validation loss is 0.68\n",
      "Average training loss is 0.20\n"
     ]
    },
    {
     "data": {
      "application/vnd.jupyter.widget-view+json": {
       "model_id": "562f0ae733504affbca4183d5bdbc427",
       "version_major": 2,
       "version_minor": 0
      },
      "text/plain": [
       "Validation: |          | 0/? [00:00<?, ?it/s]"
      ]
     },
     "metadata": {},
     "output_type": "display_data"
    },
    {
     "name": "stdout",
     "output_type": "stream",
     "text": [
      "Average validation loss is 0.75\n",
      "Average training loss is 0.20\n"
     ]
    },
    {
     "data": {
      "application/vnd.jupyter.widget-view+json": {
       "model_id": "9ef4c1547076497a8ce4967cca5ca11c",
       "version_major": 2,
       "version_minor": 0
      },
      "text/plain": [
       "Validation: |          | 0/? [00:00<?, ?it/s]"
      ]
     },
     "metadata": {},
     "output_type": "display_data"
    },
    {
     "name": "stdout",
     "output_type": "stream",
     "text": [
      "Average validation loss is 0.71\n",
      "Average training loss is 0.19\n"
     ]
    },
    {
     "data": {
      "application/vnd.jupyter.widget-view+json": {
       "model_id": "f9f977316c334466bcf093485b775aab",
       "version_major": 2,
       "version_minor": 0
      },
      "text/plain": [
       "Validation: |          | 0/? [00:00<?, ?it/s]"
      ]
     },
     "metadata": {},
     "output_type": "display_data"
    },
    {
     "name": "stdout",
     "output_type": "stream",
     "text": [
      "Average validation loss is 0.82\n",
      "Average training loss is 0.22\n"
     ]
    },
    {
     "data": {
      "application/vnd.jupyter.widget-view+json": {
       "model_id": "609c7dfc2dd149dead9b9f0adab24452",
       "version_major": 2,
       "version_minor": 0
      },
      "text/plain": [
       "Validation: |          | 0/? [00:00<?, ?it/s]"
      ]
     },
     "metadata": {},
     "output_type": "display_data"
    },
    {
     "name": "stdout",
     "output_type": "stream",
     "text": [
      "Average validation loss is 0.75\n",
      "Average training loss is 0.18\n"
     ]
    },
    {
     "data": {
      "application/vnd.jupyter.widget-view+json": {
       "model_id": "93909f381f6f48fab748a920f3316f08",
       "version_major": 2,
       "version_minor": 0
      },
      "text/plain": [
       "Validation: |          | 0/? [00:00<?, ?it/s]"
      ]
     },
     "metadata": {},
     "output_type": "display_data"
    },
    {
     "name": "stdout",
     "output_type": "stream",
     "text": [
      "Average validation loss is 0.66\n",
      "Average training loss is 0.18\n"
     ]
    },
    {
     "data": {
      "application/vnd.jupyter.widget-view+json": {
       "model_id": "25d7876223024d1d942b3e51475cf605",
       "version_major": 2,
       "version_minor": 0
      },
      "text/plain": [
       "Validation: |          | 0/? [00:00<?, ?it/s]"
      ]
     },
     "metadata": {},
     "output_type": "display_data"
    },
    {
     "name": "stdout",
     "output_type": "stream",
     "text": [
      "Average validation loss is 0.54\n",
      "Average training loss is 0.14\n"
     ]
    },
    {
     "data": {
      "application/vnd.jupyter.widget-view+json": {
       "model_id": "b2bd5aa1ee62409a8895b73855f9aa33",
       "version_major": 2,
       "version_minor": 0
      },
      "text/plain": [
       "Validation: |          | 0/? [00:00<?, ?it/s]"
      ]
     },
     "metadata": {},
     "output_type": "display_data"
    },
    {
     "name": "stdout",
     "output_type": "stream",
     "text": [
      "Average validation loss is 0.49\n",
      "Average training loss is 0.13\n"
     ]
    },
    {
     "data": {
      "application/vnd.jupyter.widget-view+json": {
       "model_id": "05e4959acbf6475f8f00667d738e3333",
       "version_major": 2,
       "version_minor": 0
      },
      "text/plain": [
       "Validation: |          | 0/? [00:00<?, ?it/s]"
      ]
     },
     "metadata": {},
     "output_type": "display_data"
    },
    {
     "name": "stdout",
     "output_type": "stream",
     "text": [
      "Average validation loss is 0.55\n",
      "Average training loss is 0.14\n"
     ]
    },
    {
     "data": {
      "application/vnd.jupyter.widget-view+json": {
       "model_id": "cae3051ef7bf4de98da21ef61d42f345",
       "version_major": 2,
       "version_minor": 0
      },
      "text/plain": [
       "Validation: |          | 0/? [00:00<?, ?it/s]"
      ]
     },
     "metadata": {},
     "output_type": "display_data"
    },
    {
     "name": "stdout",
     "output_type": "stream",
     "text": [
      "Average validation loss is 0.52\n",
      "Average training loss is 0.13\n"
     ]
    },
    {
     "data": {
      "application/vnd.jupyter.widget-view+json": {
       "model_id": "ac49a50b171c462c93a0969d03e47ab9",
       "version_major": 2,
       "version_minor": 0
      },
      "text/plain": [
       "Validation: |          | 0/? [00:00<?, ?it/s]"
      ]
     },
     "metadata": {},
     "output_type": "display_data"
    },
    {
     "name": "stdout",
     "output_type": "stream",
     "text": [
      "Average validation loss is 0.58\n",
      "Average training loss is 0.12\n"
     ]
    },
    {
     "data": {
      "application/vnd.jupyter.widget-view+json": {
       "model_id": "bed1e4acf5164c5ca1a48ca7141512fb",
       "version_major": 2,
       "version_minor": 0
      },
      "text/plain": [
       "Validation: |          | 0/? [00:00<?, ?it/s]"
      ]
     },
     "metadata": {},
     "output_type": "display_data"
    },
    {
     "name": "stdout",
     "output_type": "stream",
     "text": [
      "Average validation loss is 0.53\n",
      "Average training loss is 0.12\n"
     ]
    },
    {
     "data": {
      "application/vnd.jupyter.widget-view+json": {
       "model_id": "75ffd14c6893440c8fdd3573ac4325d8",
       "version_major": 2,
       "version_minor": 0
      },
      "text/plain": [
       "Validation: |          | 0/? [00:00<?, ?it/s]"
      ]
     },
     "metadata": {},
     "output_type": "display_data"
    },
    {
     "name": "stdout",
     "output_type": "stream",
     "text": [
      "Average validation loss is 0.60\n",
      "Average training loss is 0.12\n"
     ]
    },
    {
     "data": {
      "application/vnd.jupyter.widget-view+json": {
       "model_id": "ea80173673c9440e9bff460db3b34164",
       "version_major": 2,
       "version_minor": 0
      },
      "text/plain": [
       "Validation: |          | 0/? [00:00<?, ?it/s]"
      ]
     },
     "metadata": {},
     "output_type": "display_data"
    },
    {
     "name": "stdout",
     "output_type": "stream",
     "text": [
      "Average validation loss is 0.62\n",
      "Average training loss is 0.14\n"
     ]
    },
    {
     "data": {
      "application/vnd.jupyter.widget-view+json": {
       "model_id": "264c6cafed1d47489aea50a86cf53a62",
       "version_major": 2,
       "version_minor": 0
      },
      "text/plain": [
       "Validation: |          | 0/? [00:00<?, ?it/s]"
      ]
     },
     "metadata": {},
     "output_type": "display_data"
    },
    {
     "name": "stdout",
     "output_type": "stream",
     "text": [
      "Average validation loss is 0.70\n",
      "Average training loss is 0.16\n"
     ]
    },
    {
     "data": {
      "application/vnd.jupyter.widget-view+json": {
       "model_id": "16d8767913164165a00ca1b080a6c0ae",
       "version_major": 2,
       "version_minor": 0
      },
      "text/plain": [
       "Validation: |          | 0/? [00:00<?, ?it/s]"
      ]
     },
     "metadata": {},
     "output_type": "display_data"
    },
    {
     "name": "stdout",
     "output_type": "stream",
     "text": [
      "Average validation loss is 1.03\n",
      "Average training loss is 0.17\n"
     ]
    },
    {
     "data": {
      "application/vnd.jupyter.widget-view+json": {
       "model_id": "394eb3b4111c4fcbbbac0a196f436764",
       "version_major": 2,
       "version_minor": 0
      },
      "text/plain": [
       "Validation: |          | 0/? [00:00<?, ?it/s]"
      ]
     },
     "metadata": {},
     "output_type": "display_data"
    },
    {
     "name": "stdout",
     "output_type": "stream",
     "text": [
      "Average validation loss is 0.69\n",
      "Average training loss is 0.15\n"
     ]
    },
    {
     "data": {
      "application/vnd.jupyter.widget-view+json": {
       "model_id": "7f8da4c73d35490880c4e2326744404b",
       "version_major": 2,
       "version_minor": 0
      },
      "text/plain": [
       "Validation: |          | 0/? [00:00<?, ?it/s]"
      ]
     },
     "metadata": {},
     "output_type": "display_data"
    },
    {
     "name": "stdout",
     "output_type": "stream",
     "text": [
      "Average validation loss is 0.51\n",
      "Average training loss is 0.15\n"
     ]
    },
    {
     "data": {
      "application/vnd.jupyter.widget-view+json": {
       "model_id": "7e372c1d4d5a4b88bf21e5cee73cc8e2",
       "version_major": 2,
       "version_minor": 0
      },
      "text/plain": [
       "Validation: |          | 0/? [00:00<?, ?it/s]"
      ]
     },
     "metadata": {},
     "output_type": "display_data"
    },
    {
     "name": "stdout",
     "output_type": "stream",
     "text": [
      "Average validation loss is 0.55\n",
      "Average training loss is 0.13\n"
     ]
    },
    {
     "data": {
      "application/vnd.jupyter.widget-view+json": {
       "model_id": "aed29e79e68840af9b4b6437029284fa",
       "version_major": 2,
       "version_minor": 0
      },
      "text/plain": [
       "Validation: |          | 0/? [00:00<?, ?it/s]"
      ]
     },
     "metadata": {},
     "output_type": "display_data"
    },
    {
     "name": "stdout",
     "output_type": "stream",
     "text": [
      "Average validation loss is 0.64\n",
      "Average training loss is 0.12\n"
     ]
    },
    {
     "data": {
      "application/vnd.jupyter.widget-view+json": {
       "model_id": "28aeae3e31d9411d8bf453e44f9a1b36",
       "version_major": 2,
       "version_minor": 0
      },
      "text/plain": [
       "Validation: |          | 0/? [00:00<?, ?it/s]"
      ]
     },
     "metadata": {},
     "output_type": "display_data"
    },
    {
     "name": "stdout",
     "output_type": "stream",
     "text": [
      "Average validation loss is 0.54\n",
      "Average training loss is 0.10\n"
     ]
    },
    {
     "data": {
      "application/vnd.jupyter.widget-view+json": {
       "model_id": "4abdf2f5ad28440e84c52b3f7d3945b6",
       "version_major": 2,
       "version_minor": 0
      },
      "text/plain": [
       "Validation: |          | 0/? [00:00<?, ?it/s]"
      ]
     },
     "metadata": {},
     "output_type": "display_data"
    },
    {
     "name": "stdout",
     "output_type": "stream",
     "text": [
      "Average validation loss is 0.46\n",
      "Average training loss is 0.09\n"
     ]
    },
    {
     "data": {
      "application/vnd.jupyter.widget-view+json": {
       "model_id": "581bc4a03de74dec8e8cc30ac2c75022",
       "version_major": 2,
       "version_minor": 0
      },
      "text/plain": [
       "Validation: |          | 0/? [00:00<?, ?it/s]"
      ]
     },
     "metadata": {},
     "output_type": "display_data"
    },
    {
     "name": "stdout",
     "output_type": "stream",
     "text": [
      "Average validation loss is 0.51\n",
      "Average training loss is 0.08\n"
     ]
    },
    {
     "data": {
      "application/vnd.jupyter.widget-view+json": {
       "model_id": "0c1992c171ee4d538a1cd93086123a0a",
       "version_major": 2,
       "version_minor": 0
      },
      "text/plain": [
       "Validation: |          | 0/? [00:00<?, ?it/s]"
      ]
     },
     "metadata": {},
     "output_type": "display_data"
    },
    {
     "name": "stdout",
     "output_type": "stream",
     "text": [
      "Average validation loss is 0.47\n",
      "Average training loss is 0.08\n"
     ]
    },
    {
     "data": {
      "application/vnd.jupyter.widget-view+json": {
       "model_id": "bbd1d17fa37c4f93a0829bb25287f0f6",
       "version_major": 2,
       "version_minor": 0
      },
      "text/plain": [
       "Validation: |          | 0/? [00:00<?, ?it/s]"
      ]
     },
     "metadata": {},
     "output_type": "display_data"
    },
    {
     "name": "stdout",
     "output_type": "stream",
     "text": [
      "Average validation loss is 0.47\n",
      "Average training loss is 0.09\n"
     ]
    },
    {
     "data": {
      "application/vnd.jupyter.widget-view+json": {
       "model_id": "936cebb8a75746b4bed16ef9ab9e368f",
       "version_major": 2,
       "version_minor": 0
      },
      "text/plain": [
       "Validation: |          | 0/? [00:00<?, ?it/s]"
      ]
     },
     "metadata": {},
     "output_type": "display_data"
    },
    {
     "name": "stdout",
     "output_type": "stream",
     "text": [
      "Average validation loss is 0.51\n",
      "Average training loss is 0.08\n"
     ]
    },
    {
     "data": {
      "application/vnd.jupyter.widget-view+json": {
       "model_id": "475538e44d064359a81cc42beffa7dfe",
       "version_major": 2,
       "version_minor": 0
      },
      "text/plain": [
       "Validation: |          | 0/? [00:00<?, ?it/s]"
      ]
     },
     "metadata": {},
     "output_type": "display_data"
    },
    {
     "name": "stdout",
     "output_type": "stream",
     "text": [
      "Average validation loss is 0.50\n",
      "Average training loss is 0.08\n"
     ]
    },
    {
     "data": {
      "application/vnd.jupyter.widget-view+json": {
       "model_id": "c9019a277eaa4814b76c95cdc52b1005",
       "version_major": 2,
       "version_minor": 0
      },
      "text/plain": [
       "Validation: |          | 0/? [00:00<?, ?it/s]"
      ]
     },
     "metadata": {},
     "output_type": "display_data"
    },
    {
     "name": "stdout",
     "output_type": "stream",
     "text": [
      "Average validation loss is 0.54\n",
      "Average training loss is 0.08\n"
     ]
    },
    {
     "data": {
      "application/vnd.jupyter.widget-view+json": {
       "model_id": "fad0f9d972b34690b10fcc9ece00926a",
       "version_major": 2,
       "version_minor": 0
      },
      "text/plain": [
       "Validation: |          | 0/? [00:00<?, ?it/s]"
      ]
     },
     "metadata": {},
     "output_type": "display_data"
    },
    {
     "name": "stdout",
     "output_type": "stream",
     "text": [
      "Average validation loss is 0.66\n",
      "Average training loss is 0.08\n"
     ]
    },
    {
     "data": {
      "application/vnd.jupyter.widget-view+json": {
       "model_id": "f1152b750c1a4d0ba4876688c3569d62",
       "version_major": 2,
       "version_minor": 0
      },
      "text/plain": [
       "Validation: |          | 0/? [00:00<?, ?it/s]"
      ]
     },
     "metadata": {},
     "output_type": "display_data"
    },
    {
     "name": "stdout",
     "output_type": "stream",
     "text": [
      "Average validation loss is 0.56\n",
      "Average training loss is 0.08\n"
     ]
    },
    {
     "data": {
      "application/vnd.jupyter.widget-view+json": {
       "model_id": "9a0d327befe14cacb88ea6c7ee9740f4",
       "version_major": 2,
       "version_minor": 0
      },
      "text/plain": [
       "Validation: |          | 0/? [00:00<?, ?it/s]"
      ]
     },
     "metadata": {},
     "output_type": "display_data"
    },
    {
     "name": "stdout",
     "output_type": "stream",
     "text": [
      "Average validation loss is 0.53\n",
      "Average training loss is 0.08\n"
     ]
    },
    {
     "data": {
      "application/vnd.jupyter.widget-view+json": {
       "model_id": "bd626bedc1604bbea92054b89b3d2027",
       "version_major": 2,
       "version_minor": 0
      },
      "text/plain": [
       "Validation: |          | 0/? [00:00<?, ?it/s]"
      ]
     },
     "metadata": {},
     "output_type": "display_data"
    },
    {
     "name": "stdout",
     "output_type": "stream",
     "text": [
      "Average validation loss is 0.51\n",
      "Average training loss is 0.08\n"
     ]
    },
    {
     "data": {
      "application/vnd.jupyter.widget-view+json": {
       "model_id": "b16dfbd074094855b739524194c659a7",
       "version_major": 2,
       "version_minor": 0
      },
      "text/plain": [
       "Validation: |          | 0/? [00:00<?, ?it/s]"
      ]
     },
     "metadata": {},
     "output_type": "display_data"
    },
    {
     "name": "stdout",
     "output_type": "stream",
     "text": [
      "Average validation loss is 0.60\n",
      "Average training loss is 0.08\n"
     ]
    },
    {
     "data": {
      "application/vnd.jupyter.widget-view+json": {
       "model_id": "50a99ee954b5469581ee387e5fcd3f11",
       "version_major": 2,
       "version_minor": 0
      },
      "text/plain": [
       "Validation: |          | 0/? [00:00<?, ?it/s]"
      ]
     },
     "metadata": {},
     "output_type": "display_data"
    },
    {
     "name": "stdout",
     "output_type": "stream",
     "text": [
      "Average validation loss is 0.62\n",
      "Average training loss is 0.08\n"
     ]
    },
    {
     "data": {
      "application/vnd.jupyter.widget-view+json": {
       "model_id": "188a3e2f2ea542f195479e3d7a20b3d9",
       "version_major": 2,
       "version_minor": 0
      },
      "text/plain": [
       "Validation: |          | 0/? [00:00<?, ?it/s]"
      ]
     },
     "metadata": {},
     "output_type": "display_data"
    },
    {
     "name": "stdout",
     "output_type": "stream",
     "text": [
      "Average validation loss is 0.50\n",
      "Average training loss is 0.07\n"
     ]
    },
    {
     "data": {
      "application/vnd.jupyter.widget-view+json": {
       "model_id": "7be1939975cd4f54a2b2c14420275507",
       "version_major": 2,
       "version_minor": 0
      },
      "text/plain": [
       "Validation: |          | 0/? [00:00<?, ?it/s]"
      ]
     },
     "metadata": {},
     "output_type": "display_data"
    },
    {
     "name": "stdout",
     "output_type": "stream",
     "text": [
      "Average validation loss is 0.66\n",
      "Average training loss is 0.07\n"
     ]
    },
    {
     "data": {
      "application/vnd.jupyter.widget-view+json": {
       "model_id": "50c6b823786d435a94213c691b0d8638",
       "version_major": 2,
       "version_minor": 0
      },
      "text/plain": [
       "Validation: |          | 0/? [00:00<?, ?it/s]"
      ]
     },
     "metadata": {},
     "output_type": "display_data"
    },
    {
     "name": "stdout",
     "output_type": "stream",
     "text": [
      "Average validation loss is 0.71\n",
      "Average training loss is 0.07\n"
     ]
    },
    {
     "data": {
      "application/vnd.jupyter.widget-view+json": {
       "model_id": "48be18af87f34df3bc9cbb3a6fbbd4e9",
       "version_major": 2,
       "version_minor": 0
      },
      "text/plain": [
       "Validation: |          | 0/? [00:00<?, ?it/s]"
      ]
     },
     "metadata": {},
     "output_type": "display_data"
    },
    {
     "name": "stdout",
     "output_type": "stream",
     "text": [
      "Average validation loss is 0.72\n",
      "Average training loss is 0.07\n"
     ]
    },
    {
     "data": {
      "application/vnd.jupyter.widget-view+json": {
       "model_id": "f231a6bcd2364e67b9151bfb50a02f75",
       "version_major": 2,
       "version_minor": 0
      },
      "text/plain": [
       "Validation: |          | 0/? [00:00<?, ?it/s]"
      ]
     },
     "metadata": {},
     "output_type": "display_data"
    },
    {
     "name": "stdout",
     "output_type": "stream",
     "text": [
      "Average validation loss is 0.73\n",
      "Average training loss is 0.06\n"
     ]
    },
    {
     "data": {
      "application/vnd.jupyter.widget-view+json": {
       "model_id": "11e7cae5a1134462b7d2136cf9669a92",
       "version_major": 2,
       "version_minor": 0
      },
      "text/plain": [
       "Validation: |          | 0/? [00:00<?, ?it/s]"
      ]
     },
     "metadata": {},
     "output_type": "display_data"
    },
    {
     "name": "stdout",
     "output_type": "stream",
     "text": [
      "Average validation loss is 0.71\n",
      "Average training loss is 0.07\n"
     ]
    },
    {
     "data": {
      "application/vnd.jupyter.widget-view+json": {
       "model_id": "056c006f8faf46a69f4b0007bdf0e068",
       "version_major": 2,
       "version_minor": 0
      },
      "text/plain": [
       "Validation: |          | 0/? [00:00<?, ?it/s]"
      ]
     },
     "metadata": {},
     "output_type": "display_data"
    },
    {
     "name": "stdout",
     "output_type": "stream",
     "text": [
      "Average validation loss is 0.69\n",
      "Average training loss is 0.07\n"
     ]
    },
    {
     "data": {
      "application/vnd.jupyter.widget-view+json": {
       "model_id": "37a7370ae65b41dbb1b84ae8165326c2",
       "version_major": 2,
       "version_minor": 0
      },
      "text/plain": [
       "Validation: |          | 0/? [00:00<?, ?it/s]"
      ]
     },
     "metadata": {},
     "output_type": "display_data"
    },
    {
     "name": "stdout",
     "output_type": "stream",
     "text": [
      "Average validation loss is 0.73\n",
      "Average training loss is 0.07\n"
     ]
    },
    {
     "data": {
      "application/vnd.jupyter.widget-view+json": {
       "model_id": "26c40dd1c3cd4649a83b257178d8d3d0",
       "version_major": 2,
       "version_minor": 0
      },
      "text/plain": [
       "Validation: |          | 0/? [00:00<?, ?it/s]"
      ]
     },
     "metadata": {},
     "output_type": "display_data"
    },
    {
     "name": "stdout",
     "output_type": "stream",
     "text": [
      "Average validation loss is 0.47\n",
      "Average training loss is 0.08\n"
     ]
    },
    {
     "data": {
      "application/vnd.jupyter.widget-view+json": {
       "model_id": "1d5ae6c7ac8c451aac2640e2b4bf8e02",
       "version_major": 2,
       "version_minor": 0
      },
      "text/plain": [
       "Validation: |          | 0/? [00:00<?, ?it/s]"
      ]
     },
     "metadata": {},
     "output_type": "display_data"
    },
    {
     "name": "stdout",
     "output_type": "stream",
     "text": [
      "Average validation loss is 0.54\n",
      "Average training loss is 0.09\n"
     ]
    },
    {
     "data": {
      "application/vnd.jupyter.widget-view+json": {
       "model_id": "0b68e9c4d859440590adb7d64c13ccbf",
       "version_major": 2,
       "version_minor": 0
      },
      "text/plain": [
       "Validation: |          | 0/? [00:00<?, ?it/s]"
      ]
     },
     "metadata": {},
     "output_type": "display_data"
    },
    {
     "name": "stdout",
     "output_type": "stream",
     "text": [
      "Average validation loss is 0.49\n",
      "Average training loss is 0.07\n"
     ]
    },
    {
     "data": {
      "application/vnd.jupyter.widget-view+json": {
       "model_id": "a6d078918b6646af89ecfbd00e891f3f",
       "version_major": 2,
       "version_minor": 0
      },
      "text/plain": [
       "Validation: |          | 0/? [00:00<?, ?it/s]"
      ]
     },
     "metadata": {},
     "output_type": "display_data"
    },
    {
     "name": "stdout",
     "output_type": "stream",
     "text": [
      "Average validation loss is 0.71\n",
      "Average training loss is 0.07\n"
     ]
    },
    {
     "data": {
      "application/vnd.jupyter.widget-view+json": {
       "model_id": "06efdb43e1674c039fa5b345196cb336",
       "version_major": 2,
       "version_minor": 0
      },
      "text/plain": [
       "Validation: |          | 0/? [00:00<?, ?it/s]"
      ]
     },
     "metadata": {},
     "output_type": "display_data"
    },
    {
     "name": "stdout",
     "output_type": "stream",
     "text": [
      "Average validation loss is 0.67\n",
      "Average training loss is 0.07\n"
     ]
    },
    {
     "data": {
      "application/vnd.jupyter.widget-view+json": {
       "model_id": "0dfa3d1d7ada4fc7b1e662a1343a55ad",
       "version_major": 2,
       "version_minor": 0
      },
      "text/plain": [
       "Validation: |          | 0/? [00:00<?, ?it/s]"
      ]
     },
     "metadata": {},
     "output_type": "display_data"
    },
    {
     "name": "stdout",
     "output_type": "stream",
     "text": [
      "Average validation loss is 0.70\n",
      "Average training loss is 0.06\n"
     ]
    },
    {
     "data": {
      "application/vnd.jupyter.widget-view+json": {
       "model_id": "9a3ed64cace848bda6dcd32f05eb95e0",
       "version_major": 2,
       "version_minor": 0
      },
      "text/plain": [
       "Validation: |          | 0/? [00:00<?, ?it/s]"
      ]
     },
     "metadata": {},
     "output_type": "display_data"
    },
    {
     "name": "stdout",
     "output_type": "stream",
     "text": [
      "Average validation loss is 0.47\n",
      "Average training loss is 0.06\n"
     ]
    },
    {
     "data": {
      "application/vnd.jupyter.widget-view+json": {
       "model_id": "49cd8659760d4e49b2d11104edde3e49",
       "version_major": 2,
       "version_minor": 0
      },
      "text/plain": [
       "Validation: |          | 0/? [00:00<?, ?it/s]"
      ]
     },
     "metadata": {},
     "output_type": "display_data"
    },
    {
     "name": "stdout",
     "output_type": "stream",
     "text": [
      "Average validation loss is 0.48\n",
      "Average training loss is 0.06\n"
     ]
    },
    {
     "data": {
      "application/vnd.jupyter.widget-view+json": {
       "model_id": "922e78d70b324609a20f33383e97e3fc",
       "version_major": 2,
       "version_minor": 0
      },
      "text/plain": [
       "Validation: |          | 0/? [00:00<?, ?it/s]"
      ]
     },
     "metadata": {},
     "output_type": "display_data"
    },
    {
     "name": "stdout",
     "output_type": "stream",
     "text": [
      "Average validation loss is 0.76\n",
      "Average training loss is 0.07\n"
     ]
    },
    {
     "data": {
      "application/vnd.jupyter.widget-view+json": {
       "model_id": "a9872402fc2345ac8513d6b6251e56dc",
       "version_major": 2,
       "version_minor": 0
      },
      "text/plain": [
       "Validation: |          | 0/? [00:00<?, ?it/s]"
      ]
     },
     "metadata": {},
     "output_type": "display_data"
    },
    {
     "name": "stdout",
     "output_type": "stream",
     "text": [
      "Average validation loss is 0.51\n",
      "Average training loss is 0.07\n"
     ]
    },
    {
     "data": {
      "application/vnd.jupyter.widget-view+json": {
       "model_id": "d9837d56c8b64ab088baea47553d43ab",
       "version_major": 2,
       "version_minor": 0
      },
      "text/plain": [
       "Validation: |          | 0/? [00:00<?, ?it/s]"
      ]
     },
     "metadata": {},
     "output_type": "display_data"
    },
    {
     "name": "stdout",
     "output_type": "stream",
     "text": [
      "Average validation loss is 0.67\n",
      "Average training loss is 0.06\n"
     ]
    },
    {
     "data": {
      "application/vnd.jupyter.widget-view+json": {
       "model_id": "be7ba7613f044a92b43f095d5294ad61",
       "version_major": 2,
       "version_minor": 0
      },
      "text/plain": [
       "Validation: |          | 0/? [00:00<?, ?it/s]"
      ]
     },
     "metadata": {},
     "output_type": "display_data"
    },
    {
     "name": "stdout",
     "output_type": "stream",
     "text": [
      "Average validation loss is 0.54\n",
      "Average training loss is 0.06\n"
     ]
    },
    {
     "data": {
      "application/vnd.jupyter.widget-view+json": {
       "model_id": "73ff065b65ae4782a55c20042d49dd98",
       "version_major": 2,
       "version_minor": 0
      },
      "text/plain": [
       "Validation: |          | 0/? [00:00<?, ?it/s]"
      ]
     },
     "metadata": {},
     "output_type": "display_data"
    },
    {
     "name": "stdout",
     "output_type": "stream",
     "text": [
      "Average validation loss is 0.62\n",
      "Average training loss is 0.06\n"
     ]
    },
    {
     "data": {
      "application/vnd.jupyter.widget-view+json": {
       "model_id": "cfa458ae10cd40b5bdf3e816cea6443e",
       "version_major": 2,
       "version_minor": 0
      },
      "text/plain": [
       "Validation: |          | 0/? [00:00<?, ?it/s]"
      ]
     },
     "metadata": {},
     "output_type": "display_data"
    },
    {
     "name": "stdout",
     "output_type": "stream",
     "text": [
      "Average validation loss is 0.74\n",
      "Average training loss is 0.06\n"
     ]
    },
    {
     "data": {
      "application/vnd.jupyter.widget-view+json": {
       "model_id": "1ecddaa858914b2894efbf5be0f1bc98",
       "version_major": 2,
       "version_minor": 0
      },
      "text/plain": [
       "Validation: |          | 0/? [00:00<?, ?it/s]"
      ]
     },
     "metadata": {},
     "output_type": "display_data"
    },
    {
     "name": "stdout",
     "output_type": "stream",
     "text": [
      "Average validation loss is 0.74\n",
      "Average training loss is 0.06\n"
     ]
    },
    {
     "data": {
      "application/vnd.jupyter.widget-view+json": {
       "model_id": "b0030ac17d85401caa4a5498b3accbc7",
       "version_major": 2,
       "version_minor": 0
      },
      "text/plain": [
       "Validation: |          | 0/? [00:00<?, ?it/s]"
      ]
     },
     "metadata": {},
     "output_type": "display_data"
    },
    {
     "name": "stdout",
     "output_type": "stream",
     "text": [
      "Average validation loss is 0.69\n",
      "Average training loss is 0.06\n"
     ]
    },
    {
     "data": {
      "application/vnd.jupyter.widget-view+json": {
       "model_id": "22e2db1d075442c2b2a55d3e04d173be",
       "version_major": 2,
       "version_minor": 0
      },
      "text/plain": [
       "Validation: |          | 0/? [00:00<?, ?it/s]"
      ]
     },
     "metadata": {},
     "output_type": "display_data"
    },
    {
     "name": "stdout",
     "output_type": "stream",
     "text": [
      "Average validation loss is 0.64\n",
      "Average training loss is 0.06\n"
     ]
    },
    {
     "data": {
      "application/vnd.jupyter.widget-view+json": {
       "model_id": "66669d37c0a340159d8be2b9662f51be",
       "version_major": 2,
       "version_minor": 0
      },
      "text/plain": [
       "Validation: |          | 0/? [00:00<?, ?it/s]"
      ]
     },
     "metadata": {},
     "output_type": "display_data"
    },
    {
     "name": "stdout",
     "output_type": "stream",
     "text": [
      "Average validation loss is 0.64\n",
      "Average training loss is 0.06\n"
     ]
    },
    {
     "data": {
      "application/vnd.jupyter.widget-view+json": {
       "model_id": "ce4bc6d86d3f4d8282d32774cbd72762",
       "version_major": 2,
       "version_minor": 0
      },
      "text/plain": [
       "Validation: |          | 0/? [00:00<?, ?it/s]"
      ]
     },
     "metadata": {},
     "output_type": "display_data"
    },
    {
     "name": "stdout",
     "output_type": "stream",
     "text": [
      "Average validation loss is 0.55\n",
      "Average training loss is 0.06\n"
     ]
    },
    {
     "data": {
      "application/vnd.jupyter.widget-view+json": {
       "model_id": "1e12268e3f0e44b1bef64e305bfca0b1",
       "version_major": 2,
       "version_minor": 0
      },
      "text/plain": [
       "Validation: |          | 0/? [00:00<?, ?it/s]"
      ]
     },
     "metadata": {},
     "output_type": "display_data"
    },
    {
     "name": "stdout",
     "output_type": "stream",
     "text": [
      "Average validation loss is 0.74\n",
      "Average training loss is 0.06\n"
     ]
    },
    {
     "data": {
      "application/vnd.jupyter.widget-view+json": {
       "model_id": "dd447f1bb1344175a3c7f3b7bc4c686b",
       "version_major": 2,
       "version_minor": 0
      },
      "text/plain": [
       "Validation: |          | 0/? [00:00<?, ?it/s]"
      ]
     },
     "metadata": {},
     "output_type": "display_data"
    },
    {
     "name": "stdout",
     "output_type": "stream",
     "text": [
      "Average validation loss is 0.69\n",
      "Average training loss is 0.05\n"
     ]
    },
    {
     "data": {
      "application/vnd.jupyter.widget-view+json": {
       "model_id": "aff4502d187b47c299bc48b7574ef653",
       "version_major": 2,
       "version_minor": 0
      },
      "text/plain": [
       "Validation: |          | 0/? [00:00<?, ?it/s]"
      ]
     },
     "metadata": {},
     "output_type": "display_data"
    },
    {
     "name": "stdout",
     "output_type": "stream",
     "text": [
      "Average validation loss is 0.65\n",
      "Average training loss is 0.05\n"
     ]
    },
    {
     "data": {
      "application/vnd.jupyter.widget-view+json": {
       "model_id": "f981a64c42784cc08ff38639434ddf22",
       "version_major": 2,
       "version_minor": 0
      },
      "text/plain": [
       "Validation: |          | 0/? [00:00<?, ?it/s]"
      ]
     },
     "metadata": {},
     "output_type": "display_data"
    },
    {
     "name": "stdout",
     "output_type": "stream",
     "text": [
      "Average validation loss is 0.77\n",
      "Average training loss is 0.05\n"
     ]
    },
    {
     "data": {
      "application/vnd.jupyter.widget-view+json": {
       "model_id": "9c25159ed8914ca2bb60bcd051aafff9",
       "version_major": 2,
       "version_minor": 0
      },
      "text/plain": [
       "Validation: |          | 0/? [00:00<?, ?it/s]"
      ]
     },
     "metadata": {},
     "output_type": "display_data"
    },
    {
     "name": "stdout",
     "output_type": "stream",
     "text": [
      "Average validation loss is 0.45\n",
      "Average training loss is 0.05\n"
     ]
    },
    {
     "data": {
      "application/vnd.jupyter.widget-view+json": {
       "model_id": "821f439297d747d38404ed459bab8491",
       "version_major": 2,
       "version_minor": 0
      },
      "text/plain": [
       "Validation: |          | 0/? [00:00<?, ?it/s]"
      ]
     },
     "metadata": {},
     "output_type": "display_data"
    },
    {
     "name": "stdout",
     "output_type": "stream",
     "text": [
      "Average validation loss is 0.58\n",
      "Average training loss is 0.05\n"
     ]
    },
    {
     "data": {
      "application/vnd.jupyter.widget-view+json": {
       "model_id": "42215c972b1741a294e489eafae12c1f",
       "version_major": 2,
       "version_minor": 0
      },
      "text/plain": [
       "Validation: |          | 0/? [00:00<?, ?it/s]"
      ]
     },
     "metadata": {},
     "output_type": "display_data"
    },
    {
     "name": "stdout",
     "output_type": "stream",
     "text": [
      "Average validation loss is 0.63\n",
      "Average training loss is 0.05\n"
     ]
    },
    {
     "data": {
      "application/vnd.jupyter.widget-view+json": {
       "model_id": "20fd81099da84d82bd03cd593dd525d8",
       "version_major": 2,
       "version_minor": 0
      },
      "text/plain": [
       "Validation: |          | 0/? [00:00<?, ?it/s]"
      ]
     },
     "metadata": {},
     "output_type": "display_data"
    },
    {
     "name": "stdout",
     "output_type": "stream",
     "text": [
      "Average validation loss is 0.82\n",
      "Average training loss is 0.06\n"
     ]
    },
    {
     "data": {
      "application/vnd.jupyter.widget-view+json": {
       "model_id": "30a25b5e4e014475952cce48b9a9b6fb",
       "version_major": 2,
       "version_minor": 0
      },
      "text/plain": [
       "Validation: |          | 0/? [00:00<?, ?it/s]"
      ]
     },
     "metadata": {},
     "output_type": "display_data"
    },
    {
     "name": "stdout",
     "output_type": "stream",
     "text": [
      "Average validation loss is 0.67\n",
      "Average training loss is 0.06\n"
     ]
    },
    {
     "data": {
      "application/vnd.jupyter.widget-view+json": {
       "model_id": "e45d0ae4c0af49d085a13e3a3e5f566a",
       "version_major": 2,
       "version_minor": 0
      },
      "text/plain": [
       "Validation: |          | 0/? [00:00<?, ?it/s]"
      ]
     },
     "metadata": {},
     "output_type": "display_data"
    },
    {
     "name": "stdout",
     "output_type": "stream",
     "text": [
      "Average validation loss is 0.40\n",
      "Average training loss is 0.07\n"
     ]
    },
    {
     "data": {
      "application/vnd.jupyter.widget-view+json": {
       "model_id": "2241d5f0e0974a02a8aeaf9f3d385f4f",
       "version_major": 2,
       "version_minor": 0
      },
      "text/plain": [
       "Validation: |          | 0/? [00:00<?, ?it/s]"
      ]
     },
     "metadata": {},
     "output_type": "display_data"
    },
    {
     "name": "stdout",
     "output_type": "stream",
     "text": [
      "Average validation loss is 0.74\n",
      "Average training loss is 0.06\n"
     ]
    },
    {
     "data": {
      "application/vnd.jupyter.widget-view+json": {
       "model_id": "8c316c3b41584dd792946b8468052abe",
       "version_major": 2,
       "version_minor": 0
      },
      "text/plain": [
       "Validation: |          | 0/? [00:00<?, ?it/s]"
      ]
     },
     "metadata": {},
     "output_type": "display_data"
    },
    {
     "name": "stdout",
     "output_type": "stream",
     "text": [
      "Average validation loss is 0.66\n",
      "Average training loss is 0.06\n"
     ]
    },
    {
     "data": {
      "application/vnd.jupyter.widget-view+json": {
       "model_id": "22464c20ad43406ba3e97a554d100d30",
       "version_major": 2,
       "version_minor": 0
      },
      "text/plain": [
       "Validation: |          | 0/? [00:00<?, ?it/s]"
      ]
     },
     "metadata": {},
     "output_type": "display_data"
    },
    {
     "name": "stdout",
     "output_type": "stream",
     "text": [
      "Average validation loss is 0.69\n",
      "Average training loss is 0.05\n"
     ]
    },
    {
     "data": {
      "application/vnd.jupyter.widget-view+json": {
       "model_id": "c4dff547134743819f9128e058e09ff3",
       "version_major": 2,
       "version_minor": 0
      },
      "text/plain": [
       "Validation: |          | 0/? [00:00<?, ?it/s]"
      ]
     },
     "metadata": {},
     "output_type": "display_data"
    },
    {
     "name": "stdout",
     "output_type": "stream",
     "text": [
      "Average validation loss is 0.67\n",
      "Average training loss is 0.06\n"
     ]
    },
    {
     "data": {
      "application/vnd.jupyter.widget-view+json": {
       "model_id": "493fb419e22841ee9d90b1567f6133cd",
       "version_major": 2,
       "version_minor": 0
      },
      "text/plain": [
       "Validation: |          | 0/? [00:00<?, ?it/s]"
      ]
     },
     "metadata": {},
     "output_type": "display_data"
    },
    {
     "name": "stdout",
     "output_type": "stream",
     "text": [
      "Average validation loss is 0.63\n",
      "Average training loss is 0.06\n"
     ]
    },
    {
     "data": {
      "application/vnd.jupyter.widget-view+json": {
       "model_id": "01a999100edc4671832bd7ca14d4e605",
       "version_major": 2,
       "version_minor": 0
      },
      "text/plain": [
       "Validation: |          | 0/? [00:00<?, ?it/s]"
      ]
     },
     "metadata": {},
     "output_type": "display_data"
    },
    {
     "name": "stdout",
     "output_type": "stream",
     "text": [
      "Average validation loss is 0.67\n",
      "Average training loss is 0.06\n"
     ]
    },
    {
     "data": {
      "application/vnd.jupyter.widget-view+json": {
       "model_id": "f6e3da79bc2146118a8cb84c708eb8c6",
       "version_major": 2,
       "version_minor": 0
      },
      "text/plain": [
       "Validation: |          | 0/? [00:00<?, ?it/s]"
      ]
     },
     "metadata": {},
     "output_type": "display_data"
    },
    {
     "name": "stdout",
     "output_type": "stream",
     "text": [
      "Average validation loss is 0.36\n",
      "Average training loss is 0.06\n"
     ]
    },
    {
     "data": {
      "application/vnd.jupyter.widget-view+json": {
       "model_id": "5ac2b6f87967454d94cbe00c45adf7f8",
       "version_major": 2,
       "version_minor": 0
      },
      "text/plain": [
       "Validation: |          | 0/? [00:00<?, ?it/s]"
      ]
     },
     "metadata": {},
     "output_type": "display_data"
    },
    {
     "name": "stdout",
     "output_type": "stream",
     "text": [
      "Average validation loss is 0.48\n",
      "Average training loss is 0.05\n"
     ]
    },
    {
     "data": {
      "application/vnd.jupyter.widget-view+json": {
       "model_id": "0fb94102516e4b86a9febb22bc16baae",
       "version_major": 2,
       "version_minor": 0
      },
      "text/plain": [
       "Validation: |          | 0/? [00:00<?, ?it/s]"
      ]
     },
     "metadata": {},
     "output_type": "display_data"
    },
    {
     "name": "stdout",
     "output_type": "stream",
     "text": [
      "Average validation loss is 0.68\n",
      "Average training loss is 0.05\n"
     ]
    },
    {
     "data": {
      "application/vnd.jupyter.widget-view+json": {
       "model_id": "5f1f1067d54544d5979abc30e6b18e90",
       "version_major": 2,
       "version_minor": 0
      },
      "text/plain": [
       "Validation: |          | 0/? [00:00<?, ?it/s]"
      ]
     },
     "metadata": {},
     "output_type": "display_data"
    },
    {
     "name": "stdout",
     "output_type": "stream",
     "text": [
      "Average validation loss is 0.68\n",
      "Average training loss is 0.05\n"
     ]
    },
    {
     "data": {
      "application/vnd.jupyter.widget-view+json": {
       "model_id": "025192f5744f4812a7d449f2d111f40f",
       "version_major": 2,
       "version_minor": 0
      },
      "text/plain": [
       "Validation: |          | 0/? [00:00<?, ?it/s]"
      ]
     },
     "metadata": {},
     "output_type": "display_data"
    },
    {
     "name": "stdout",
     "output_type": "stream",
     "text": [
      "Average validation loss is 0.69\n",
      "Average training loss is 0.05\n"
     ]
    },
    {
     "data": {
      "application/vnd.jupyter.widget-view+json": {
       "model_id": "096ac7c5d49a4f38bc33b1e203f5140f",
       "version_major": 2,
       "version_minor": 0
      },
      "text/plain": [
       "Validation: |          | 0/? [00:00<?, ?it/s]"
      ]
     },
     "metadata": {},
     "output_type": "display_data"
    },
    {
     "name": "stdout",
     "output_type": "stream",
     "text": [
      "Average validation loss is 0.80\n",
      "Average training loss is 0.05\n"
     ]
    },
    {
     "data": {
      "application/vnd.jupyter.widget-view+json": {
       "model_id": "9bf9e72ce4794ab9ace362e2907e4809",
       "version_major": 2,
       "version_minor": 0
      },
      "text/plain": [
       "Validation: |          | 0/? [00:00<?, ?it/s]"
      ]
     },
     "metadata": {},
     "output_type": "display_data"
    },
    {
     "name": "stdout",
     "output_type": "stream",
     "text": [
      "Average validation loss is 0.67\n",
      "Average training loss is 0.05\n"
     ]
    },
    {
     "data": {
      "application/vnd.jupyter.widget-view+json": {
       "model_id": "a6cb12c4d3fe4dbcae9f34b607c3e236",
       "version_major": 2,
       "version_minor": 0
      },
      "text/plain": [
       "Validation: |          | 0/? [00:00<?, ?it/s]"
      ]
     },
     "metadata": {},
     "output_type": "display_data"
    },
    {
     "name": "stdout",
     "output_type": "stream",
     "text": [
      "Average validation loss is 0.70\n",
      "Average training loss is 0.05\n"
     ]
    },
    {
     "data": {
      "application/vnd.jupyter.widget-view+json": {
       "model_id": "3949126c949b42539c497a07a2d2b6ef",
       "version_major": 2,
       "version_minor": 0
      },
      "text/plain": [
       "Validation: |          | 0/? [00:00<?, ?it/s]"
      ]
     },
     "metadata": {},
     "output_type": "display_data"
    },
    {
     "name": "stdout",
     "output_type": "stream",
     "text": [
      "Average validation loss is 0.56\n",
      "Average training loss is 0.06\n"
     ]
    },
    {
     "data": {
      "application/vnd.jupyter.widget-view+json": {
       "model_id": "22bbded993b6472ca7b591d163c57729",
       "version_major": 2,
       "version_minor": 0
      },
      "text/plain": [
       "Validation: |          | 0/? [00:00<?, ?it/s]"
      ]
     },
     "metadata": {},
     "output_type": "display_data"
    },
    {
     "name": "stdout",
     "output_type": "stream",
     "text": [
      "Average validation loss is 0.75\n",
      "Average training loss is 0.06\n"
     ]
    },
    {
     "data": {
      "application/vnd.jupyter.widget-view+json": {
       "model_id": "dc4842fcf236402682488fd79089d35b",
       "version_major": 2,
       "version_minor": 0
      },
      "text/plain": [
       "Validation: |          | 0/? [00:00<?, ?it/s]"
      ]
     },
     "metadata": {},
     "output_type": "display_data"
    },
    {
     "name": "stdout",
     "output_type": "stream",
     "text": [
      "Average validation loss is 0.66\n",
      "Average training loss is 0.06\n"
     ]
    },
    {
     "data": {
      "application/vnd.jupyter.widget-view+json": {
       "model_id": "685a740eb1624d8f9d278fe641b50b46",
       "version_major": 2,
       "version_minor": 0
      },
      "text/plain": [
       "Validation: |          | 0/? [00:00<?, ?it/s]"
      ]
     },
     "metadata": {},
     "output_type": "display_data"
    },
    {
     "name": "stderr",
     "output_type": "stream",
     "text": [
      "`Trainer.fit` stopped: `max_epochs=100` reached.\n"
     ]
    },
    {
     "name": "stdout",
     "output_type": "stream",
     "text": [
      "Average validation loss is 0.69\n",
      "Average training loss is 0.05\n"
     ]
    }
   ],
   "source": [
    "wave_model = train_unimodal_model(\"wave\")\n",
    "time_model = train_unimodal_model(\"time\")"
   ]
  },
  {
   "cell_type": "code",
   "execution_count": 24,
   "metadata": {},
   "outputs": [],
   "source": [
    "# copy over encoder\n",
    "base_model.wave_encoder = wave_model.encoder\n",
    "base_model.time_encoder = time_model.encoder\n",
    "\n",
    "# copy over decoder\n",
    "base_model.wave_decoder = wave_model.decoder\n",
    "base_model.time_decoder = time_model.decoder"
   ]
  },
  {
   "cell_type": "code",
   "execution_count": 25,
   "metadata": {},
   "outputs": [],
   "source": [
    "torch.save(base_model.state_dict(), 'MixedAutoEncoderTemplates_noise.pt')"
   ]
  },
  {
   "cell_type": "code",
   "execution_count": 26,
   "metadata": {},
   "outputs": [
    {
     "data": {
      "text/plain": [
       "<All keys matched successfully>"
      ]
     },
     "execution_count": 26,
     "metadata": {},
     "output_type": "execute_result"
    }
   ],
   "source": [
    "mixedModelAE = MixedModel(z_dim=5)\n",
    "mixedModelAE.load_state_dict(torch.load('MixedAutoEncoderTemplates_noise.pt'))"
   ]
  },
  {
   "cell_type": "code",
   "execution_count": 27,
   "metadata": {},
   "outputs": [
    {
     "name": "stdout",
     "output_type": "stream",
     "text": [
      "1234\n",
      "1234\n"
     ]
    }
   ],
   "source": [
    "print(len(waveform))\n",
    "print(len(isi_dist))"
   ]
  },
  {
   "cell_type": "code",
   "execution_count": 28,
   "metadata": {},
   "outputs": [],
   "source": [
    "embedding_waveform = []\n",
    "embedding_isi = []\n",
    "labels = []\n",
    "for i, (wave, time,label) in enumerate(dataloader_val):\n",
    "    e_wave, e_time, d_wave, d_time = mixedModelAE(wave, time)\n",
    "    embedding_waveform.append(e_wave)\n",
    "    embedding_isi.append(e_time)\n",
    "    labels.append(label)\n",
    "\n",
    "embedding_waveform = torch.cat(embedding_waveform, dim=0)\n",
    "embedding_isi = torch.cat(embedding_isi, dim=0)\n"
   ]
  },
  {
   "cell_type": "code",
   "execution_count": 29,
   "metadata": {},
   "outputs": [],
   "source": [
    "#Run Umap in the embeddings\n",
    "embedding_waveform = embedding_waveform.detach().numpy()\n",
    "embedding_isi = embedding_isi.detach().numpy()\n",
    "labels = torch.cat(labels, dim=0).detach().numpy()"
   ]
  },
  {
   "cell_type": "code",
   "execution_count": 30,
   "metadata": {},
   "outputs": [
    {
     "name": "stderr",
     "output_type": "stream",
     "text": [
      "OMP: Info #276: omp_set_nested routine deprecated, please use omp_set_max_active_levels instead.\n"
     ]
    }
   ],
   "source": [
    "#Calculate UMAP\n",
    "embedding_waveform = umap.UMAP(n_neighbors=5, min_dist=0.3, n_components=2).fit_transform(embedding_waveform)\n",
    "embedding_isi = umap.UMAP(n_neighbors=5, min_dist=0.3, n_components=2).fit_transform(embedding_isi)"
   ]
  },
  {
   "cell_type": "code",
   "execution_count": 31,
   "metadata": {},
   "outputs": [
    {
     "data": {
      "text/plain": [
       "array([1, 0, 2, 2, 0, 2, 0, 0, 1, 0, 1, 0, 2, 2, 0, 0, 0, 0, 0, 1, 1, 1,\n",
       "       0, 0, 2, 1, 2, 2, 1, 2, 1, 1, 2, 2, 0, 1, 0, 2, 0, 2, 2, 2, 2, 2,\n",
       "       1, 2, 2, 0, 0, 2, 2, 0, 0, 0, 1, 0, 2, 0, 2, 2, 1, 2, 0, 2, 0, 2,\n",
       "       2, 2, 2, 2, 2, 2, 0, 0, 0, 0, 2, 0, 2, 0, 2, 0, 1, 1, 1, 1, 2, 2,\n",
       "       2, 2, 0, 0, 2, 2, 0, 2, 0, 0, 2, 0, 1, 0, 0, 0, 2, 0, 0, 1, 0, 0,\n",
       "       2, 0, 0, 0, 1, 0, 0, 2, 2, 0, 0, 2, 0, 0, 1, 0, 2, 2, 1, 0, 0, 0,\n",
       "       0, 0, 1, 2, 0, 0, 2, 0, 2, 2, 0, 2, 1, 1, 2, 0, 2, 1, 2, 0, 0, 2,\n",
       "       2, 2, 0, 2, 2, 0, 1, 1, 2, 1, 0, 2, 0, 0, 1, 1, 0, 0, 2, 0, 0, 0,\n",
       "       0, 2, 2, 0, 0, 0, 0, 2, 0, 2, 1, 2, 0, 1, 0, 2, 1, 0, 2, 2, 0, 0,\n",
       "       0, 0, 1, 0, 2, 2, 0, 0, 2, 2, 1, 1, 0, 1, 1, 0, 0, 0, 0, 0, 0, 1,\n",
       "       1, 2, 2, 0, 2, 2, 2, 0, 0, 0, 0, 2, 0, 2, 1, 0, 1, 0, 0, 0, 2, 2,\n",
       "       1, 2, 0, 0, 0, 2, 2, 0, 0, 2, 2, 0, 0, 0, 0, 1, 0, 0, 1, 2, 0, 2,\n",
       "       2, 0, 2, 2, 0, 2, 2, 0, 1, 0, 2, 0, 0, 1, 0, 2, 0, 2, 1, 2, 0, 0,\n",
       "       2, 1, 2, 0, 0, 2, 1, 2, 2, 0, 0, 2, 2, 2, 2, 2, 0, 0, 2, 0, 1, 0,\n",
       "       0, 1, 2, 0, 0, 0, 2, 2, 0, 0, 2, 0, 2, 2, 0, 2, 0, 2, 0, 2, 2, 0,\n",
       "       2, 2, 0, 0])"
      ]
     },
     "execution_count": 31,
     "metadata": {},
     "output_type": "execute_result"
    }
   ],
   "source": [
    "labels"
   ]
  },
  {
   "cell_type": "code",
   "execution_count": 32,
   "metadata": {},
   "outputs": [],
   "source": [
    "labelColor = ['r', 'g', 'b']"
   ]
  },
  {
   "cell_type": "code",
   "execution_count": 33,
   "metadata": {},
   "outputs": [],
   "source": [
    "labelColor = [labelColor[label] for label in labels]"
   ]
  },
  {
   "cell_type": "code",
   "execution_count": 34,
   "metadata": {},
   "outputs": [
    {
     "data": {
      "image/png": "[encoded data removed]",
      "text/plain": [
       "<Figure size 600x400 with 2 Axes>"
      ]
     },
     "metadata": {},
     "output_type": "display_data"
    }
   ],
   "source": [
    "#Plot the embeddings\n",
    "figureWidth=6\n",
    "figureHeight=4\n",
    "plt.figure(figsize=(figureWidth,figureHeight))\n",
    "panel1 = plt.axes([0.1, 0.1, 0.4, 0.8])\n",
    "panel2 = plt.axes([0.5, 0.1, 0.4, 0.8])\n",
    "\n",
    "panel1.scatter(embedding_waveform[:, 0], embedding_waveform[:, 1], color=labelColor, s=3)\n",
    "panel1.set_title(\"Waveform Embedding\")\n",
    "panel1.set_xticks([])\n",
    "panel1.set_yticks([])\n",
    "panel2.scatter(embedding_isi[:, 0], embedding_isi[:, 1], color=labelColor, s=3)\n",
    "panel2.set_title(\"ISI Embedding\")\n",
    "panel2.set_xticks([])\n",
    "panel2.set_yticks([])\n",
    "plt.show()\n",
    "\n",
    "\n"
   ]
  },
  {
   "cell_type": "code",
   "execution_count": 48,
   "metadata": {},
   "outputs": [],
   "source": [
    "from torch.nn.functional import normalize\n",
    "class classification(nn.Module):\n",
    "    def __init__(self, num_labels, **kwargs):\n",
    "        super().__init__()\n",
    "        self.mixedModelAE = MixedModel(**kwargs)\n",
    "        self.mixedModelAE.load_state_dict(torch.load('MixedAutoEncoderTemplates.pt'))\n",
    "        for p in self.mixedModelAE.parameters():\n",
    "            p.requires_grad = False\n",
    "        \n",
    "        #self.classifier = nn.Sequential(nn.Linear(kwargs['z_dim'] * 2, num_labels))\n",
    "        self.classifier = nn.Sequential(nn.Linear(kwargs['z_dim'] * 2, 64), nn.ReLU(),\n",
    "                                         nn.Linear(64, num_labels))\n",
    "        #self.classifier = nn.Sequential(nn.Linear(64 * 2, num_labels))\n",
    "        \n",
    "\n",
    "    def forward(self, wave,time):\n",
    "        e_wave, e_time, d_wave, d_time = self.mixedModelAE(wave,time)\n",
    "        e_wave, e_time = normalize(e_wave), normalize(e_time)\n",
    "        x = torch.cat((e_wave, e_time), dim=-1).squeeze()\n",
    "        #print(x.shape)\n",
    "        output = self.classifier(x)        \n",
    "        return output\n",
    "\n",
    "classifier = classification(num_labels=3, z_dim=5)"
   ]
  },
  {
   "cell_type": "code",
   "execution_count": 50,
   "metadata": {},
   "outputs": [],
   "source": [
    "from sklearn.utils.class_weight import compute_class_weight\n",
    "class_weights=compute_class_weight(class_weight='balanced',classes=np.unique(labels), y=labels)\n",
    "class_weights=torch.tensor(class_weights,dtype=torch.float)"
   ]
  },
  {
   "cell_type": "code",
   "execution_count": 51,
   "metadata": {},
   "outputs": [
    {
     "data": {
      "text/plain": [
       "tensor([0.7277, 2.0617, 0.8766])"
      ]
     },
     "execution_count": 51,
     "metadata": {},
     "output_type": "execute_result"
    }
   ],
   "source": [
    "class_weights"
   ]
  },
  {
   "cell_type": "code",
   "execution_count": null,
   "metadata": {},
   "outputs": [],
   "source": []
  },
  {
   "cell_type": "code",
   "execution_count": 52,
   "metadata": {},
   "outputs": [],
   "source": [
    "optimizer = torch.optim.AdamW(classifier.parameters(), lr=0.001)\n",
    "loss_fn = nn.CrossEntropyLoss()\n",
    "\n",
    "#Training the classifier\n",
    "\n",
    "def train_classifier(classifier, optim, loss_fn, train_loader, val_loader, epochs=10):\n",
    "    for epoch in range(epochs):\n",
    "        cum_loss = 0\n",
    "        classifier.train()\n",
    "        correct_train = 0\n",
    "        total_train = 0\n",
    "        for i, (wave, time,label) in enumerate(train_loader):\n",
    "            optimizer.zero_grad()\n",
    "            output = classifier(wave,time)\n",
    "            train_predicted = torch.argmax(output, 1)\n",
    "            total_train += time.size(0)\n",
    "            correct_train += (train_predicted == label).sum().item()\n",
    "            loss = loss_fn(output,label)\n",
    "            cum_loss += loss.item()\n",
    "            loss.backward()\n",
    "            optimizer.step()\n",
    "        print(f\"Epoch {epoch} Iter {i} Loss {cum_loss/len(train_loader)}\")\n",
    "        print(f\"Epoch {epoch} Iter {i} Train Accuracy {correct_train / total_train}\")\n",
    "        classifier.eval()\n",
    "        correct = 0\n",
    "        total = 0\n",
    "        with torch.no_grad():\n",
    "            for i, (wave, time,label) in enumerate(val_loader):\n",
    "                output = classifier(wave,time)\n",
    "                predicted = torch.argmax(output, 1)\n",
    "                #print(predicted.shape)\n",
    "                total += time.size(0)\n",
    "                correct += (predicted == label).sum().item()\n",
    "            print(f\"Epoch {epoch} Validation Accuracy {correct / total}\")\n",
    "        \n"
   ]
  },
  {
   "cell_type": "code",
   "execution_count": null,
   "metadata": {},
   "outputs": [],
   "source": []
  },
  {
   "cell_type": "code",
   "execution_count": 53,
   "metadata": {},
   "outputs": [
    {
     "name": "stdout",
     "output_type": "stream",
     "text": [
      "Epoch 0 Iter 28 Loss 1.0185218658940545\n",
      "Epoch 0 Iter 28 Train Accuracy 0.5677777777777778\n",
      "Epoch 0 Validation Accuracy 0.39221556886227543\n",
      "Epoch 1 Iter 28 Loss 0.9065471003795492\n",
      "Epoch 1 Iter 28 Train Accuracy 0.6266666666666667\n",
      "Epoch 1 Validation Accuracy 0.3532934131736527\n",
      "Epoch 2 Iter 28 Loss 0.8813151758292626\n",
      "Epoch 2 Iter 28 Train Accuracy 0.6322222222222222\n",
      "Epoch 2 Validation Accuracy 0.40119760479041916\n",
      "Epoch 3 Iter 28 Loss 0.8960131242357451\n",
      "Epoch 3 Iter 28 Train Accuracy 0.63\n",
      "Epoch 3 Validation Accuracy 0.4221556886227545\n",
      "Epoch 4 Iter 28 Loss 0.8765642992381392\n",
      "Epoch 4 Iter 28 Train Accuracy 0.6311111111111111\n",
      "Epoch 4 Validation Accuracy 0.37425149700598803\n",
      "Epoch 5 Iter 28 Loss 0.8813127155961662\n",
      "Epoch 5 Iter 28 Train Accuracy 0.6422222222222222\n",
      "Epoch 5 Validation Accuracy 0.41317365269461076\n",
      "Epoch 6 Iter 28 Loss 0.8835263293364952\n",
      "Epoch 6 Iter 28 Train Accuracy 0.6322222222222222\n",
      "Epoch 6 Validation Accuracy 0.38622754491017963\n",
      "Epoch 7 Iter 28 Loss 0.9380496349827997\n",
      "Epoch 7 Iter 28 Train Accuracy 0.5755555555555556\n",
      "Epoch 7 Validation Accuracy 0.38922155688622756\n",
      "Epoch 8 Iter 28 Loss 0.8793281296203876\n",
      "Epoch 8 Iter 28 Train Accuracy 0.6366666666666667\n",
      "Epoch 8 Validation Accuracy 0.39820359281437123\n",
      "Epoch 9 Iter 28 Loss 0.8713916930659064\n",
      "Epoch 9 Iter 28 Train Accuracy 0.62\n",
      "Epoch 9 Validation Accuracy 0.4101796407185629\n",
      "Epoch 10 Iter 28 Loss 0.9098500876591123\n",
      "Epoch 10 Iter 28 Train Accuracy 0.6277777777777778\n",
      "Epoch 10 Validation Accuracy 0.44610778443113774\n",
      "Epoch 11 Iter 28 Loss 0.8957889532220775\n",
      "Epoch 11 Iter 28 Train Accuracy 0.6211111111111111\n",
      "Epoch 11 Validation Accuracy 0.38922155688622756\n",
      "Epoch 12 Iter 28 Loss 0.8622795384505699\n",
      "Epoch 12 Iter 28 Train Accuracy 0.6511111111111111\n",
      "Epoch 12 Validation Accuracy 0.38023952095808383\n",
      "Epoch 13 Iter 28 Loss 0.8525768456787899\n",
      "Epoch 13 Iter 28 Train Accuracy 0.6488888888888888\n",
      "Epoch 13 Validation Accuracy 0.44011976047904194\n",
      "Epoch 14 Iter 28 Loss 0.8850740173767353\n",
      "Epoch 14 Iter 28 Train Accuracy 0.6355555555555555\n",
      "Epoch 14 Validation Accuracy 0.36826347305389223\n",
      "Epoch 15 Iter 28 Loss 0.8596272941293388\n",
      "Epoch 15 Iter 28 Train Accuracy 0.64\n",
      "Epoch 15 Validation Accuracy 0.4431137724550898\n",
      "Epoch 16 Iter 28 Loss 0.9097806749672726\n",
      "Epoch 16 Iter 28 Train Accuracy 0.59\n",
      "Epoch 16 Validation Accuracy 0.4281437125748503\n",
      "Epoch 17 Iter 28 Loss 0.8547125910890514\n",
      "Epoch 17 Iter 28 Train Accuracy 0.6633333333333333\n",
      "Epoch 17 Validation Accuracy 0.39520958083832336\n",
      "Epoch 18 Iter 28 Loss 0.9074658792594383\n",
      "Epoch 18 Iter 28 Train Accuracy 0.6133333333333333\n",
      "Epoch 18 Validation Accuracy 0.3652694610778443\n",
      "Epoch 19 Iter 28 Loss 0.8795693640051216\n",
      "Epoch 19 Iter 28 Train Accuracy 0.6377777777777778\n",
      "Epoch 19 Validation Accuracy 0.3502994011976048\n",
      "Epoch 20 Iter 28 Loss 0.8686814493146436\n",
      "Epoch 20 Iter 28 Train Accuracy 0.6266666666666667\n",
      "Epoch 20 Validation Accuracy 0.39221556886227543\n",
      "Epoch 21 Iter 28 Loss 0.8832987403047496\n",
      "Epoch 21 Iter 28 Train Accuracy 0.63\n",
      "Epoch 21 Validation Accuracy 0.40718562874251496\n",
      "Epoch 22 Iter 28 Loss 0.882683554600025\n",
      "Epoch 22 Iter 28 Train Accuracy 0.6266666666666667\n",
      "Epoch 22 Validation Accuracy 0.38622754491017963\n",
      "Epoch 23 Iter 28 Loss 0.859559572976211\n",
      "Epoch 23 Iter 28 Train Accuracy 0.6288888888888889\n",
      "Epoch 23 Validation Accuracy 0.40119760479041916\n",
      "Epoch 24 Iter 28 Loss 0.8636684911004429\n",
      "Epoch 24 Iter 28 Train Accuracy 0.6388888888888888\n",
      "Epoch 24 Validation Accuracy 0.4311377245508982\n"
     ]
    }
   ],
   "source": [
    "train_classifier(classifier, optimizer, loss_fn, dataloader_train, dataloader_val, epochs=25)"
   ]
  },
  {
   "cell_type": "code",
   "execution_count": 54,
   "metadata": {},
   "outputs": [],
   "source": [
    "#Predict with the classifier\n",
    "\n",
    "def predict_classifier(classifier, dataloader):\n",
    "    predictions = []\n",
    "    classifier.eval()\n",
    "    with torch.no_grad():\n",
    "        for i, (wave, time,label) in enumerate(dataloader):\n",
    "            output = classifier(wave,time)\n",
    "            predicted = torch.argmax(output, 1)\n",
    "            predictions.append(predicted)\n",
    "    return predictions\n",
    "\n",
    "predictions = predict_classifier(classifier, dataloader_val)\n",
    "predictions = torch.cat(predictions, dim=0).detach().numpy()"
   ]
  },
  {
   "cell_type": "code",
   "execution_count": 55,
   "metadata": {},
   "outputs": [
    {
     "data": {
      "text/plain": [
       "334"
      ]
     },
     "execution_count": 55,
     "metadata": {},
     "output_type": "execute_result"
    }
   ],
   "source": [
    "len(predictions)"
   ]
  },
  {
   "cell_type": "code",
   "execution_count": 56,
   "metadata": {},
   "outputs": [
    {
     "data": {
      "image/png": "[encoded data removed]",
      "text/plain": [
       "<Figure size 600x400 with 2 Axes>"
      ]
     },
     "metadata": {},
     "output_type": "display_data"
    }
   ],
   "source": [
    "labelColor = ['r', 'g', 'b']\n",
    "labelColor = [labelColor[label] for label in predictions]\n",
    "#Plot the embeddings\n",
    "figureWidth=6\n",
    "figureHeight=4\n",
    "plt.figure(figsize=(figureWidth,figureHeight))\n",
    "panel1 = plt.axes([0.1, 0.1, 0.4, 0.8])\n",
    "panel2 = plt.axes([0.5, 0.1, 0.4, 0.8])\n",
    "\n",
    "panel1.scatter(embedding_waveform[:, 0], embedding_waveform[:, 1], color=labelColor, s=3)\n",
    "panel1.set_title(\"Waveform Embedding\")\n",
    "panel1.set_xticks([])\n",
    "panel1.set_yticks([])\n",
    "panel2.scatter(embedding_isi[:, 0], embedding_isi[:, 1], color=labelColor, s=3)\n",
    "panel2.set_title(\"ISI Embedding\")\n",
    "panel2.set_xticks([])\n",
    "panel2.set_yticks([])\n",
    "plt.show()"
   ]
  }
 ],
 "metadata": {
  "kernelspec": {
   "display_name": "electro_phys",
   "language": "python",
   "name": "python3"
  },
  "language_info": {
   "codemirror_mode": {
    "name": "ipython",
    "version": 3
   },
   "file_extension": ".py",
   "mimetype": "text/x-python",
   "name": "python",
   "nbconvert_exporter": "python",
   "pygments_lexer": "ipython3",
   "version": "3.10.13"
  }
 },
 "nbformat": 4,
 "nbformat_minor": 2
}
