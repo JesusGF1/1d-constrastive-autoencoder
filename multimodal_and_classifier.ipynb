{
 "cells": [
  {
   "cell_type": "code",
   "execution_count": 2,
   "metadata": {},
   "outputs": [],
   "source": [
    "from pytorch_lightning.utilities import grad_norm\n",
    "import torch\n",
    "import torch.nn as nn \n",
    "import torch.nn.functional as F\n",
    "from torch.utils.data import Dataset, DataLoader\n",
    "import numpy as np\n",
    "from copy import deepcopy\n",
    "from sklearn.metrics import silhouette_score\n",
    "import pandas as pd \n",
    "import torch.optim as optim\n",
    "from braingeneers.analysis import SpikeData\n",
    "import os\n",
    "import json\n",
    "import pytorch_lightning as pl\n",
    "from backbones import ResNet18Enc, ResNet18Dec\n",
    "import wandb\n",
    "import pickle\n",
    "from tqdm import tqdm\n",
    "import scanpy as sc \n",
    "import matplotlib.pyplot as plt \n",
    "from torch.optim.lr_scheduler import ReduceLROnPlateau\n",
    "import anndata as an \n",
    "from pytorch_lightning.callbacks import ModelCheckpoint, LearningRateMonitor, EarlyStopping\n",
    "import umap\n",
    "from collections import Counter\n"
   ]
  },
  {
   "cell_type": "code",
   "execution_count": 15,
   "metadata": {},
   "outputs": [],
   "source": [
    "# #File loader for the non labeled data\n",
    "# waveform_files = [\"data/\" + f for f in os.listdir(\"./data\") if f.endswith('.npy')]\n",
    "# meta_files = [f.replace('.npy', '.json') for f in waveform_files]\n",
    "\n",
    "# waveforms = []\n",
    "# isi_dist = []\n",
    "\n",
    "# for wf, mf in zip(waveform_files, meta_files):\n",
    "#     with open(mf, 'r') as file:\n",
    "#         json_data = json.load(file)\n",
    "\n",
    "#     sd = SpikeData([json_data[key]['train'] for key in json_data.keys()])\n",
    "#     trains = sd.train\n",
    "\n",
    "#     all_isi = sd.interspike_intervals()\n",
    "    \n",
    "#     bad_indices = []\n",
    "#     for idx, isi in enumerate(all_isi):\n",
    "#         hist, _ = np.histogram(isi[isi < 0.1], bins=64, density=True)\n",
    "#         if not np.isnan(hist).all():\n",
    "#             isi_dist.append(hist)\n",
    "#         else:\n",
    "#             bad_indices.append(idx)\n",
    "    \n",
    "#     waveform_data = np.load(wf)\n",
    "#     if bad_indices:\n",
    "#         waveform_data = np.delete(waveform_data, np.array(bad_indices), axis=0)\n",
    "\n",
    "#     waveforms.append(waveform_data)\n",
    "# waveforms = np.concatenate(waveforms, axis=0)\n",
    "# isi_dist = np.stack(isi_dist)\n"
   ]
  },
  {
   "cell_type": "code",
   "execution_count": 3,
   "metadata": {},
   "outputs": [],
   "source": [
    "waveform_files = [\"unlabeled_data_templates/processed_data/\" + f for f in os.listdir(\"./unlabeled_data_templates/processed_data/\") if f.endswith('templates.npy')]\n",
    "meta_files = [f.replace('templates.npy', 'isi_distribution.npy') for f in waveform_files]\n",
    "waveforms = []\n",
    "isi_dist = []\n",
    "for wf, mf in zip(waveform_files, meta_files):\n",
    "    waveform = np.load(wf)\n",
    "    #print(waveform.shape)\n",
    "    if waveform.shape[1] == 0:\n",
    "        continue\n",
    "    else:\n",
    "        waveform = np.squeeze(waveform, axis=0)\n",
    "        isi_dis = np.load(mf)\n",
    "        #print(waveform.shape)\n",
    "        #print(isi_dis.shape)\n",
    "        waveforms.append(waveform)\n",
    "        isi_dist.append(isi_dis)\n",
    "\n",
    "waveforms = np.concatenate(waveforms, axis=0)\n",
    "waveforms = (waveforms - waveforms.mean()) / waveforms.std()\n",
    "#0 1 normalization\n",
    "#waveforms = (waveforms - waveforms.min()) / (waveforms.max() - waveforms.min())\n",
    "\n",
    "isi_dists = np.concatenate(isi_dist)\n",
    "isi_dists = isi_dists / isi_dists.sum(axis=1, keepdims=True)\n"
   ]
  },
  {
   "cell_type": "code",
   "execution_count": 4,
   "metadata": {},
   "outputs": [
    {
     "data": {
      "text/plain": [
       "(3515, 3515)"
      ]
     },
     "execution_count": 4,
     "metadata": {},
     "output_type": "execute_result"
    }
   ],
   "source": [
    "len(waveforms), len(isi_dists)"
   ]
  },
  {
   "cell_type": "code",
   "execution_count": 5,
   "metadata": {},
   "outputs": [],
   "source": [
    "#Dataloader dataset\n",
    "class EphysDataset(Dataset):\n",
    "    def __init__(self, waveforms, isi_dists, normalize=True):\n",
    "        self.waveforms = np.array(waveforms)\n",
    "        self.isi_dists = np.array(isi_dists)\n",
    "        \n",
    "        assert len(self.waveforms) == len(self.isi_dists)\n",
    "        self.normalize = normalize\n",
    "        \n",
    "    def __getitem__(self, idx):\n",
    "        waveform = torch.as_tensor(self.waveforms[idx, ...]).float()\n",
    "        \n",
    "        isi_dist = torch.as_tensor(self.isi_dists[idx, ...]).float()\n",
    "        isi_dist = torch.log(isi_dist + 1)\n",
    "\n",
    "        if self.normalize:\n",
    "            #waveform = (waveform - waveform.mean()) / waveform.std()\n",
    "            #0 1 normalization\n",
    "            waveform = (waveform - waveform.min()) / (waveform.max() - waveform.min())\n",
    "            isi_dist = (isi_dist - isi_dist.mean()) / isi_dist.std()\n",
    "\n",
    "        waveform = waveform.view(1, 1, -1)\n",
    "        waveform = F.interpolate(waveform, size=(64,), mode='linear').view(1, -1)\n",
    "        \n",
    "        isi_dist = isi_dist.view(1, 1, -1)\n",
    "        isi_dist = F.interpolate(isi_dist, size=(64,), mode='linear').view(1, -1)\n",
    "\n",
    "        return waveform, isi_dist\n",
    "    \n",
    "    def __len__(self):\n",
    "        return len(self.waveforms)"
   ]
  },
  {
   "cell_type": "code",
   "execution_count": 108,
   "metadata": {},
   "outputs": [],
   "source": []
  },
  {
   "cell_type": "code",
   "execution_count": 6,
   "metadata": {},
   "outputs": [],
   "source": [
    "wf_train_nolabel, isi_train_nolabel = waveforms[:2500], isi_dists[:2500]\n",
    "wf_val_nolabel, isi_val_nolabel = waveforms[2500:], isi_dists[2500:]\n",
    "\n",
    "dataset_train = EphysDataset(wf_train_nolabel, isi_train_nolabel, normalize=False)\n",
    "\n",
    "dataloader_train = DataLoader(dataset_train, batch_size=32, shuffle=True)\n",
    "\n",
    "dataset_val = EphysDataset(wf_val_nolabel, isi_val_nolabel, normalize=False)\n",
    "dataloader_val = DataLoader(dataset_val, batch_size=32, shuffle=False)"
   ]
  },
  {
   "cell_type": "code",
   "execution_count": 7,
   "metadata": {},
   "outputs": [
    {
     "data": {
      "text/plain": [
       "array([2, 0, 2, ..., 2, 2, 2])"
      ]
     },
     "execution_count": 7,
     "metadata": {},
     "output_type": "execute_result"
    }
   ],
   "source": [
    "import numpy as np\n",
    "#File loader for warren's loaded data\n",
    "waveform = np.load('./labeled_data_warren_templates/waveforms.npy')\n",
    "isi_dist = np.load('./labeled_data_warren_templates/isi_dist.npy')\n",
    "labels = np.load('./labeled_data_warren_templates/onehotlabels.npy')\n",
    "\n",
    "#Waveform normalization using mean and std deviation\n",
    "waveform = waveform[:,0:50]\n",
    "waveform = (waveform - waveform.mean()) / waveform.std()\n",
    "#waveform = (waveform - waveform.min()) / (waveform.max() - waveform.min())\n",
    "#Normalize isi_dist to 1 per recording\n",
    "isi_dist = isi_dist / isi_dist.sum(axis=1, keepdims=True)\n",
    "\n",
    "# Convert one-hot to integer class\n",
    "labels = np.argmax(labels, axis=1)\n",
    "labels"
   ]
  },
  {
   "cell_type": "code",
   "execution_count": 8,
   "metadata": {},
   "outputs": [
    {
     "data": {
      "text/plain": [
       "(array([0, 1, 2]), array([285, 243, 699]))"
      ]
     },
     "execution_count": 8,
     "metadata": {},
     "output_type": "execute_result"
    }
   ],
   "source": [
    "len(isi_dist[0])\n",
    "#Check the label distribution\n",
    "np.unique(labels, return_counts=True)"
   ]
  },
  {
   "cell_type": "code",
   "execution_count": 9,
   "metadata": {},
   "outputs": [
    {
     "data": {
      "image/png": "[encoded data removed]",
      "text/plain": [
       "<Figure size 1000x1000 with 2 Axes>"
      ]
     },
     "metadata": {},
     "output_type": "display_data"
    }
   ],
   "source": [
    "indices_wf = [i for i in range(0, waveforms.shape[1])]\n",
    "indices_isi = [i for i in range(0, isi_dists.shape[1])]\n",
    "plt.figure(figsize=(10, 10))\n",
    "panel1 = plt.axes([0.1, 0.1, 0.4, 0.4])\n",
    "panel2 = plt.axes([0.1, 0.5, 0.4, 0.4])\n",
    "\n",
    "for i in range(0, waveforms.shape[0]):\n",
    "    panel1.plot(indices_wf, waveforms[i])\n",
    "\n",
    "#panel1.scatter(indices_wf, waveform[0], c='r', s=1)\n",
    "for i in range(0, isi_dists.shape[0]):\n",
    "    #print(isi_dist[i])\n",
    "    panel2.plot(indices_isi, isi_dists[i])"
   ]
  },
  {
   "cell_type": "code",
   "execution_count": 10,
   "metadata": {},
   "outputs": [
    {
     "data": {
      "image/png": "[encoded data removed]",
      "text/plain": [
       "<Figure size 1000x1000 with 2 Axes>"
      ]
     },
     "metadata": {},
     "output_type": "display_data"
    }
   ],
   "source": [
    "#Plot the data\n",
    "indices_wf = [i for i in range(0, waveform.shape[1])]\n",
    "indices_isi = [i for i in range(0, isi_dist.shape[1])]\n",
    "plt.figure(figsize=(10, 10))\n",
    "panel1 = plt.axes([0.1, 0.1, 0.4, 0.4])\n",
    "panel2 = plt.axes([0.1, 0.5, 0.4, 0.4])\n",
    "\n",
    "for i in range(0, waveform.shape[0]):\n",
    "    panel1.plot(indices_wf, waveform[i])\n",
    "\n",
    "#panel1.scatter(indices_wf, waveform[0], c='r', s=1)\n",
    "for i in range(0, isi_dist.shape[0]):\n",
    "    #print(isi_dist[i])\n",
    "    panel2.plot(indices_isi, isi_dist[i])"
   ]
  },
  {
   "cell_type": "code",
   "execution_count": 13,
   "metadata": {},
   "outputs": [],
   "source": [
    "class EphysDatasetLabeled(Dataset):\n",
    "    def __init__(self, waveforms, isi_dists,labels, normalize=True):\n",
    "        self.waveforms = np.array(waveforms)\n",
    "        self.isi_dists = np.array(isi_dists)\n",
    "        self.labels = np.array(labels)\n",
    "        print(len(self.waveforms) , len(self.isi_dists), len(self.labels))\n",
    "        assert len(self.waveforms) == len(self.isi_dists)\n",
    "        assert len(self.waveforms) == len(self.labels)\n",
    "        self.normalize = normalize\n",
    "        \n",
    "    def __getitem__(self, idx):\n",
    "        waveform = torch.as_tensor(self.waveforms[idx, ...]).float()\n",
    "        \n",
    "        isi_dist = torch.as_tensor(self.isi_dists[idx, ...]).float()\n",
    "        isi_dist = torch.log(isi_dist + 1)\n",
    "\n",
    "        label = torch.as_tensor(self.labels[idx]).long()\n",
    "        if self.normalize:\n",
    "            #waveform = (waveform - waveform.mean()) / waveform.std()\n",
    "            #0 1 normalization\n",
    "            waveform = (waveform - waveform.min()) / (waveform.max() - waveform.min())\n",
    "            isi_dist = (isi_dist - isi_dist.mean()) / isi_dist.std()\n",
    "\n",
    "        waveform = waveform.view(1, 1, -1)\n",
    "        waveform = F.interpolate(waveform, size=(64,), mode='linear').view(1, -1)\n",
    "        \n",
    "        isi_dist = isi_dist.view(1, 1, -1)\n",
    "        isi_dist = F.interpolate(isi_dist, size=(64,), mode='linear').view(1, -1)\n",
    "\n",
    "        return waveform, isi_dist, label\n",
    "    \n",
    "    def __len__(self):\n",
    "        return len(self.waveforms)"
   ]
  },
  {
   "cell_type": "code",
   "execution_count": 14,
   "metadata": {},
   "outputs": [],
   "source": [
    "def compute_class_weights(targets):\n",
    "    class_counts = Counter(targets)\n",
    "    total_count = len(targets)\n",
    "    class_weights = {cls: total_count/count for cls, count in class_counts.items()}\n",
    "    return class_weights\n",
    "def create_weighted_sampler(dataset):\n",
    "    targets = [dataset[i][1] for i in range(len(dataset))]\n",
    "    class_weights = compute_class_weights(targets)\n",
    "    weights = [class_weights[target] for target in targets]\n",
    "    \n",
    "    sampler = torch.utils.data.WeightedRandomSampler(weights, len(weights))\n",
    "    return sampler\n"
   ]
  },
  {
   "cell_type": "code",
   "execution_count": 15,
   "metadata": {},
   "outputs": [
    {
     "name": "stdout",
     "output_type": "stream",
     "text": [
      "900 900 900\n",
      "327 327 327\n",
      "(array([0, 1, 2]), array([136, 194, 570])) (array([0, 1, 2]), array([149,  49, 129]))\n"
     ]
    }
   ],
   "source": [
    "#Load EphysDatasetLabel\n",
    "\n",
    "wf_train, isi_train,label_train = waveform[:900], isi_dist[:900], labels[:900]\n",
    "wf_val, isi_val,label_val = waveform[900:], isi_dist[900:], labels[900:]\n",
    "\n",
    "dataset_train = EphysDatasetLabeled(wf_train, isi_train, label_train, normalize=False)\n",
    "sampler = create_weighted_sampler(dataset_train) #Ańadido aqui\n",
    "dataloader_train = DataLoader(dataset_train, batch_size=32, sampler=sampler)\n",
    "\n",
    "dataset_val = EphysDatasetLabeled(wf_val, isi_val, label_val, normalize=False)\n",
    "sampler = create_weighted_sampler(dataset_val) #Ańadido aqui\n",
    "dataloader_val = DataLoader(dataset_val, batch_size=32, sampler=sampler)\n",
    "#dataloader_val = DataLoader(dataset_val, batch_size=32, shuffle=False)\n",
    "\n",
    "#Check distribution of label train and label val\n",
    "print(np.unique(label_train, return_counts=True), np.unique(label_val, return_counts=True))"
   ]
  },
  {
   "cell_type": "code",
   "execution_count": 16,
   "metadata": {},
   "outputs": [
    {
     "data": {
      "image/png": "[encoded data removed]",
      "text/plain": [
       "<Figure size 1000x1000 with 2 Axes>"
      ]
     },
     "metadata": {},
     "output_type": "display_data"
    }
   ],
   "source": [
    "dataloader_waveform = []\n",
    "dataloader_isi = []\n",
    "dataloader_labels = []\n",
    "for i, (wave, time,label) in enumerate(dataloader_val):\n",
    "    dataloader_waveform.append(wave)\n",
    "    dataloader_isi.append(time)\n",
    "    dataloader_labels.append(label)\n",
    "\n",
    "dataloader_waveform = torch.cat(dataloader_waveform, dim=0)\n",
    "dataloader_isi = torch.cat(dataloader_isi, dim=0)\n",
    "dataloader_labels = torch.cat(dataloader_labels, dim=0)\n",
    "\n",
    "#Plot the data\n",
    "indices_wf = [i for i in range(0, 64)]\n",
    "indices_isi = [i for i in range(0, 64)]\n",
    "plt.figure(figsize=(10, 10))\n",
    "panel1 = plt.axes([0.1, 0.1, 0.4, 0.4])\n",
    "panel2 = plt.axes([0.1, 0.5, 0.4, 0.4])\n",
    "\n",
    "labelColor = ['r', 'g', 'b', 'y', 'm', 'c', 'k', 'w']\n",
    "\n",
    "for i in range(0, dataloader_waveform.shape[0]):\n",
    "    panel1.plot(indices_wf, dataloader_waveform[i].squeeze().numpy(), labelColor[dataloader_labels[i].numpy()])\n",
    "\n",
    "#panel1.scatter(indices_wf, waveform[0], c='r', s=1)\n",
    "for i in range(0, dataloader_waveform.shape[0]):\n",
    "    #print(isi_dist[i])\n",
    "    panel2.plot(indices_isi, dataloader_isi[i].squeeze().numpy(), labelColor[dataloader_labels[i].numpy()])\n",
    "\n",
    "\n",
    "    "
   ]
  },
  {
   "cell_type": "code",
   "execution_count": 17,
   "metadata": {},
   "outputs": [],
   "source": [
    "#Loss function\n",
    "\n",
    "def cross_entropy(preds, targets, reduction='none'):\n",
    "    log_softmax = nn.LogSoftmax(dim=-1)\n",
    "    loss = (-targets * log_softmax(preds)).sum(1)\n",
    "    if reduction == \"none\":\n",
    "        return loss\n",
    "    elif reduction == \"mean\":\n",
    "        return loss.mean()\n",
    "\n",
    "class CLIPLoss(nn.Module):\n",
    "    def __init__(self, temperature=0.5):\n",
    "        super().__init__()\n",
    "        self.register_buffer(\"temperature\", torch.tensor(temperature))\n",
    "            \n",
    "    def forward(self, emb_i, emb_j):\n",
    "        logits = (emb_i @ emb_j.T) / self.temperature\n",
    "        emb_i_similarity = emb_i @ emb_i.T\n",
    "        emb_j_similarity = emb_j @ emb_j.T\n",
    "\n",
    "        targets = F.softmax(\n",
    "            (emb_i_similarity + emb_j_similarity) / 2 * self.temperature, dim=-1\n",
    "        )\n",
    "\n",
    "        emb_i_loss = cross_entropy(logits, targets, reduction='none')\n",
    "        emb_j_loss = cross_entropy(logits.T, targets.T, reduction='none')\n",
    "        loss =  (emb_i_loss + emb_j_loss) / 2.0 # shape: (batch_size)\n",
    "        return loss.mean()"
   ]
  },
  {
   "cell_type": "code",
   "execution_count": 18,
   "metadata": {},
   "outputs": [],
   "source": [
    "class UnimodalModel(nn.Module):\n",
    "    def __init__(self, z_dim, projector=True):\n",
    "        super().__init__()\n",
    "        \n",
    "        self.encoder = nn.Sequential(\n",
    "            ResNet18Enc(z_dim=z_dim),\n",
    "            nn.Linear(z_dim*2, z_dim),\n",
    "        )\n",
    "        \n",
    "        self.decoder = nn.Sequential(\n",
    "            nn.BatchNorm1d(z_dim),\n",
    "            nn.Linear(z_dim, z_dim*2),\n",
    "            nn.BatchNorm1d(z_dim*2),\n",
    "            ResNet18Dec(z_dim=z_dim)\n",
    "        )\n",
    "        \n",
    "    def forward(self, x):\n",
    "        x = x + torch.randn_like(x)*0.1\n",
    "        enc_x = self.encoder(x)\n",
    "        dec_x = self.decoder(enc_x)\n",
    "        \n",
    "        return enc_x, dec_x\n",
    "\n",
    "class UnimodalEmbeddingModel(pl.LightningModule):\n",
    "    def __init__(self, mode, base_model):\n",
    "        super().__init__()\n",
    "        assert mode in (\"wave\", \"time\")\n",
    "        self.mode = mode\n",
    "        self.model = base_model\n",
    "\n",
    "        self.mse_loss = nn.MSELoss()\n",
    "        self.val_loss = []\n",
    "        self.train_loss = []\n",
    "\n",
    "    def training_step(self, batch, batch_idx):\n",
    "        if self.mode == \"wave\":\n",
    "            data = batch[0]\n",
    "        else:\n",
    "            data = batch[1]\n",
    "        \n",
    "        enc, dec = self.model(data)\n",
    "        loss = self.mse_loss(dec, data)\n",
    "        \n",
    "        norms = grad_norm(self.model.encoder, norm_type=2)\n",
    "        self.log_dict(norms)\n",
    "        norms = grad_norm(self.model.decoder, norm_type=2)\n",
    "        self.log_dict(norms)\n",
    "\n",
    "        self.train_loss.append(loss.item())\n",
    "        self.log('train_loss', loss)\n",
    "        \n",
    "        return loss\n",
    "\n",
    "    def validation_step(self, batch, batch_idx):\n",
    "        if self.mode == \"wave\":\n",
    "            data = batch[0]\n",
    "        else:\n",
    "            data = batch[1]\n",
    "        \n",
    "        enc, dec = self.model(data)\n",
    "        loss = self.mse_loss(dec, data)\n",
    "        \n",
    "        self.val_loss.append(loss.item())\n",
    "        self.log('val_loss', loss)\n",
    "        \n",
    "        return loss\n",
    "    \n",
    "    def on_validation_epoch_end(self):\n",
    "        avg_loss = sum(self.val_loss) / len(self.val_loss)\n",
    "        print(f\"Average validation loss is {avg_loss:.2f}\")\n",
    "        self.val_loss = []\n",
    "        \n",
    "    def on_train_epoch_end(self):\n",
    "        avg_loss = sum(self.train_loss) / len(self.train_loss)\n",
    "        print(f\"Average training loss is {avg_loss:.2f}\")\n",
    "        self.train_loss = []\n",
    "\n",
    "    def configure_optimizers(self):\n",
    "        optimizer = optim.AdamW(self.parameters(), lr=0.01)\n",
    "        lr_scheduler = optim.lr_scheduler.ReduceLROnPlateau(optimizer, factor=0.8)\n",
    "\n",
    "        return {\n",
    "            \"lr_scheduler\": {\n",
    "                \"scheduler\": lr_scheduler,\n",
    "                \"monitor\": \"val_loss\",\n",
    "            },\n",
    "            \"optimizer\": optimizer,\n",
    "        }\n",
    "    \n",
    "    def forward(self, x):\n",
    "        return self.model(x)"
   ]
  },
  {
   "cell_type": "code",
   "execution_count": 17,
   "metadata": {},
   "outputs": [
    {
     "name": "stdout",
     "output_type": "stream",
     "text": [
      "3515 3515\n",
      "1227 1227 1227\n"
     ]
    }
   ],
   "source": [
    "print(len(waveforms), len(isi_dists))\n",
    "print(len(waveform), len(isi_dist), len(labels))\n",
    "#Concatenate waveforms and waveform\n",
    "#waveforms = np.concatenate([waveforms, waveform], axis=0)"
   ]
  },
  {
   "cell_type": "code",
   "execution_count": null,
   "metadata": {},
   "outputs": [],
   "source": []
  },
  {
   "cell_type": "code",
   "execution_count": 19,
   "metadata": {},
   "outputs": [],
   "source": [
    "def train_unimodal_model(mode):\n",
    "    wandb.init(reinit=True)\n",
    "    bs = 64\n",
    "    wf_train = np.concatenate([waveforms[:1000], waveform[:800]], axis=0)\n",
    "    isi_train = np.concatenate([isi_dists[:1000], isi_dist[:800]], axis=0)\n",
    "    wf_val = waveforms[1000:]\n",
    "    isi_val = isi_dists[1000:]\n",
    "\n",
    "    traindata = EphysDataset(wf_train, isi_train)\n",
    "    valdata = EphysDataset(wf_val, isi_val)\n",
    "\n",
    "    train_loader = DataLoader(traindata, batch_size=bs, drop_last=True)\n",
    "    val_loader = DataLoader(valdata, batch_size=bs, drop_last=True)\n",
    "\n",
    "    base_model = UnimodalModel(z_dim=5)\n",
    "\n",
    "    model = UnimodalEmbeddingModel(mode=mode, base_model=base_model)\n",
    "    ckpt_callback = pl.callbacks.ModelCheckpoint(dirpath=f\"./unimodal_model/{mode}_model_templates_noise\", monitor=\"val_loss\")\n",
    "\n",
    "    trainer = pl.Trainer(\n",
    "        logger=pl.loggers.WandbLogger(),\n",
    "        callbacks=[ckpt_callback],\n",
    "        log_every_n_steps=5,\n",
    "        max_epochs=100,\n",
    "    )\n",
    "\n",
    "    trainer.fit(model, train_loader, val_loader)\n",
    "    \n",
    "    return base_model"
   ]
  },
  {
   "cell_type": "code",
   "execution_count": 20,
   "metadata": {},
   "outputs": [],
   "source": [
    "class MixedModel(nn.Module):\n",
    "    def __init__(self, z_dim, projector=True):\n",
    "        super().__init__()\n",
    "        \n",
    "        self.wave_encoder = nn.Sequential(\n",
    "            ResNet18Enc(z_dim=z_dim),\n",
    "            nn.Linear(z_dim*2, z_dim),\n",
    "        )\n",
    "        \n",
    "        self.wave_decoder = nn.Sequential(\n",
    "            nn.BatchNorm1d(z_dim),\n",
    "            nn.Linear(z_dim, z_dim*2),\n",
    "            nn.BatchNorm1d(z_dim*2),\n",
    "            ResNet18Dec(z_dim=z_dim)\n",
    "        )\n",
    "\n",
    "        self.time_encoder = nn.Sequential(\n",
    "            ResNet18Enc(z_dim=z_dim),\n",
    "            nn.Linear(z_dim*2, z_dim),\n",
    "        )\n",
    "        \n",
    "        self.time_decoder = nn.Sequential(\n",
    "            nn.BatchNorm1d(z_dim),\n",
    "            nn.Linear(z_dim, z_dim*2),\n",
    "            nn.BatchNorm1d(z_dim*2),\n",
    "            ResNet18Dec(z_dim=z_dim)\n",
    "        )\n",
    "        \n",
    "    def forward(self, wave, time):\n",
    "        e_wave = self.wave_encoder(wave)\n",
    "        e_time = self.time_encoder(time)\n",
    "\n",
    "        # e_wave = self.wave_projector(e_wave)\n",
    "        # e_time = self.time_projector(e_time)\n",
    "\n",
    "        d_wave, d_time = self.wave_decoder(e_wave), self.time_decoder(e_time)\n",
    "\n",
    "        return e_wave, e_time, d_wave, d_time"
   ]
  },
  {
   "cell_type": "code",
   "execution_count": 27,
   "metadata": {},
   "outputs": [],
   "source": [
    "# model = MixedModel(\n",
    "#     z_dim=5,\n",
    "# )\n",
    "\n",
    "# w, t = torch.randn(8, 1, 64), torch.randn(8, 1, 64)\n",
    "\n",
    "# x,y,z,w = model(w, t)\n",
    "# x.shape, y.shape, z.shape, w.shape"
   ]
  },
  {
   "cell_type": "code",
   "execution_count": 21,
   "metadata": {},
   "outputs": [],
   "source": [
    "base_model = MixedModel(z_dim=5)\n",
    "\n",
    "# with open('./unimodal_model/wave_model.pkl', 'rb') as f:\n",
    "#     wave_model = pickle.load(f)\n",
    "\n",
    "# with open('./unimodal_model/isi_model.pkl', 'rb') as f:\n",
    "#     time_model = pickle.load(f)"
   ]
  },
  {
   "cell_type": "code",
   "execution_count": 21,
   "metadata": {},
   "outputs": [
    {
     "name": "stderr",
     "output_type": "stream",
     "text": [
      "Failed to detect the name of this notebook, you can set it manually with the WANDB_NOTEBOOK_NAME environment variable to enable code saving.\n",
      "\u001b[34m\u001b[1mwandb\u001b[0m: Currently logged in as: \u001b[33mjesusgf1\u001b[0m (\u001b[33mmostajo-group\u001b[0m). Use \u001b[1m`wandb login --relogin`\u001b[0m to force relogin\n"
     ]
    },
    {
     "data": {
      "text/html": [
       "wandb version 0.17.0 is available!  To upgrade, please run:\n",
       " $ pip install wandb --upgrade"
      ],
      "text/plain": [
       "<IPython.core.display.HTML object>"
      ]
     },
     "metadata": {},
     "output_type": "display_data"
    },
    {
     "data": {
      "text/html": [
       "Tracking run with wandb version 0.16.0"
      ],
      "text/plain": [
       "<IPython.core.display.HTML object>"
      ]
     },
     "metadata": {},
     "output_type": "display_data"
    },
    {
     "data": {
      "text/html": [
       "Run data is saved locally in <code>/Users/jesusgf/Desktop/ephys_autoencoder/1d-constrastive-autoencoder/wandb/run-20240523_095034-gl4k1nj6</code>"
      ],
      "text/plain": [
       "<IPython.core.display.HTML object>"
      ]
     },
     "metadata": {},
     "output_type": "display_data"
    },
    {
     "data": {
      "text/html": [
       "Syncing run <strong><a href='https://wandb.ai/mostajo-group/1d-constrastive-autoencoder/runs/gl4k1nj6' target=\"_blank\">rural-wave-12</a></strong> to <a href='https://wandb.ai/mostajo-group/1d-constrastive-autoencoder' target=\"_blank\">Weights & Biases</a> (<a href='https://wandb.me/run' target=\"_blank\">docs</a>)<br/>"
      ],
      "text/plain": [
       "<IPython.core.display.HTML object>"
      ]
     },
     "metadata": {},
     "output_type": "display_data"
    },
    {
     "data": {
      "text/html": [
       " View project at <a href='https://wandb.ai/mostajo-group/1d-constrastive-autoencoder' target=\"_blank\">https://wandb.ai/mostajo-group/1d-constrastive-autoencoder</a>"
      ],
      "text/plain": [
       "<IPython.core.display.HTML object>"
      ]
     },
     "metadata": {},
     "output_type": "display_data"
    },
    {
     "data": {
      "text/html": [
       " View run at <a href='https://wandb.ai/mostajo-group/1d-constrastive-autoencoder/runs/gl4k1nj6' target=\"_blank\">https://wandb.ai/mostajo-group/1d-constrastive-autoencoder/runs/gl4k1nj6</a>"
      ],
      "text/plain": [
       "<IPython.core.display.HTML object>"
      ]
     },
     "metadata": {},
     "output_type": "display_data"
    },
    {
     "name": "stderr",
     "output_type": "stream",
     "text": [
      "GPU available: True (mps), used: True\n",
      "TPU available: False, using: 0 TPU cores\n",
      "IPU available: False, using: 0 IPUs\n",
      "HPU available: False, using: 0 HPUs\n",
      "/Users/jesusgf/opt/miniconda3/envs/electro_phys/lib/python3.10/site-packages/pytorch_lightning/loggers/wandb.py:389: There is a wandb run already in progress and newly created instances of `WandbLogger` will reuse this run. If this is not desired, call `wandb.finish()` before instantiating `WandbLogger`.\n",
      "/Users/jesusgf/opt/miniconda3/envs/electro_phys/lib/python3.10/site-packages/pytorch_lightning/callbacks/model_checkpoint.py:639: Checkpoint directory ./unimodal_model/wave_model_templates_noise exists and is not empty.\n",
      "\n",
      "  | Name     | Type          | Params\n",
      "-------------------------------------------\n",
      "0 | model    | UnimodalModel | 8.0 M \n",
      "1 | mse_loss | MSELoss       | 0     \n",
      "-------------------------------------------\n",
      "8.0 M     Trainable params\n",
      "0         Non-trainable params\n",
      "8.0 M     Total params\n",
      "32.182    Total estimated model params size (MB)\n"
     ]
    },
    {
     "data": {
      "application/vnd.jupyter.widget-view+json": {
       "model_id": "426e16e80af349b48872e4dbb1844988",
       "version_major": 2,
       "version_minor": 0
      },
      "text/plain": [
       "Sanity Checking: |          | 0/? [00:00<?, ?it/s]"
      ]
     },
     "metadata": {},
     "output_type": "display_data"
    },
    {
     "name": "stderr",
     "output_type": "stream",
     "text": [
      "/Users/jesusgf/opt/miniconda3/envs/electro_phys/lib/python3.10/site-packages/pytorch_lightning/trainer/connectors/data_connector.py:441: The 'val_dataloader' does not have many workers which may be a bottleneck. Consider increasing the value of the `num_workers` argument` to `num_workers=9` in the `DataLoader` to improve performance.\n"
     ]
    },
    {
     "name": "stdout",
     "output_type": "stream",
     "text": [
      "Average validation loss is 0.42\n"
     ]
    },
    {
     "name": "stderr",
     "output_type": "stream",
     "text": [
      "/Users/jesusgf/opt/miniconda3/envs/electro_phys/lib/python3.10/site-packages/pytorch_lightning/trainer/connectors/data_connector.py:441: The 'train_dataloader' does not have many workers which may be a bottleneck. Consider increasing the value of the `num_workers` argument` to `num_workers=9` in the `DataLoader` to improve performance.\n"
     ]
    },
    {
     "data": {
      "application/vnd.jupyter.widget-view+json": {
       "model_id": "ab095e5ad9584326bc220f0df1439885",
       "version_major": 2,
       "version_minor": 0
      },
      "text/plain": [
       "Training: |          | 0/? [00:00<?, ?it/s]"
      ]
     },
     "metadata": {},
     "output_type": "display_data"
    },
    {
     "data": {
      "application/vnd.jupyter.widget-view+json": {
       "model_id": "6076d0252e724a9da63e0c7d6b3debab",
       "version_major": 2,
       "version_minor": 0
      },
      "text/plain": [
       "Validation: |          | 0/? [00:00<?, ?it/s]"
      ]
     },
     "metadata": {},
     "output_type": "display_data"
    },
    {
     "name": "stdout",
     "output_type": "stream",
     "text": [
      "Average validation loss is 34.92\n",
      "Average training loss is 0.91\n"
     ]
    },
    {
     "data": {
      "application/vnd.jupyter.widget-view+json": {
       "model_id": "1890800df46a432a86c63834535d1339",
       "version_major": 2,
       "version_minor": 0
      },
      "text/plain": [
       "Validation: |          | 0/? [00:00<?, ?it/s]"
      ]
     },
     "metadata": {},
     "output_type": "display_data"
    },
    {
     "name": "stdout",
     "output_type": "stream",
     "text": [
      "Average validation loss is 0.82\n",
      "Average training loss is 0.07\n"
     ]
    },
    {
     "data": {
      "application/vnd.jupyter.widget-view+json": {
       "model_id": "a625badc39de4ae2894d899f6038a54a",
       "version_major": 2,
       "version_minor": 0
      },
      "text/plain": [
       "Validation: |          | 0/? [00:00<?, ?it/s]"
      ]
     },
     "metadata": {},
     "output_type": "display_data"
    },
    {
     "name": "stdout",
     "output_type": "stream",
     "text": [
      "Average validation loss is 0.06\n",
      "Average training loss is 0.06\n"
     ]
    },
    {
     "data": {
      "application/vnd.jupyter.widget-view+json": {
       "model_id": "9d94c4317b6544d798be3e14b27ebc76",
       "version_major": 2,
       "version_minor": 0
      },
      "text/plain": [
       "Validation: |          | 0/? [00:00<?, ?it/s]"
      ]
     },
     "metadata": {},
     "output_type": "display_data"
    },
    {
     "name": "stdout",
     "output_type": "stream",
     "text": [
      "Average validation loss is 0.05\n",
      "Average training loss is 0.05\n"
     ]
    },
    {
     "data": {
      "application/vnd.jupyter.widget-view+json": {
       "model_id": "785b40b712354f37b034336622f185fc",
       "version_major": 2,
       "version_minor": 0
      },
      "text/plain": [
       "Validation: |          | 0/? [00:00<?, ?it/s]"
      ]
     },
     "metadata": {},
     "output_type": "display_data"
    },
    {
     "name": "stdout",
     "output_type": "stream",
     "text": [
      "Average validation loss is 0.04\n",
      "Average training loss is 0.05\n"
     ]
    },
    {
     "data": {
      "application/vnd.jupyter.widget-view+json": {
       "model_id": "6a94707c07454d5ab9e4469075086039",
       "version_major": 2,
       "version_minor": 0
      },
      "text/plain": [
       "Validation: |          | 0/? [00:00<?, ?it/s]"
      ]
     },
     "metadata": {},
     "output_type": "display_data"
    },
    {
     "name": "stdout",
     "output_type": "stream",
     "text": [
      "Average validation loss is 0.05\n",
      "Average training loss is 0.03\n"
     ]
    },
    {
     "data": {
      "application/vnd.jupyter.widget-view+json": {
       "model_id": "5f04e4e7780744d8b1629a5889ef64c0",
       "version_major": 2,
       "version_minor": 0
      },
      "text/plain": [
       "Validation: |          | 0/? [00:00<?, ?it/s]"
      ]
     },
     "metadata": {},
     "output_type": "display_data"
    },
    {
     "name": "stdout",
     "output_type": "stream",
     "text": [
      "Average validation loss is 0.03\n",
      "Average training loss is 0.04\n"
     ]
    },
    {
     "data": {
      "application/vnd.jupyter.widget-view+json": {
       "model_id": "e3a1ab010ec545939c1b49123cfe059e",
       "version_major": 2,
       "version_minor": 0
      },
      "text/plain": [
       "Validation: |          | 0/? [00:00<?, ?it/s]"
      ]
     },
     "metadata": {},
     "output_type": "display_data"
    },
    {
     "name": "stdout",
     "output_type": "stream",
     "text": [
      "Average validation loss is 0.02\n",
      "Average training loss is 0.03\n"
     ]
    },
    {
     "data": {
      "application/vnd.jupyter.widget-view+json": {
       "model_id": "572c6102d075444db805fcd4ff1594b9",
       "version_major": 2,
       "version_minor": 0
      },
      "text/plain": [
       "Validation: |          | 0/? [00:00<?, ?it/s]"
      ]
     },
     "metadata": {},
     "output_type": "display_data"
    },
    {
     "name": "stdout",
     "output_type": "stream",
     "text": [
      "Average validation loss is 0.02\n",
      "Average training loss is 0.03\n"
     ]
    },
    {
     "data": {
      "application/vnd.jupyter.widget-view+json": {
       "model_id": "895970817d92413c8516a3e7298459f8",
       "version_major": 2,
       "version_minor": 0
      },
      "text/plain": [
       "Validation: |          | 0/? [00:00<?, ?it/s]"
      ]
     },
     "metadata": {},
     "output_type": "display_data"
    },
    {
     "name": "stdout",
     "output_type": "stream",
     "text": [
      "Average validation loss is 0.02\n",
      "Average training loss is 0.03\n"
     ]
    },
    {
     "data": {
      "application/vnd.jupyter.widget-view+json": {
       "model_id": "6726dfd92b014c07b148416b70b4b6a9",
       "version_major": 2,
       "version_minor": 0
      },
      "text/plain": [
       "Validation: |          | 0/? [00:00<?, ?it/s]"
      ]
     },
     "metadata": {},
     "output_type": "display_data"
    },
    {
     "name": "stdout",
     "output_type": "stream",
     "text": [
      "Average validation loss is 0.02\n",
      "Average training loss is 0.03\n"
     ]
    },
    {
     "data": {
      "application/vnd.jupyter.widget-view+json": {
       "model_id": "b609917fba6a417da7ee3e67d6f7f357",
       "version_major": 2,
       "version_minor": 0
      },
      "text/plain": [
       "Validation: |          | 0/? [00:00<?, ?it/s]"
      ]
     },
     "metadata": {},
     "output_type": "display_data"
    },
    {
     "name": "stdout",
     "output_type": "stream",
     "text": [
      "Average validation loss is 0.02\n",
      "Average training loss is 0.03\n"
     ]
    },
    {
     "data": {
      "application/vnd.jupyter.widget-view+json": {
       "model_id": "df0e97666ead46dd977a11e4ae1c4599",
       "version_major": 2,
       "version_minor": 0
      },
      "text/plain": [
       "Validation: |          | 0/? [00:00<?, ?it/s]"
      ]
     },
     "metadata": {},
     "output_type": "display_data"
    },
    {
     "name": "stdout",
     "output_type": "stream",
     "text": [
      "Average validation loss is 0.02\n",
      "Average training loss is 0.02\n"
     ]
    },
    {
     "data": {
      "application/vnd.jupyter.widget-view+json": {
       "model_id": "65deba9ae6324856ae99ff84e2823b3a",
       "version_major": 2,
       "version_minor": 0
      },
      "text/plain": [
       "Validation: |          | 0/? [00:00<?, ?it/s]"
      ]
     },
     "metadata": {},
     "output_type": "display_data"
    },
    {
     "name": "stdout",
     "output_type": "stream",
     "text": [
      "Average validation loss is 0.02\n",
      "Average training loss is 0.02\n"
     ]
    },
    {
     "data": {
      "application/vnd.jupyter.widget-view+json": {
       "model_id": "195d00f25e614ba3b9715c1240e55d5f",
       "version_major": 2,
       "version_minor": 0
      },
      "text/plain": [
       "Validation: |          | 0/? [00:00<?, ?it/s]"
      ]
     },
     "metadata": {},
     "output_type": "display_data"
    },
    {
     "name": "stdout",
     "output_type": "stream",
     "text": [
      "Average validation loss is 0.01\n",
      "Average training loss is 0.02\n"
     ]
    },
    {
     "data": {
      "application/vnd.jupyter.widget-view+json": {
       "model_id": "220dd4ce4aa74097b6a9dfbacb5f6b9d",
       "version_major": 2,
       "version_minor": 0
      },
      "text/plain": [
       "Validation: |          | 0/? [00:00<?, ?it/s]"
      ]
     },
     "metadata": {},
     "output_type": "display_data"
    },
    {
     "name": "stdout",
     "output_type": "stream",
     "text": [
      "Average validation loss is 0.02\n",
      "Average training loss is 0.02\n"
     ]
    },
    {
     "data": {
      "application/vnd.jupyter.widget-view+json": {
       "model_id": "5ee100c0fc674435a853c3471ceef4e8",
       "version_major": 2,
       "version_minor": 0
      },
      "text/plain": [
       "Validation: |          | 0/? [00:00<?, ?it/s]"
      ]
     },
     "metadata": {},
     "output_type": "display_data"
    },
    {
     "name": "stdout",
     "output_type": "stream",
     "text": [
      "Average validation loss is 0.02\n",
      "Average training loss is 0.02\n"
     ]
    },
    {
     "data": {
      "application/vnd.jupyter.widget-view+json": {
       "model_id": "666328bfaeb140c6b7e06bca64ed07eb",
       "version_major": 2,
       "version_minor": 0
      },
      "text/plain": [
       "Validation: |          | 0/? [00:00<?, ?it/s]"
      ]
     },
     "metadata": {},
     "output_type": "display_data"
    },
    {
     "name": "stdout",
     "output_type": "stream",
     "text": [
      "Average validation loss is 0.02\n",
      "Average training loss is 0.02\n"
     ]
    },
    {
     "data": {
      "application/vnd.jupyter.widget-view+json": {
       "model_id": "b8abf39750cc4d8699db1018ff6c52dd",
       "version_major": 2,
       "version_minor": 0
      },
      "text/plain": [
       "Validation: |          | 0/? [00:00<?, ?it/s]"
      ]
     },
     "metadata": {},
     "output_type": "display_data"
    },
    {
     "name": "stdout",
     "output_type": "stream",
     "text": [
      "Average validation loss is 0.01\n",
      "Average training loss is 0.02\n"
     ]
    },
    {
     "data": {
      "application/vnd.jupyter.widget-view+json": {
       "model_id": "b69007c1482849e1baefd5d984b9fdf4",
       "version_major": 2,
       "version_minor": 0
      },
      "text/plain": [
       "Validation: |          | 0/? [00:00<?, ?it/s]"
      ]
     },
     "metadata": {},
     "output_type": "display_data"
    },
    {
     "name": "stdout",
     "output_type": "stream",
     "text": [
      "Average validation loss is 0.02\n",
      "Average training loss is 0.02\n"
     ]
    },
    {
     "data": {
      "application/vnd.jupyter.widget-view+json": {
       "model_id": "3f546c6e7e004ca18fb415bc0b642877",
       "version_major": 2,
       "version_minor": 0
      },
      "text/plain": [
       "Validation: |          | 0/? [00:00<?, ?it/s]"
      ]
     },
     "metadata": {},
     "output_type": "display_data"
    },
    {
     "name": "stdout",
     "output_type": "stream",
     "text": [
      "Average validation loss is 0.02\n",
      "Average training loss is 0.02\n"
     ]
    },
    {
     "data": {
      "application/vnd.jupyter.widget-view+json": {
       "model_id": "a11b42dcd9ba4ef1b246dd8399251530",
       "version_major": 2,
       "version_minor": 0
      },
      "text/plain": [
       "Validation: |          | 0/? [00:00<?, ?it/s]"
      ]
     },
     "metadata": {},
     "output_type": "display_data"
    },
    {
     "name": "stdout",
     "output_type": "stream",
     "text": [
      "Average validation loss is 0.01\n",
      "Average training loss is 0.02\n"
     ]
    },
    {
     "data": {
      "application/vnd.jupyter.widget-view+json": {
       "model_id": "1070913a6cee44d2834df5824dae2083",
       "version_major": 2,
       "version_minor": 0
      },
      "text/plain": [
       "Validation: |          | 0/? [00:00<?, ?it/s]"
      ]
     },
     "metadata": {},
     "output_type": "display_data"
    },
    {
     "name": "stdout",
     "output_type": "stream",
     "text": [
      "Average validation loss is 0.02\n",
      "Average training loss is 0.02\n"
     ]
    },
    {
     "data": {
      "application/vnd.jupyter.widget-view+json": {
       "model_id": "c3f418e8284a41358563545bb0e39e6d",
       "version_major": 2,
       "version_minor": 0
      },
      "text/plain": [
       "Validation: |          | 0/? [00:00<?, ?it/s]"
      ]
     },
     "metadata": {},
     "output_type": "display_data"
    },
    {
     "name": "stdout",
     "output_type": "stream",
     "text": [
      "Average validation loss is 0.02\n",
      "Average training loss is 0.02\n"
     ]
    },
    {
     "data": {
      "application/vnd.jupyter.widget-view+json": {
       "model_id": "5202a109ddec4737901bae519328ad13",
       "version_major": 2,
       "version_minor": 0
      },
      "text/plain": [
       "Validation: |          | 0/? [00:00<?, ?it/s]"
      ]
     },
     "metadata": {},
     "output_type": "display_data"
    },
    {
     "name": "stdout",
     "output_type": "stream",
     "text": [
      "Average validation loss is 0.02\n",
      "Average training loss is 0.02\n"
     ]
    },
    {
     "data": {
      "application/vnd.jupyter.widget-view+json": {
       "model_id": "c1b9bb37efe942fdb685b4533a99f628",
       "version_major": 2,
       "version_minor": 0
      },
      "text/plain": [
       "Validation: |          | 0/? [00:00<?, ?it/s]"
      ]
     },
     "metadata": {},
     "output_type": "display_data"
    },
    {
     "name": "stdout",
     "output_type": "stream",
     "text": [
      "Average validation loss is 0.02\n",
      "Average training loss is 0.02\n"
     ]
    },
    {
     "data": {
      "application/vnd.jupyter.widget-view+json": {
       "model_id": "29470266275242798ed8da915ce3af78",
       "version_major": 2,
       "version_minor": 0
      },
      "text/plain": [
       "Validation: |          | 0/? [00:00<?, ?it/s]"
      ]
     },
     "metadata": {},
     "output_type": "display_data"
    },
    {
     "name": "stdout",
     "output_type": "stream",
     "text": [
      "Average validation loss is 0.02\n",
      "Average training loss is 0.02\n"
     ]
    },
    {
     "data": {
      "application/vnd.jupyter.widget-view+json": {
       "model_id": "ff11ba21aeaf4d67b4e9b582c30c03a2",
       "version_major": 2,
       "version_minor": 0
      },
      "text/plain": [
       "Validation: |          | 0/? [00:00<?, ?it/s]"
      ]
     },
     "metadata": {},
     "output_type": "display_data"
    },
    {
     "name": "stdout",
     "output_type": "stream",
     "text": [
      "Average validation loss is 0.02\n",
      "Average training loss is 0.02\n"
     ]
    },
    {
     "data": {
      "application/vnd.jupyter.widget-view+json": {
       "model_id": "f4ae5a3f69f34f20ac611c45c82162a7",
       "version_major": 2,
       "version_minor": 0
      },
      "text/plain": [
       "Validation: |          | 0/? [00:00<?, ?it/s]"
      ]
     },
     "metadata": {},
     "output_type": "display_data"
    },
    {
     "name": "stdout",
     "output_type": "stream",
     "text": [
      "Average validation loss is 0.01\n",
      "Average training loss is 0.02\n"
     ]
    },
    {
     "data": {
      "application/vnd.jupyter.widget-view+json": {
       "model_id": "b93c34773c584e998f2f18932d99dd23",
       "version_major": 2,
       "version_minor": 0
      },
      "text/plain": [
       "Validation: |          | 0/? [00:00<?, ?it/s]"
      ]
     },
     "metadata": {},
     "output_type": "display_data"
    },
    {
     "name": "stdout",
     "output_type": "stream",
     "text": [
      "Average validation loss is 0.02\n",
      "Average training loss is 0.02\n"
     ]
    },
    {
     "data": {
      "application/vnd.jupyter.widget-view+json": {
       "model_id": "82a4f6d027d14225b6bcf7e78b1cba99",
       "version_major": 2,
       "version_minor": 0
      },
      "text/plain": [
       "Validation: |          | 0/? [00:00<?, ?it/s]"
      ]
     },
     "metadata": {},
     "output_type": "display_data"
    },
    {
     "name": "stdout",
     "output_type": "stream",
     "text": [
      "Average validation loss is 0.02\n",
      "Average training loss is 0.02\n"
     ]
    },
    {
     "data": {
      "application/vnd.jupyter.widget-view+json": {
       "model_id": "96da4ad102674675bf97f5a8d8a5b002",
       "version_major": 2,
       "version_minor": 0
      },
      "text/plain": [
       "Validation: |          | 0/? [00:00<?, ?it/s]"
      ]
     },
     "metadata": {},
     "output_type": "display_data"
    },
    {
     "name": "stdout",
     "output_type": "stream",
     "text": [
      "Average validation loss is 0.01\n",
      "Average training loss is 0.02\n"
     ]
    },
    {
     "data": {
      "application/vnd.jupyter.widget-view+json": {
       "model_id": "55da041bb5f44410b3fd95562123173e",
       "version_major": 2,
       "version_minor": 0
      },
      "text/plain": [
       "Validation: |          | 0/? [00:00<?, ?it/s]"
      ]
     },
     "metadata": {},
     "output_type": "display_data"
    },
    {
     "name": "stdout",
     "output_type": "stream",
     "text": [
      "Average validation loss is 0.02\n",
      "Average training loss is 0.02\n"
     ]
    },
    {
     "data": {
      "application/vnd.jupyter.widget-view+json": {
       "model_id": "6d5cda0e841f425986edafd008ce81da",
       "version_major": 2,
       "version_minor": 0
      },
      "text/plain": [
       "Validation: |          | 0/? [00:00<?, ?it/s]"
      ]
     },
     "metadata": {},
     "output_type": "display_data"
    },
    {
     "name": "stdout",
     "output_type": "stream",
     "text": [
      "Average validation loss is 0.02\n",
      "Average training loss is 0.02\n"
     ]
    },
    {
     "data": {
      "application/vnd.jupyter.widget-view+json": {
       "model_id": "a1082a2bdee4469193638053c0263bd8",
       "version_major": 2,
       "version_minor": 0
      },
      "text/plain": [
       "Validation: |          | 0/? [00:00<?, ?it/s]"
      ]
     },
     "metadata": {},
     "output_type": "display_data"
    },
    {
     "name": "stdout",
     "output_type": "stream",
     "text": [
      "Average validation loss is 0.02\n",
      "Average training loss is 0.02\n"
     ]
    },
    {
     "data": {
      "application/vnd.jupyter.widget-view+json": {
       "model_id": "26d3e12cc6f6468694974229cb00afe9",
       "version_major": 2,
       "version_minor": 0
      },
      "text/plain": [
       "Validation: |          | 0/? [00:00<?, ?it/s]"
      ]
     },
     "metadata": {},
     "output_type": "display_data"
    },
    {
     "name": "stdout",
     "output_type": "stream",
     "text": [
      "Average validation loss is 0.02\n",
      "Average training loss is 0.02\n"
     ]
    },
    {
     "data": {
      "application/vnd.jupyter.widget-view+json": {
       "model_id": "28a96b09681e497d8edd80516978bdc8",
       "version_major": 2,
       "version_minor": 0
      },
      "text/plain": [
       "Validation: |          | 0/? [00:00<?, ?it/s]"
      ]
     },
     "metadata": {},
     "output_type": "display_data"
    },
    {
     "name": "stdout",
     "output_type": "stream",
     "text": [
      "Average validation loss is 0.02\n",
      "Average training loss is 0.02\n"
     ]
    },
    {
     "data": {
      "application/vnd.jupyter.widget-view+json": {
       "model_id": "3c43b7d2f5ad4e5983c08eaa3e9afb09",
       "version_major": 2,
       "version_minor": 0
      },
      "text/plain": [
       "Validation: |          | 0/? [00:00<?, ?it/s]"
      ]
     },
     "metadata": {},
     "output_type": "display_data"
    },
    {
     "name": "stdout",
     "output_type": "stream",
     "text": [
      "Average validation loss is 0.02\n",
      "Average training loss is 0.02\n"
     ]
    },
    {
     "data": {
      "application/vnd.jupyter.widget-view+json": {
       "model_id": "ec8baf72052049a2a77a43223081902c",
       "version_major": 2,
       "version_minor": 0
      },
      "text/plain": [
       "Validation: |          | 0/? [00:00<?, ?it/s]"
      ]
     },
     "metadata": {},
     "output_type": "display_data"
    },
    {
     "name": "stdout",
     "output_type": "stream",
     "text": [
      "Average validation loss is 0.02\n",
      "Average training loss is 0.02\n"
     ]
    },
    {
     "data": {
      "application/vnd.jupyter.widget-view+json": {
       "model_id": "2e304ae1affd41b693aa0e2fc6673e0c",
       "version_major": 2,
       "version_minor": 0
      },
      "text/plain": [
       "Validation: |          | 0/? [00:00<?, ?it/s]"
      ]
     },
     "metadata": {},
     "output_type": "display_data"
    },
    {
     "name": "stdout",
     "output_type": "stream",
     "text": [
      "Average validation loss is 0.02\n",
      "Average training loss is 0.02\n"
     ]
    },
    {
     "data": {
      "application/vnd.jupyter.widget-view+json": {
       "model_id": "5db6ef15fae3425088d38f20936b1af1",
       "version_major": 2,
       "version_minor": 0
      },
      "text/plain": [
       "Validation: |          | 0/? [00:00<?, ?it/s]"
      ]
     },
     "metadata": {},
     "output_type": "display_data"
    },
    {
     "name": "stdout",
     "output_type": "stream",
     "text": [
      "Average validation loss is 0.02\n",
      "Average training loss is 0.02\n"
     ]
    },
    {
     "data": {
      "application/vnd.jupyter.widget-view+json": {
       "model_id": "4bb4d9291a11464e855fd5739d105777",
       "version_major": 2,
       "version_minor": 0
      },
      "text/plain": [
       "Validation: |          | 0/? [00:00<?, ?it/s]"
      ]
     },
     "metadata": {},
     "output_type": "display_data"
    },
    {
     "name": "stdout",
     "output_type": "stream",
     "text": [
      "Average validation loss is 0.02\n",
      "Average training loss is 0.02\n"
     ]
    },
    {
     "data": {
      "application/vnd.jupyter.widget-view+json": {
       "model_id": "6c5178ddf197477fa6bb68e4e5573fe3",
       "version_major": 2,
       "version_minor": 0
      },
      "text/plain": [
       "Validation: |          | 0/? [00:00<?, ?it/s]"
      ]
     },
     "metadata": {},
     "output_type": "display_data"
    },
    {
     "name": "stdout",
     "output_type": "stream",
     "text": [
      "Average validation loss is 0.02\n",
      "Average training loss is 0.02\n"
     ]
    },
    {
     "data": {
      "application/vnd.jupyter.widget-view+json": {
       "model_id": "fa949e189c034295928e28838bc6e6aa",
       "version_major": 2,
       "version_minor": 0
      },
      "text/plain": [
       "Validation: |          | 0/? [00:00<?, ?it/s]"
      ]
     },
     "metadata": {},
     "output_type": "display_data"
    },
    {
     "name": "stdout",
     "output_type": "stream",
     "text": [
      "Average validation loss is 0.02\n",
      "Average training loss is 0.02\n"
     ]
    },
    {
     "data": {
      "application/vnd.jupyter.widget-view+json": {
       "model_id": "d158ea05c127456a990434c7adc1a5be",
       "version_major": 2,
       "version_minor": 0
      },
      "text/plain": [
       "Validation: |          | 0/? [00:00<?, ?it/s]"
      ]
     },
     "metadata": {},
     "output_type": "display_data"
    },
    {
     "name": "stdout",
     "output_type": "stream",
     "text": [
      "Average validation loss is 0.02\n",
      "Average training loss is 0.02\n"
     ]
    },
    {
     "data": {
      "application/vnd.jupyter.widget-view+json": {
       "model_id": "d8b33cf03ef54e43b04eb7fa47a10a4e",
       "version_major": 2,
       "version_minor": 0
      },
      "text/plain": [
       "Validation: |          | 0/? [00:00<?, ?it/s]"
      ]
     },
     "metadata": {},
     "output_type": "display_data"
    },
    {
     "name": "stdout",
     "output_type": "stream",
     "text": [
      "Average validation loss is 0.01\n",
      "Average training loss is 0.01\n"
     ]
    },
    {
     "data": {
      "application/vnd.jupyter.widget-view+json": {
       "model_id": "987f071df39a40209d7a3a826f4866ed",
       "version_major": 2,
       "version_minor": 0
      },
      "text/plain": [
       "Validation: |          | 0/? [00:00<?, ?it/s]"
      ]
     },
     "metadata": {},
     "output_type": "display_data"
    },
    {
     "name": "stdout",
     "output_type": "stream",
     "text": [
      "Average validation loss is 0.02\n",
      "Average training loss is 0.01\n"
     ]
    },
    {
     "data": {
      "application/vnd.jupyter.widget-view+json": {
       "model_id": "57df6460faaf47b3b65b9373fa748742",
       "version_major": 2,
       "version_minor": 0
      },
      "text/plain": [
       "Validation: |          | 0/? [00:00<?, ?it/s]"
      ]
     },
     "metadata": {},
     "output_type": "display_data"
    },
    {
     "name": "stdout",
     "output_type": "stream",
     "text": [
      "Average validation loss is 0.01\n",
      "Average training loss is 0.01\n"
     ]
    },
    {
     "data": {
      "application/vnd.jupyter.widget-view+json": {
       "model_id": "cd546a44195d49aca7d3369f0c49847a",
       "version_major": 2,
       "version_minor": 0
      },
      "text/plain": [
       "Validation: |          | 0/? [00:00<?, ?it/s]"
      ]
     },
     "metadata": {},
     "output_type": "display_data"
    },
    {
     "name": "stdout",
     "output_type": "stream",
     "text": [
      "Average validation loss is 0.01\n",
      "Average training loss is 0.01\n"
     ]
    },
    {
     "data": {
      "application/vnd.jupyter.widget-view+json": {
       "model_id": "a5987b2db7794cae86386984c5f217fd",
       "version_major": 2,
       "version_minor": 0
      },
      "text/plain": [
       "Validation: |          | 0/? [00:00<?, ?it/s]"
      ]
     },
     "metadata": {},
     "output_type": "display_data"
    },
    {
     "name": "stdout",
     "output_type": "stream",
     "text": [
      "Average validation loss is 0.01\n",
      "Average training loss is 0.01\n"
     ]
    },
    {
     "data": {
      "application/vnd.jupyter.widget-view+json": {
       "model_id": "264cb546d3d84d3190dfc8145a508148",
       "version_major": 2,
       "version_minor": 0
      },
      "text/plain": [
       "Validation: |          | 0/? [00:00<?, ?it/s]"
      ]
     },
     "metadata": {},
     "output_type": "display_data"
    },
    {
     "name": "stdout",
     "output_type": "stream",
     "text": [
      "Average validation loss is 0.01\n",
      "Average training loss is 0.01\n"
     ]
    },
    {
     "data": {
      "application/vnd.jupyter.widget-view+json": {
       "model_id": "747989a05d9c4c1d83867b78b9626548",
       "version_major": 2,
       "version_minor": 0
      },
      "text/plain": [
       "Validation: |          | 0/? [00:00<?, ?it/s]"
      ]
     },
     "metadata": {},
     "output_type": "display_data"
    },
    {
     "name": "stdout",
     "output_type": "stream",
     "text": [
      "Average validation loss is 0.01\n",
      "Average training loss is 0.01\n"
     ]
    },
    {
     "data": {
      "application/vnd.jupyter.widget-view+json": {
       "model_id": "467b91679e704dc397fef1749d86e5be",
       "version_major": 2,
       "version_minor": 0
      },
      "text/plain": [
       "Validation: |          | 0/? [00:00<?, ?it/s]"
      ]
     },
     "metadata": {},
     "output_type": "display_data"
    },
    {
     "name": "stdout",
     "output_type": "stream",
     "text": [
      "Average validation loss is 0.01\n",
      "Average training loss is 0.01\n"
     ]
    },
    {
     "data": {
      "application/vnd.jupyter.widget-view+json": {
       "model_id": "1f0f946d39dc472795b2dcd296c7d0be",
       "version_major": 2,
       "version_minor": 0
      },
      "text/plain": [
       "Validation: |          | 0/? [00:00<?, ?it/s]"
      ]
     },
     "metadata": {},
     "output_type": "display_data"
    },
    {
     "name": "stdout",
     "output_type": "stream",
     "text": [
      "Average validation loss is 0.01\n",
      "Average training loss is 0.01\n"
     ]
    },
    {
     "data": {
      "application/vnd.jupyter.widget-view+json": {
       "model_id": "0f77653d0a0445d69ea16b8105facef0",
       "version_major": 2,
       "version_minor": 0
      },
      "text/plain": [
       "Validation: |          | 0/? [00:00<?, ?it/s]"
      ]
     },
     "metadata": {},
     "output_type": "display_data"
    },
    {
     "name": "stdout",
     "output_type": "stream",
     "text": [
      "Average validation loss is 0.01\n",
      "Average training loss is 0.01\n"
     ]
    },
    {
     "data": {
      "application/vnd.jupyter.widget-view+json": {
       "model_id": "c1bb3eb9d810476eab91baa480cbfb99",
       "version_major": 2,
       "version_minor": 0
      },
      "text/plain": [
       "Validation: |          | 0/? [00:00<?, ?it/s]"
      ]
     },
     "metadata": {},
     "output_type": "display_data"
    },
    {
     "name": "stdout",
     "output_type": "stream",
     "text": [
      "Average validation loss is 0.01\n",
      "Average training loss is 0.01\n"
     ]
    },
    {
     "data": {
      "application/vnd.jupyter.widget-view+json": {
       "model_id": "d74aa56da70c4818bed3afd9e77ff8b1",
       "version_major": 2,
       "version_minor": 0
      },
      "text/plain": [
       "Validation: |          | 0/? [00:00<?, ?it/s]"
      ]
     },
     "metadata": {},
     "output_type": "display_data"
    },
    {
     "name": "stdout",
     "output_type": "stream",
     "text": [
      "Average validation loss is 0.01\n",
      "Average training loss is 0.01\n"
     ]
    },
    {
     "data": {
      "application/vnd.jupyter.widget-view+json": {
       "model_id": "b1549a9b0878451a96bc3251e4e731f8",
       "version_major": 2,
       "version_minor": 0
      },
      "text/plain": [
       "Validation: |          | 0/? [00:00<?, ?it/s]"
      ]
     },
     "metadata": {},
     "output_type": "display_data"
    },
    {
     "name": "stdout",
     "output_type": "stream",
     "text": [
      "Average validation loss is 0.01\n",
      "Average training loss is 0.01\n"
     ]
    },
    {
     "data": {
      "application/vnd.jupyter.widget-view+json": {
       "model_id": "35bca3849d3f4c5ab6ae6157deb86f1c",
       "version_major": 2,
       "version_minor": 0
      },
      "text/plain": [
       "Validation: |          | 0/? [00:00<?, ?it/s]"
      ]
     },
     "metadata": {},
     "output_type": "display_data"
    },
    {
     "name": "stdout",
     "output_type": "stream",
     "text": [
      "Average validation loss is 0.01\n",
      "Average training loss is 0.01\n"
     ]
    },
    {
     "data": {
      "application/vnd.jupyter.widget-view+json": {
       "model_id": "198a09c730404a999c716fa78bf040b0",
       "version_major": 2,
       "version_minor": 0
      },
      "text/plain": [
       "Validation: |          | 0/? [00:00<?, ?it/s]"
      ]
     },
     "metadata": {},
     "output_type": "display_data"
    },
    {
     "name": "stdout",
     "output_type": "stream",
     "text": [
      "Average validation loss is 0.01\n",
      "Average training loss is 0.01\n"
     ]
    },
    {
     "data": {
      "application/vnd.jupyter.widget-view+json": {
       "model_id": "a4adf0749aad4d9dbaebe91f50bd23ef",
       "version_major": 2,
       "version_minor": 0
      },
      "text/plain": [
       "Validation: |          | 0/? [00:00<?, ?it/s]"
      ]
     },
     "metadata": {},
     "output_type": "display_data"
    },
    {
     "name": "stdout",
     "output_type": "stream",
     "text": [
      "Average validation loss is 0.01\n",
      "Average training loss is 0.01\n"
     ]
    },
    {
     "data": {
      "application/vnd.jupyter.widget-view+json": {
       "model_id": "abbb79c19b154e0b94f4f0a5da5cdd77",
       "version_major": 2,
       "version_minor": 0
      },
      "text/plain": [
       "Validation: |          | 0/? [00:00<?, ?it/s]"
      ]
     },
     "metadata": {},
     "output_type": "display_data"
    },
    {
     "name": "stdout",
     "output_type": "stream",
     "text": [
      "Average validation loss is 0.01\n",
      "Average training loss is 0.01\n"
     ]
    },
    {
     "data": {
      "application/vnd.jupyter.widget-view+json": {
       "model_id": "baa2d0b849f842d79320ce08231fcf3a",
       "version_major": 2,
       "version_minor": 0
      },
      "text/plain": [
       "Validation: |          | 0/? [00:00<?, ?it/s]"
      ]
     },
     "metadata": {},
     "output_type": "display_data"
    },
    {
     "name": "stdout",
     "output_type": "stream",
     "text": [
      "Average validation loss is 0.01\n",
      "Average training loss is 0.01\n"
     ]
    },
    {
     "data": {
      "application/vnd.jupyter.widget-view+json": {
       "model_id": "1ce77584497b4b80b8bd387c0f0f9089",
       "version_major": 2,
       "version_minor": 0
      },
      "text/plain": [
       "Validation: |          | 0/? [00:00<?, ?it/s]"
      ]
     },
     "metadata": {},
     "output_type": "display_data"
    },
    {
     "name": "stdout",
     "output_type": "stream",
     "text": [
      "Average validation loss is 0.01\n",
      "Average training loss is 0.01\n"
     ]
    },
    {
     "data": {
      "application/vnd.jupyter.widget-view+json": {
       "model_id": "694ca84a0b63472c9e3a060dafd2ef7e",
       "version_major": 2,
       "version_minor": 0
      },
      "text/plain": [
       "Validation: |          | 0/? [00:00<?, ?it/s]"
      ]
     },
     "metadata": {},
     "output_type": "display_data"
    },
    {
     "name": "stdout",
     "output_type": "stream",
     "text": [
      "Average validation loss is 0.01\n",
      "Average training loss is 0.01\n"
     ]
    },
    {
     "data": {
      "application/vnd.jupyter.widget-view+json": {
       "model_id": "42c35919a95e4e4da86a09a9b69dc943",
       "version_major": 2,
       "version_minor": 0
      },
      "text/plain": [
       "Validation: |          | 0/? [00:00<?, ?it/s]"
      ]
     },
     "metadata": {},
     "output_type": "display_data"
    },
    {
     "name": "stdout",
     "output_type": "stream",
     "text": [
      "Average validation loss is 0.01\n",
      "Average training loss is 0.01\n"
     ]
    },
    {
     "data": {
      "application/vnd.jupyter.widget-view+json": {
       "model_id": "db752e93252c4819a3779a3be883196b",
       "version_major": 2,
       "version_minor": 0
      },
      "text/plain": [
       "Validation: |          | 0/? [00:00<?, ?it/s]"
      ]
     },
     "metadata": {},
     "output_type": "display_data"
    },
    {
     "name": "stdout",
     "output_type": "stream",
     "text": [
      "Average validation loss is 0.01\n",
      "Average training loss is 0.01\n"
     ]
    },
    {
     "data": {
      "application/vnd.jupyter.widget-view+json": {
       "model_id": "746c806e96a14ab79c6b0d381a5d28f8",
       "version_major": 2,
       "version_minor": 0
      },
      "text/plain": [
       "Validation: |          | 0/? [00:00<?, ?it/s]"
      ]
     },
     "metadata": {},
     "output_type": "display_data"
    },
    {
     "name": "stdout",
     "output_type": "stream",
     "text": [
      "Average validation loss is 0.01\n",
      "Average training loss is 0.01\n"
     ]
    },
    {
     "data": {
      "application/vnd.jupyter.widget-view+json": {
       "model_id": "ce009676a9db43b88b325c90c419a01d",
       "version_major": 2,
       "version_minor": 0
      },
      "text/plain": [
       "Validation: |          | 0/? [00:00<?, ?it/s]"
      ]
     },
     "metadata": {},
     "output_type": "display_data"
    },
    {
     "name": "stdout",
     "output_type": "stream",
     "text": [
      "Average validation loss is 0.01\n",
      "Average training loss is 0.01\n"
     ]
    },
    {
     "data": {
      "application/vnd.jupyter.widget-view+json": {
       "model_id": "110bf8359aff45589c0f6cc85cb5628d",
       "version_major": 2,
       "version_minor": 0
      },
      "text/plain": [
       "Validation: |          | 0/? [00:00<?, ?it/s]"
      ]
     },
     "metadata": {},
     "output_type": "display_data"
    },
    {
     "name": "stdout",
     "output_type": "stream",
     "text": [
      "Average validation loss is 0.01\n",
      "Average training loss is 0.01\n"
     ]
    },
    {
     "data": {
      "application/vnd.jupyter.widget-view+json": {
       "model_id": "00503d75226d4265ad6ef38f7e5ee0dc",
       "version_major": 2,
       "version_minor": 0
      },
      "text/plain": [
       "Validation: |          | 0/? [00:00<?, ?it/s]"
      ]
     },
     "metadata": {},
     "output_type": "display_data"
    },
    {
     "name": "stdout",
     "output_type": "stream",
     "text": [
      "Average validation loss is 0.01\n",
      "Average training loss is 0.01\n"
     ]
    },
    {
     "data": {
      "application/vnd.jupyter.widget-view+json": {
       "model_id": "54385644e65c4cb0a7427a85c7b0db68",
       "version_major": 2,
       "version_minor": 0
      },
      "text/plain": [
       "Validation: |          | 0/? [00:00<?, ?it/s]"
      ]
     },
     "metadata": {},
     "output_type": "display_data"
    },
    {
     "name": "stdout",
     "output_type": "stream",
     "text": [
      "Average validation loss is 0.01\n",
      "Average training loss is 0.01\n"
     ]
    },
    {
     "data": {
      "application/vnd.jupyter.widget-view+json": {
       "model_id": "9b292d0db23243479db29c691849b333",
       "version_major": 2,
       "version_minor": 0
      },
      "text/plain": [
       "Validation: |          | 0/? [00:00<?, ?it/s]"
      ]
     },
     "metadata": {},
     "output_type": "display_data"
    },
    {
     "name": "stdout",
     "output_type": "stream",
     "text": [
      "Average validation loss is 0.01\n",
      "Average training loss is 0.01\n"
     ]
    },
    {
     "data": {
      "application/vnd.jupyter.widget-view+json": {
       "model_id": "a8cb0e864aa54b228dcb7d770dfc64dd",
       "version_major": 2,
       "version_minor": 0
      },
      "text/plain": [
       "Validation: |          | 0/? [00:00<?, ?it/s]"
      ]
     },
     "metadata": {},
     "output_type": "display_data"
    },
    {
     "name": "stdout",
     "output_type": "stream",
     "text": [
      "Average validation loss is 0.01\n",
      "Average training loss is 0.01\n"
     ]
    },
    {
     "data": {
      "application/vnd.jupyter.widget-view+json": {
       "model_id": "3824c89e57744957afc530c0a38c6f38",
       "version_major": 2,
       "version_minor": 0
      },
      "text/plain": [
       "Validation: |          | 0/? [00:00<?, ?it/s]"
      ]
     },
     "metadata": {},
     "output_type": "display_data"
    },
    {
     "name": "stdout",
     "output_type": "stream",
     "text": [
      "Average validation loss is 0.01\n",
      "Average training loss is 0.01\n"
     ]
    },
    {
     "data": {
      "application/vnd.jupyter.widget-view+json": {
       "model_id": "68db11f2700944cf9643ac2cdef337fa",
       "version_major": 2,
       "version_minor": 0
      },
      "text/plain": [
       "Validation: |          | 0/? [00:00<?, ?it/s]"
      ]
     },
     "metadata": {},
     "output_type": "display_data"
    },
    {
     "name": "stdout",
     "output_type": "stream",
     "text": [
      "Average validation loss is 0.01\n",
      "Average training loss is 0.01\n"
     ]
    },
    {
     "data": {
      "application/vnd.jupyter.widget-view+json": {
       "model_id": "e8b7eca53bfd4137a95e260ee875b73c",
       "version_major": 2,
       "version_minor": 0
      },
      "text/plain": [
       "Validation: |          | 0/? [00:00<?, ?it/s]"
      ]
     },
     "metadata": {},
     "output_type": "display_data"
    },
    {
     "name": "stdout",
     "output_type": "stream",
     "text": [
      "Average validation loss is 0.01\n",
      "Average training loss is 0.01\n"
     ]
    },
    {
     "data": {
      "application/vnd.jupyter.widget-view+json": {
       "model_id": "cebf74354d1c4acaa22e7928782e0ca5",
       "version_major": 2,
       "version_minor": 0
      },
      "text/plain": [
       "Validation: |          | 0/? [00:00<?, ?it/s]"
      ]
     },
     "metadata": {},
     "output_type": "display_data"
    },
    {
     "name": "stdout",
     "output_type": "stream",
     "text": [
      "Average validation loss is 0.01\n",
      "Average training loss is 0.01\n"
     ]
    },
    {
     "data": {
      "application/vnd.jupyter.widget-view+json": {
       "model_id": "67870c2b63d649aaa1bb49e4555a4d59",
       "version_major": 2,
       "version_minor": 0
      },
      "text/plain": [
       "Validation: |          | 0/? [00:00<?, ?it/s]"
      ]
     },
     "metadata": {},
     "output_type": "display_data"
    },
    {
     "name": "stdout",
     "output_type": "stream",
     "text": [
      "Average validation loss is 0.01\n",
      "Average training loss is 0.01\n"
     ]
    },
    {
     "data": {
      "application/vnd.jupyter.widget-view+json": {
       "model_id": "3905e139d118485d877f33d196158e27",
       "version_major": 2,
       "version_minor": 0
      },
      "text/plain": [
       "Validation: |          | 0/? [00:00<?, ?it/s]"
      ]
     },
     "metadata": {},
     "output_type": "display_data"
    },
    {
     "name": "stdout",
     "output_type": "stream",
     "text": [
      "Average validation loss is 0.01\n",
      "Average training loss is 0.01\n"
     ]
    },
    {
     "data": {
      "application/vnd.jupyter.widget-view+json": {
       "model_id": "32c6e4bba43c488f8e54aa6df1a83f3e",
       "version_major": 2,
       "version_minor": 0
      },
      "text/plain": [
       "Validation: |          | 0/? [00:00<?, ?it/s]"
      ]
     },
     "metadata": {},
     "output_type": "display_data"
    },
    {
     "name": "stdout",
     "output_type": "stream",
     "text": [
      "Average validation loss is 0.01\n",
      "Average training loss is 0.01\n"
     ]
    },
    {
     "data": {
      "application/vnd.jupyter.widget-view+json": {
       "model_id": "2c3c7577a2c642cbac564a7acec06f9b",
       "version_major": 2,
       "version_minor": 0
      },
      "text/plain": [
       "Validation: |          | 0/? [00:00<?, ?it/s]"
      ]
     },
     "metadata": {},
     "output_type": "display_data"
    },
    {
     "name": "stdout",
     "output_type": "stream",
     "text": [
      "Average validation loss is 0.01\n",
      "Average training loss is 0.01\n"
     ]
    },
    {
     "data": {
      "application/vnd.jupyter.widget-view+json": {
       "model_id": "0587a558614641de8c12ff25f3171585",
       "version_major": 2,
       "version_minor": 0
      },
      "text/plain": [
       "Validation: |          | 0/? [00:00<?, ?it/s]"
      ]
     },
     "metadata": {},
     "output_type": "display_data"
    },
    {
     "name": "stdout",
     "output_type": "stream",
     "text": [
      "Average validation loss is 0.01\n",
      "Average training loss is 0.01\n"
     ]
    },
    {
     "data": {
      "application/vnd.jupyter.widget-view+json": {
       "model_id": "f044394c8135499ea7b9ffca94f5bee9",
       "version_major": 2,
       "version_minor": 0
      },
      "text/plain": [
       "Validation: |          | 0/? [00:00<?, ?it/s]"
      ]
     },
     "metadata": {},
     "output_type": "display_data"
    },
    {
     "name": "stdout",
     "output_type": "stream",
     "text": [
      "Average validation loss is 0.01\n",
      "Average training loss is 0.01\n"
     ]
    },
    {
     "data": {
      "application/vnd.jupyter.widget-view+json": {
       "model_id": "e4cb5fd6fe434f7fba4686e79b8f9434",
       "version_major": 2,
       "version_minor": 0
      },
      "text/plain": [
       "Validation: |          | 0/? [00:00<?, ?it/s]"
      ]
     },
     "metadata": {},
     "output_type": "display_data"
    },
    {
     "name": "stdout",
     "output_type": "stream",
     "text": [
      "Average validation loss is 0.01\n",
      "Average training loss is 0.01\n"
     ]
    },
    {
     "data": {
      "application/vnd.jupyter.widget-view+json": {
       "model_id": "b716f55d2cf14388a7af6f5b711a896f",
       "version_major": 2,
       "version_minor": 0
      },
      "text/plain": [
       "Validation: |          | 0/? [00:00<?, ?it/s]"
      ]
     },
     "metadata": {},
     "output_type": "display_data"
    },
    {
     "name": "stdout",
     "output_type": "stream",
     "text": [
      "Average validation loss is 0.01\n",
      "Average training loss is 0.01\n"
     ]
    },
    {
     "data": {
      "application/vnd.jupyter.widget-view+json": {
       "model_id": "53671b23166144dcba0b69ec356a2137",
       "version_major": 2,
       "version_minor": 0
      },
      "text/plain": [
       "Validation: |          | 0/? [00:00<?, ?it/s]"
      ]
     },
     "metadata": {},
     "output_type": "display_data"
    },
    {
     "name": "stdout",
     "output_type": "stream",
     "text": [
      "Average validation loss is 0.01\n",
      "Average training loss is 0.01\n"
     ]
    },
    {
     "data": {
      "application/vnd.jupyter.widget-view+json": {
       "model_id": "59af934565284f3c9d255e417a51e0ca",
       "version_major": 2,
       "version_minor": 0
      },
      "text/plain": [
       "Validation: |          | 0/? [00:00<?, ?it/s]"
      ]
     },
     "metadata": {},
     "output_type": "display_data"
    },
    {
     "name": "stdout",
     "output_type": "stream",
     "text": [
      "Average validation loss is 0.01\n",
      "Average training loss is 0.01\n"
     ]
    },
    {
     "data": {
      "application/vnd.jupyter.widget-view+json": {
       "model_id": "ce6ba68bf6a540c5ac7571003f85f085",
       "version_major": 2,
       "version_minor": 0
      },
      "text/plain": [
       "Validation: |          | 0/? [00:00<?, ?it/s]"
      ]
     },
     "metadata": {},
     "output_type": "display_data"
    },
    {
     "name": "stdout",
     "output_type": "stream",
     "text": [
      "Average validation loss is 0.01\n",
      "Average training loss is 0.01\n"
     ]
    },
    {
     "data": {
      "application/vnd.jupyter.widget-view+json": {
       "model_id": "de0208e9aaf3439698d9f0a47247da4d",
       "version_major": 2,
       "version_minor": 0
      },
      "text/plain": [
       "Validation: |          | 0/? [00:00<?, ?it/s]"
      ]
     },
     "metadata": {},
     "output_type": "display_data"
    },
    {
     "name": "stdout",
     "output_type": "stream",
     "text": [
      "Average validation loss is 0.01\n",
      "Average training loss is 0.01\n"
     ]
    },
    {
     "data": {
      "application/vnd.jupyter.widget-view+json": {
       "model_id": "82329d2ff3f14d60837cb7991fb85eb2",
       "version_major": 2,
       "version_minor": 0
      },
      "text/plain": [
       "Validation: |          | 0/? [00:00<?, ?it/s]"
      ]
     },
     "metadata": {},
     "output_type": "display_data"
    },
    {
     "name": "stdout",
     "output_type": "stream",
     "text": [
      "Average validation loss is 0.01\n",
      "Average training loss is 0.01\n"
     ]
    },
    {
     "data": {
      "application/vnd.jupyter.widget-view+json": {
       "model_id": "e3c483a4b5e54b4495773b1d89f36625",
       "version_major": 2,
       "version_minor": 0
      },
      "text/plain": [
       "Validation: |          | 0/? [00:00<?, ?it/s]"
      ]
     },
     "metadata": {},
     "output_type": "display_data"
    },
    {
     "name": "stdout",
     "output_type": "stream",
     "text": [
      "Average validation loss is 0.01\n",
      "Average training loss is 0.01\n"
     ]
    },
    {
     "data": {
      "application/vnd.jupyter.widget-view+json": {
       "model_id": "f8136cc575e6480c83aec0ea5fa89c07",
       "version_major": 2,
       "version_minor": 0
      },
      "text/plain": [
       "Validation: |          | 0/? [00:00<?, ?it/s]"
      ]
     },
     "metadata": {},
     "output_type": "display_data"
    },
    {
     "name": "stdout",
     "output_type": "stream",
     "text": [
      "Average validation loss is 0.01\n",
      "Average training loss is 0.01\n"
     ]
    },
    {
     "data": {
      "application/vnd.jupyter.widget-view+json": {
       "model_id": "8e4433600bd34d4e96236bafd2989da8",
       "version_major": 2,
       "version_minor": 0
      },
      "text/plain": [
       "Validation: |          | 0/? [00:00<?, ?it/s]"
      ]
     },
     "metadata": {},
     "output_type": "display_data"
    },
    {
     "name": "stdout",
     "output_type": "stream",
     "text": [
      "Average validation loss is 0.01\n",
      "Average training loss is 0.01\n"
     ]
    },
    {
     "data": {
      "application/vnd.jupyter.widget-view+json": {
       "model_id": "e67d08b80d024a15ba1a8e4b856d4ecc",
       "version_major": 2,
       "version_minor": 0
      },
      "text/plain": [
       "Validation: |          | 0/? [00:00<?, ?it/s]"
      ]
     },
     "metadata": {},
     "output_type": "display_data"
    },
    {
     "name": "stdout",
     "output_type": "stream",
     "text": [
      "Average validation loss is 0.01\n",
      "Average training loss is 0.01\n"
     ]
    },
    {
     "data": {
      "application/vnd.jupyter.widget-view+json": {
       "model_id": "3fa00c3c5a074a6e90d59276309a8a83",
       "version_major": 2,
       "version_minor": 0
      },
      "text/plain": [
       "Validation: |          | 0/? [00:00<?, ?it/s]"
      ]
     },
     "metadata": {},
     "output_type": "display_data"
    },
    {
     "name": "stdout",
     "output_type": "stream",
     "text": [
      "Average validation loss is 0.01\n",
      "Average training loss is 0.01\n"
     ]
    },
    {
     "data": {
      "application/vnd.jupyter.widget-view+json": {
       "model_id": "0f0be9df4f344dbbb09c97ec29ec7d52",
       "version_major": 2,
       "version_minor": 0
      },
      "text/plain": [
       "Validation: |          | 0/? [00:00<?, ?it/s]"
      ]
     },
     "metadata": {},
     "output_type": "display_data"
    },
    {
     "name": "stdout",
     "output_type": "stream",
     "text": [
      "Average validation loss is 0.01\n",
      "Average training loss is 0.01\n"
     ]
    },
    {
     "data": {
      "application/vnd.jupyter.widget-view+json": {
       "model_id": "41bf8d17ecfd4e6b801d9a7e263f38a0",
       "version_major": 2,
       "version_minor": 0
      },
      "text/plain": [
       "Validation: |          | 0/? [00:00<?, ?it/s]"
      ]
     },
     "metadata": {},
     "output_type": "display_data"
    },
    {
     "name": "stdout",
     "output_type": "stream",
     "text": [
      "Average validation loss is 0.01\n",
      "Average training loss is 0.01\n"
     ]
    },
    {
     "data": {
      "application/vnd.jupyter.widget-view+json": {
       "model_id": "2e0e9689c1364ff380c37a7f9eb52994",
       "version_major": 2,
       "version_minor": 0
      },
      "text/plain": [
       "Validation: |          | 0/? [00:00<?, ?it/s]"
      ]
     },
     "metadata": {},
     "output_type": "display_data"
    },
    {
     "name": "stdout",
     "output_type": "stream",
     "text": [
      "Average validation loss is 0.01\n",
      "Average training loss is 0.01\n"
     ]
    },
    {
     "data": {
      "application/vnd.jupyter.widget-view+json": {
       "model_id": "c83f3956eb15452c93a299abcc31c51a",
       "version_major": 2,
       "version_minor": 0
      },
      "text/plain": [
       "Validation: |          | 0/? [00:00<?, ?it/s]"
      ]
     },
     "metadata": {},
     "output_type": "display_data"
    },
    {
     "name": "stderr",
     "output_type": "stream",
     "text": [
      "`Trainer.fit` stopped: `max_epochs=100` reached.\n"
     ]
    },
    {
     "name": "stdout",
     "output_type": "stream",
     "text": [
      "Average validation loss is 0.01\n",
      "Average training loss is 0.01\n"
     ]
    },
    {
     "data": {
      "text/html": [
       "Finishing last run (ID:gl4k1nj6) before initializing another..."
      ],
      "text/plain": [
       "<IPython.core.display.HTML object>"
      ]
     },
     "metadata": {},
     "output_type": "display_data"
    },
    {
     "name": "stderr",
     "output_type": "stream",
     "text": [
      "wandb: WARNING Source type is set to 'repo' but some required information is missing from the environment. A job will not be created from this run. See https://docs.wandb.ai/guides/launch/create-job\n"
     ]
    },
    {
     "data": {
      "application/vnd.jupyter.widget-view+json": {
       "model_id": "ed3bc33795774e2ea12aa989def6da08",
       "version_major": 2,
       "version_minor": 0
      },
      "text/plain": [
       "VBox(children=(Label(value='0.001 MB of 0.001 MB uploaded\\r'), FloatProgress(value=1.0, max=1.0)))"
      ]
     },
     "metadata": {},
     "output_type": "display_data"
    },
    {
     "data": {
      "text/html": [
       "<style>\n",
       "    table.wandb td:nth-child(1) { padding: 0 10px; text-align: left ; width: auto;} td:nth-child(2) {text-align: left ; width: 100%}\n",
       "    .wandb-row { display: flex; flex-direction: row; flex-wrap: wrap; justify-content: flex-start; width: 100% }\n",
       "    .wandb-col { display: flex; flex-direction: column; flex-basis: 100%; flex: 1; padding: 10px; }\n",
       "    </style>\n",
       "<div class=\"wandb-row\"><div class=\"wandb-col\"><h3>Run history:</h3><br/><table class=\"wandb\"><tr><td>epoch</td><td>▁▁▁▁▂▂▂▂▂▃▃▃▃▃▃▄▄▄▄▄▅▅▅▅▅▅▆▆▆▆▆▇▇▇▇▇▇███</td></tr><tr><td>grad_2.0_norm/0.bias</td><td>▃▄▄▃▆▃█▂▅▂▁▂▄▂▃▂▂▅▄▂▁▂▂▂▄▁▃▁▁▃▃▁▁▂▃▂▂▂▂▁</td></tr><tr><td>grad_2.0_norm/0.bn1.bias</td><td>▇▅▅▂▇█▄▃▄▂▁▂▄▂▃▁▂▃▂▂▂▁▁▁▅▂▂▂▁▂▃▂▃▁▃▂▂▁▂▁</td></tr><tr><td>grad_2.0_norm/0.bn1.weight</td><td>█▄▃▂▇▄▄▃▄▂▁▂▃▂▂▁▂▂▂▁▂▁▁▁▂▁▁▁▁▂▁▁▂▁▂▁▁▁▁▁</td></tr><tr><td>grad_2.0_norm/0.conv1.weight</td><td>▇▆▃▂█▆▄▄▅▂▁▁▄▃▂▁▂▁▁▁▂▁▁▁▂▁▁▁▁▂▁▁▁▁▂▁▁▁▁▁</td></tr><tr><td>grad_2.0_norm/0.layer1.0.bn1.bias</td><td>█▄▆▂▇▇▄▃▄▃▁▂▆▄▃▁▂▃▂▂▂▁▁▂▃▂▂▁▁▂▂▂▃▂▃▂▂▁▁▁</td></tr><tr><td>grad_2.0_norm/0.layer1.0.bn1.weight</td><td>█▃▃▁▆▄▃▂▃▂▁▁▃▂▁▁▂▂▂▁▂▁▁▁▂▁▁▁▁▂▂▁▂▁▂▁▁▁▁▁</td></tr><tr><td>grad_2.0_norm/0.layer1.0.bn2.bias</td><td>▇▄▄▂█▇▄▃▄▃▁▂▅▃▃▁▂▃▂▂▂▁▁▁▄▂▂▂▁▂▂▁▃▁▂▁▁▁▁▁</td></tr><tr><td>grad_2.0_norm/0.layer1.0.bn2.weight</td><td>█▄▄▂▇▆▃▃▃▂▁▂▃▂▂▁▂▂▂▁▂▁▁▁▃▂▁▁▁▂▂▁▂▁▃▁▁▁▁▁</td></tr><tr><td>grad_2.0_norm/0.layer1.0.conv1.weight</td><td>█▃▄▂▆▅▄▃▄▂▁▁▄▂▂▁▂▂▁▁▂▁▁▁▂▁▁▁▁▁▁▁▂▁▂▁▁▁▁▁</td></tr><tr><td>grad_2.0_norm/0.layer1.0.conv2.weight</td><td>█▃▃▂▅▄▃▃▃▂▁▁▃▂▂▁▂▂▂▁▂▁▁▁▂▁▁▁▁▂▁▁▂▁▂▁▁▁▁▁</td></tr><tr><td>grad_2.0_norm/0.layer1.1.bn1.bias</td><td>█▄▅▂▇▆▃▃▃▂▁▁▄▃▂▁▂▂▂▂▂▁▁▂▃▂▁▁▁▂▂▁▂▂▃▁▁▁▁▁</td></tr><tr><td>grad_2.0_norm/0.layer1.1.bn1.weight</td><td>█▃▃▁▅▄▃▂▃▂▁▁▃▂▂▁▂▂▂▁▂▁▁▁▃▁▁▁▁▂▂▁▂▁▃▁▁▁▁▁</td></tr><tr><td>grad_2.0_norm/0.layer1.1.bn2.bias</td><td>▆▃▃▂█▇▅▃▅▂▁▂▅▃▃▁▂▃▂▂▁▁▁▂▄▂▂▁▁▂▂▁▂▂▃▁▁▁▂▁</td></tr><tr><td>grad_2.0_norm/0.layer1.1.bn2.weight</td><td>█▅▅▂▇▇▅▄▅▂▁▂▅▄▂▁▂▃▂▂▂▂▁▂▄▂▁▂▁▂▂▁▃▂▄▁▂▂▂▁</td></tr><tr><td>grad_2.0_norm/0.layer1.1.conv1.weight</td><td>█▄▃▂▆▄▃▂▃▂▁▁▃▂▂▁▂▁▁▁▂▁▁▁▂▂▁▁▁▁▁▁▂▁▂▁▁▁▁▁</td></tr><tr><td>grad_2.0_norm/0.layer1.1.conv2.weight</td><td>█▅▄▂▆▅▄▃▄▂▁▂▄▃▂▁▂▂▂▁▂▁▁▂▃▂▂▁▁▂▂▁▂▂▃▁▁▁▁▁</td></tr><tr><td>grad_2.0_norm/0.layer2.0.bn1.bias</td><td>▆▅▅▂▇█▅▄▆▂▁▂█▄▃▁▃▄▃▂▂▁▁▂▅▂▂▁▂▂▂▁▃▂▅▁▂▁▁▁</td></tr><tr><td>grad_2.0_norm/0.layer2.0.bn1.weight</td><td>▇▅▅▂██▅▄▅▃▁▂▆▄▂▁▃▃▃▂▂▁▁▁▄▂▂▂▂▂▂▁▃▂▅▁▂▁▁▁</td></tr><tr><td>grad_2.0_norm/0.layer2.0.bn2.bias</td><td>▅▄▆▃█▇▅▄▆▃▁▃▇▄▃▁▃▄▃▂▂▁▁▂▆▂▂▂▂▂▂▁▃▂▄▁▂▁▁▁</td></tr><tr><td>grad_2.0_norm/0.layer2.0.bn2.weight</td><td>▇▆▅▃██▇▅▆▃▁▂▇▅▃▁▃▃▃▂▂▁▁▂▅▂▂▂▂▂▂▁▃▂▆▂▂▂▁▁</td></tr><tr><td>grad_2.0_norm/0.layer2.0.conv1.weight</td><td>█▅▄▂▆▇▄▃▄▃▁▂▅▃▂▁▂▂▂▁▂▁▁▁▃▂▁▁▁▂▂▁▂▂▃▁▂▁▁▁</td></tr><tr><td>grad_2.0_norm/0.layer2.0.conv2.weight</td><td>█▆▄▃▇▆▅▄▅▃▁▂▆▄▃▁▃▃▃▂▂▁▁▂▄▂▂▁▂▂▂▁▂▂▅▁▂▂▁▁</td></tr><tr><td>grad_2.0_norm/0.layer2.0.shortcut.0.weight</td><td>█▆▅▃█▆▅▄▇▃▁▂▇▄▃▁▃▃▃▂▂▁▁▂▄▂▂▂▂▂▂▁▂▂▄▁▂▁▁▁</td></tr><tr><td>grad_2.0_norm/0.layer2.0.shortcut.1.bias</td><td>▅▄▆▃█▇▅▄▆▃▁▃▇▄▃▁▃▄▃▂▂▁▁▂▆▂▂▂▂▂▂▁▃▂▄▁▂▁▁▁</td></tr><tr><td>grad_2.0_norm/0.layer2.0.shortcut.1.weight</td><td>▇▆▅▄██▆▅▆▃▁▂▇▅▃▁▃▃▂▂▂▁▁▂▅▂▂▂▂▂▂▁▃▂▅▁▂▁▁▁</td></tr><tr><td>grad_2.0_norm/0.layer2.1.bn1.bias</td><td>▆▅▇▃█▇▅▄▇▃▁▂█▅▃▁▃▄▃▂▂▁▁▂▅▂▂▂▂▃▂▁▃▂▅▁▂▂▁▁</td></tr><tr><td>grad_2.0_norm/0.layer2.1.bn1.weight</td><td>█▇▅▃█▆▄▄▆▃▁▂▇▅▃▁▄▃▂▂▂▂▁▂▅▂▂▁▂▂▂▁▃▂▇▂▂▂▁▁</td></tr><tr><td>grad_2.0_norm/0.layer2.1.bn2.bias</td><td>▅▅▆▄█▇▅▄▆▂▁▂▇▅▃▁▃▄▃▂▂▁▁▂▆▂▂▂▂▂▂▁▃▂▅▁▁▁▁▁</td></tr><tr><td>grad_2.0_norm/0.layer2.1.bn2.weight</td><td>▆▇▅▃▇█▄▄▅▂▁▂▆▄▃▂▂▃▂▁▂▁▁▂▄▂▂▂▂▂▂▁▃▂▅▁▂▂▁▁</td></tr><tr><td>grad_2.0_norm/0.layer2.1.conv1.weight</td><td>██▄▃▇▅▄▃▄▃▁▂▆▅▂▁▃▃▂▁▂▁▁▁▃▂▂▁▂▂▂▁▂▂▅▁▂▂▁▁</td></tr><tr><td>grad_2.0_norm/0.layer2.1.conv2.weight</td><td>█▇▅▃█▇▄▃▆▃▁▂▆▅▃▁▃▃▂▂▂▁▁▂▄▂▂▂▂▂▂▁▂▂▆▁▂▂▁▁</td></tr><tr><td>grad_2.0_norm/0.layer3.0.bn1.bias</td><td>▅▄▅▃█▇▅▃▆▂▁▂▇▄▃▁▃▃▃▂▂▁▁▂▅▂▂▂▂▂▂▁▃▂▅▁▂▁▁▁</td></tr><tr><td>grad_2.0_norm/0.layer3.0.bn1.weight</td><td>▅▆▄▃▇█▄▄▅▂▁▂▆▄▃▁▂▂▂▂▂▁▁▂▄▂▁▁▂▂▂▁▂▂▆▁▂▂▁▁</td></tr><tr><td>grad_2.0_norm/0.layer3.0.bn2.bias</td><td>▄▄▅▃▇▇▅▄█▃▁▂█▅▃▁▃▃▃▂▂▁▁▂▅▂▂▂▂▂▂▁▃▂▄▁▂▂▂▁</td></tr><tr><td>grad_2.0_norm/0.layer3.0.bn2.weight</td><td>▆▆▅▄▇█▅▄▆▃▁▂▅▄▃▁▃▂▂▂▂▂▁▂▄▂▂▁▂▂▂▁▃▂▇▁▂▂▁▁</td></tr><tr><td>grad_2.0_norm/0.layer3.0.conv1.weight</td><td>█▇▅▄▇▇▅▃▆▃▁▂▆▅▃▁▃▃▂▂▂▁▁▂▃▂▂▁▂▂▂▁▂▂▆▁▂▂▁▁</td></tr><tr><td>grad_2.0_norm/0.layer3.0.conv2.weight</td><td>▇▇▅▄█▇▅▃▆▂▁▂▆▄▃▂▃▂▂▂▂▁▁▂▃▂▂▁▂▂▂▁▂▂▇▁▂▂▁▁</td></tr><tr><td>grad_2.0_norm/0.layer3.0.shortcut.0.weight</td><td>▇▇▆▄█▇▅▄▇▂▁▂▆▄▃▁▃▃▂▂▂▁▁▂▄▂▂▁▂▂▂▁▂▂▆▁▂▂▁▁</td></tr><tr><td>grad_2.0_norm/0.layer3.0.shortcut.1.bias</td><td>▄▄▅▃▇▇▅▄█▃▁▂█▅▃▁▃▃▃▂▂▁▁▂▅▂▂▂▂▂▂▁▃▂▄▁▂▂▂▁</td></tr><tr><td>grad_2.0_norm/0.layer3.0.shortcut.1.weight</td><td>▆▆▆▃▇█▅▄▆▃▁▂▇▄▃▂▃▂▂▂▂▁▁▂▄▂▂▂▂▂▂▁▃▂▆▁▂▂▁▁</td></tr><tr><td>grad_2.0_norm/0.layer3.1.bn1.bias</td><td>▅▄▅▄▇▇▆▄█▃▁▂█▄▄▂▃▃▃▃▂▂▁▂▄▂▂▂▂▂▂▁▃▂▅▁▂▂▁▁</td></tr><tr><td>grad_2.0_norm/0.layer3.1.bn1.weight</td><td>▆▇▆▄█▇▄▃▆▃▁▂▆▄▃▂▃▂▂▂▂▂▁▂▄▂▂▁▂▂▂▁▂▂█▁▂▂▁▁</td></tr><tr><td>grad_2.0_norm/0.layer3.1.bn2.bias</td><td>▅▅▆▄▇█▅▃█▃▁▂█▅▃▂▃▃▃▂▂▂▁▂▅▂▂▂▂▂▂▁▃▂▅▁▂▂▂▁</td></tr><tr><td>grad_2.0_norm/0.layer3.1.bn2.weight</td><td>▅▅▅▃▇█▄▃▅▃▁▁▅▃▂▁▂▂▂▂▂▂▁▁▃▁▁▁▂▂▂▁▃▂▅▁▂▂▁▁</td></tr><tr><td>grad_2.0_norm/0.layer3.1.conv1.weight</td><td>▆▇▅▄█▇▄▃▆▃▁▂▇▄▃▂▃▂▂▂▂▂▁▂▄▂▂▁▂▂▂▁▂▃▇▁▂▂▁▁</td></tr><tr><td>grad_2.0_norm/0.layer3.1.conv2.weight</td><td>▆▇▅▄█▇▄▃▆▃▁▂▅▄▃▁▃▂▂▂▂▂▁▂▃▂▂▁▂▂▂▁▂▂▆▁▂▂▁▁</td></tr><tr><td>grad_2.0_norm/0.layer4.0.bn1.bias</td><td>▃▄▅▄▆█▅▃▆▃▁▂▆▄▃▂▂▂▂▃▂▂▁▂▄▂▂▁▂▂▂▁▂▂▅▁▂▂▂▁</td></tr><tr><td>grad_2.0_norm/0.layer4.0.bn1.weight</td><td>▄▅▅▃▆█▃▃▅▃▁▁▄▃▃▁▂▂▂▂▂▂▁▂▂▂▂▁▂▂▂▁▂▂▆▁▂▂▁▁</td></tr><tr><td>grad_2.0_norm/0.layer4.0.bn2.bias</td><td>▅▆▆▅█▇▅▄▇▃▁▂▆▄▃▂▂▃▂▃▂▂▁▂▄▂▂▂▂▂▃▁▂▂▆▁▂▂▂▁</td></tr><tr><td>grad_2.0_norm/0.layer4.0.bn2.weight</td><td>█▅▆▅▇▇▅▄█▂▁▂▄▃▃▁▂▂▂▂▂▂▁▂▃▂▂▁▂▂▂▁▂▂▇▁▂▂▁▁</td></tr><tr><td>grad_2.0_norm/0.layer4.0.conv1.weight</td><td>▆▇▅▄█▇▄▃▇▃▁▁▆▄▃▂▃▂▂▂▂▂▁▂▃▂▂▁▂▂▂▁▂▂▇▁▂▂▁▁</td></tr><tr><td>grad_2.0_norm/0.layer4.0.conv2.weight</td><td>▆▆▆▅█▇▄▃▆▂▁▂▅▃▃▂▃▂▂▂▂▂▁▂▃▂▂▁▂▂▂▁▂▂▇▁▂▂▁▁</td></tr><tr><td>grad_2.0_norm/0.layer4.0.shortcut.0.weight</td><td>▇█▆▄█▆▅▄▆▂▁▂▅▃▃▁▂▂▂▂▂▂▁▂▃▂▂▁▂▂▂▁▂▂▆▁▂▂▁▁</td></tr><tr><td>grad_2.0_norm/0.layer4.0.shortcut.1.bias</td><td>▅▆▆▅█▇▅▄▇▃▁▂▆▄▃▂▂▃▂▃▂▂▁▂▄▂▂▂▂▂▃▁▂▂▆▁▂▂▂▁</td></tr><tr><td>grad_2.0_norm/0.layer4.0.shortcut.1.weight</td><td>▇▆▆▄██▅▅▇▃▁▂▆▄▃▁▃▂▂▂▂▂▁▂▃▂▂▂▂▂▃▁▂▂▇▂▂▂▂▁</td></tr><tr><td>grad_2.0_norm/0.layer4.1.bn1.bias</td><td>▅▆█▅█▇▄▃▆▃▁▂▆▄▃▁▂▃▃▃▂▂▁▂▃▂▂▁▂▂▃▂▃▂▇▁▂▂▁▁</td></tr><tr><td>grad_2.0_norm/0.layer4.1.bn1.weight</td><td>▆▄▅▄▇▆▄▃█▃▁▁▄▃▃▁▂▂▂▂▂▂▁▂▂▂▂▁▂▂▂▁▂▂▅▁▂▂▁▁</td></tr><tr><td>grad_2.0_norm/0.layer4.1.bn2.bias</td><td>▇▆█▆█▆▅▄▆▂▁▂▆▃▃▁▃▃▂▃▂▂▁▂▄▂▂▂▂▂▃▁▃▂▅▁▂▂▂▁</td></tr><tr><td>grad_2.0_norm/0.layer4.1.bn2.weight</td><td>█▃▃▃▇▄▅▄▆▂▁▂▃▂▂▁▂▂▂▁▂▂▁▁▂▂▁▁▂▁▂▁▂▁▄▁▁▂▁▁</td></tr><tr><td>grad_2.0_norm/0.layer4.1.conv1.weight</td><td>▆▆▆▄█▆▄▃█▃▁▁▅▄▃▂▂▂▂▂▂▂▁▂▃▂▂▁▂▂▂▁▂▂▇▁▂▂▁▁</td></tr><tr><td>grad_2.0_norm/0.layer4.1.conv2.weight</td><td>█▅▅▄▇▅▄▄▇▂▁▂▄▃▃▂▂▂▂▂▂▂▁▂▃▂▂▁▂▂▃▁▂▂▅▁▂▂▁▁</td></tr><tr><td>grad_2.0_norm/0.linear.bias</td><td>▆▄▄▃▇▂█▂▄▁▁▂▅▂▂▁▂▃▂▂▂▁▁▁▂▁▂▂▂▃▃▂▁▂▂▂▁▁▂▁</td></tr><tr><td>grad_2.0_norm/0.linear.weight</td><td>█▃▃▃▄▃▄▃▄▁▁▂▂▂▂▁▂▂▂▁▁▁▁▁▂▂▁▁▂▁▂▁▂▁▃▁▁▂▁▁</td></tr><tr><td>grad_2.0_norm/0.weight</td><td>▂█▃▅▆▃▇█▅▃▁▂▅▃▄▂▂▃▂▂▃▂▁▁▃▂▂▂▃▂▄▁▄▂▄▁▃▃▂▁</td></tr><tr><td>grad_2.0_norm/1.bias</td><td>▂▁▂▂▄▂█▁▃▁▁▂▄▃▂▁▃▃▄▂▂▁▁▁▂▁▃▂▂▃▂▂▁▁▂▁▂▁▁▁</td></tr><tr><td>grad_2.0_norm/1.weight</td><td>▅▇▃▄█▅▅▆▇▂▁▂▄▂▃▂▂▃▂▃▃▂▁▁▃▂▂▂▃▂▄▂▃▂▄▁▂▃▁▁</td></tr><tr><td>grad_2.0_norm/2.bias</td><td>▁▂▂▅▄▃▃▂█▂▁▁▄▃▃▂▂▃▂▂▁▁▁▁▂▁▁▁▁▁▁▂▁▁▁▁▁▁▁▁</td></tr><tr><td>grad_2.0_norm/2.weight</td><td>▂▅▂▃▆▄▇▅█▂▁▂▄▂▂▂▂▃▂▂▂▂▁▂▃▂▂▂▂▂▁▁▂▁▃▁▂▂▁▁</td></tr><tr><td>grad_2.0_norm/3.conv1.conv.bias</td><td>█▂▃▄▇▃▄▁▃▁▁▂▄▃▂▂▂▂▂▁▁▁▁▁▂▁▂▁▁▂▁▁▁▁▁▁▁▁▁▁</td></tr><tr><td>grad_2.0_norm/3.conv1.conv.weight</td><td>█▆▃▄▃▂▂▁▂▁▁▁▂▁▁▁▁▁▁▁▁▁▁▁▁▁▁▁▁▁▁▁▁▁▁▁▁▁▁▁</td></tr><tr><td>grad_2.0_norm/3.layer1.0.bn1.bias</td><td>█▂▂▃▅▂▂▁▂▁▁▁▂▂▁▁▁▁▁▁▁▁▁▁▁▁▁▁▁▁▁▁▁▁▁▁▁▁▁▁</td></tr><tr><td>grad_2.0_norm/3.layer1.0.bn1.weight</td><td>█▆▄▄▄▂▂▁▂▁▁▁▂▁▁▁▁▁▁▁▁▁▁▁▁▁▁▁▁▁▁▁▁▁▁▁▁▁▁▁</td></tr><tr><td>grad_2.0_norm/3.layer1.0.bn2.bias</td><td>▅▃▃▄█▄▄▂▄▂▁▁▃▃▃▁▂▂▂▁▁▁▁▁▂▁▁▁▁▁▁▂▁▁▁▁▁▁▁▁</td></tr><tr><td>grad_2.0_norm/3.layer1.0.bn2.weight</td><td>█▂▂▂▅▂▃▁▃▁▁▁▂▂▂▁▁▁▁▁▁▁▁▁▁▁▁▁▁▁▁▁▁▁▁▁▁▁▁▁</td></tr><tr><td>grad_2.0_norm/3.layer1.0.conv1.weight</td><td>█▂▂▂▃▂▂▁▂▁▁▂▂▁▂▁▁▁▁▁▁▁▁▁▁▁▁▁▁▁▁▁▁▁▁▁▁▁▁▁</td></tr><tr><td>grad_2.0_norm/3.layer1.0.conv2.weight</td><td>█▄▅▅▅▃▄▃▃▁▁▂▃▂▃▂▂▁▂▁▂▂▂▂▃▂▂▂▂▂▂▂▂▁▂▁▁▂▁▁</td></tr><tr><td>grad_2.0_norm/3.layer1.1.bn1.bias</td><td>█▂▃▃▅▂▃▁▂▁▁▁▂▂▂▁▁▁▁▁▁▁▁▁▁▁▁▁▁▁▁▁▁▁▁▁▁▁▁▁</td></tr><tr><td>grad_2.0_norm/3.layer1.1.bn1.weight</td><td>▇█▅▆▄▃▂▁▂▁▁▂▂▂▂▁▁▁▁▁▁▁▁▁▁▁▁▁▁▁▁▁▁▁▁▁▁▁▁▁</td></tr><tr><td>grad_2.0_norm/3.layer1.1.bn2.bias</td><td>▇▄▄▅█▃▄▃▅▂▁▁▂▂▃▁▂▂▂▁▁▁▁▁▁▁▁▁▁▁▁▁▁▁▁▁▁▁▁▁</td></tr><tr><td>grad_2.0_norm/3.layer1.1.bn2.weight</td><td>▅▅▃▃█▂▄▂▄▁▁▂▂▂▂▂▂▁▁▁▁▁▁▁▂▁▁▂▁▁▂▁▁▁▁▁▁▁▁▁</td></tr><tr><td>grad_2.0_norm/3.layer1.1.conv1.weight</td><td>█▃▃▄▅▃▄▂▃▁▂▂▂▂▂▂▁▁▂▁▁▁▁▁▂▁▁▁▁▁▁▁▁▁▁▁▁▁▁▁</td></tr><tr><td>grad_2.0_norm/3.layer1.1.conv2.weight</td><td>█▇▅▆█▄▅▃▄▂▂▃▃▂▃▂▂▂▂▂▂▂▂▂▃▂▂▂▂▁▂▂▁▁▂▁▁▂▁▁</td></tr><tr><td>grad_2.0_norm/3.layer2.0.bn1.bias</td><td>▄▃▃▄█▃▅▃▅▂▁▁▄▃▃▂▂▂▂▂▁▁▁▁▂▁▂▂▂▂▂▂▁▁▂▁▁▁▁▁</td></tr><tr><td>grad_2.0_norm/3.layer2.0.bn1.weight</td><td>▄▃▄▄█▄▆▄▅▂▁▂▄▃▄▃▂▂▂▁▁▂▂▂▃▂▂▂▂▂▂▃▁▂▂▁▂▂▁▁</td></tr><tr><td>grad_2.0_norm/3.layer2.0.bn2.bias</td><td>▃▂▄▄█▄█▃▅▂▁▂▄▃▃▂▂▂▂▁▂▂▁▁▂▁▂▂▁▂▂▂▁▁▂▁▁▁▁▁</td></tr><tr><td>grad_2.0_norm/3.layer2.0.bn2.weight</td><td>▃▂▃▄█▃▇▃▄▂▁▂▄▂▃▂▂▁▂▁▁▂▁▂▂▂▂▂▂▂▂▂▁▁▂▁▂▂▁▁</td></tr><tr><td>grad_2.0_norm/3.layer2.0.conv1.weight</td><td>▅▃▅▅█▃▆▃▄▂▂▂▄▂▃▃▂▁▂▁▁▁▂▂▂▂▂▁▂▂▂▂▁▁▂▁▂▂▁▁</td></tr><tr><td>grad_2.0_norm/3.layer2.0.conv2.weight</td><td>▅▃▆▄█▄█▄▅▂▁▂▄▂▃▂▂▂▂▁▂▂▂▂▂▂▂▂▂▂▂▂▁▁▂▁▂▁▁▁</td></tr><tr><td>grad_2.0_norm/3.layer2.1.bn1.bias</td><td>█▂▃▃▅▂▂▁▂▁▁▁▂▂▁▁▁▁▁▁▁▁▁▁▁▁▁▁▁▁▁▁▁▁▁▁▁▁▁▁</td></tr><tr><td>grad_2.0_norm/3.layer2.1.bn1.weight</td><td>█▅▃▄▄▂▂▁▂▁▁▁▂▂▂▁▁▁▁▁▁▁▁▁▁▁▁▁▁▁▁▁▁▁▁▁▁▁▁▁</td></tr><tr><td>grad_2.0_norm/3.layer2.1.bn2.bias</td><td>▆▃▃▄█▃▅▃▅▂▁▁▃▃▃▂▂▂▂▁▁▁▁▁▂▁▂▁▁▁▁▂▁▁▁▁▁▁▁▁</td></tr><tr><td>grad_2.0_norm/3.layer2.1.bn2.weight</td><td>▆▄▃▃█▃▅▃▅▁▁▂▃▃▃▂▂▁▂▁▂▁▁▂▂▂▂▂▂▁▂▂▁▁▁▁▂▁▁▁</td></tr><tr><td>grad_2.0_norm/3.layer2.1.conv1.conv.bias</td><td>█▂▃▂▄▂▂▁▂▁▁▁▂▁▁▁▁▁▁▁▁▁▁▁▁▁▁▁▁▁▁▁▁▁▁▁▁▁▁▁</td></tr><tr><td>grad_2.0_norm/3.layer2.1.conv1.conv.weight</td><td>█▇▄▄▆▄▄▂▃▁▂▂▃▂▂▂▂▁▂▁▁▁▁▂▂▂▁▁▁▁▁▂▁▁▁▁▁▁▁▁</td></tr><tr><td>grad_2.0_norm/3.layer2.1.conv2.weight</td><td>█▄▄▃▇▃▄▃▄▁▁▂▃▂▂▂▂▁▂▁▁▁▁▂▂▂▂▁▁▁▂▂▁▁▂▁▂▁▁▁</td></tr><tr><td>grad_2.0_norm/3.layer2.1.shortcut.0.conv.bias</td><td>█▃▃▃▄▂▃▁▂▁▁▁▂▂▁▁▁▁▁▁▁▁▁▁▁▁▁▁▁▁▁▁▁▁▁▁▁▁▁▁</td></tr><tr><td>grad_2.0_norm/3.layer2.1.shortcut.0.conv.weight</td><td>█▇▆▆█▄▅▃▄▂▂▂▄▂▃▃▂▂▂▁▁▁▂▂▃▂▂▁▂▂▂▂▂▁▂▁▂▂▁▁</td></tr><tr><td>grad_2.0_norm/3.layer2.1.shortcut.1.bias</td><td>█▂▃▃▅▂▂▁▂▁▁▁▂▂▁▁▁▁▁▁▁▁▁▁▁▁▁▁▁▁▁▁▁▁▁▁▁▁▁▁</td></tr><tr><td>grad_2.0_norm/3.layer2.1.shortcut.1.weight</td><td>█▅▃▃▄▂▃▂▂▁▁▁▂▂▂▂▁▁▁▁▁▁▁▁▁▁▁▁▁▁▁▁▁▁▁▁▁▁▁▁</td></tr><tr><td>grad_2.0_norm/3.layer3.0.bn1.bias</td><td>▂▃▆▆█▅▆▆▅▂▁▂▄▃▃▂▂▂▂▁▁▂▂▁▄▂▂▂▂▂▃▂▂▂▃▁▂▁▂▁</td></tr><tr><td>grad_2.0_norm/3.layer3.0.bn1.weight</td><td>▂▃▅▄█▄▇▅▄▂▁▂▃▃▃▃▂▂▂▁▁▁▁▂▃▂▂▂▂▂▃▂▂▂▂▁▂▂▁▁</td></tr><tr><td>grad_2.0_norm/3.layer3.0.bn2.bias</td><td>▂▃▅▆█▅▅▆▇▂▁▂▅▃▃▂▂▂▂▁▂▂▁▂▃▂▂▂▂▂▃▂▂▂▂▁▂▂▁▁</td></tr><tr><td>grad_2.0_norm/3.layer3.0.bn2.weight</td><td>▂▄▅▄█▆▆▅▄▂▁▂▃▂▂▂▂▁▁▁▁▁▁▁▂▂▂▂▂▂▂▂▂▂▃▁▂▂▁▁</td></tr><tr><td>grad_2.0_norm/3.layer3.0.conv1.weight</td><td>▃▄▆▅█▄▇▆▅▂▁▂▄▃▃▂▂▂▂▁▁▁▂▂▃▂▂▂▂▂▃▂▂▂▃▁▂▂▁▁</td></tr><tr><td>grad_2.0_norm/3.layer3.0.conv2.weight</td><td>▂▅▆▆█▅▆▆▄▂▁▂▄▃▂▂▂▂▁▁▂▁▁▂▂▂▂▂▂▂▂▁▂▂▄▁▂▂▁▁</td></tr><tr><td>grad_2.0_norm/3.layer3.1.bn1.bias</td><td>▃▂▃▃█▃▄▄▄▂▁▁▃▂▃▂▂▂▂▁▁▁▁▂▂▂▂▁▂▂▂▂▁▁▂▁▁▁▁▁</td></tr><tr><td>grad_2.0_norm/3.layer3.1.bn1.weight</td><td>▄▃▄▄█▃▆▃▄▂▁▂▄▂▃▃▂▂▁▁▁▁▂▂▂▂▂▂▂▂▂▂▁▂▂▁▂▂▁▁</td></tr><tr><td>grad_2.0_norm/3.layer3.1.bn2.bias</td><td>▃▃▄▅█▅▆▆▅▂▁▂▄▃▃▂▂▂▂▁▂▂▁▂▂▂▁▂▂▂▂▂▂▁▂▁▂▂▁▁</td></tr><tr><td>grad_2.0_norm/3.layer3.1.bn2.weight</td><td>▂▃▄▃█▄█▄▄▂▁▂▄▃▃▃▂▂▂▁▂▁▁▂▂▁▁▂▂▂▂▂▁▁▃▁▂▁▁▁</td></tr><tr><td>grad_2.0_norm/3.layer3.1.conv1.conv.bias</td><td>▃▂▄▇▇▄▄▃█▁▁▂▅▃▃▂▂▂▂▂▁▁▂▁▂▁▂▁▂▂▂▂▂▁▂▁▂▁▁▁</td></tr><tr><td>grad_2.0_norm/3.layer3.1.conv1.conv.weight</td><td>▄▃▄▄█▄▇▄▄▂▁▂▄▂▃▂▂▁▂▁▁▁▂▂▂▂▂▂▂▂▂▂▁▁▂▁▂▂▁▁</td></tr><tr><td>grad_2.0_norm/3.layer3.1.conv2.weight</td><td>▃▄▅▄█▄▆▅▄▂▁▂▃▂▂▂▂▁▁▁▂▂▁▂▂▁▂▂▂▂▂▂▁▁▃▁▂▁▁▁</td></tr><tr><td>grad_2.0_norm/3.layer3.1.shortcut.0.conv.bias</td><td>▃▂▆▇▇▆▄▃█▂▁▁▄▃▄▂▂▂▂▂▁▂▁▂▂▁▂▂▁▂▂▂▁▁▂▁▁▁▁▁</td></tr><tr><td>grad_2.0_norm/3.layer3.1.shortcut.0.conv.weight</td><td>▃▃▅▃█▃▆▄▃▁▁▂▃▂▃▂▂▂▂▁▁▁▂▂▂▂▂▂▂▂▂▂▁▁▂▁▂▁▁▁</td></tr><tr><td>grad_2.0_norm/3.layer3.1.shortcut.1.bias</td><td>▃▂▃▃█▃▄▄▄▂▁▁▃▂▃▂▂▂▂▁▁▁▁▂▂▂▂▁▂▂▂▂▁▁▂▁▁▁▁▁</td></tr><tr><td>grad_2.0_norm/3.layer3.1.shortcut.1.weight</td><td>▄▃▃▄█▃▆▄▄▂▁▂▄▂▃▃▂▁▁▁▁▁▂▂▂▂▂▂▂▂▂▂▁▁▂▁▂▂▁▁</td></tr><tr><td>grad_2.0_norm/3.layer4.0.bn1.bias</td><td>▂▃▅▆▇▅▅▆█▂▁▂▅▃▃▂▂▂▂▂▁▂▁▂▃▂▂▂▂▂▂▁▂▂▃▁▁▁▁▁</td></tr><tr><td>grad_2.0_norm/3.layer4.0.bn1.weight</td><td>▂▅▄▅█▅▆▆▆▂▁▂▄▃▃▂▂▂▁▂▂▂▁▂▃▂▂▂▂▂▃▂▂▂▅▁▂▂▁▁</td></tr><tr><td>grad_2.0_norm/3.layer4.0.bn2.bias</td><td>▁▃▄▅▆▄▃▃█▁▁▂▅▄▄▂▂▄▂▃▁▁▁▂▂▂▂▂▂▂▂▂▂▂▂▁▂▁▂▁</td></tr><tr><td>grad_2.0_norm/3.layer4.0.bn2.weight</td><td>▄█▅▆█▅█▇▇▂▂▂▆▄▄▃▃▃▂▃▂▂▁▂▄▂▂▂▂▂▃▂▂▃▇▁▃▂▁▁</td></tr><tr><td>grad_2.0_norm/3.layer4.0.conv1.weight</td><td>▂▅▅▆█▄▅▆▆▂▁▂▄▃▃▂▂▃▂▂▂▂▁▂▃▂▂▂▂▂▃▂▂▂▅▁▂▂▁▁</td></tr><tr><td>grad_2.0_norm/3.layer4.0.conv2.weight</td><td>▂▆▄▅▆▄█▄▆▂▁▂▅▃▃▂▂▃▂▂▂▁▁▁▃▂▂▂▂▂▂▂▂▂▅▁▂▂▁▁</td></tr><tr><td>grad_2.0_norm/3.layer4.1.bn1.bias</td><td>▂▃▅▅█▅▆▆▄▂▁▂▄▃▂▂▂▂▂▁▂▂▁▂▃▂▂▂▂▂▃▂▂▂▂▁▁▁▁▁</td></tr><tr><td>grad_2.0_norm/3.layer4.1.bn1.weight</td><td>▃▄▅▅█▅▇▆▅▂▁▂▄▃▃▃▂▂▂▁▂▂▂▂▂▂▂▂▂▂▃▂▂▂▅▁▂▂▁▁</td></tr><tr><td>grad_2.0_norm/3.layer4.1.bn2.bias</td><td>▂▃▄▄█▅▅▆▅▂▁▂▄▂▂▂▂▂▂▂▁▂▁▂▂▂▂▂▂▂▂▂▂▂▂▁▂▁▁▁</td></tr><tr><td>grad_2.0_norm/3.layer4.1.bn2.weight</td><td>▂▅▅▅█▅▆▇▄▂▁▂▄▂▂▂▂▂▁▁▁▁▁▂▂▂▂▂▂▂▂▂▂▂▄▁▂▂▁▁</td></tr><tr><td>grad_2.0_norm/3.layer4.1.conv1.conv.bias</td><td>▃▃▅▇▇▅▅▄█▂▁▂▅▃▃▂▂▂▂▂▂▂▂▁▃▂▂▃▂▂▃▂▂▂▃▁▂▂▂▁</td></tr><tr><td>grad_2.0_norm/3.layer4.1.conv1.conv.weight</td><td>▂▅▆▅█▄▆▆▄▂▁▂▄▂▂▂▂▂▂▁▂▁▁▂▃▂▂▂▂▂▂▂▂▂▄▁▂▂▁▁</td></tr><tr><td>grad_2.0_norm/3.layer4.1.conv2.weight</td><td>▂▄▅▅█▄▅▆▅▂▁▁▄▃▃▂▂▂▁▁▂▁▁▂▂▂▂▂▂▂▂▂▂▂▄▁▂▂▁▁</td></tr><tr><td>grad_2.0_norm/3.layer4.1.shortcut.0.conv.bias</td><td>▂▃▄▇▅▄▄▃█▁▁▂▄▃▃▂▂▃▂▂▁▁▁▁▃▁▂▂▂▂▂▂▁▂▃▁▁▁▂▁</td></tr><tr><td>grad_2.0_norm/3.layer4.1.shortcut.0.conv.weight</td><td>▃▅▅▆█▄▆▇▆▂▁▂▄▃▂▂▂▂▁▁▂▁▁▂▃▂▂▂▂▂▂▂▂▂▄▁▂▂▁▁</td></tr><tr><td>grad_2.0_norm/3.layer4.1.shortcut.1.bias</td><td>▂▃▅▅█▅▆▆▄▂▁▂▄▃▂▂▂▂▂▁▂▂▁▂▃▂▂▂▂▂▃▂▂▂▂▁▁▁▁▁</td></tr><tr><td>grad_2.0_norm/3.layer4.1.shortcut.1.weight</td><td>▂▄▅▅█▄▆█▄▂▁▂▄▃▃▂▂▂▂▁▂▂▁▂▃▂▂▂▂▂▃▂▂▂▃▁▂▂▂▁</td></tr><tr><td>grad_2.0_norm/3.linear.bias</td><td>▂▂▄▆▆▄▄▅█▂▁▂▅▃▃▂▂▃▂▂▁▂▁▂▃▂▂▁▂▂▂▁▂▂▂▁▁▁▁▁</td></tr><tr><td>grad_2.0_norm/3.linear.weight</td><td>▃▆▃▄█▄▇▆▇▂▁▂▄▃▃▂▂▂▂▂▂▂▁▂▃▂▂▂▂▂▃▁▂▂▄▁▂▂▁▁</td></tr><tr><td>grad_2.0_norm/3.linear_out.bias</td><td>▇▆▄▅█▄▅▂▅▂▂▃▅▄▃▂▃▃▃▂▂▂▂▂▂▁▃▂▂▂▂▂▂▂▂▁▂▂▂▁</td></tr><tr><td>grad_2.0_norm/3.linear_out.weight</td><td>▇▅▃▄█▄▆▂▅▂▃▃▄▄▄▃▃▃▃▂▂▂▃▂▂▂▃▃▃▂▂▂▂▂▂▁▂▁▁▁</td></tr><tr><td>grad_2.0_norm_total</td><td>█▆▃▄▄▂▂▁▂▁▁▁▂▁▁▁▁▁▁▁▁▁▁▁▁▁▁▁▁▁▁▁▁▁▁▁▁▁▁▁</td></tr><tr><td>train_loss</td><td>█▄▃▃▃▂▃▂▃▃▂▂▃▁▂▂▃▂▂▂▂▁▂▂▂▁▁▂▂▁▁▂▂▁▁▂▂▁▁▁</td></tr><tr><td>trainer/global_step</td><td>▁▁▁▂▂▂▂▂▂▃▃▃▃▃▄▄▄▄▄▄▅▅▅▅▅▅▆▆▆▆▆▇▇▇▇▇▇███</td></tr><tr><td>val_loss</td><td>█▁▁▁▁▁▁▁▁▁▁▁▁▁▁▁▁▁▁▁▁▁▁▁▁▁▁▁▁▁▁▁▁▁▁▁▁▁▁▁</td></tr></table><br/></div><div class=\"wandb-col\"><h3>Run summary:</h3><br/><table class=\"wandb\"><tr><td>epoch</td><td>99</td></tr><tr><td>grad_2.0_norm/0.bias</td><td>0.0</td></tr><tr><td>grad_2.0_norm/0.bn1.bias</td><td>0.00018</td></tr><tr><td>grad_2.0_norm/0.bn1.weight</td><td>9e-05</td></tr><tr><td>grad_2.0_norm/0.conv1.weight</td><td>0.00041</td></tr><tr><td>grad_2.0_norm/0.layer1.0.bn1.bias</td><td>0.00015</td></tr><tr><td>grad_2.0_norm/0.layer1.0.bn1.weight</td><td>0.00012</td></tr><tr><td>grad_2.0_norm/0.layer1.0.bn2.bias</td><td>0.00012</td></tr><tr><td>grad_2.0_norm/0.layer1.0.bn2.weight</td><td>0.00012</td></tr><tr><td>grad_2.0_norm/0.layer1.0.conv1.weight</td><td>0.00041</td></tr><tr><td>grad_2.0_norm/0.layer1.0.conv2.weight</td><td>0.00091</td></tr><tr><td>grad_2.0_norm/0.layer1.1.bn1.bias</td><td>9e-05</td></tr><tr><td>grad_2.0_norm/0.layer1.1.bn1.weight</td><td>0.00011</td></tr><tr><td>grad_2.0_norm/0.layer1.1.bn2.bias</td><td>7e-05</td></tr><tr><td>grad_2.0_norm/0.layer1.1.bn2.weight</td><td>0.0001</td></tr><tr><td>grad_2.0_norm/0.layer1.1.conv1.weight</td><td>0.0007</td></tr><tr><td>grad_2.0_norm/0.layer1.1.conv2.weight</td><td>0.0008</td></tr><tr><td>grad_2.0_norm/0.layer2.0.bn1.bias</td><td>7e-05</td></tr><tr><td>grad_2.0_norm/0.layer2.0.bn1.weight</td><td>9e-05</td></tr><tr><td>grad_2.0_norm/0.layer2.0.bn2.bias</td><td>8e-05</td></tr><tr><td>grad_2.0_norm/0.layer2.0.bn2.weight</td><td>8e-05</td></tr><tr><td>grad_2.0_norm/0.layer2.0.conv1.weight</td><td>0.00069</td></tr><tr><td>grad_2.0_norm/0.layer2.0.conv2.weight</td><td>0.00072</td></tr><tr><td>grad_2.0_norm/0.layer2.0.shortcut.0.weight</td><td>0.00073</td></tr><tr><td>grad_2.0_norm/0.layer2.0.shortcut.1.bias</td><td>8e-05</td></tr><tr><td>grad_2.0_norm/0.layer2.0.shortcut.1.weight</td><td>9e-05</td></tr><tr><td>grad_2.0_norm/0.layer2.1.bn1.bias</td><td>6e-05</td></tr><tr><td>grad_2.0_norm/0.layer2.1.bn1.weight</td><td>7e-05</td></tr><tr><td>grad_2.0_norm/0.layer2.1.bn2.bias</td><td>6e-05</td></tr><tr><td>grad_2.0_norm/0.layer2.1.bn2.weight</td><td>8e-05</td></tr><tr><td>grad_2.0_norm/0.layer2.1.conv1.weight</td><td>0.00067</td></tr><tr><td>grad_2.0_norm/0.layer2.1.conv2.weight</td><td>0.00073</td></tr><tr><td>grad_2.0_norm/0.layer3.0.bn1.bias</td><td>8e-05</td></tr><tr><td>grad_2.0_norm/0.layer3.0.bn1.weight</td><td>8e-05</td></tr><tr><td>grad_2.0_norm/0.layer3.0.bn2.bias</td><td>9e-05</td></tr><tr><td>grad_2.0_norm/0.layer3.0.bn2.weight</td><td>0.0001</td></tr><tr><td>grad_2.0_norm/0.layer3.0.conv1.weight</td><td>0.00088</td></tr><tr><td>grad_2.0_norm/0.layer3.0.conv2.weight</td><td>0.00091</td></tr><tr><td>grad_2.0_norm/0.layer3.0.shortcut.0.weight</td><td>0.00085</td></tr><tr><td>grad_2.0_norm/0.layer3.0.shortcut.1.bias</td><td>9e-05</td></tr><tr><td>grad_2.0_norm/0.layer3.0.shortcut.1.weight</td><td>0.00011</td></tr><tr><td>grad_2.0_norm/0.layer3.1.bn1.bias</td><td>6e-05</td></tr><tr><td>grad_2.0_norm/0.layer3.1.bn1.weight</td><td>7e-05</td></tr><tr><td>grad_2.0_norm/0.layer3.1.bn2.bias</td><td>7e-05</td></tr><tr><td>grad_2.0_norm/0.layer3.1.bn2.weight</td><td>8e-05</td></tr><tr><td>grad_2.0_norm/0.layer3.1.conv1.weight</td><td>0.00072</td></tr><tr><td>grad_2.0_norm/0.layer3.1.conv2.weight</td><td>0.00074</td></tr><tr><td>grad_2.0_norm/0.layer4.0.bn1.bias</td><td>7e-05</td></tr><tr><td>grad_2.0_norm/0.layer4.0.bn1.weight</td><td>6e-05</td></tr><tr><td>grad_2.0_norm/0.layer4.0.bn2.bias</td><td>0.0001</td></tr><tr><td>grad_2.0_norm/0.layer4.0.bn2.weight</td><td>0.0001</td></tr><tr><td>grad_2.0_norm/0.layer4.0.conv1.weight</td><td>0.00075</td></tr><tr><td>grad_2.0_norm/0.layer4.0.conv2.weight</td><td>0.00057</td></tr><tr><td>grad_2.0_norm/0.layer4.0.shortcut.0.weight</td><td>0.00089</td></tr><tr><td>grad_2.0_norm/0.layer4.0.shortcut.1.bias</td><td>0.0001</td></tr><tr><td>grad_2.0_norm/0.layer4.0.shortcut.1.weight</td><td>0.00011</td></tr><tr><td>grad_2.0_norm/0.layer4.1.bn1.bias</td><td>8e-05</td></tr><tr><td>grad_2.0_norm/0.layer4.1.bn1.weight</td><td>4e-05</td></tr><tr><td>grad_2.0_norm/0.layer4.1.bn2.bias</td><td>7e-05</td></tr><tr><td>grad_2.0_norm/0.layer4.1.bn2.weight</td><td>9e-05</td></tr><tr><td>grad_2.0_norm/0.layer4.1.conv1.weight</td><td>0.0004</td></tr><tr><td>grad_2.0_norm/0.layer4.1.conv2.weight</td><td>0.00022</td></tr><tr><td>grad_2.0_norm/0.linear.bias</td><td>0.0</td></tr><tr><td>grad_2.0_norm/0.linear.weight</td><td>0.00144</td></tr><tr><td>grad_2.0_norm/0.weight</td><td>0.00018</td></tr><tr><td>grad_2.0_norm/1.bias</td><td>0.0</td></tr><tr><td>grad_2.0_norm/1.weight</td><td>0.00145</td></tr><tr><td>grad_2.0_norm/2.bias</td><td>0.00031</td></tr><tr><td>grad_2.0_norm/2.weight</td><td>0.00039</td></tr><tr><td>grad_2.0_norm/3.conv1.conv.bias</td><td>0.01927</td></tr><tr><td>grad_2.0_norm/3.conv1.conv.weight</td><td>0.06326</td></tr><tr><td>grad_2.0_norm/3.layer1.0.bn1.bias</td><td>0.00322</td></tr><tr><td>grad_2.0_norm/3.layer1.0.bn1.weight</td><td>0.00076</td></tr><tr><td>grad_2.0_norm/3.layer1.0.bn2.bias</td><td>0.00053</td></tr><tr><td>grad_2.0_norm/3.layer1.0.bn2.weight</td><td>0.00032</td></tr><tr><td>grad_2.0_norm/3.layer1.0.conv1.weight</td><td>0.00192</td></tr><tr><td>grad_2.0_norm/3.layer1.0.conv2.weight</td><td>0.00153</td></tr><tr><td>grad_2.0_norm/3.layer1.1.bn1.bias</td><td>0.00342</td></tr><tr><td>grad_2.0_norm/3.layer1.1.bn1.weight</td><td>0.00079</td></tr><tr><td>grad_2.0_norm/3.layer1.1.bn2.bias</td><td>0.00064</td></tr><tr><td>grad_2.0_norm/3.layer1.1.bn2.weight</td><td>0.00072</td></tr><tr><td>grad_2.0_norm/3.layer1.1.conv1.weight</td><td>0.00207</td></tr><tr><td>grad_2.0_norm/3.layer1.1.conv2.weight</td><td>0.00174</td></tr><tr><td>grad_2.0_norm/3.layer2.0.bn1.bias</td><td>0.00022</td></tr><tr><td>grad_2.0_norm/3.layer2.0.bn1.weight</td><td>0.00024</td></tr><tr><td>grad_2.0_norm/3.layer2.0.bn2.bias</td><td>0.00015</td></tr><tr><td>grad_2.0_norm/3.layer2.0.bn2.weight</td><td>0.00012</td></tr><tr><td>grad_2.0_norm/3.layer2.0.conv1.weight</td><td>0.00065</td></tr><tr><td>grad_2.0_norm/3.layer2.0.conv2.weight</td><td>0.00055</td></tr><tr><td>grad_2.0_norm/3.layer2.1.bn1.bias</td><td>0.00263</td></tr><tr><td>grad_2.0_norm/3.layer2.1.bn1.weight</td><td>0.00102</td></tr><tr><td>grad_2.0_norm/3.layer2.1.bn2.bias</td><td>0.00022</td></tr><tr><td>grad_2.0_norm/3.layer2.1.bn2.weight</td><td>0.00014</td></tr><tr><td>grad_2.0_norm/3.layer2.1.conv1.conv.bias</td><td>0.0</td></tr><tr><td>grad_2.0_norm/3.layer2.1.conv1.conv.weight</td><td>0.00111</td></tr><tr><td>grad_2.0_norm/3.layer2.1.conv2.weight</td><td>0.00057</td></tr><tr><td>grad_2.0_norm/3.layer2.1.shortcut.0.conv.bias</td><td>0.0</td></tr><tr><td>grad_2.0_norm/3.layer2.1.shortcut.0.conv.weight</td><td>0.0022</td></tr><tr><td>grad_2.0_norm/3.layer2.1.shortcut.1.bias</td><td>0.00263</td></tr><tr><td>grad_2.0_norm/3.layer2.1.shortcut.1.weight</td><td>0.00158</td></tr><tr><td>grad_2.0_norm/3.layer3.0.bn1.bias</td><td>0.00019</td></tr><tr><td>grad_2.0_norm/3.layer3.0.bn1.weight</td><td>0.00014</td></tr><tr><td>grad_2.0_norm/3.layer3.0.bn2.bias</td><td>9e-05</td></tr><tr><td>grad_2.0_norm/3.layer3.0.bn2.weight</td><td>9e-05</td></tr><tr><td>grad_2.0_norm/3.layer3.0.conv1.weight</td><td>0.00053</td></tr><tr><td>grad_2.0_norm/3.layer3.0.conv2.weight</td><td>0.00044</td></tr><tr><td>grad_2.0_norm/3.layer3.1.bn1.bias</td><td>0.00027</td></tr><tr><td>grad_2.0_norm/3.layer3.1.bn1.weight</td><td>0.0002</td></tr><tr><td>grad_2.0_norm/3.layer3.1.bn2.bias</td><td>0.00014</td></tr><tr><td>grad_2.0_norm/3.layer3.1.bn2.weight</td><td>0.00016</td></tr><tr><td>grad_2.0_norm/3.layer3.1.conv1.conv.bias</td><td>0.0</td></tr><tr><td>grad_2.0_norm/3.layer3.1.conv1.conv.weight</td><td>0.00086</td></tr><tr><td>grad_2.0_norm/3.layer3.1.conv2.weight</td><td>0.00068</td></tr><tr><td>grad_2.0_norm/3.layer3.1.shortcut.0.conv.bias</td><td>0.0</td></tr><tr><td>grad_2.0_norm/3.layer3.1.shortcut.0.conv.weight</td><td>0.00103</td></tr><tr><td>grad_2.0_norm/3.layer3.1.shortcut.1.bias</td><td>0.00027</td></tr><tr><td>grad_2.0_norm/3.layer3.1.shortcut.1.weight</td><td>0.00029</td></tr><tr><td>grad_2.0_norm/3.layer4.0.bn1.bias</td><td>0.00015</td></tr><tr><td>grad_2.0_norm/3.layer4.0.bn1.weight</td><td>0.00014</td></tr><tr><td>grad_2.0_norm/3.layer4.0.bn2.bias</td><td>0.00012</td></tr><tr><td>grad_2.0_norm/3.layer4.0.bn2.weight</td><td>9e-05</td></tr><tr><td>grad_2.0_norm/3.layer4.0.conv1.weight</td><td>0.00042</td></tr><tr><td>grad_2.0_norm/3.layer4.0.conv2.weight</td><td>0.00016</td></tr><tr><td>grad_2.0_norm/3.layer4.1.bn1.bias</td><td>0.00021</td></tr><tr><td>grad_2.0_norm/3.layer4.1.bn1.weight</td><td>0.00019</td></tr><tr><td>grad_2.0_norm/3.layer4.1.bn2.bias</td><td>0.0001</td></tr><tr><td>grad_2.0_norm/3.layer4.1.bn2.weight</td><td>0.0001</td></tr><tr><td>grad_2.0_norm/3.layer4.1.conv1.conv.bias</td><td>0.0</td></tr><tr><td>grad_2.0_norm/3.layer4.1.conv1.conv.weight</td><td>0.00053</td></tr><tr><td>grad_2.0_norm/3.layer4.1.conv2.weight</td><td>0.00036</td></tr><tr><td>grad_2.0_norm/3.layer4.1.shortcut.0.conv.bias</td><td>0.0</td></tr><tr><td>grad_2.0_norm/3.layer4.1.shortcut.0.conv.weight</td><td>0.00054</td></tr><tr><td>grad_2.0_norm/3.layer4.1.shortcut.1.bias</td><td>0.00021</td></tr><tr><td>grad_2.0_norm/3.layer4.1.shortcut.1.weight</td><td>0.00022</td></tr><tr><td>grad_2.0_norm/3.linear.bias</td><td>0.00016</td></tr><tr><td>grad_2.0_norm/3.linear.weight</td><td>0.00038</td></tr><tr><td>grad_2.0_norm/3.linear_out.bias</td><td>0.00661</td></tr><tr><td>grad_2.0_norm/3.linear_out.weight</td><td>0.01005</td></tr><tr><td>grad_2.0_norm_total</td><td>0.06773</td></tr><tr><td>train_loss</td><td>0.00467</td></tr><tr><td>trainer/global_step</td><td>2799</td></tr><tr><td>val_loss</td><td>0.00767</td></tr></table><br/></div></div>"
      ],
      "text/plain": [
       "<IPython.core.display.HTML object>"
      ]
     },
     "metadata": {},
     "output_type": "display_data"
    },
    {
     "data": {
      "text/html": [
       " View run <strong style=\"color:#cdcd00\">rural-wave-12</strong> at: <a href='https://wandb.ai/mostajo-group/1d-constrastive-autoencoder/runs/gl4k1nj6' target=\"_blank\">https://wandb.ai/mostajo-group/1d-constrastive-autoencoder/runs/gl4k1nj6</a><br/>Synced 6 W&B file(s), 0 media file(s), 0 artifact file(s) and 0 other file(s)"
      ],
      "text/plain": [
       "<IPython.core.display.HTML object>"
      ]
     },
     "metadata": {},
     "output_type": "display_data"
    },
    {
     "data": {
      "text/html": [
       "Find logs at: <code>./wandb/run-20240523_095034-gl4k1nj6/logs</code>"
      ],
      "text/plain": [
       "<IPython.core.display.HTML object>"
      ]
     },
     "metadata": {},
     "output_type": "display_data"
    },
    {
     "data": {
      "text/html": [
       "Successfully finished last run (ID:gl4k1nj6). Initializing new run:<br/>"
      ],
      "text/plain": [
       "<IPython.core.display.HTML object>"
      ]
     },
     "metadata": {},
     "output_type": "display_data"
    },
    {
     "data": {
      "application/vnd.jupyter.widget-view+json": {
       "model_id": "73bf7e9f3e0b4578a5e98eb136a5c4bc",
       "version_major": 2,
       "version_minor": 0
      },
      "text/plain": [
       "VBox(children=(Label(value='Waiting for wandb.init()...\\r'), FloatProgress(value=0.011113897222220557, max=1.0…"
      ]
     },
     "metadata": {},
     "output_type": "display_data"
    },
    {
     "data": {
      "text/html": [
       "wandb version 0.17.0 is available!  To upgrade, please run:\n",
       " $ pip install wandb --upgrade"
      ],
      "text/plain": [
       "<IPython.core.display.HTML object>"
      ]
     },
     "metadata": {},
     "output_type": "display_data"
    },
    {
     "data": {
      "text/html": [
       "Tracking run with wandb version 0.16.0"
      ],
      "text/plain": [
       "<IPython.core.display.HTML object>"
      ]
     },
     "metadata": {},
     "output_type": "display_data"
    },
    {
     "data": {
      "text/html": [
       "Run data is saved locally in <code>/Users/jesusgf/Desktop/ephys_autoencoder/1d-constrastive-autoencoder/wandb/run-20240523_100106-bcr0vb92</code>"
      ],
      "text/plain": [
       "<IPython.core.display.HTML object>"
      ]
     },
     "metadata": {},
     "output_type": "display_data"
    },
    {
     "data": {
      "text/html": [
       "Syncing run <strong><a href='https://wandb.ai/mostajo-group/1d-constrastive-autoencoder/runs/bcr0vb92' target=\"_blank\">gallant-glitter-13</a></strong> to <a href='https://wandb.ai/mostajo-group/1d-constrastive-autoencoder' target=\"_blank\">Weights & Biases</a> (<a href='https://wandb.me/run' target=\"_blank\">docs</a>)<br/>"
      ],
      "text/plain": [
       "<IPython.core.display.HTML object>"
      ]
     },
     "metadata": {},
     "output_type": "display_data"
    },
    {
     "data": {
      "text/html": [
       " View project at <a href='https://wandb.ai/mostajo-group/1d-constrastive-autoencoder' target=\"_blank\">https://wandb.ai/mostajo-group/1d-constrastive-autoencoder</a>"
      ],
      "text/plain": [
       "<IPython.core.display.HTML object>"
      ]
     },
     "metadata": {},
     "output_type": "display_data"
    },
    {
     "data": {
      "text/html": [
       " View run at <a href='https://wandb.ai/mostajo-group/1d-constrastive-autoencoder/runs/bcr0vb92' target=\"_blank\">https://wandb.ai/mostajo-group/1d-constrastive-autoencoder/runs/bcr0vb92</a>"
      ],
      "text/plain": [
       "<IPython.core.display.HTML object>"
      ]
     },
     "metadata": {},
     "output_type": "display_data"
    },
    {
     "name": "stderr",
     "output_type": "stream",
     "text": [
      "GPU available: True (mps), used: True\n",
      "TPU available: False, using: 0 TPU cores\n",
      "IPU available: False, using: 0 IPUs\n",
      "HPU available: False, using: 0 HPUs\n",
      "/Users/jesusgf/opt/miniconda3/envs/electro_phys/lib/python3.10/site-packages/pytorch_lightning/loggers/wandb.py:389: There is a wandb run already in progress and newly created instances of `WandbLogger` will reuse this run. If this is not desired, call `wandb.finish()` before instantiating `WandbLogger`.\n",
      "/Users/jesusgf/opt/miniconda3/envs/electro_phys/lib/python3.10/site-packages/pytorch_lightning/callbacks/model_checkpoint.py:639: Checkpoint directory ./unimodal_model/time_model_templates_noise exists and is not empty.\n",
      "\n",
      "  | Name     | Type          | Params\n",
      "-------------------------------------------\n",
      "0 | model    | UnimodalModel | 8.0 M \n",
      "1 | mse_loss | MSELoss       | 0     \n",
      "-------------------------------------------\n",
      "8.0 M     Trainable params\n",
      "0         Non-trainable params\n",
      "8.0 M     Total params\n",
      "32.182    Total estimated model params size (MB)\n"
     ]
    },
    {
     "data": {
      "application/vnd.jupyter.widget-view+json": {
       "model_id": "dd5854134c974cd4abeea22dab18f9ac",
       "version_major": 2,
       "version_minor": 0
      },
      "text/plain": [
       "Sanity Checking: |          | 0/? [00:00<?, ?it/s]"
      ]
     },
     "metadata": {},
     "output_type": "display_data"
    },
    {
     "name": "stdout",
     "output_type": "stream",
     "text": [
      "Average validation loss is 0.99\n"
     ]
    },
    {
     "name": "stderr",
     "output_type": "stream",
     "text": [
      "/Users/jesusgf/opt/miniconda3/envs/electro_phys/lib/python3.10/site-packages/pytorch_lightning/trainer/connectors/data_connector.py:441: The 'val_dataloader' does not have many workers which may be a bottleneck. Consider increasing the value of the `num_workers` argument` to `num_workers=9` in the `DataLoader` to improve performance.\n",
      "/Users/jesusgf/opt/miniconda3/envs/electro_phys/lib/python3.10/site-packages/pytorch_lightning/trainer/connectors/data_connector.py:441: The 'train_dataloader' does not have many workers which may be a bottleneck. Consider increasing the value of the `num_workers` argument` to `num_workers=9` in the `DataLoader` to improve performance.\n"
     ]
    },
    {
     "data": {
      "application/vnd.jupyter.widget-view+json": {
       "model_id": "e5604a5430944080b16e9ac4161681f6",
       "version_major": 2,
       "version_minor": 0
      },
      "text/plain": [
       "Training: |          | 0/? [00:00<?, ?it/s]"
      ]
     },
     "metadata": {},
     "output_type": "display_data"
    },
    {
     "data": {
      "application/vnd.jupyter.widget-view+json": {
       "model_id": "13bff5ad75bb43f590e0c9a051f1cd96",
       "version_major": 2,
       "version_minor": 0
      },
      "text/plain": [
       "Validation: |          | 0/? [00:00<?, ?it/s]"
      ]
     },
     "metadata": {},
     "output_type": "display_data"
    },
    {
     "name": "stdout",
     "output_type": "stream",
     "text": [
      "Average validation loss is 1.33\n",
      "Average training loss is 0.94\n"
     ]
    },
    {
     "data": {
      "application/vnd.jupyter.widget-view+json": {
       "model_id": "0ba0d68e360b40bea030333a047248d3",
       "version_major": 2,
       "version_minor": 0
      },
      "text/plain": [
       "Validation: |          | 0/? [00:00<?, ?it/s]"
      ]
     },
     "metadata": {},
     "output_type": "display_data"
    },
    {
     "name": "stdout",
     "output_type": "stream",
     "text": [
      "Average validation loss is 1.99\n",
      "Average training loss is 0.75\n"
     ]
    },
    {
     "data": {
      "application/vnd.jupyter.widget-view+json": {
       "model_id": "d77ebd183f824a389a38f5d4cc4e72a4",
       "version_major": 2,
       "version_minor": 0
      },
      "text/plain": [
       "Validation: |          | 0/? [00:00<?, ?it/s]"
      ]
     },
     "metadata": {},
     "output_type": "display_data"
    },
    {
     "name": "stdout",
     "output_type": "stream",
     "text": [
      "Average validation loss is 0.77\n",
      "Average training loss is 0.67\n"
     ]
    },
    {
     "data": {
      "application/vnd.jupyter.widget-view+json": {
       "model_id": "c2761b85d534418c90c9608b7777f00a",
       "version_major": 2,
       "version_minor": 0
      },
      "text/plain": [
       "Validation: |          | 0/? [00:00<?, ?it/s]"
      ]
     },
     "metadata": {},
     "output_type": "display_data"
    },
    {
     "name": "stdout",
     "output_type": "stream",
     "text": [
      "Average validation loss is 0.88\n",
      "Average training loss is 0.65\n"
     ]
    },
    {
     "data": {
      "application/vnd.jupyter.widget-view+json": {
       "model_id": "1563a69e4eed4f23a4cb6bbf832ab387",
       "version_major": 2,
       "version_minor": 0
      },
      "text/plain": [
       "Validation: |          | 0/? [00:00<?, ?it/s]"
      ]
     },
     "metadata": {},
     "output_type": "display_data"
    },
    {
     "name": "stdout",
     "output_type": "stream",
     "text": [
      "Average validation loss is 0.94\n",
      "Average training loss is 0.66\n"
     ]
    },
    {
     "data": {
      "application/vnd.jupyter.widget-view+json": {
       "model_id": "281facaf93024108987487fc877b799f",
       "version_major": 2,
       "version_minor": 0
      },
      "text/plain": [
       "Validation: |          | 0/? [00:00<?, ?it/s]"
      ]
     },
     "metadata": {},
     "output_type": "display_data"
    },
    {
     "name": "stdout",
     "output_type": "stream",
     "text": [
      "Average validation loss is 0.80\n",
      "Average training loss is 0.64\n"
     ]
    },
    {
     "data": {
      "application/vnd.jupyter.widget-view+json": {
       "model_id": "07f3639000534658a42b42b1f5762f7c",
       "version_major": 2,
       "version_minor": 0
      },
      "text/plain": [
       "Validation: |          | 0/? [00:00<?, ?it/s]"
      ]
     },
     "metadata": {},
     "output_type": "display_data"
    },
    {
     "name": "stdout",
     "output_type": "stream",
     "text": [
      "Average validation loss is 0.89\n",
      "Average training loss is 0.62\n"
     ]
    },
    {
     "data": {
      "application/vnd.jupyter.widget-view+json": {
       "model_id": "75f8f1a5fde8498b957559e0ccd95df0",
       "version_major": 2,
       "version_minor": 0
      },
      "text/plain": [
       "Validation: |          | 0/? [00:00<?, ?it/s]"
      ]
     },
     "metadata": {},
     "output_type": "display_data"
    },
    {
     "name": "stdout",
     "output_type": "stream",
     "text": [
      "Average validation loss is 0.73\n",
      "Average training loss is 0.61\n"
     ]
    },
    {
     "data": {
      "application/vnd.jupyter.widget-view+json": {
       "model_id": "6380222c3bb342e3bf145da24deaaff0",
       "version_major": 2,
       "version_minor": 0
      },
      "text/plain": [
       "Validation: |          | 0/? [00:00<?, ?it/s]"
      ]
     },
     "metadata": {},
     "output_type": "display_data"
    },
    {
     "name": "stdout",
     "output_type": "stream",
     "text": [
      "Average validation loss is 0.80\n",
      "Average training loss is 0.61\n"
     ]
    },
    {
     "data": {
      "application/vnd.jupyter.widget-view+json": {
       "model_id": "1378f02a3b7440bbb2773386c8367e10",
       "version_major": 2,
       "version_minor": 0
      },
      "text/plain": [
       "Validation: |          | 0/? [00:00<?, ?it/s]"
      ]
     },
     "metadata": {},
     "output_type": "display_data"
    },
    {
     "name": "stdout",
     "output_type": "stream",
     "text": [
      "Average validation loss is 0.80\n",
      "Average training loss is 0.66\n"
     ]
    },
    {
     "data": {
      "application/vnd.jupyter.widget-view+json": {
       "model_id": "3233fce9979d4281ac3944050db2390d",
       "version_major": 2,
       "version_minor": 0
      },
      "text/plain": [
       "Validation: |          | 0/? [00:00<?, ?it/s]"
      ]
     },
     "metadata": {},
     "output_type": "display_data"
    },
    {
     "name": "stdout",
     "output_type": "stream",
     "text": [
      "Average validation loss is 0.72\n",
      "Average training loss is 0.67\n"
     ]
    },
    {
     "data": {
      "application/vnd.jupyter.widget-view+json": {
       "model_id": "05673150c39b4e22bd3d5f3660b65adc",
       "version_major": 2,
       "version_minor": 0
      },
      "text/plain": [
       "Validation: |          | 0/? [00:00<?, ?it/s]"
      ]
     },
     "metadata": {},
     "output_type": "display_data"
    },
    {
     "name": "stdout",
     "output_type": "stream",
     "text": [
      "Average validation loss is 0.76\n",
      "Average training loss is 0.68\n"
     ]
    },
    {
     "data": {
      "application/vnd.jupyter.widget-view+json": {
       "model_id": "3eed762647934ceea117503d3fd73c5a",
       "version_major": 2,
       "version_minor": 0
      },
      "text/plain": [
       "Validation: |          | 0/? [00:00<?, ?it/s]"
      ]
     },
     "metadata": {},
     "output_type": "display_data"
    },
    {
     "name": "stdout",
     "output_type": "stream",
     "text": [
      "Average validation loss is 0.82\n",
      "Average training loss is 0.63\n"
     ]
    },
    {
     "data": {
      "application/vnd.jupyter.widget-view+json": {
       "model_id": "587665092a1145c3b9b51b335b7c477f",
       "version_major": 2,
       "version_minor": 0
      },
      "text/plain": [
       "Validation: |          | 0/? [00:00<?, ?it/s]"
      ]
     },
     "metadata": {},
     "output_type": "display_data"
    },
    {
     "name": "stdout",
     "output_type": "stream",
     "text": [
      "Average validation loss is 0.81\n",
      "Average training loss is 0.58\n"
     ]
    },
    {
     "data": {
      "application/vnd.jupyter.widget-view+json": {
       "model_id": "c88ceb87afb44bf1857f76a9cae7c808",
       "version_major": 2,
       "version_minor": 0
      },
      "text/plain": [
       "Validation: |          | 0/? [00:00<?, ?it/s]"
      ]
     },
     "metadata": {},
     "output_type": "display_data"
    },
    {
     "name": "stdout",
     "output_type": "stream",
     "text": [
      "Average validation loss is 0.89\n",
      "Average training loss is 0.59\n"
     ]
    },
    {
     "data": {
      "application/vnd.jupyter.widget-view+json": {
       "model_id": "fd9bf9da5d1f440ba878febbbb027285",
       "version_major": 2,
       "version_minor": 0
      },
      "text/plain": [
       "Validation: |          | 0/? [00:00<?, ?it/s]"
      ]
     },
     "metadata": {},
     "output_type": "display_data"
    },
    {
     "name": "stdout",
     "output_type": "stream",
     "text": [
      "Average validation loss is 0.67\n",
      "Average training loss is 0.61\n"
     ]
    },
    {
     "data": {
      "application/vnd.jupyter.widget-view+json": {
       "model_id": "ab6c9ae837934ea8ab850cb508c47a74",
       "version_major": 2,
       "version_minor": 0
      },
      "text/plain": [
       "Validation: |          | 0/? [00:00<?, ?it/s]"
      ]
     },
     "metadata": {},
     "output_type": "display_data"
    },
    {
     "name": "stdout",
     "output_type": "stream",
     "text": [
      "Average validation loss is 0.97\n",
      "Average training loss is 0.54\n"
     ]
    },
    {
     "data": {
      "application/vnd.jupyter.widget-view+json": {
       "model_id": "a6297a32d88a4c3a8a54f22dfd35bdac",
       "version_major": 2,
       "version_minor": 0
      },
      "text/plain": [
       "Validation: |          | 0/? [00:00<?, ?it/s]"
      ]
     },
     "metadata": {},
     "output_type": "display_data"
    },
    {
     "name": "stdout",
     "output_type": "stream",
     "text": [
      "Average validation loss is 0.64\n",
      "Average training loss is 0.55\n"
     ]
    },
    {
     "data": {
      "application/vnd.jupyter.widget-view+json": {
       "model_id": "4723f1edbe244cf5890e68bff5a6ea58",
       "version_major": 2,
       "version_minor": 0
      },
      "text/plain": [
       "Validation: |          | 0/? [00:00<?, ?it/s]"
      ]
     },
     "metadata": {},
     "output_type": "display_data"
    },
    {
     "name": "stdout",
     "output_type": "stream",
     "text": [
      "Average validation loss is 0.64\n",
      "Average training loss is 0.54\n"
     ]
    },
    {
     "data": {
      "application/vnd.jupyter.widget-view+json": {
       "model_id": "3e28e810cc1e41cab07e98e123b6c132",
       "version_major": 2,
       "version_minor": 0
      },
      "text/plain": [
       "Validation: |          | 0/? [00:00<?, ?it/s]"
      ]
     },
     "metadata": {},
     "output_type": "display_data"
    },
    {
     "name": "stdout",
     "output_type": "stream",
     "text": [
      "Average validation loss is 0.73\n",
      "Average training loss is 0.54\n"
     ]
    },
    {
     "data": {
      "application/vnd.jupyter.widget-view+json": {
       "model_id": "2e5aecd3a78d47c29c94463196601f15",
       "version_major": 2,
       "version_minor": 0
      },
      "text/plain": [
       "Validation: |          | 0/? [00:00<?, ?it/s]"
      ]
     },
     "metadata": {},
     "output_type": "display_data"
    },
    {
     "name": "stdout",
     "output_type": "stream",
     "text": [
      "Average validation loss is 0.63\n",
      "Average training loss is 0.52\n"
     ]
    },
    {
     "data": {
      "application/vnd.jupyter.widget-view+json": {
       "model_id": "dad4bfba150f4c7da4d0e9563c16c3cc",
       "version_major": 2,
       "version_minor": 0
      },
      "text/plain": [
       "Validation: |          | 0/? [00:00<?, ?it/s]"
      ]
     },
     "metadata": {},
     "output_type": "display_data"
    },
    {
     "name": "stdout",
     "output_type": "stream",
     "text": [
      "Average validation loss is 0.55\n",
      "Average training loss is 0.49\n"
     ]
    },
    {
     "data": {
      "application/vnd.jupyter.widget-view+json": {
       "model_id": "6baea396ad23473a856ecb604e840758",
       "version_major": 2,
       "version_minor": 0
      },
      "text/plain": [
       "Validation: |          | 0/? [00:00<?, ?it/s]"
      ]
     },
     "metadata": {},
     "output_type": "display_data"
    },
    {
     "name": "stdout",
     "output_type": "stream",
     "text": [
      "Average validation loss is 0.56\n",
      "Average training loss is 0.47\n"
     ]
    },
    {
     "data": {
      "application/vnd.jupyter.widget-view+json": {
       "model_id": "3df51358b5b842c9a3ba242212dba08d",
       "version_major": 2,
       "version_minor": 0
      },
      "text/plain": [
       "Validation: |          | 0/? [00:00<?, ?it/s]"
      ]
     },
     "metadata": {},
     "output_type": "display_data"
    },
    {
     "name": "stdout",
     "output_type": "stream",
     "text": [
      "Average validation loss is 0.67\n",
      "Average training loss is 0.48\n"
     ]
    },
    {
     "data": {
      "application/vnd.jupyter.widget-view+json": {
       "model_id": "bc4fe1ca0c204ab4a135664d8bf786ed",
       "version_major": 2,
       "version_minor": 0
      },
      "text/plain": [
       "Validation: |          | 0/? [00:00<?, ?it/s]"
      ]
     },
     "metadata": {},
     "output_type": "display_data"
    },
    {
     "name": "stdout",
     "output_type": "stream",
     "text": [
      "Average validation loss is 0.57\n",
      "Average training loss is 0.48\n"
     ]
    },
    {
     "data": {
      "application/vnd.jupyter.widget-view+json": {
       "model_id": "42edb41e1a6842b983ea7bbf7d701b0b",
       "version_major": 2,
       "version_minor": 0
      },
      "text/plain": [
       "Validation: |          | 0/? [00:00<?, ?it/s]"
      ]
     },
     "metadata": {},
     "output_type": "display_data"
    },
    {
     "name": "stdout",
     "output_type": "stream",
     "text": [
      "Average validation loss is 0.61\n",
      "Average training loss is 0.47\n"
     ]
    },
    {
     "data": {
      "application/vnd.jupyter.widget-view+json": {
       "model_id": "07b85f57d70e49ce93e03b2296d5ab13",
       "version_major": 2,
       "version_minor": 0
      },
      "text/plain": [
       "Validation: |          | 0/? [00:00<?, ?it/s]"
      ]
     },
     "metadata": {},
     "output_type": "display_data"
    },
    {
     "name": "stdout",
     "output_type": "stream",
     "text": [
      "Average validation loss is 0.61\n",
      "Average training loss is 0.47\n"
     ]
    },
    {
     "data": {
      "application/vnd.jupyter.widget-view+json": {
       "model_id": "8c3a66fe9fae493eac4fd8ecc3a0e9db",
       "version_major": 2,
       "version_minor": 0
      },
      "text/plain": [
       "Validation: |          | 0/? [00:00<?, ?it/s]"
      ]
     },
     "metadata": {},
     "output_type": "display_data"
    },
    {
     "name": "stdout",
     "output_type": "stream",
     "text": [
      "Average validation loss is 0.63\n",
      "Average training loss is 0.46\n"
     ]
    },
    {
     "data": {
      "application/vnd.jupyter.widget-view+json": {
       "model_id": "2a2766ef8c4340cf9750c3070ae1ca6a",
       "version_major": 2,
       "version_minor": 0
      },
      "text/plain": [
       "Validation: |          | 0/? [00:00<?, ?it/s]"
      ]
     },
     "metadata": {},
     "output_type": "display_data"
    },
    {
     "name": "stdout",
     "output_type": "stream",
     "text": [
      "Average validation loss is 0.59\n",
      "Average training loss is 0.47\n"
     ]
    },
    {
     "data": {
      "application/vnd.jupyter.widget-view+json": {
       "model_id": "343879faa1034aff97fe064e05485b59",
       "version_major": 2,
       "version_minor": 0
      },
      "text/plain": [
       "Validation: |          | 0/? [00:00<?, ?it/s]"
      ]
     },
     "metadata": {},
     "output_type": "display_data"
    },
    {
     "name": "stdout",
     "output_type": "stream",
     "text": [
      "Average validation loss is 0.60\n",
      "Average training loss is 0.47\n"
     ]
    },
    {
     "data": {
      "application/vnd.jupyter.widget-view+json": {
       "model_id": "0420b9bf01284ca4a6ff6ca99ae268d3",
       "version_major": 2,
       "version_minor": 0
      },
      "text/plain": [
       "Validation: |          | 0/? [00:00<?, ?it/s]"
      ]
     },
     "metadata": {},
     "output_type": "display_data"
    },
    {
     "name": "stdout",
     "output_type": "stream",
     "text": [
      "Average validation loss is 0.67\n",
      "Average training loss is 0.45\n"
     ]
    },
    {
     "data": {
      "application/vnd.jupyter.widget-view+json": {
       "model_id": "8285e79dafe5422fac3c416a99b5aa0b",
       "version_major": 2,
       "version_minor": 0
      },
      "text/plain": [
       "Validation: |          | 0/? [00:00<?, ?it/s]"
      ]
     },
     "metadata": {},
     "output_type": "display_data"
    },
    {
     "name": "stdout",
     "output_type": "stream",
     "text": [
      "Average validation loss is 0.56\n",
      "Average training loss is 0.46\n"
     ]
    },
    {
     "data": {
      "application/vnd.jupyter.widget-view+json": {
       "model_id": "9f26e87982494dd6ad934ae31ed7308a",
       "version_major": 2,
       "version_minor": 0
      },
      "text/plain": [
       "Validation: |          | 0/? [00:00<?, ?it/s]"
      ]
     },
     "metadata": {},
     "output_type": "display_data"
    },
    {
     "name": "stdout",
     "output_type": "stream",
     "text": [
      "Average validation loss is 0.56\n",
      "Average training loss is 0.44\n"
     ]
    },
    {
     "data": {
      "application/vnd.jupyter.widget-view+json": {
       "model_id": "dcc4fe38d0924651984c3f638a22a854",
       "version_major": 2,
       "version_minor": 0
      },
      "text/plain": [
       "Validation: |          | 0/? [00:00<?, ?it/s]"
      ]
     },
     "metadata": {},
     "output_type": "display_data"
    },
    {
     "name": "stdout",
     "output_type": "stream",
     "text": [
      "Average validation loss is 0.61\n",
      "Average training loss is 0.43\n"
     ]
    },
    {
     "data": {
      "application/vnd.jupyter.widget-view+json": {
       "model_id": "0bda0061cca841cbbf0d789a9362b324",
       "version_major": 2,
       "version_minor": 0
      },
      "text/plain": [
       "Validation: |          | 0/? [00:00<?, ?it/s]"
      ]
     },
     "metadata": {},
     "output_type": "display_data"
    },
    {
     "name": "stdout",
     "output_type": "stream",
     "text": [
      "Average validation loss is 0.58\n",
      "Average training loss is 0.43\n"
     ]
    },
    {
     "data": {
      "application/vnd.jupyter.widget-view+json": {
       "model_id": "2eae85421273417e934deae4d0bd56ca",
       "version_major": 2,
       "version_minor": 0
      },
      "text/plain": [
       "Validation: |          | 0/? [00:00<?, ?it/s]"
      ]
     },
     "metadata": {},
     "output_type": "display_data"
    },
    {
     "name": "stdout",
     "output_type": "stream",
     "text": [
      "Average validation loss is 0.59\n",
      "Average training loss is 0.43\n"
     ]
    },
    {
     "data": {
      "application/vnd.jupyter.widget-view+json": {
       "model_id": "d92d8ff7edf54fb6a7a34392ef9de242",
       "version_major": 2,
       "version_minor": 0
      },
      "text/plain": [
       "Validation: |          | 0/? [00:00<?, ?it/s]"
      ]
     },
     "metadata": {},
     "output_type": "display_data"
    },
    {
     "name": "stdout",
     "output_type": "stream",
     "text": [
      "Average validation loss is 0.59\n",
      "Average training loss is 0.42\n"
     ]
    },
    {
     "data": {
      "application/vnd.jupyter.widget-view+json": {
       "model_id": "66b817cc5c85440c88cb14929314d9e8",
       "version_major": 2,
       "version_minor": 0
      },
      "text/plain": [
       "Validation: |          | 0/? [00:00<?, ?it/s]"
      ]
     },
     "metadata": {},
     "output_type": "display_data"
    },
    {
     "name": "stdout",
     "output_type": "stream",
     "text": [
      "Average validation loss is 0.61\n",
      "Average training loss is 0.41\n"
     ]
    },
    {
     "data": {
      "application/vnd.jupyter.widget-view+json": {
       "model_id": "eb64ee45a6284ccea0207eb2e177c1d1",
       "version_major": 2,
       "version_minor": 0
      },
      "text/plain": [
       "Validation: |          | 0/? [00:00<?, ?it/s]"
      ]
     },
     "metadata": {},
     "output_type": "display_data"
    },
    {
     "name": "stdout",
     "output_type": "stream",
     "text": [
      "Average validation loss is 0.57\n",
      "Average training loss is 0.42\n"
     ]
    },
    {
     "data": {
      "application/vnd.jupyter.widget-view+json": {
       "model_id": "f888f71be744494482d302722b9046a9",
       "version_major": 2,
       "version_minor": 0
      },
      "text/plain": [
       "Validation: |          | 0/? [00:00<?, ?it/s]"
      ]
     },
     "metadata": {},
     "output_type": "display_data"
    },
    {
     "name": "stdout",
     "output_type": "stream",
     "text": [
      "Average validation loss is 0.54\n",
      "Average training loss is 0.41\n"
     ]
    },
    {
     "data": {
      "application/vnd.jupyter.widget-view+json": {
       "model_id": "fd846943377d4f078483d73b28b9d55d",
       "version_major": 2,
       "version_minor": 0
      },
      "text/plain": [
       "Validation: |          | 0/? [00:00<?, ?it/s]"
      ]
     },
     "metadata": {},
     "output_type": "display_data"
    },
    {
     "name": "stdout",
     "output_type": "stream",
     "text": [
      "Average validation loss is 0.53\n",
      "Average training loss is 0.41\n"
     ]
    },
    {
     "data": {
      "application/vnd.jupyter.widget-view+json": {
       "model_id": "b0c739c263a64182a96328bc8e74610e",
       "version_major": 2,
       "version_minor": 0
      },
      "text/plain": [
       "Validation: |          | 0/? [00:00<?, ?it/s]"
      ]
     },
     "metadata": {},
     "output_type": "display_data"
    },
    {
     "name": "stdout",
     "output_type": "stream",
     "text": [
      "Average validation loss is 0.54\n",
      "Average training loss is 0.40\n"
     ]
    },
    {
     "data": {
      "application/vnd.jupyter.widget-view+json": {
       "model_id": "a93756b2d22a4c178baef2afc4fad62f",
       "version_major": 2,
       "version_minor": 0
      },
      "text/plain": [
       "Validation: |          | 0/? [00:00<?, ?it/s]"
      ]
     },
     "metadata": {},
     "output_type": "display_data"
    },
    {
     "name": "stdout",
     "output_type": "stream",
     "text": [
      "Average validation loss is 0.54\n",
      "Average training loss is 0.40\n"
     ]
    },
    {
     "data": {
      "application/vnd.jupyter.widget-view+json": {
       "model_id": "b3ac7b5ea310407cb0cc6ff3cbb045ac",
       "version_major": 2,
       "version_minor": 0
      },
      "text/plain": [
       "Validation: |          | 0/? [00:00<?, ?it/s]"
      ]
     },
     "metadata": {},
     "output_type": "display_data"
    },
    {
     "name": "stdout",
     "output_type": "stream",
     "text": [
      "Average validation loss is 0.53\n",
      "Average training loss is 0.39\n"
     ]
    },
    {
     "data": {
      "application/vnd.jupyter.widget-view+json": {
       "model_id": "f6e991c2413d41fe93ce1f0a3d81e71b",
       "version_major": 2,
       "version_minor": 0
      },
      "text/plain": [
       "Validation: |          | 0/? [00:00<?, ?it/s]"
      ]
     },
     "metadata": {},
     "output_type": "display_data"
    },
    {
     "name": "stdout",
     "output_type": "stream",
     "text": [
      "Average validation loss is 0.56\n",
      "Average training loss is 0.42\n"
     ]
    },
    {
     "data": {
      "application/vnd.jupyter.widget-view+json": {
       "model_id": "8d327dd003e44bab98293d8f0bb33882",
       "version_major": 2,
       "version_minor": 0
      },
      "text/plain": [
       "Validation: |          | 0/? [00:00<?, ?it/s]"
      ]
     },
     "metadata": {},
     "output_type": "display_data"
    },
    {
     "name": "stdout",
     "output_type": "stream",
     "text": [
      "Average validation loss is 0.52\n",
      "Average training loss is 0.41\n"
     ]
    },
    {
     "data": {
      "application/vnd.jupyter.widget-view+json": {
       "model_id": "4e1aa736f9864b62a8cbdd33f7b8a568",
       "version_major": 2,
       "version_minor": 0
      },
      "text/plain": [
       "Validation: |          | 0/? [00:00<?, ?it/s]"
      ]
     },
     "metadata": {},
     "output_type": "display_data"
    },
    {
     "name": "stdout",
     "output_type": "stream",
     "text": [
      "Average validation loss is 0.54\n",
      "Average training loss is 0.42\n"
     ]
    },
    {
     "data": {
      "application/vnd.jupyter.widget-view+json": {
       "model_id": "b45b5516c741498a89b72160b01e1a89",
       "version_major": 2,
       "version_minor": 0
      },
      "text/plain": [
       "Validation: |          | 0/? [00:00<?, ?it/s]"
      ]
     },
     "metadata": {},
     "output_type": "display_data"
    },
    {
     "name": "stdout",
     "output_type": "stream",
     "text": [
      "Average validation loss is 0.54\n",
      "Average training loss is 0.42\n"
     ]
    },
    {
     "data": {
      "application/vnd.jupyter.widget-view+json": {
       "model_id": "70c73443314d4276820c9c0f7e3f701e",
       "version_major": 2,
       "version_minor": 0
      },
      "text/plain": [
       "Validation: |          | 0/? [00:00<?, ?it/s]"
      ]
     },
     "metadata": {},
     "output_type": "display_data"
    },
    {
     "name": "stdout",
     "output_type": "stream",
     "text": [
      "Average validation loss is 0.53\n",
      "Average training loss is 0.43\n"
     ]
    },
    {
     "data": {
      "application/vnd.jupyter.widget-view+json": {
       "model_id": "632bbf8ea98f4c7c80d2e9d61a0fc116",
       "version_major": 2,
       "version_minor": 0
      },
      "text/plain": [
       "Validation: |          | 0/? [00:00<?, ?it/s]"
      ]
     },
     "metadata": {},
     "output_type": "display_data"
    },
    {
     "name": "stdout",
     "output_type": "stream",
     "text": [
      "Average validation loss is 0.55\n",
      "Average training loss is 0.42\n"
     ]
    },
    {
     "data": {
      "application/vnd.jupyter.widget-view+json": {
       "model_id": "b24816cd866b4e68b3168b223cdd1804",
       "version_major": 2,
       "version_minor": 0
      },
      "text/plain": [
       "Validation: |          | 0/? [00:00<?, ?it/s]"
      ]
     },
     "metadata": {},
     "output_type": "display_data"
    },
    {
     "name": "stdout",
     "output_type": "stream",
     "text": [
      "Average validation loss is 0.57\n",
      "Average training loss is 0.43\n"
     ]
    },
    {
     "data": {
      "application/vnd.jupyter.widget-view+json": {
       "model_id": "9f1286a081b94eb7ae3ac4efb3460e58",
       "version_major": 2,
       "version_minor": 0
      },
      "text/plain": [
       "Validation: |          | 0/? [00:00<?, ?it/s]"
      ]
     },
     "metadata": {},
     "output_type": "display_data"
    },
    {
     "name": "stdout",
     "output_type": "stream",
     "text": [
      "Average validation loss is 0.55\n",
      "Average training loss is 0.41\n"
     ]
    },
    {
     "data": {
      "application/vnd.jupyter.widget-view+json": {
       "model_id": "7498c07bb42044ddaea7e12d96bd7881",
       "version_major": 2,
       "version_minor": 0
      },
      "text/plain": [
       "Validation: |          | 0/? [00:00<?, ?it/s]"
      ]
     },
     "metadata": {},
     "output_type": "display_data"
    },
    {
     "name": "stdout",
     "output_type": "stream",
     "text": [
      "Average validation loss is 0.58\n",
      "Average training loss is 0.42\n"
     ]
    },
    {
     "data": {
      "application/vnd.jupyter.widget-view+json": {
       "model_id": "16a58e5148884f13acd51d9dc793e87f",
       "version_major": 2,
       "version_minor": 0
      },
      "text/plain": [
       "Validation: |          | 0/? [00:00<?, ?it/s]"
      ]
     },
     "metadata": {},
     "output_type": "display_data"
    },
    {
     "name": "stdout",
     "output_type": "stream",
     "text": [
      "Average validation loss is 0.55\n",
      "Average training loss is 0.41\n"
     ]
    },
    {
     "data": {
      "application/vnd.jupyter.widget-view+json": {
       "model_id": "02f1a25db8394d2ea999cf76f44fd871",
       "version_major": 2,
       "version_minor": 0
      },
      "text/plain": [
       "Validation: |          | 0/? [00:00<?, ?it/s]"
      ]
     },
     "metadata": {},
     "output_type": "display_data"
    },
    {
     "name": "stdout",
     "output_type": "stream",
     "text": [
      "Average validation loss is 0.57\n",
      "Average training loss is 0.41\n"
     ]
    },
    {
     "data": {
      "application/vnd.jupyter.widget-view+json": {
       "model_id": "cdffc504722741648b444260efa53920",
       "version_major": 2,
       "version_minor": 0
      },
      "text/plain": [
       "Validation: |          | 0/? [00:00<?, ?it/s]"
      ]
     },
     "metadata": {},
     "output_type": "display_data"
    },
    {
     "name": "stdout",
     "output_type": "stream",
     "text": [
      "Average validation loss is 0.54\n",
      "Average training loss is 0.41\n"
     ]
    },
    {
     "data": {
      "application/vnd.jupyter.widget-view+json": {
       "model_id": "70baa54c3461490ba9ca2477849517c6",
       "version_major": 2,
       "version_minor": 0
      },
      "text/plain": [
       "Validation: |          | 0/? [00:00<?, ?it/s]"
      ]
     },
     "metadata": {},
     "output_type": "display_data"
    },
    {
     "name": "stdout",
     "output_type": "stream",
     "text": [
      "Average validation loss is 0.54\n",
      "Average training loss is 0.41\n"
     ]
    },
    {
     "data": {
      "application/vnd.jupyter.widget-view+json": {
       "model_id": "c441a225a9bf4d0d83bb76c62ae49381",
       "version_major": 2,
       "version_minor": 0
      },
      "text/plain": [
       "Validation: |          | 0/? [00:00<?, ?it/s]"
      ]
     },
     "metadata": {},
     "output_type": "display_data"
    },
    {
     "name": "stdout",
     "output_type": "stream",
     "text": [
      "Average validation loss is 0.56\n",
      "Average training loss is 0.41\n"
     ]
    },
    {
     "data": {
      "application/vnd.jupyter.widget-view+json": {
       "model_id": "df1806d6c78543c6a0369a656d3aec59",
       "version_major": 2,
       "version_minor": 0
      },
      "text/plain": [
       "Validation: |          | 0/? [00:00<?, ?it/s]"
      ]
     },
     "metadata": {},
     "output_type": "display_data"
    },
    {
     "name": "stdout",
     "output_type": "stream",
     "text": [
      "Average validation loss is 0.50\n",
      "Average training loss is 0.39\n"
     ]
    },
    {
     "data": {
      "application/vnd.jupyter.widget-view+json": {
       "model_id": "9a0862cb677a447182814ff591dfe369",
       "version_major": 2,
       "version_minor": 0
      },
      "text/plain": [
       "Validation: |          | 0/? [00:00<?, ?it/s]"
      ]
     },
     "metadata": {},
     "output_type": "display_data"
    },
    {
     "name": "stdout",
     "output_type": "stream",
     "text": [
      "Average validation loss is 0.50\n",
      "Average training loss is 0.39\n"
     ]
    },
    {
     "data": {
      "application/vnd.jupyter.widget-view+json": {
       "model_id": "fabdc0df1a9349f4af38fa19973d0078",
       "version_major": 2,
       "version_minor": 0
      },
      "text/plain": [
       "Validation: |          | 0/? [00:00<?, ?it/s]"
      ]
     },
     "metadata": {},
     "output_type": "display_data"
    },
    {
     "name": "stdout",
     "output_type": "stream",
     "text": [
      "Average validation loss is 0.51\n",
      "Average training loss is 0.38\n"
     ]
    },
    {
     "data": {
      "application/vnd.jupyter.widget-view+json": {
       "model_id": "86c07d696fb144318340f22a1cc90257",
       "version_major": 2,
       "version_minor": 0
      },
      "text/plain": [
       "Validation: |          | 0/? [00:00<?, ?it/s]"
      ]
     },
     "metadata": {},
     "output_type": "display_data"
    },
    {
     "name": "stdout",
     "output_type": "stream",
     "text": [
      "Average validation loss is 0.49\n",
      "Average training loss is 0.37\n"
     ]
    },
    {
     "data": {
      "application/vnd.jupyter.widget-view+json": {
       "model_id": "a59a9d76b1f84c40a09f6ae195e0c3f3",
       "version_major": 2,
       "version_minor": 0
      },
      "text/plain": [
       "Validation: |          | 0/? [00:00<?, ?it/s]"
      ]
     },
     "metadata": {},
     "output_type": "display_data"
    },
    {
     "name": "stdout",
     "output_type": "stream",
     "text": [
      "Average validation loss is 0.50\n",
      "Average training loss is 0.37\n"
     ]
    },
    {
     "data": {
      "application/vnd.jupyter.widget-view+json": {
       "model_id": "8322b28059eb4191b2263278659550ae",
       "version_major": 2,
       "version_minor": 0
      },
      "text/plain": [
       "Validation: |          | 0/? [00:00<?, ?it/s]"
      ]
     },
     "metadata": {},
     "output_type": "display_data"
    },
    {
     "name": "stdout",
     "output_type": "stream",
     "text": [
      "Average validation loss is 0.50\n",
      "Average training loss is 0.37\n"
     ]
    },
    {
     "data": {
      "application/vnd.jupyter.widget-view+json": {
       "model_id": "91ac0e5c9b294f779b5eca432a444570",
       "version_major": 2,
       "version_minor": 0
      },
      "text/plain": [
       "Validation: |          | 0/? [00:00<?, ?it/s]"
      ]
     },
     "metadata": {},
     "output_type": "display_data"
    },
    {
     "name": "stdout",
     "output_type": "stream",
     "text": [
      "Average validation loss is 0.51\n",
      "Average training loss is 0.39\n"
     ]
    },
    {
     "data": {
      "application/vnd.jupyter.widget-view+json": {
       "model_id": "83901355756c4ad09dcb1c9f529bace5",
       "version_major": 2,
       "version_minor": 0
      },
      "text/plain": [
       "Validation: |          | 0/? [00:00<?, ?it/s]"
      ]
     },
     "metadata": {},
     "output_type": "display_data"
    },
    {
     "name": "stdout",
     "output_type": "stream",
     "text": [
      "Average validation loss is 0.51\n",
      "Average training loss is 0.39\n"
     ]
    },
    {
     "data": {
      "application/vnd.jupyter.widget-view+json": {
       "model_id": "1d10c235c0e8401393014cbecab58815",
       "version_major": 2,
       "version_minor": 0
      },
      "text/plain": [
       "Validation: |          | 0/? [00:00<?, ?it/s]"
      ]
     },
     "metadata": {},
     "output_type": "display_data"
    },
    {
     "name": "stdout",
     "output_type": "stream",
     "text": [
      "Average validation loss is 0.49\n",
      "Average training loss is 0.38\n"
     ]
    },
    {
     "data": {
      "application/vnd.jupyter.widget-view+json": {
       "model_id": "49e4070f00a140c5bd8c66fc27b4531c",
       "version_major": 2,
       "version_minor": 0
      },
      "text/plain": [
       "Validation: |          | 0/? [00:00<?, ?it/s]"
      ]
     },
     "metadata": {},
     "output_type": "display_data"
    },
    {
     "name": "stdout",
     "output_type": "stream",
     "text": [
      "Average validation loss is 0.49\n",
      "Average training loss is 0.37\n"
     ]
    },
    {
     "data": {
      "application/vnd.jupyter.widget-view+json": {
       "model_id": "116f6f099a104a2e9d91e92e96c9a087",
       "version_major": 2,
       "version_minor": 0
      },
      "text/plain": [
       "Validation: |          | 0/? [00:00<?, ?it/s]"
      ]
     },
     "metadata": {},
     "output_type": "display_data"
    },
    {
     "name": "stdout",
     "output_type": "stream",
     "text": [
      "Average validation loss is 0.49\n",
      "Average training loss is 0.36\n"
     ]
    },
    {
     "data": {
      "application/vnd.jupyter.widget-view+json": {
       "model_id": "5542f28252aa4046b0de6e8ac50c3b46",
       "version_major": 2,
       "version_minor": 0
      },
      "text/plain": [
       "Validation: |          | 0/? [00:00<?, ?it/s]"
      ]
     },
     "metadata": {},
     "output_type": "display_data"
    },
    {
     "name": "stdout",
     "output_type": "stream",
     "text": [
      "Average validation loss is 0.49\n",
      "Average training loss is 0.36\n"
     ]
    },
    {
     "data": {
      "application/vnd.jupyter.widget-view+json": {
       "model_id": "f7ca8621aab741e4bcb8fb5ee374a962",
       "version_major": 2,
       "version_minor": 0
      },
      "text/plain": [
       "Validation: |          | 0/? [00:00<?, ?it/s]"
      ]
     },
     "metadata": {},
     "output_type": "display_data"
    },
    {
     "name": "stdout",
     "output_type": "stream",
     "text": [
      "Average validation loss is 0.50\n",
      "Average training loss is 0.36\n"
     ]
    },
    {
     "data": {
      "application/vnd.jupyter.widget-view+json": {
       "model_id": "ae35bf9f395742e5912ad93123408491",
       "version_major": 2,
       "version_minor": 0
      },
      "text/plain": [
       "Validation: |          | 0/? [00:00<?, ?it/s]"
      ]
     },
     "metadata": {},
     "output_type": "display_data"
    },
    {
     "name": "stdout",
     "output_type": "stream",
     "text": [
      "Average validation loss is 0.51\n",
      "Average training loss is 0.36\n"
     ]
    },
    {
     "data": {
      "application/vnd.jupyter.widget-view+json": {
       "model_id": "4e420054bfeb44798a72061d5245ea1b",
       "version_major": 2,
       "version_minor": 0
      },
      "text/plain": [
       "Validation: |          | 0/? [00:00<?, ?it/s]"
      ]
     },
     "metadata": {},
     "output_type": "display_data"
    },
    {
     "name": "stdout",
     "output_type": "stream",
     "text": [
      "Average validation loss is 0.52\n",
      "Average training loss is 0.37\n"
     ]
    },
    {
     "data": {
      "application/vnd.jupyter.widget-view+json": {
       "model_id": "4324022349434e45b66cac6f440c8248",
       "version_major": 2,
       "version_minor": 0
      },
      "text/plain": [
       "Validation: |          | 0/? [00:00<?, ?it/s]"
      ]
     },
     "metadata": {},
     "output_type": "display_data"
    },
    {
     "name": "stdout",
     "output_type": "stream",
     "text": [
      "Average validation loss is 0.50\n",
      "Average training loss is 0.37\n"
     ]
    },
    {
     "data": {
      "application/vnd.jupyter.widget-view+json": {
       "model_id": "181e48b132dd4bf1aef6fdb5534275b7",
       "version_major": 2,
       "version_minor": 0
      },
      "text/plain": [
       "Validation: |          | 0/? [00:00<?, ?it/s]"
      ]
     },
     "metadata": {},
     "output_type": "display_data"
    },
    {
     "name": "stdout",
     "output_type": "stream",
     "text": [
      "Average validation loss is 0.54\n",
      "Average training loss is 0.37\n"
     ]
    },
    {
     "data": {
      "application/vnd.jupyter.widget-view+json": {
       "model_id": "308a4a7a60f2445193e3c4b56e932785",
       "version_major": 2,
       "version_minor": 0
      },
      "text/plain": [
       "Validation: |          | 0/? [00:00<?, ?it/s]"
      ]
     },
     "metadata": {},
     "output_type": "display_data"
    },
    {
     "name": "stdout",
     "output_type": "stream",
     "text": [
      "Average validation loss is 0.54\n",
      "Average training loss is 0.38\n"
     ]
    },
    {
     "data": {
      "application/vnd.jupyter.widget-view+json": {
       "model_id": "549b217ef4694bdead48da137977e193",
       "version_major": 2,
       "version_minor": 0
      },
      "text/plain": [
       "Validation: |          | 0/? [00:00<?, ?it/s]"
      ]
     },
     "metadata": {},
     "output_type": "display_data"
    },
    {
     "name": "stdout",
     "output_type": "stream",
     "text": [
      "Average validation loss is 0.58\n",
      "Average training loss is 0.37\n"
     ]
    },
    {
     "data": {
      "application/vnd.jupyter.widget-view+json": {
       "model_id": "81f089c9037e4a619edbf2b8513ca0f1",
       "version_major": 2,
       "version_minor": 0
      },
      "text/plain": [
       "Validation: |          | 0/? [00:00<?, ?it/s]"
      ]
     },
     "metadata": {},
     "output_type": "display_data"
    },
    {
     "name": "stdout",
     "output_type": "stream",
     "text": [
      "Average validation loss is 0.53\n",
      "Average training loss is 0.37\n"
     ]
    },
    {
     "data": {
      "application/vnd.jupyter.widget-view+json": {
       "model_id": "b3d718dd56c846e5992f34ce060d337d",
       "version_major": 2,
       "version_minor": 0
      },
      "text/plain": [
       "Validation: |          | 0/? [00:00<?, ?it/s]"
      ]
     },
     "metadata": {},
     "output_type": "display_data"
    },
    {
     "name": "stdout",
     "output_type": "stream",
     "text": [
      "Average validation loss is 0.49\n",
      "Average training loss is 0.37\n"
     ]
    },
    {
     "data": {
      "application/vnd.jupyter.widget-view+json": {
       "model_id": "f699e235461e4077a0a7018a71899515",
       "version_major": 2,
       "version_minor": 0
      },
      "text/plain": [
       "Validation: |          | 0/? [00:00<?, ?it/s]"
      ]
     },
     "metadata": {},
     "output_type": "display_data"
    },
    {
     "name": "stdout",
     "output_type": "stream",
     "text": [
      "Average validation loss is 0.49\n",
      "Average training loss is 0.36\n"
     ]
    },
    {
     "data": {
      "application/vnd.jupyter.widget-view+json": {
       "model_id": "caed3810681247ef8f34743c0a407d0e",
       "version_major": 2,
       "version_minor": 0
      },
      "text/plain": [
       "Validation: |          | 0/? [00:00<?, ?it/s]"
      ]
     },
     "metadata": {},
     "output_type": "display_data"
    },
    {
     "name": "stdout",
     "output_type": "stream",
     "text": [
      "Average validation loss is 0.48\n",
      "Average training loss is 0.37\n"
     ]
    },
    {
     "data": {
      "application/vnd.jupyter.widget-view+json": {
       "model_id": "0f0357cb77234d3db9853dc190f13f5d",
       "version_major": 2,
       "version_minor": 0
      },
      "text/plain": [
       "Validation: |          | 0/? [00:00<?, ?it/s]"
      ]
     },
     "metadata": {},
     "output_type": "display_data"
    },
    {
     "name": "stdout",
     "output_type": "stream",
     "text": [
      "Average validation loss is 0.48\n",
      "Average training loss is 0.36\n"
     ]
    },
    {
     "data": {
      "application/vnd.jupyter.widget-view+json": {
       "model_id": "ddb1489ad6724935ac132b5850725e7e",
       "version_major": 2,
       "version_minor": 0
      },
      "text/plain": [
       "Validation: |          | 0/? [00:00<?, ?it/s]"
      ]
     },
     "metadata": {},
     "output_type": "display_data"
    },
    {
     "name": "stdout",
     "output_type": "stream",
     "text": [
      "Average validation loss is 0.47\n",
      "Average training loss is 0.36\n"
     ]
    },
    {
     "data": {
      "application/vnd.jupyter.widget-view+json": {
       "model_id": "b32186b24d2c4f5ea1cf3f834231a906",
       "version_major": 2,
       "version_minor": 0
      },
      "text/plain": [
       "Validation: |          | 0/? [00:00<?, ?it/s]"
      ]
     },
     "metadata": {},
     "output_type": "display_data"
    },
    {
     "name": "stdout",
     "output_type": "stream",
     "text": [
      "Average validation loss is 0.50\n",
      "Average training loss is 0.35\n"
     ]
    },
    {
     "data": {
      "application/vnd.jupyter.widget-view+json": {
       "model_id": "1d499485d8274e819257d6d05e300c8e",
       "version_major": 2,
       "version_minor": 0
      },
      "text/plain": [
       "Validation: |          | 0/? [00:00<?, ?it/s]"
      ]
     },
     "metadata": {},
     "output_type": "display_data"
    },
    {
     "name": "stdout",
     "output_type": "stream",
     "text": [
      "Average validation loss is 0.49\n",
      "Average training loss is 0.35\n"
     ]
    },
    {
     "data": {
      "application/vnd.jupyter.widget-view+json": {
       "model_id": "76c4f45d742c458cb7e3cc3a0bf9e02f",
       "version_major": 2,
       "version_minor": 0
      },
      "text/plain": [
       "Validation: |          | 0/? [00:00<?, ?it/s]"
      ]
     },
     "metadata": {},
     "output_type": "display_data"
    },
    {
     "name": "stdout",
     "output_type": "stream",
     "text": [
      "Average validation loss is 0.48\n",
      "Average training loss is 0.34\n"
     ]
    },
    {
     "data": {
      "application/vnd.jupyter.widget-view+json": {
       "model_id": "e3c79695347645b18a3dbc4508210625",
       "version_major": 2,
       "version_minor": 0
      },
      "text/plain": [
       "Validation: |          | 0/? [00:00<?, ?it/s]"
      ]
     },
     "metadata": {},
     "output_type": "display_data"
    },
    {
     "name": "stdout",
     "output_type": "stream",
     "text": [
      "Average validation loss is 0.48\n",
      "Average training loss is 0.34\n"
     ]
    },
    {
     "data": {
      "application/vnd.jupyter.widget-view+json": {
       "model_id": "9f87027d5c3247e99203f4c55fac7e07",
       "version_major": 2,
       "version_minor": 0
      },
      "text/plain": [
       "Validation: |          | 0/? [00:00<?, ?it/s]"
      ]
     },
     "metadata": {},
     "output_type": "display_data"
    },
    {
     "name": "stdout",
     "output_type": "stream",
     "text": [
      "Average validation loss is 0.49\n",
      "Average training loss is 0.34\n"
     ]
    },
    {
     "data": {
      "application/vnd.jupyter.widget-view+json": {
       "model_id": "b2b29c37262d4190ab767ed0447a182a",
       "version_major": 2,
       "version_minor": 0
      },
      "text/plain": [
       "Validation: |          | 0/? [00:00<?, ?it/s]"
      ]
     },
     "metadata": {},
     "output_type": "display_data"
    },
    {
     "name": "stdout",
     "output_type": "stream",
     "text": [
      "Average validation loss is 0.49\n",
      "Average training loss is 0.35\n"
     ]
    },
    {
     "data": {
      "application/vnd.jupyter.widget-view+json": {
       "model_id": "3cb6512be8f64bfe91cd2efd47f71b21",
       "version_major": 2,
       "version_minor": 0
      },
      "text/plain": [
       "Validation: |          | 0/? [00:00<?, ?it/s]"
      ]
     },
     "metadata": {},
     "output_type": "display_data"
    },
    {
     "name": "stdout",
     "output_type": "stream",
     "text": [
      "Average validation loss is 0.50\n",
      "Average training loss is 0.34\n"
     ]
    },
    {
     "data": {
      "application/vnd.jupyter.widget-view+json": {
       "model_id": "6dbf908affe74db08bfffcd0a0e8511a",
       "version_major": 2,
       "version_minor": 0
      },
      "text/plain": [
       "Validation: |          | 0/? [00:00<?, ?it/s]"
      ]
     },
     "metadata": {},
     "output_type": "display_data"
    },
    {
     "name": "stdout",
     "output_type": "stream",
     "text": [
      "Average validation loss is 0.52\n",
      "Average training loss is 0.34\n"
     ]
    },
    {
     "data": {
      "application/vnd.jupyter.widget-view+json": {
       "model_id": "1fb1bdf642e743cda8925ab8ca244990",
       "version_major": 2,
       "version_minor": 0
      },
      "text/plain": [
       "Validation: |          | 0/? [00:00<?, ?it/s]"
      ]
     },
     "metadata": {},
     "output_type": "display_data"
    },
    {
     "name": "stdout",
     "output_type": "stream",
     "text": [
      "Average validation loss is 0.50\n",
      "Average training loss is 0.34\n"
     ]
    },
    {
     "data": {
      "application/vnd.jupyter.widget-view+json": {
       "model_id": "85382688f3154fd4a62254b2db2603e1",
       "version_major": 2,
       "version_minor": 0
      },
      "text/plain": [
       "Validation: |          | 0/? [00:00<?, ?it/s]"
      ]
     },
     "metadata": {},
     "output_type": "display_data"
    },
    {
     "name": "stdout",
     "output_type": "stream",
     "text": [
      "Average validation loss is 0.47\n",
      "Average training loss is 0.35\n"
     ]
    },
    {
     "data": {
      "application/vnd.jupyter.widget-view+json": {
       "model_id": "aafef509d2414bf59a11a3640e61a1d0",
       "version_major": 2,
       "version_minor": 0
      },
      "text/plain": [
       "Validation: |          | 0/? [00:00<?, ?it/s]"
      ]
     },
     "metadata": {},
     "output_type": "display_data"
    },
    {
     "name": "stdout",
     "output_type": "stream",
     "text": [
      "Average validation loss is 0.47\n",
      "Average training loss is 0.35\n"
     ]
    },
    {
     "data": {
      "application/vnd.jupyter.widget-view+json": {
       "model_id": "561d4d9c7f914c9e9c5e2f7c6d23cc95",
       "version_major": 2,
       "version_minor": 0
      },
      "text/plain": [
       "Validation: |          | 0/? [00:00<?, ?it/s]"
      ]
     },
     "metadata": {},
     "output_type": "display_data"
    },
    {
     "name": "stdout",
     "output_type": "stream",
     "text": [
      "Average validation loss is 0.46\n",
      "Average training loss is 0.35\n"
     ]
    },
    {
     "data": {
      "application/vnd.jupyter.widget-view+json": {
       "model_id": "1b80f1e0c7504bd7b868ff5815748487",
       "version_major": 2,
       "version_minor": 0
      },
      "text/plain": [
       "Validation: |          | 0/? [00:00<?, ?it/s]"
      ]
     },
     "metadata": {},
     "output_type": "display_data"
    },
    {
     "name": "stdout",
     "output_type": "stream",
     "text": [
      "Average validation loss is 0.48\n",
      "Average training loss is 0.35\n"
     ]
    },
    {
     "data": {
      "application/vnd.jupyter.widget-view+json": {
       "model_id": "716eda5189534f378a3ec9007917e0cd",
       "version_major": 2,
       "version_minor": 0
      },
      "text/plain": [
       "Validation: |          | 0/? [00:00<?, ?it/s]"
      ]
     },
     "metadata": {},
     "output_type": "display_data"
    },
    {
     "name": "stdout",
     "output_type": "stream",
     "text": [
      "Average validation loss is 0.49\n",
      "Average training loss is 0.36\n"
     ]
    },
    {
     "data": {
      "application/vnd.jupyter.widget-view+json": {
       "model_id": "092c5107d7ad43339ace9fc55ae4adec",
       "version_major": 2,
       "version_minor": 0
      },
      "text/plain": [
       "Validation: |          | 0/? [00:00<?, ?it/s]"
      ]
     },
     "metadata": {},
     "output_type": "display_data"
    },
    {
     "name": "stdout",
     "output_type": "stream",
     "text": [
      "Average validation loss is 0.54\n",
      "Average training loss is 0.37\n"
     ]
    },
    {
     "data": {
      "application/vnd.jupyter.widget-view+json": {
       "model_id": "59dfd77a370d4a22ad5a06bbc9cd39e9",
       "version_major": 2,
       "version_minor": 0
      },
      "text/plain": [
       "Validation: |          | 0/? [00:00<?, ?it/s]"
      ]
     },
     "metadata": {},
     "output_type": "display_data"
    },
    {
     "name": "stdout",
     "output_type": "stream",
     "text": [
      "Average validation loss is 0.52\n",
      "Average training loss is 0.37\n"
     ]
    },
    {
     "data": {
      "application/vnd.jupyter.widget-view+json": {
       "model_id": "539fb843d1c14890bd8c616c5648bd89",
       "version_major": 2,
       "version_minor": 0
      },
      "text/plain": [
       "Validation: |          | 0/? [00:00<?, ?it/s]"
      ]
     },
     "metadata": {},
     "output_type": "display_data"
    },
    {
     "name": "stderr",
     "output_type": "stream",
     "text": [
      "`Trainer.fit` stopped: `max_epochs=100` reached.\n"
     ]
    },
    {
     "name": "stdout",
     "output_type": "stream",
     "text": [
      "Average validation loss is 0.49\n",
      "Average training loss is 0.35\n"
     ]
    }
   ],
   "source": [
    "wave_model = train_unimodal_model(\"wave\")\n",
    "time_model = train_unimodal_model(\"time\")"
   ]
  },
  {
   "cell_type": "code",
   "execution_count": 22,
   "metadata": {},
   "outputs": [],
   "source": [
    "# copy over encoder\n",
    "base_model.wave_encoder = wave_model.encoder\n",
    "base_model.time_encoder = time_model.encoder\n",
    "\n",
    "# copy over decoder\n",
    "base_model.wave_decoder = wave_model.decoder\n",
    "base_model.time_decoder = time_model.decoder"
   ]
  },
  {
   "cell_type": "code",
   "execution_count": 23,
   "metadata": {},
   "outputs": [],
   "source": [
    "#torch.save(base_model.state_dict(), 'MixedAutoEncoderTemplates_noise.pt')"
   ]
  },
  {
   "cell_type": "code",
   "execution_count": 22,
   "metadata": {},
   "outputs": [
    {
     "data": {
      "text/plain": [
       "<All keys matched successfully>"
      ]
     },
     "execution_count": 22,
     "metadata": {},
     "output_type": "execute_result"
    }
   ],
   "source": [
    "mixedModelAE = MixedModel(z_dim=5)\n",
    "mixedModelAE.load_state_dict(torch.load('MixedAutoEncoderTemplates_noise.pt'))"
   ]
  },
  {
   "cell_type": "code",
   "execution_count": 23,
   "metadata": {},
   "outputs": [
    {
     "name": "stdout",
     "output_type": "stream",
     "text": [
      "1227\n",
      "1227\n"
     ]
    }
   ],
   "source": [
    "print(len(waveform))\n",
    "print(len(isi_dist))"
   ]
  },
  {
   "cell_type": "code",
   "execution_count": 24,
   "metadata": {},
   "outputs": [],
   "source": [
    "embedding_waveform = []\n",
    "embedding_isi = []\n",
    "labels = []\n",
    "for i, (wave, time,label) in enumerate(dataloader_val):\n",
    "    e_wave, e_time, d_wave, d_time = mixedModelAE(wave, time)\n",
    "    embedding_waveform.append(e_wave)\n",
    "    embedding_isi.append(e_time)\n",
    "    #print(label)\n",
    "    labels.append(label)\n",
    "\n",
    "# for i, (wave,time,label) in enumerate(dataloader_train):\n",
    "#     e_wave, e_time, d_wave, d_time = mixedModelAE(wave, time)\n",
    "#     embedding_waveform.append(e_wave)\n",
    "#     embedding_isi.append(e_time)\n",
    "#     labels.append(torch.full((len(label),), 3))\n",
    "\n",
    "\n",
    "embedding_waveform = torch.cat(embedding_waveform, dim=0)\n",
    "embedding_isi = torch.cat(embedding_isi, dim=0)\n"
   ]
  },
  {
   "cell_type": "code",
   "execution_count": 25,
   "metadata": {},
   "outputs": [],
   "source": [
    "#Run Umap in the embeddings\n",
    "embedding_waveform = embedding_waveform.detach().numpy()\n",
    "embedding_isi = embedding_isi.detach().numpy()\n",
    "labels = torch.cat(labels, dim=0).detach().numpy()"
   ]
  },
  {
   "cell_type": "code",
   "execution_count": 26,
   "metadata": {},
   "outputs": [
    {
     "name": "stderr",
     "output_type": "stream",
     "text": [
      "OMP: Info #276: omp_set_nested routine deprecated, please use omp_set_max_active_levels instead.\n"
     ]
    }
   ],
   "source": [
    "#Calculate UMAP\n",
    "embedding_waveform = umap.UMAP(n_neighbors=5, min_dist=0.3, n_components=2).fit_transform(embedding_waveform)\n",
    "embedding_isi = umap.UMAP(n_neighbors=5, min_dist=0.3, n_components=2).fit_transform(embedding_isi)"
   ]
  },
  {
   "cell_type": "code",
   "execution_count": 27,
   "metadata": {},
   "outputs": [
    {
     "data": {
      "text/plain": [
       "array([0, 0, 0, 0, 0, 0, 2, 2, 2, 1, 2, 2, 2, 2, 1, 2, 2, 0, 0, 0, 0, 0,\n",
       "       0, 0, 2, 2, 1, 2, 0, 0, 1, 0, 2, 2, 0, 1, 1, 0, 2, 0, 0, 2, 2, 2,\n",
       "       2, 0, 2, 2, 1, 0, 2, 2, 0, 2, 0, 0, 2, 1, 2, 2, 2, 2, 0, 1, 2, 2,\n",
       "       2, 0, 1, 1, 0, 0, 0, 0, 0, 0, 2, 2, 0, 2, 2, 2, 0, 1, 1, 2, 1, 2,\n",
       "       2, 2, 0, 2, 0, 1, 2, 0, 1, 0, 1, 0, 0, 1, 2, 1, 2, 0, 2, 0, 2, 0,\n",
       "       2, 0, 0, 1, 0, 2, 0, 1, 0, 2, 2, 2, 2, 2, 2, 2, 2, 0, 2, 2, 1, 0,\n",
       "       2, 2, 1, 2, 2, 2, 1, 0, 2, 0, 1, 0, 2, 2, 2, 1, 0, 0, 2, 0, 0, 2,\n",
       "       0, 0, 0, 2, 2, 0, 1, 0, 0, 0, 1, 2, 0, 0, 0, 0, 1, 0, 1, 2, 0, 2,\n",
       "       0, 0, 2, 1, 0, 1, 0, 1, 0, 0, 2, 0, 2, 2, 2, 0, 0, 0, 2, 2, 0, 2,\n",
       "       0, 0, 1, 0, 0, 2, 1, 0, 0, 2, 1, 2, 0, 2, 1, 0, 0, 1, 0, 0, 2, 0,\n",
       "       0, 0, 0, 0, 0, 2, 0, 0, 2, 1, 2, 2, 1, 2, 2, 0, 0, 0, 0, 1, 0, 2,\n",
       "       1, 2, 2, 0, 2, 1, 0, 0, 0, 0, 0, 0, 2, 2, 0, 2, 1, 0, 2, 0, 2, 0,\n",
       "       0, 2, 0, 0, 0, 2, 1, 2, 1, 0, 1, 0, 0, 0, 1, 0, 2, 2, 1, 2, 0, 0,\n",
       "       1, 0, 1, 0, 2, 2, 2, 1, 1, 0, 1, 0, 0, 2, 0, 1, 1, 2, 2, 2, 2, 0,\n",
       "       0, 2, 0, 0, 2, 1, 2, 0, 0, 0, 0, 2, 0, 2, 0, 0, 1, 0, 0])"
      ]
     },
     "execution_count": 27,
     "metadata": {},
     "output_type": "execute_result"
    }
   ],
   "source": [
    "labels"
   ]
  },
  {
   "cell_type": "code",
   "execution_count": 28,
   "metadata": {},
   "outputs": [],
   "source": [
    "labelColor = ['r', 'g', 'b','gray']"
   ]
  },
  {
   "cell_type": "code",
   "execution_count": 29,
   "metadata": {},
   "outputs": [],
   "source": [
    "labelColor = [labelColor[label] for label in labels]"
   ]
  },
  {
   "cell_type": "code",
   "execution_count": 30,
   "metadata": {},
   "outputs": [
    {
     "data": {
      "image/png": "[encoded data removed]",
      "text/plain": [
       "<Figure size 600x400 with 2 Axes>"
      ]
     },
     "metadata": {},
     "output_type": "display_data"
    }
   ],
   "source": [
    "#Plot the embeddings\n",
    "figureWidth=6\n",
    "figureHeight=4\n",
    "plt.figure(figsize=(figureWidth,figureHeight))\n",
    "panel1 = plt.axes([0.1, 0.1, 0.4, 0.8])\n",
    "panel2 = plt.axes([0.5, 0.1, 0.4, 0.8])\n",
    "\n",
    "panel1.scatter(embedding_waveform[:, 0], embedding_waveform[:, 1], color=labelColor, s=3, alpha=0.5)\n",
    "panel1.set_title(\"Waveform Embedding\")\n",
    "panel1.set_xticks([])\n",
    "panel1.set_yticks([])\n",
    "panel2.scatter(embedding_isi[:, 0], embedding_isi[:, 1], color=labelColor, s=3, alpha=0.5)\n",
    "panel2.set_title(\"ISI Embedding\")\n",
    "panel2.set_xticks([])\n",
    "panel2.set_yticks([])\n",
    "plt.show()\n",
    "\n",
    "\n"
   ]
  },
  {
   "cell_type": "code",
   "execution_count": 31,
   "metadata": {},
   "outputs": [],
   "source": [
    "from torch.nn.functional import normalize\n",
    "class classification(nn.Module):\n",
    "    def __init__(self, num_labels, **kwargs):\n",
    "        super().__init__()\n",
    "        self.mixedModelAE = MixedModel(**kwargs)\n",
    "        self.mixedModelAE.load_state_dict(torch.load('MixedAutoEncoderTemplates.pt'))\n",
    "        for p in self.mixedModelAE.parameters():\n",
    "            p.requires_grad = False\n",
    "        \n",
    "        #self.classifier = nn.Sequential(nn.Linear(kwargs['z_dim'] * 2, num_labels))\n",
    "        self.classifier = nn.Sequential(nn.Linear(kwargs['z_dim'] * 2, 64), nn.ReLU(),\n",
    "                                         nn.Linear(64, num_labels))\n",
    "        #self.classifier = nn.Sequential(nn.Linear(64 * 2, num_labels))\n",
    "        \n",
    "\n",
    "    def forward(self, wave,time):\n",
    "        e_wave, e_time, d_wave, d_time = self.mixedModelAE(wave,time)\n",
    "        e_wave, e_time = normalize(e_wave), normalize(e_time)\n",
    "        x = torch.cat((e_wave, e_time), dim=-1).squeeze()\n",
    "        #print(x.shape)\n",
    "        output = self.classifier(x)        \n",
    "        return output\n",
    "\n",
    "classifier = classification(num_labels=3, z_dim=5)"
   ]
  },
  {
   "cell_type": "code",
   "execution_count": 32,
   "metadata": {},
   "outputs": [],
   "source": [
    "from sklearn.utils.class_weight import compute_class_weight\n",
    "class_weights=compute_class_weight(class_weight='balanced',classes=np.unique(labels), y=labels)\n",
    "class_weights=torch.tensor(class_weights,dtype=torch.float)"
   ]
  },
  {
   "cell_type": "code",
   "execution_count": 33,
   "metadata": {},
   "outputs": [
    {
     "data": {
      "text/plain": [
       "tensor([0.7415, 1.8793, 0.8934])"
      ]
     },
     "execution_count": 33,
     "metadata": {},
     "output_type": "execute_result"
    }
   ],
   "source": [
    "class_weights"
   ]
  },
  {
   "cell_type": "code",
   "execution_count": null,
   "metadata": {},
   "outputs": [],
   "source": []
  },
  {
   "cell_type": "code",
   "execution_count": 34,
   "metadata": {},
   "outputs": [],
   "source": [
    "optimizer = torch.optim.AdamW(classifier.parameters(), lr=0.001)\n",
    "loss_fn = nn.CrossEntropyLoss()\n",
    "\n",
    "#Training the classifier\n",
    "\n",
    "def train_classifier(classifier, optim, loss_fn, train_loader, val_loader, epochs=10):\n",
    "    for epoch in range(epochs):\n",
    "        cum_loss = 0\n",
    "        classifier.train()\n",
    "        correct_train = 0\n",
    "        total_train = 0\n",
    "        for i, (wave, time,label) in enumerate(train_loader):\n",
    "            optimizer.zero_grad()\n",
    "            output = classifier(wave,time)\n",
    "            train_predicted = torch.argmax(output, 1)\n",
    "            total_train += time.size(0)\n",
    "            correct_train += (train_predicted == label).sum().item()\n",
    "            loss = loss_fn(output,label)\n",
    "            cum_loss += loss.item()\n",
    "            loss.backward()\n",
    "            optimizer.step()\n",
    "        print(f\"Epoch {epoch} Iter {i} Loss {cum_loss/len(train_loader)}\")\n",
    "        print(f\"Epoch {epoch} Iter {i} Train Accuracy {correct_train / total_train}\")\n",
    "        classifier.eval()\n",
    "        correct = 0\n",
    "        total = 0\n",
    "        with torch.no_grad():\n",
    "            for i, (wave, time,label) in enumerate(val_loader):\n",
    "                output = classifier(wave,time)\n",
    "                predicted = torch.argmax(output, 1)\n",
    "                #print(predicted.shape)\n",
    "                total += time.size(0)\n",
    "                correct += (predicted == label).sum().item()\n",
    "            print(f\"Epoch {epoch} Validation Accuracy {correct / total}\")\n",
    "        \n"
   ]
  },
  {
   "cell_type": "code",
   "execution_count": null,
   "metadata": {},
   "outputs": [],
   "source": []
  },
  {
   "cell_type": "code",
   "execution_count": 35,
   "metadata": {},
   "outputs": [
    {
     "name": "stdout",
     "output_type": "stream",
     "text": [
      "Epoch 0 Iter 28 Loss 0.9684535059435614\n",
      "Epoch 0 Iter 28 Train Accuracy 0.5644444444444444\n",
      "Epoch 0 Validation Accuracy 0.4036697247706422\n",
      "Epoch 1 Iter 28 Loss 0.9275329359646501\n",
      "Epoch 1 Iter 28 Train Accuracy 0.61\n",
      "Epoch 1 Validation Accuracy 0.40061162079510704\n",
      "Epoch 2 Iter 28 Loss 0.8685247569248594\n",
      "Epoch 2 Iter 28 Train Accuracy 0.6555555555555556\n",
      "Epoch 2 Validation Accuracy 0.3853211009174312\n",
      "Epoch 3 Iter 28 Loss 0.9283896438006697\n",
      "Epoch 3 Iter 28 Train Accuracy 0.6255555555555555\n",
      "Epoch 3 Validation Accuracy 0.4036697247706422\n",
      "Epoch 4 Iter 28 Loss 0.9070066850760887\n",
      "Epoch 4 Iter 28 Train Accuracy 0.6177777777777778\n",
      "Epoch 4 Validation Accuracy 0.39143730886850153\n",
      "Epoch 5 Iter 28 Loss 0.8963160761471453\n",
      "Epoch 5 Iter 28 Train Accuracy 0.6455555555555555\n",
      "Epoch 5 Validation Accuracy 0.40978593272171254\n",
      "Epoch 6 Iter 28 Loss 0.8771699543656974\n",
      "Epoch 6 Iter 28 Train Accuracy 0.6477777777777778\n",
      "Epoch 6 Validation Accuracy 0.41590214067278286\n",
      "Epoch 7 Iter 28 Loss 0.8682992170596945\n",
      "Epoch 7 Iter 28 Train Accuracy 0.65\n",
      "Epoch 7 Validation Accuracy 0.3853211009174312\n",
      "Epoch 8 Iter 28 Loss 0.9195434204463301\n",
      "Epoch 8 Iter 28 Train Accuracy 0.6211111111111111\n",
      "Epoch 8 Validation Accuracy 0.40672782874617736\n",
      "Epoch 9 Iter 28 Loss 0.9069121438881447\n",
      "Epoch 9 Iter 28 Train Accuracy 0.6344444444444445\n",
      "Epoch 9 Validation Accuracy 0.382262996941896\n",
      "Epoch 10 Iter 28 Loss 0.9293678341240719\n",
      "Epoch 10 Iter 28 Train Accuracy 0.6066666666666667\n",
      "Epoch 10 Validation Accuracy 0.38837920489296635\n",
      "Epoch 11 Iter 28 Loss 0.8991809405129532\n",
      "Epoch 11 Iter 28 Train Accuracy 0.6355555555555555\n",
      "Epoch 11 Validation Accuracy 0.38837920489296635\n",
      "Epoch 12 Iter 28 Loss 0.890849808166767\n",
      "Epoch 12 Iter 28 Train Accuracy 0.6233333333333333\n",
      "Epoch 12 Validation Accuracy 0.3547400611620795\n",
      "Epoch 13 Iter 28 Loss 0.8902193636729799\n",
      "Epoch 13 Iter 28 Train Accuracy 0.6433333333333333\n",
      "Epoch 13 Validation Accuracy 0.39755351681957185\n",
      "Epoch 14 Iter 28 Loss 0.8705104692228909\n",
      "Epoch 14 Iter 28 Train Accuracy 0.6577777777777778\n",
      "Epoch 14 Validation Accuracy 0.42201834862385323\n",
      "Epoch 15 Iter 28 Loss 0.8601058968182268\n",
      "Epoch 15 Iter 28 Train Accuracy 0.6555555555555556\n",
      "Epoch 15 Validation Accuracy 0.382262996941896\n",
      "Epoch 16 Iter 28 Loss 0.9127274032296806\n",
      "Epoch 16 Iter 28 Train Accuracy 0.6211111111111111\n",
      "Epoch 16 Validation Accuracy 0.3944954128440367\n",
      "Epoch 17 Iter 28 Loss 0.8923886089489378\n",
      "Epoch 17 Iter 28 Train Accuracy 0.6288888888888889\n",
      "Epoch 17 Validation Accuracy 0.3944954128440367\n",
      "Epoch 18 Iter 28 Loss 0.8987083476165245\n",
      "Epoch 18 Iter 28 Train Accuracy 0.6277777777777778\n",
      "Epoch 18 Validation Accuracy 0.39755351681957185\n",
      "Epoch 19 Iter 28 Loss 0.8690779661310131\n",
      "Epoch 19 Iter 28 Train Accuracy 0.6455555555555555\n",
      "Epoch 19 Validation Accuracy 0.3761467889908257\n",
      "Epoch 20 Iter 28 Loss 0.8948288436593681\n",
      "Epoch 20 Iter 28 Train Accuracy 0.6455555555555555\n",
      "Epoch 20 Validation Accuracy 0.41284403669724773\n"
     ]
    }
   ],
   "source": [
    "train_classifier(classifier, optimizer, loss_fn, dataloader_train, dataloader_val, epochs=25)"
   ]
  },
  {
   "cell_type": "code",
   "execution_count": 38,
   "metadata": {},
   "outputs": [],
   "source": [
    "#Predict with the classifier\n",
    "\n",
    "def predict_classifier(classifier, dataloader):\n",
    "    predictions = []\n",
    "    classifier.eval()\n",
    "    with torch.no_grad():\n",
    "        for i, (wave, time,label) in enumerate(dataloader):\n",
    "            output = classifier(wave,time)\n",
    "            predicted = torch.argmax(output, 1)\n",
    "            predictions.append(predicted)\n",
    "    return predictions\n",
    "\n",
    "predictions = predict_classifier(classifier, dataloader_val)\n",
    "predictions = torch.cat(predictions, dim=0).detach().numpy()"
   ]
  },
  {
   "cell_type": "code",
   "execution_count": 39,
   "metadata": {},
   "outputs": [
    {
     "data": {
      "text/plain": [
       "327"
      ]
     },
     "execution_count": 39,
     "metadata": {},
     "output_type": "execute_result"
    }
   ],
   "source": [
    "len(predictions)"
   ]
  },
  {
   "cell_type": "code",
   "execution_count": 42,
   "metadata": {},
   "outputs": [
    {
     "ename": "ValueError",
     "evalue": "'c' argument has 327 elements, which is inconsistent with 'x' and 'y' with size 1227.",
     "output_type": "error",
     "traceback": [
      "\u001b[0;31m---------------------------------------------------------------------------\u001b[0m",
      "\u001b[0;31mValueError\u001b[0m                                Traceback (most recent call last)",
      "Cell \u001b[0;32mIn[42], line 10\u001b[0m\n\u001b[1;32m      7\u001b[0m panel1 \u001b[38;5;241m=\u001b[39m plt\u001b[38;5;241m.\u001b[39maxes([\u001b[38;5;241m0.1\u001b[39m, \u001b[38;5;241m0.1\u001b[39m, \u001b[38;5;241m0.4\u001b[39m, \u001b[38;5;241m0.8\u001b[39m])\n\u001b[1;32m      8\u001b[0m panel2 \u001b[38;5;241m=\u001b[39m plt\u001b[38;5;241m.\u001b[39maxes([\u001b[38;5;241m0.5\u001b[39m, \u001b[38;5;241m0.1\u001b[39m, \u001b[38;5;241m0.4\u001b[39m, \u001b[38;5;241m0.8\u001b[39m])\n\u001b[0;32m---> 10\u001b[0m \u001b[43mpanel1\u001b[49m\u001b[38;5;241;43m.\u001b[39;49m\u001b[43mscatter\u001b[49m\u001b[43m(\u001b[49m\u001b[43membedding_waveform\u001b[49m\u001b[43m[\u001b[49m\u001b[43m:\u001b[49m\u001b[43m,\u001b[49m\u001b[43m \u001b[49m\u001b[38;5;241;43m0\u001b[39;49m\u001b[43m]\u001b[49m\u001b[43m,\u001b[49m\u001b[43m \u001b[49m\u001b[43membedding_waveform\u001b[49m\u001b[43m[\u001b[49m\u001b[43m:\u001b[49m\u001b[43m,\u001b[49m\u001b[43m \u001b[49m\u001b[38;5;241;43m1\u001b[39;49m\u001b[43m]\u001b[49m\u001b[43m,\u001b[49m\u001b[43m \u001b[49m\u001b[43mcolor\u001b[49m\u001b[38;5;241;43m=\u001b[39;49m\u001b[43mlabelColor\u001b[49m\u001b[43m,\u001b[49m\u001b[43m \u001b[49m\u001b[43ms\u001b[49m\u001b[38;5;241;43m=\u001b[39;49m\u001b[38;5;241;43m3\u001b[39;49m\u001b[43m)\u001b[49m\n\u001b[1;32m     11\u001b[0m panel1\u001b[38;5;241m.\u001b[39mset_title(\u001b[38;5;124m\"\u001b[39m\u001b[38;5;124mWaveform Embedding\u001b[39m\u001b[38;5;124m\"\u001b[39m)\n\u001b[1;32m     12\u001b[0m panel1\u001b[38;5;241m.\u001b[39mset_xticks([])\n",
      "File \u001b[0;32m~/opt/miniconda3/envs/electro_phys/lib/python3.10/site-packages/matplotlib/__init__.py:1465\u001b[0m, in \u001b[0;36m_preprocess_data.<locals>.inner\u001b[0;34m(ax, data, *args, **kwargs)\u001b[0m\n\u001b[1;32m   1462\u001b[0m \u001b[38;5;129m@functools\u001b[39m\u001b[38;5;241m.\u001b[39mwraps(func)\n\u001b[1;32m   1463\u001b[0m \u001b[38;5;28;01mdef\u001b[39;00m \u001b[38;5;21minner\u001b[39m(ax, \u001b[38;5;241m*\u001b[39margs, data\u001b[38;5;241m=\u001b[39m\u001b[38;5;28;01mNone\u001b[39;00m, \u001b[38;5;241m*\u001b[39m\u001b[38;5;241m*\u001b[39mkwargs):\n\u001b[1;32m   1464\u001b[0m     \u001b[38;5;28;01mif\u001b[39;00m data \u001b[38;5;129;01mis\u001b[39;00m \u001b[38;5;28;01mNone\u001b[39;00m:\n\u001b[0;32m-> 1465\u001b[0m         \u001b[38;5;28;01mreturn\u001b[39;00m \u001b[43mfunc\u001b[49m\u001b[43m(\u001b[49m\u001b[43max\u001b[49m\u001b[43m,\u001b[49m\u001b[43m \u001b[49m\u001b[38;5;241;43m*\u001b[39;49m\u001b[38;5;28;43mmap\u001b[39;49m\u001b[43m(\u001b[49m\u001b[43msanitize_sequence\u001b[49m\u001b[43m,\u001b[49m\u001b[43m \u001b[49m\u001b[43margs\u001b[49m\u001b[43m)\u001b[49m\u001b[43m,\u001b[49m\u001b[43m \u001b[49m\u001b[38;5;241;43m*\u001b[39;49m\u001b[38;5;241;43m*\u001b[39;49m\u001b[43mkwargs\u001b[49m\u001b[43m)\u001b[49m\n\u001b[1;32m   1467\u001b[0m     bound \u001b[38;5;241m=\u001b[39m new_sig\u001b[38;5;241m.\u001b[39mbind(ax, \u001b[38;5;241m*\u001b[39margs, \u001b[38;5;241m*\u001b[39m\u001b[38;5;241m*\u001b[39mkwargs)\n\u001b[1;32m   1468\u001b[0m     auto_label \u001b[38;5;241m=\u001b[39m (bound\u001b[38;5;241m.\u001b[39marguments\u001b[38;5;241m.\u001b[39mget(label_namer)\n\u001b[1;32m   1469\u001b[0m                   \u001b[38;5;129;01mor\u001b[39;00m bound\u001b[38;5;241m.\u001b[39mkwargs\u001b[38;5;241m.\u001b[39mget(label_namer))\n",
      "File \u001b[0;32m~/opt/miniconda3/envs/electro_phys/lib/python3.10/site-packages/matplotlib/axes/_axes.py:4670\u001b[0m, in \u001b[0;36mAxes.scatter\u001b[0;34m(self, x, y, s, c, marker, cmap, norm, vmin, vmax, alpha, linewidths, edgecolors, plotnonfinite, **kwargs)\u001b[0m\n\u001b[1;32m   4667\u001b[0m \u001b[38;5;28;01mif\u001b[39;00m edgecolors \u001b[38;5;129;01mis\u001b[39;00m \u001b[38;5;28;01mNone\u001b[39;00m:\n\u001b[1;32m   4668\u001b[0m     orig_edgecolor \u001b[38;5;241m=\u001b[39m kwargs\u001b[38;5;241m.\u001b[39mget(\u001b[38;5;124m'\u001b[39m\u001b[38;5;124medgecolor\u001b[39m\u001b[38;5;124m'\u001b[39m, \u001b[38;5;28;01mNone\u001b[39;00m)\n\u001b[1;32m   4669\u001b[0m c, colors, edgecolors \u001b[38;5;241m=\u001b[39m \\\n\u001b[0;32m-> 4670\u001b[0m     \u001b[38;5;28;43mself\u001b[39;49m\u001b[38;5;241;43m.\u001b[39;49m\u001b[43m_parse_scatter_color_args\u001b[49m\u001b[43m(\u001b[49m\n\u001b[1;32m   4671\u001b[0m \u001b[43m        \u001b[49m\u001b[43mc\u001b[49m\u001b[43m,\u001b[49m\u001b[43m \u001b[49m\u001b[43medgecolors\u001b[49m\u001b[43m,\u001b[49m\u001b[43m \u001b[49m\u001b[43mkwargs\u001b[49m\u001b[43m,\u001b[49m\u001b[43m \u001b[49m\u001b[43mx\u001b[49m\u001b[38;5;241;43m.\u001b[39;49m\u001b[43msize\u001b[49m\u001b[43m,\u001b[49m\n\u001b[1;32m   4672\u001b[0m \u001b[43m        \u001b[49m\u001b[43mget_next_color_func\u001b[49m\u001b[38;5;241;43m=\u001b[39;49m\u001b[38;5;28;43mself\u001b[39;49m\u001b[38;5;241;43m.\u001b[39;49m\u001b[43m_get_patches_for_fill\u001b[49m\u001b[38;5;241;43m.\u001b[39;49m\u001b[43mget_next_color\u001b[49m\u001b[43m)\u001b[49m\n\u001b[1;32m   4674\u001b[0m \u001b[38;5;28;01mif\u001b[39;00m plotnonfinite \u001b[38;5;129;01mand\u001b[39;00m colors \u001b[38;5;129;01mis\u001b[39;00m \u001b[38;5;28;01mNone\u001b[39;00m:\n\u001b[1;32m   4675\u001b[0m     c \u001b[38;5;241m=\u001b[39m np\u001b[38;5;241m.\u001b[39mma\u001b[38;5;241m.\u001b[39mmasked_invalid(c)\n",
      "File \u001b[0;32m~/opt/miniconda3/envs/electro_phys/lib/python3.10/site-packages/matplotlib/axes/_axes.py:4499\u001b[0m, in \u001b[0;36mAxes._parse_scatter_color_args\u001b[0;34m(c, edgecolors, kwargs, xsize, get_next_color_func)\u001b[0m\n\u001b[1;32m   4495\u001b[0m     \u001b[38;5;28;01melse\u001b[39;00m:\n\u001b[1;32m   4496\u001b[0m         \u001b[38;5;28;01mif\u001b[39;00m \u001b[38;5;28mlen\u001b[39m(colors) \u001b[38;5;129;01mnot\u001b[39;00m \u001b[38;5;129;01min\u001b[39;00m (\u001b[38;5;241m0\u001b[39m, \u001b[38;5;241m1\u001b[39m, xsize):\n\u001b[1;32m   4497\u001b[0m             \u001b[38;5;66;03m# NB: remember that a single color is also acceptable.\u001b[39;00m\n\u001b[1;32m   4498\u001b[0m             \u001b[38;5;66;03m# Besides *colors* will be an empty array if c == 'none'.\u001b[39;00m\n\u001b[0;32m-> 4499\u001b[0m             \u001b[38;5;28;01mraise\u001b[39;00m invalid_shape_exception(\u001b[38;5;28mlen\u001b[39m(colors), xsize)\n\u001b[1;32m   4500\u001b[0m \u001b[38;5;28;01melse\u001b[39;00m:\n\u001b[1;32m   4501\u001b[0m     colors \u001b[38;5;241m=\u001b[39m \u001b[38;5;28;01mNone\u001b[39;00m  \u001b[38;5;66;03m# use cmap, norm after collection is created\u001b[39;00m\n",
      "\u001b[0;31mValueError\u001b[0m: 'c' argument has 327 elements, which is inconsistent with 'x' and 'y' with size 1227."
     ]
    },
    {
     "data": {
      "image/png": "[encoded data removed]",
      "text/plain": [
       "<Figure size 600x400 with 2 Axes>"
      ]
     },
     "metadata": {},
     "output_type": "display_data"
    }
   ],
   "source": [
    "labelColor = ['r', 'g', 'b','grey']\n",
    "labelColor = [labelColor[label] for label in predictions]\n",
    "#Plot the embeddings\n",
    "figureWidth=6\n",
    "figureHeight=4\n",
    "plt.figure(figsize=(figureWidth,figureHeight))\n",
    "panel1 = plt.axes([0.1, 0.1, 0.4, 0.8])\n",
    "panel2 = plt.axes([0.5, 0.1, 0.4, 0.8])\n",
    "\n",
    "panel1.scatter(embedding_waveform[:, 0], embedding_waveform[:, 1], color=labelColor, s=3)\n",
    "panel1.set_title(\"Waveform Embedding\")\n",
    "panel1.set_xticks([])\n",
    "panel1.set_yticks([])\n",
    "panel2.scatter(embedding_isi[:, 0], embedding_isi[:, 1], color=labelColor, s=3)\n",
    "panel2.set_title(\"ISI Embedding\")\n",
    "panel2.set_xticks([])\n",
    "panel2.set_yticks([])\n",
    "plt.show()"
   ]
  }
 ],
 "metadata": {
  "kernelspec": {
   "display_name": "electro_phys",
   "language": "python",
   "name": "python3"
  },
  "language_info": {
   "codemirror_mode": {
    "name": "ipython",
    "version": 3
   },
   "file_extension": ".py",
   "mimetype": "text/x-python",
   "name": "python",
   "nbconvert_exporter": "python",
   "pygments_lexer": "ipython3",
   "version": "3.10.13"
  }
 },
 "nbformat": 4,
 "nbformat_minor": 2
}
